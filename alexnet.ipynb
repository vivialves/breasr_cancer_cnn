{
 "cells": [
  {
   "cell_type": "markdown",
   "id": "7833ccb2-13fc-4f0c-abb5-b242fec7babb",
   "metadata": {},
   "source": [
    "# Alexnet"
   ]
  },
  {
   "cell_type": "code",
   "execution_count": 1,
   "id": "a949086a-250c-44ed-bf96-b342632b150d",
   "metadata": {},
   "outputs": [],
   "source": [
    "import numpy as np\n",
    "import pandas as pd"
   ]
  },
  {
   "cell_type": "code",
   "execution_count": 2,
   "id": "5ffafb28-0186-4ac2-a81b-868d537f06e9",
   "metadata": {},
   "outputs": [
    {
     "name": "stderr",
     "output_type": "stream",
     "text": [
      "2024-11-06 22:35:33.103746: I tensorflow/core/util/port.cc:153] oneDNN custom operations are on. You may see slightly different numerical results due to floating-point round-off errors from different computation orders. To turn them off, set the environment variable `TF_ENABLE_ONEDNN_OPTS=0`.\n",
      "2024-11-06 22:35:33.174443: E external/local_xla/xla/stream_executor/cuda/cuda_fft.cc:477] Unable to register cuFFT factory: Attempting to register factory for plugin cuFFT when one has already been registered\n",
      "WARNING: All log messages before absl::InitializeLog() is called are written to STDERR\n",
      "E0000 00:00:1730950533.211253   22780 cuda_dnn.cc:8310] Unable to register cuDNN factory: Attempting to register factory for plugin cuDNN when one has already been registered\n",
      "E0000 00:00:1730950533.226108   22780 cuda_blas.cc:1418] Unable to register cuBLAS factory: Attempting to register factory for plugin cuBLAS when one has already been registered\n",
      "2024-11-06 22:35:33.298855: I tensorflow/core/platform/cpu_feature_guard.cc:210] This TensorFlow binary is optimized to use available CPU instructions in performance-critical operations.\n",
      "To enable the following instructions: AVX2 AVX_VNNI FMA, in other operations, rebuild TensorFlow with the appropriate compiler flags.\n"
     ]
    }
   ],
   "source": [
    "import matplotlib.pyplot as plt\n",
    "import tensorflow as tf\n",
    "import keras as K\n",
    "from sklearn.metrics import confusion_matrix, ConfusionMatrixDisplay\n",
    "from sklearn.metrics import classification_report\n",
    "# from tensorflow.keras import datasets, layers, models\n",
    "\n",
    "from tensorflow.keras.models import Sequential\n",
    "from tensorflow.keras.layers import Conv2D, MaxPooling2D, Flatten, Dense"
   ]
  },
  {
   "cell_type": "markdown",
   "id": "15998c73-a763-4a70-8559-5087e458f270",
   "metadata": {},
   "source": [
    "# Preparation for trainning - Train Split"
   ]
  },
  {
   "cell_type": "code",
   "execution_count": 3,
   "id": "79267c1c-b776-47c6-8347-456dc9a4fe89",
   "metadata": {},
   "outputs": [
    {
     "name": "stdout",
     "output_type": "stream",
     "text": [
      "Found 7632 files belonging to 8 classes.\n",
      "Using 6106 files for training.\n"
     ]
    },
    {
     "name": "stderr",
     "output_type": "stream",
     "text": [
      "I0000 00:00:1730950536.264148   22780 gpu_device.cc:2022] Created device /job:localhost/replica:0/task:0/device:GPU:0 with 1756 MB memory:  -> device: 0, name: NVIDIA GeForce RTX 3050 Ti Laptop GPU, pci bus id: 0000:01:00.0, compute capability: 8.6\n"
     ]
    }
   ],
   "source": [
    "train_ds = tf.keras.preprocessing.image_dataset_from_directory(\n",
    "    'Dataset of Breast mammography images with Masses/Image After Data Augmentation, Image Size 227x227/',\n",
    "    validation_split=0.2,\n",
    "    subset='training',\n",
    "    seed=123,\n",
    "    image_size=(227, 227),\n",
    "    batch_size=32,\n",
    ")"
   ]
  },
  {
   "cell_type": "code",
   "execution_count": 4,
   "id": "b2ce4506-53ab-4014-9102-3dcea2067fbd",
   "metadata": {},
   "outputs": [
    {
     "data": {
      "text/plain": [
       "8"
      ]
     },
     "execution_count": 4,
     "metadata": {},
     "output_type": "execute_result"
    }
   ],
   "source": [
    "classes_ = train_ds.class_names\n",
    "len(classes_)"
   ]
  },
  {
   "cell_type": "code",
   "execution_count": 5,
   "id": "e44d8bde-7735-459c-940c-cdcb3763b748",
   "metadata": {},
   "outputs": [
    {
     "name": "stdout",
     "output_type": "stream",
     "text": [
      "Found 7632 files belonging to 8 classes.\n",
      "Using 1526 files for validation.\n"
     ]
    }
   ],
   "source": [
    "val_ds = tf.keras.preprocessing.image_dataset_from_directory(\n",
    "    'Dataset of Breast mammography images with Masses/Image After Data Augmentation, Image Size 227x227/',\n",
    "    validation_split=0.2,\n",
    "    subset='validation',\n",
    "    seed=123,\n",
    "    image_size=(227, 227),\n",
    "    batch_size=32,\n",
    ")"
   ]
  },
  {
   "cell_type": "markdown",
   "id": "083012fb-9ac5-4499-8814-61eed68aa58e",
   "metadata": {},
   "source": [
    "def normalize(image, label):\n",
    "  return tf.cast(image/255., tf.float32), label\n",
    "\n",
    "train_ds = train_ds.map(normalize)\n",
    "val_ds = val_ds.map(normalize)\n",
    "\n",
    "train_ds, val_ds"
   ]
  },
  {
   "cell_type": "markdown",
   "id": "aebe2fc2-e0ea-406e-97fd-14060990a7c9",
   "metadata": {},
   "source": [
    "# Preparation for trainning - Test Split"
   ]
  },
  {
   "cell_type": "code",
   "execution_count": 6,
   "id": "321e3a74-49b6-40e0-bd4e-2e4192624cf3",
   "metadata": {},
   "outputs": [
    {
     "name": "stdout",
     "output_type": "stream",
     "text": [
      "Found 212 files belonging to 8 classes.\n",
      "Using 170 files for training.\n"
     ]
    }
   ],
   "source": [
    "train_ds_test = tf.keras.preprocessing.image_dataset_from_directory(\n",
    "    'Dataset of Breast mammography images with Masses/Image Before Data Augmentation, Image Size 227x227/',\n",
    "    validation_split=0.2,\n",
    "    subset='training',\n",
    "    seed=123,\n",
    "    image_size=(227, 227),\n",
    "    batch_size=32,\n",
    ")"
   ]
  },
  {
   "cell_type": "code",
   "execution_count": 7,
   "id": "b581d473-fc8e-449a-9130-ed7fa60854fa",
   "metadata": {},
   "outputs": [
    {
     "name": "stdout",
     "output_type": "stream",
     "text": [
      "Found 212 files belonging to 8 classes.\n",
      "Using 42 files for validation.\n"
     ]
    }
   ],
   "source": [
    "val_ds_test = tf.keras.preprocessing.image_dataset_from_directory(\n",
    "    'Dataset of Breast mammography images with Masses/Image Before Data Augmentation, Image Size 227x227/',\n",
    "    validation_split=0.2,\n",
    "    subset='validation',\n",
    "    seed=123,\n",
    "    image_size=(227, 227),\n",
    "    batch_size=32,\n",
    ")"
   ]
  },
  {
   "cell_type": "code",
   "execution_count": 8,
   "id": "bd22c9eb-00f8-4efd-a1bc-61ed082d879c",
   "metadata": {},
   "outputs": [
    {
     "data": {
      "text/plain": [
       "(<_MapDataset element_spec=(TensorSpec(shape=(None, 227, 227, 3), dtype=tf.float32, name=None), TensorSpec(shape=(None,), dtype=tf.int32, name=None))>,\n",
       " <_MapDataset element_spec=(TensorSpec(shape=(None, 227, 227, 3), dtype=tf.float32, name=None), TensorSpec(shape=(None,), dtype=tf.int32, name=None))>)"
      ]
     },
     "execution_count": 8,
     "metadata": {},
     "output_type": "execute_result"
    }
   ],
   "source": [
    "def normalize(image, label):\n",
    "  return tf.cast(image/255., tf.float32), label\n",
    "\n",
    "train_ds_test = train_ds_test.map(normalize)\n",
    "val_ds_test = val_ds_test.map(normalize)\n",
    "\n",
    "train_ds_test, val_ds_test"
   ]
  },
  {
   "cell_type": "markdown",
   "id": "053a442b-86ec-4b6d-97f9-f9cb395dcacb",
   "metadata": {},
   "source": [
    "# Training"
   ]
  },
  {
   "cell_type": "code",
   "execution_count": 9,
   "id": "1b3b8fa7-859b-42b9-aca9-a9f5a666a3b3",
   "metadata": {},
   "outputs": [
    {
     "name": "stderr",
     "output_type": "stream",
     "text": [
      "/home/viviane/apps/anaconda3/envs/pro1-cnn/lib/python3.12/site-packages/keras/src/layers/convolutional/base_conv.py:107: UserWarning: Do not pass an `input_shape`/`input_dim` argument to a layer. When using Sequential models, prefer using an `Input(shape)` object as the first layer in the model instead.\n",
      "  super().__init__(activity_regularizer=activity_regularizer, **kwargs)\n"
     ]
    }
   ],
   "source": [
    "model = Sequential([\n",
    "    Conv2D(filters=96, kernel_size=(11,11), strides=(4,4), activation='relu', input_shape=(227,227,3)),\n",
    "    MaxPooling2D(pool_size=(3,3), strides=(2,2)),\n",
    "    Conv2D(filters=256, kernel_size=(5,5), padding='same', activation='relu'),\n",
    "    MaxPooling2D(pool_size=(3,3), strides=(2,2)),\n",
    "    Conv2D(filters=384, kernel_size=(3,3), padding='same', activation='relu'),\n",
    "    Conv2D(filters=384, kernel_size=(3,3), padding='same', activation='relu'),\n",
    "    Conv2D(filters=256, kernel_size=(3,3), padding='same', activation='relu'),\n",
    "    MaxPooling2D(pool_size=(3,3), strides=(2,2)),\n",
    "    Flatten(),\n",
    "    Dense(4096, activation='relu'),\n",
    "    Dense(4096, activation='relu'),\n",
    "    Dense(1000, activation= 'relu'),\n",
    "    Dense(8, activation='softmax')\n",
    "])"
   ]
  },
  {
   "cell_type": "code",
   "execution_count": 10,
   "id": "de6bc51f-49b5-40ff-93db-a6974485fe62",
   "metadata": {},
   "outputs": [],
   "source": [
    "model.compile(optimizer='adam',\n",
    "              loss='SparseCategoricalCrossentropy',\n",
    "              metrics=['accuracy'])"
   ]
  },
  {
   "cell_type": "code",
   "execution_count": 11,
   "id": "849309fc-b5cc-434c-a6ae-4237eb46484a",
   "metadata": {
    "scrolled": true
   },
   "outputs": [
    {
     "name": "stdout",
     "output_type": "stream",
     "text": [
      "Epoch 1/50\n"
     ]
    },
    {
     "name": "stderr",
     "output_type": "stream",
     "text": [
      "WARNING: All log messages before absl::InitializeLog() is called are written to STDERR\n",
      "I0000 00:00:1730950539.475964   22872 service.cc:148] XLA service 0x7f8358010300 initialized for platform CUDA (this does not guarantee that XLA will be used). Devices:\n",
      "I0000 00:00:1730950539.476671   22872 service.cc:156]   StreamExecutor device (0): NVIDIA GeForce RTX 3050 Ti Laptop GPU, Compute Capability 8.6\n",
      "2024-11-06 22:35:39.529173: I tensorflow/compiler/mlir/tensorflow/utils/dump_mlir_util.cc:268] disabling MLIR crash reproducer, set env var `MLIR_CRASH_REPRODUCER_DIRECTORY` to enable.\n",
      "I0000 00:00:1730950539.708681   22872 cuda_dnn.cc:529] Loaded cuDNN version 90300\n",
      "2024-11-06 22:35:40.512860: I external/local_xla/xla/stream_executor/cuda/cuda_asm_compiler.cc:397] ptxas warning : Registers are spilled to local memory in function 'gemm_fusion_dot_600', 236 bytes spill stores, 236 bytes spill loads\n",
      "\n",
      "2024-11-06 22:35:40.959436: I external/local_xla/xla/stream_executor/cuda/cuda_asm_compiler.cc:397] ptxas warning : Registers are spilled to local memory in function 'gemm_fusion_dot_614_0', 252 bytes spill stores, 252 bytes spill loads\n",
      "\n",
      "2024-11-06 22:35:41.080885: I external/local_xla/xla/stream_executor/cuda/cuda_asm_compiler.cc:397] ptxas warning : Registers are spilled to local memory in function 'gemm_fusion_dot_600', 196 bytes spill stores, 196 bytes spill loads\n",
      "\n",
      "2024-11-06 22:35:41.129921: I external/local_xla/xla/stream_executor/cuda/cuda_asm_compiler.cc:397] ptxas warning : Registers are spilled to local memory in function 'gemm_fusion_dot_614', 200 bytes spill stores, 200 bytes spill loads\n",
      "\n",
      "2024-11-06 22:35:41.343016: I external/local_xla/xla/stream_executor/cuda/cuda_asm_compiler.cc:397] ptxas warning : Registers are spilled to local memory in function 'gemm_fusion_dot_944', 68 bytes spill stores, 72 bytes spill loads\n",
      "\n",
      "2024-11-06 22:35:41.696093: I external/local_xla/xla/stream_executor/cuda/cuda_asm_compiler.cc:397] ptxas warning : Registers are spilled to local memory in function 'gemm_fusion_dot_628', 236 bytes spill stores, 236 bytes spill loads\n",
      "\n",
      "2024-11-06 22:35:41.798901: I external/local_xla/xla/stream_executor/cuda/cuda_asm_compiler.cc:397] ptxas warning : Registers are spilled to local memory in function 'gemm_fusion_dot_944', 68 bytes spill stores, 72 bytes spill loads\n",
      "\n",
      "2024-11-06 22:35:42.005488: I external/local_xla/xla/stream_executor/cuda/cuda_asm_compiler.cc:397] ptxas warning : Registers are spilled to local memory in function 'gemm_fusion_dot_944', 24 bytes spill stores, 24 bytes spill loads\n",
      "\n"
     ]
    },
    {
     "name": "stdout",
     "output_type": "stream",
     "text": [
      "\u001b[1m  1/191\u001b[0m \u001b[37m━━━━━━━━━━━━━━━━━━━━\u001b[0m \u001b[1m32:12\u001b[0m 10s/step - accuracy: 0.0312 - loss: 5.2277"
     ]
    },
    {
     "name": "stderr",
     "output_type": "stream",
     "text": [
      "I0000 00:00:1730950548.110317   22872 device_compiler.h:188] Compiled cluster using XLA!  This line is logged at most once for the lifetime of the process.\n"
     ]
    },
    {
     "name": "stdout",
     "output_type": "stream",
     "text": [
      "\u001b[1m190/191\u001b[0m \u001b[32m━━━━━━━━━━━━━━━━━━━\u001b[0m\u001b[37m━\u001b[0m \u001b[1m0s\u001b[0m 52ms/step - accuracy: 0.2892 - loss: 23.2930"
     ]
    },
    {
     "name": "stderr",
     "output_type": "stream",
     "text": [
      "2024-11-06 22:35:59.322092: I external/local_xla/xla/stream_executor/cuda/cuda_asm_compiler.cc:397] ptxas warning : Registers are spilled to local memory in function 'gemm_fusion_dot_600', 244 bytes spill stores, 244 bytes spill loads\n",
      "\n",
      "2024-11-06 22:35:59.484264: I external/local_xla/xla/stream_executor/cuda/cuda_asm_compiler.cc:397] ptxas warning : Registers are spilled to local memory in function 'gemm_fusion_dot_600', 152 bytes spill stores, 152 bytes spill loads\n",
      "\n",
      "2024-11-06 22:35:59.507654: I external/local_xla/xla/stream_executor/cuda/cuda_asm_compiler.cc:397] ptxas warning : Registers are spilled to local memory in function 'gemm_fusion_dot_944', 24 bytes spill stores, 24 bytes spill loads\n",
      "\n",
      "2024-11-06 22:35:59.875793: I external/local_xla/xla/stream_executor/cuda/cuda_asm_compiler.cc:397] ptxas warning : Registers are spilled to local memory in function 'gemm_fusion_dot_614', 148 bytes spill stores, 148 bytes spill loads\n",
      "\n",
      "2024-11-06 22:36:00.059259: I external/local_xla/xla/stream_executor/cuda/cuda_asm_compiler.cc:397] ptxas warning : Registers are spilled to local memory in function 'gemm_fusion_dot_614_0', 272 bytes spill stores, 272 bytes spill loads\n",
      "\n",
      "2024-11-06 22:36:00.095901: I external/local_xla/xla/stream_executor/cuda/cuda_asm_compiler.cc:397] ptxas warning : Registers are spilled to local memory in function 'gemm_fusion_dot_944', 32 bytes spill stores, 32 bytes spill loads\n",
      "\n",
      "2024-11-06 22:36:00.116037: I external/local_xla/xla/stream_executor/cuda/cuda_asm_compiler.cc:397] ptxas warning : Registers are spilled to local memory in function 'gemm_fusion_dot_944', 32 bytes spill stores, 32 bytes spill loads\n",
      "\n",
      "2024-11-06 22:36:00.509245: I external/local_xla/xla/stream_executor/cuda/cuda_asm_compiler.cc:397] ptxas warning : Registers are spilled to local memory in function 'gemm_fusion_dot_628', 352 bytes spill stores, 352 bytes spill loads\n",
      "\n"
     ]
    },
    {
     "name": "stdout",
     "output_type": "stream",
     "text": [
      "\u001b[1m191/191\u001b[0m \u001b[32m━━━━━━━━━━━━━━━━━━━━\u001b[0m\u001b[37m\u001b[0m \u001b[1m0s\u001b[0m 94ms/step - accuracy: 0.2893 - loss: 23.2099"
     ]
    },
    {
     "name": "stderr",
     "output_type": "stream",
     "text": [
      "2024-11-06 22:36:07.037663: W external/local_xla/xla/tsl/framework/bfc_allocator.cc:306] Allocator (GPU_0_bfc) ran out of memory trying to allocate 730.00MiB with freed_by_count=0. The caller indicates that this is not a failure, but this may mean that there could be performance gains if more memory were available.\n",
      "2024-11-06 22:36:09.395492: I external/local_xla/xla/stream_executor/cuda/cuda_asm_compiler.cc:397] ptxas warning : Registers are spilled to local memory in function 'gemm_fusion_dot_106', 244 bytes spill stores, 244 bytes spill loads\n",
      "\n",
      "2024-11-06 22:36:09.538715: I external/local_xla/xla/stream_executor/cuda/cuda_asm_compiler.cc:397] ptxas warning : Registers are spilled to local memory in function 'gemm_fusion_dot_106', 88 bytes spill stores, 88 bytes spill loads\n",
      "\n",
      "2024-11-06 22:36:09.676494: I external/local_xla/xla/stream_executor/cuda/cuda_asm_compiler.cc:397] ptxas warning : Registers are spilled to local memory in function 'gemm_fusion_dot_113_0', 272 bytes spill stores, 272 bytes spill loads\n",
      "\n",
      "2024-11-06 22:36:09.785250: I external/local_xla/xla/stream_executor/cuda/cuda_asm_compiler.cc:397] ptxas warning : Registers are spilled to local memory in function 'gemm_fusion_dot_120', 276 bytes spill stores, 276 bytes spill loads\n",
      "\n",
      "2024-11-06 22:36:09.841418: I external/local_xla/xla/stream_executor/cuda/cuda_asm_compiler.cc:397] ptxas warning : Registers are spilled to local memory in function 'gemm_fusion_dot_113', 84 bytes spill stores, 84 bytes spill loads\n",
      "\n"
     ]
    },
    {
     "name": "stdout",
     "output_type": "stream",
     "text": [
      "\u001b[1m191/191\u001b[0m \u001b[32m━━━━━━━━━━━━━━━━━━━━\u001b[0m\u001b[37m\u001b[0m \u001b[1m33s\u001b[0m 122ms/step - accuracy: 0.2893 - loss: 23.1277 - val_accuracy: 0.3028 - val_loss: 1.7596\n",
      "Epoch 2/50\n",
      "\u001b[1m191/191\u001b[0m \u001b[32m━━━━━━━━━━━━━━━━━━━━\u001b[0m\u001b[37m\u001b[0m \u001b[1m11s\u001b[0m 57ms/step - accuracy: 0.2940 - loss: 1.7521 - val_accuracy: 0.3028 - val_loss: 1.7698\n",
      "Epoch 3/50\n",
      "\u001b[1m191/191\u001b[0m \u001b[32m━━━━━━━━━━━━━━━━━━━━\u001b[0m\u001b[37m\u001b[0m \u001b[1m11s\u001b[0m 56ms/step - accuracy: 0.2919 - loss: 1.7632 - val_accuracy: 0.3028 - val_loss: 1.7617\n",
      "Epoch 4/50\n",
      "\u001b[1m191/191\u001b[0m \u001b[32m━━━━━━━━━━━━━━━━━━━━\u001b[0m\u001b[37m\u001b[0m \u001b[1m11s\u001b[0m 57ms/step - accuracy: 0.2864 - loss: 1.7591 - val_accuracy: 0.3028 - val_loss: 1.7617\n",
      "Epoch 5/50\n",
      "\u001b[1m191/191\u001b[0m \u001b[32m━━━━━━━━━━━━━━━━━━━━\u001b[0m\u001b[37m\u001b[0m \u001b[1m11s\u001b[0m 57ms/step - accuracy: 0.2915 - loss: 1.7522 - val_accuracy: 0.3028 - val_loss: 1.7617\n",
      "Epoch 6/50\n",
      "\u001b[1m191/191\u001b[0m \u001b[32m━━━━━━━━━━━━━━━━━━━━\u001b[0m\u001b[37m\u001b[0m \u001b[1m11s\u001b[0m 56ms/step - accuracy: 0.2988 - loss: 1.7552 - val_accuracy: 0.3028 - val_loss: 1.7589\n",
      "Epoch 7/50\n",
      "\u001b[1m191/191\u001b[0m \u001b[32m━━━━━━━━━━━━━━━━━━━━\u001b[0m\u001b[37m\u001b[0m \u001b[1m11s\u001b[0m 57ms/step - accuracy: 0.2984 - loss: 1.7572 - val_accuracy: 0.3028 - val_loss: 1.7585\n",
      "Epoch 8/50\n",
      "\u001b[1m191/191\u001b[0m \u001b[32m━━━━━━━━━━━━━━━━━━━━\u001b[0m\u001b[37m\u001b[0m \u001b[1m11s\u001b[0m 57ms/step - accuracy: 0.3025 - loss: 1.7481 - val_accuracy: 0.3028 - val_loss: 1.7615\n",
      "Epoch 9/50\n",
      "\u001b[1m191/191\u001b[0m \u001b[32m━━━━━━━━━━━━━━━━━━━━\u001b[0m\u001b[37m\u001b[0m \u001b[1m11s\u001b[0m 56ms/step - accuracy: 0.3026 - loss: 1.7499 - val_accuracy: 0.3028 - val_loss: 1.7610\n",
      "Epoch 10/50\n",
      "\u001b[1m191/191\u001b[0m \u001b[32m━━━━━━━━━━━━━━━━━━━━\u001b[0m\u001b[37m\u001b[0m \u001b[1m11s\u001b[0m 58ms/step - accuracy: 0.2973 - loss: 1.7559 - val_accuracy: 0.3028 - val_loss: 1.7577\n",
      "Epoch 11/50\n",
      "\u001b[1m191/191\u001b[0m \u001b[32m━━━━━━━━━━━━━━━━━━━━\u001b[0m\u001b[37m\u001b[0m \u001b[1m11s\u001b[0m 57ms/step - accuracy: 0.3020 - loss: 1.7538 - val_accuracy: 0.3028 - val_loss: 1.7614\n",
      "Epoch 12/50\n",
      "\u001b[1m191/191\u001b[0m \u001b[32m━━━━━━━━━━━━━━━━━━━━\u001b[0m\u001b[37m\u001b[0m \u001b[1m11s\u001b[0m 57ms/step - accuracy: 0.2992 - loss: 1.7515 - val_accuracy: 0.3028 - val_loss: 1.7597\n",
      "Epoch 13/50\n",
      "\u001b[1m191/191\u001b[0m \u001b[32m━━━━━━━━━━━━━━━━━━━━\u001b[0m\u001b[37m\u001b[0m \u001b[1m11s\u001b[0m 58ms/step - accuracy: 0.2997 - loss: 1.7520 - val_accuracy: 0.3028 - val_loss: 1.7601\n",
      "Epoch 14/50\n",
      "\u001b[1m191/191\u001b[0m \u001b[32m━━━━━━━━━━━━━━━━━━━━\u001b[0m\u001b[37m\u001b[0m \u001b[1m11s\u001b[0m 57ms/step - accuracy: 0.3017 - loss: 1.7476 - val_accuracy: 0.3028 - val_loss: 1.7609\n",
      "Epoch 15/50\n",
      "\u001b[1m191/191\u001b[0m \u001b[32m━━━━━━━━━━━━━━━━━━━━\u001b[0m\u001b[37m\u001b[0m \u001b[1m11s\u001b[0m 57ms/step - accuracy: 0.2987 - loss: 1.7534 - val_accuracy: 0.3028 - val_loss: 1.7590\n",
      "Epoch 16/50\n",
      "\u001b[1m191/191\u001b[0m \u001b[32m━━━━━━━━━━━━━━━━━━━━\u001b[0m\u001b[37m\u001b[0m \u001b[1m11s\u001b[0m 58ms/step - accuracy: 0.2997 - loss: 1.7538 - val_accuracy: 0.3028 - val_loss: 1.7569\n",
      "Epoch 17/50\n",
      "\u001b[1m191/191\u001b[0m \u001b[32m━━━━━━━━━━━━━━━━━━━━\u001b[0m\u001b[37m\u001b[0m \u001b[1m11s\u001b[0m 57ms/step - accuracy: 0.2973 - loss: 1.7520 - val_accuracy: 0.3028 - val_loss: 1.7590\n",
      "Epoch 18/50\n",
      "\u001b[1m191/191\u001b[0m \u001b[32m━━━━━━━━━━━━━━━━━━━━\u001b[0m\u001b[37m\u001b[0m \u001b[1m11s\u001b[0m 57ms/step - accuracy: 0.2987 - loss: 1.7461 - val_accuracy: 0.3028 - val_loss: 1.7578\n",
      "Epoch 19/50\n",
      "\u001b[1m191/191\u001b[0m \u001b[32m━━━━━━━━━━━━━━━━━━━━\u001b[0m\u001b[37m\u001b[0m \u001b[1m11s\u001b[0m 58ms/step - accuracy: 0.3036 - loss: 1.7477 - val_accuracy: 0.3028 - val_loss: 1.7566\n",
      "Epoch 20/50\n",
      "\u001b[1m191/191\u001b[0m \u001b[32m━━━━━━━━━━━━━━━━━━━━\u001b[0m\u001b[37m\u001b[0m \u001b[1m11s\u001b[0m 57ms/step - accuracy: 0.3035 - loss: 1.7503 - val_accuracy: 0.3028 - val_loss: 1.7597\n",
      "Epoch 21/50\n",
      "\u001b[1m191/191\u001b[0m \u001b[32m━━━━━━━━━━━━━━━━━━━━\u001b[0m\u001b[37m\u001b[0m \u001b[1m11s\u001b[0m 57ms/step - accuracy: 0.3027 - loss: 1.7540 - val_accuracy: 0.3028 - val_loss: 1.7572\n",
      "Epoch 22/50\n",
      "\u001b[1m191/191\u001b[0m \u001b[32m━━━━━━━━━━━━━━━━━━━━\u001b[0m\u001b[37m\u001b[0m \u001b[1m11s\u001b[0m 58ms/step - accuracy: 0.3020 - loss: 1.7507 - val_accuracy: 0.3028 - val_loss: 1.7572\n",
      "Epoch 23/50\n",
      "\u001b[1m191/191\u001b[0m \u001b[32m━━━━━━━━━━━━━━━━━━━━\u001b[0m\u001b[37m\u001b[0m \u001b[1m11s\u001b[0m 57ms/step - accuracy: 0.3023 - loss: 1.7509 - val_accuracy: 0.3028 - val_loss: 1.7603\n",
      "Epoch 24/50\n",
      "\u001b[1m191/191\u001b[0m \u001b[32m━━━━━━━━━━━━━━━━━━━━\u001b[0m\u001b[37m\u001b[0m \u001b[1m11s\u001b[0m 57ms/step - accuracy: 0.3044 - loss: 1.7503 - val_accuracy: 0.3028 - val_loss: 1.7568\n",
      "Epoch 25/50\n",
      "\u001b[1m191/191\u001b[0m \u001b[32m━━━━━━━━━━━━━━━━━━━━\u001b[0m\u001b[37m\u001b[0m \u001b[1m11s\u001b[0m 58ms/step - accuracy: 0.2989 - loss: 1.7510 - val_accuracy: 0.3028 - val_loss: 1.7569\n",
      "Epoch 26/50\n",
      "\u001b[1m191/191\u001b[0m \u001b[32m━━━━━━━━━━━━━━━━━━━━\u001b[0m\u001b[37m\u001b[0m \u001b[1m11s\u001b[0m 57ms/step - accuracy: 0.3005 - loss: 1.7503 - val_accuracy: 0.3028 - val_loss: 1.7581\n",
      "Epoch 27/50\n",
      "\u001b[1m191/191\u001b[0m \u001b[32m━━━━━━━━━━━━━━━━━━━━\u001b[0m\u001b[37m\u001b[0m \u001b[1m11s\u001b[0m 57ms/step - accuracy: 0.3055 - loss: 1.7523 - val_accuracy: 0.3028 - val_loss: 1.7574\n",
      "Epoch 28/50\n",
      "\u001b[1m191/191\u001b[0m \u001b[32m━━━━━━━━━━━━━━━━━━━━\u001b[0m\u001b[37m\u001b[0m \u001b[1m11s\u001b[0m 58ms/step - accuracy: 0.3038 - loss: 1.7540 - val_accuracy: 0.3028 - val_loss: 1.7577\n",
      "Epoch 29/50\n",
      "\u001b[1m191/191\u001b[0m \u001b[32m━━━━━━━━━━━━━━━━━━━━\u001b[0m\u001b[37m\u001b[0m \u001b[1m11s\u001b[0m 57ms/step - accuracy: 0.3040 - loss: 1.7529 - val_accuracy: 0.3028 - val_loss: 1.7559\n",
      "Epoch 30/50\n",
      "\u001b[1m191/191\u001b[0m \u001b[32m━━━━━━━━━━━━━━━━━━━━\u001b[0m\u001b[37m\u001b[0m \u001b[1m11s\u001b[0m 57ms/step - accuracy: 0.3051 - loss: 1.7464 - val_accuracy: 0.3028 - val_loss: 1.7567\n",
      "Epoch 31/50\n",
      "\u001b[1m191/191\u001b[0m \u001b[32m━━━━━━━━━━━━━━━━━━━━\u001b[0m\u001b[37m\u001b[0m \u001b[1m11s\u001b[0m 58ms/step - accuracy: 0.3006 - loss: 1.7507 - val_accuracy: 0.3028 - val_loss: 1.7580\n",
      "Epoch 32/50\n",
      "\u001b[1m191/191\u001b[0m \u001b[32m━━━━━━━━━━━━━━━━━━━━\u001b[0m\u001b[37m\u001b[0m \u001b[1m11s\u001b[0m 57ms/step - accuracy: 0.3076 - loss: 1.7477 - val_accuracy: 0.3028 - val_loss: 1.7577\n",
      "Epoch 33/50\n",
      "\u001b[1m191/191\u001b[0m \u001b[32m━━━━━━━━━━━━━━━━━━━━\u001b[0m\u001b[37m\u001b[0m \u001b[1m11s\u001b[0m 58ms/step - accuracy: 0.3005 - loss: 1.7514 - val_accuracy: 0.3028 - val_loss: 1.7580\n",
      "Epoch 34/50\n",
      "\u001b[1m191/191\u001b[0m \u001b[32m━━━━━━━━━━━━━━━━━━━━\u001b[0m\u001b[37m\u001b[0m \u001b[1m11s\u001b[0m 58ms/step - accuracy: 0.3028 - loss: 1.7536 - val_accuracy: 0.3028 - val_loss: 1.7568\n",
      "Epoch 35/50\n",
      "\u001b[1m191/191\u001b[0m \u001b[32m━━━━━━━━━━━━━━━━━━━━\u001b[0m\u001b[37m\u001b[0m \u001b[1m11s\u001b[0m 57ms/step - accuracy: 0.3032 - loss: 1.7514 - val_accuracy: 0.3028 - val_loss: 1.7572\n",
      "Epoch 36/50\n",
      "\u001b[1m191/191\u001b[0m \u001b[32m━━━━━━━━━━━━━━━━━━━━\u001b[0m\u001b[37m\u001b[0m \u001b[1m11s\u001b[0m 58ms/step - accuracy: 0.3039 - loss: 1.7511 - val_accuracy: 0.3028 - val_loss: 1.7566\n",
      "Epoch 37/50\n",
      "\u001b[1m191/191\u001b[0m \u001b[32m━━━━━━━━━━━━━━━━━━━━\u001b[0m\u001b[37m\u001b[0m \u001b[1m11s\u001b[0m 58ms/step - accuracy: 0.3046 - loss: 1.7474 - val_accuracy: 0.3028 - val_loss: 1.7567\n",
      "Epoch 38/50\n",
      "\u001b[1m191/191\u001b[0m \u001b[32m━━━━━━━━━━━━━━━━━━━━\u001b[0m\u001b[37m\u001b[0m \u001b[1m11s\u001b[0m 57ms/step - accuracy: 0.3052 - loss: 1.7494 - val_accuracy: 0.3028 - val_loss: 1.7570\n",
      "Epoch 39/50\n",
      "\u001b[1m191/191\u001b[0m \u001b[32m━━━━━━━━━━━━━━━━━━━━\u001b[0m\u001b[37m\u001b[0m \u001b[1m11s\u001b[0m 58ms/step - accuracy: 0.3045 - loss: 1.7500 - val_accuracy: 0.3028 - val_loss: 1.7575\n",
      "Epoch 40/50\n",
      "\u001b[1m191/191\u001b[0m \u001b[32m━━━━━━━━━━━━━━━━━━━━\u001b[0m\u001b[37m\u001b[0m \u001b[1m11s\u001b[0m 58ms/step - accuracy: 0.3030 - loss: 1.7533 - val_accuracy: 0.3028 - val_loss: 1.7574\n",
      "Epoch 41/50\n",
      "\u001b[1m191/191\u001b[0m \u001b[32m━━━━━━━━━━━━━━━━━━━━\u001b[0m\u001b[37m\u001b[0m \u001b[1m11s\u001b[0m 57ms/step - accuracy: 0.3035 - loss: 1.7542 - val_accuracy: 0.3028 - val_loss: 1.7569\n",
      "Epoch 42/50\n",
      "\u001b[1m191/191\u001b[0m \u001b[32m━━━━━━━━━━━━━━━━━━━━\u001b[0m\u001b[37m\u001b[0m \u001b[1m11s\u001b[0m 58ms/step - accuracy: 0.3003 - loss: 1.7540 - val_accuracy: 0.3028 - val_loss: 1.7570\n",
      "Epoch 43/50\n",
      "\u001b[1m191/191\u001b[0m \u001b[32m━━━━━━━━━━━━━━━━━━━━\u001b[0m\u001b[37m\u001b[0m \u001b[1m11s\u001b[0m 58ms/step - accuracy: 0.3044 - loss: 1.7507 - val_accuracy: 0.3028 - val_loss: 1.7566\n",
      "Epoch 44/50\n",
      "\u001b[1m191/191\u001b[0m \u001b[32m━━━━━━━━━━━━━━━━━━━━\u001b[0m\u001b[37m\u001b[0m \u001b[1m11s\u001b[0m 57ms/step - accuracy: 0.3005 - loss: 1.7519 - val_accuracy: 0.3028 - val_loss: 1.7565\n",
      "Epoch 45/50\n",
      "\u001b[1m191/191\u001b[0m \u001b[32m━━━━━━━━━━━━━━━━━━━━\u001b[0m\u001b[37m\u001b[0m \u001b[1m11s\u001b[0m 58ms/step - accuracy: 0.3018 - loss: 1.7500 - val_accuracy: 0.3028 - val_loss: 1.7565\n",
      "Epoch 46/50\n",
      "\u001b[1m191/191\u001b[0m \u001b[32m━━━━━━━━━━━━━━━━━━━━\u001b[0m\u001b[37m\u001b[0m \u001b[1m11s\u001b[0m 58ms/step - accuracy: 0.3045 - loss: 1.7549 - val_accuracy: 0.3028 - val_loss: 1.7573\n",
      "Epoch 47/50\n",
      "\u001b[1m191/191\u001b[0m \u001b[32m━━━━━━━━━━━━━━━━━━━━\u001b[0m\u001b[37m\u001b[0m \u001b[1m11s\u001b[0m 57ms/step - accuracy: 0.3024 - loss: 1.7518 - val_accuracy: 0.3028 - val_loss: 1.7566\n",
      "Epoch 48/50\n",
      "\u001b[1m191/191\u001b[0m \u001b[32m━━━━━━━━━━━━━━━━━━━━\u001b[0m\u001b[37m\u001b[0m \u001b[1m11s\u001b[0m 58ms/step - accuracy: 0.3050 - loss: 1.7483 - val_accuracy: 0.3028 - val_loss: 1.7567\n",
      "Epoch 49/50\n",
      "\u001b[1m191/191\u001b[0m \u001b[32m━━━━━━━━━━━━━━━━━━━━\u001b[0m\u001b[37m\u001b[0m \u001b[1m11s\u001b[0m 58ms/step - accuracy: 0.3022 - loss: 1.7496 - val_accuracy: 0.3028 - val_loss: 1.7571\n",
      "Epoch 50/50\n",
      "\u001b[1m191/191\u001b[0m \u001b[32m━━━━━━━━━━━━━━━━━━━━\u001b[0m\u001b[37m\u001b[0m \u001b[1m11s\u001b[0m 57ms/step - accuracy: 0.3033 - loss: 1.7534 - val_accuracy: 0.3028 - val_loss: 1.7568\n"
     ]
    }
   ],
   "source": [
    "epochs = 50\n",
    "history = model.fit(train_ds,\n",
    "                    validation_data=val_ds,\n",
    "                    epochs=epochs)"
   ]
  },
  {
   "cell_type": "markdown",
   "id": "02a69cb1-630f-4112-9a3e-ca7e78052296",
   "metadata": {},
   "source": [
    "# Evaluating"
   ]
  },
  {
   "cell_type": "code",
   "execution_count": 12,
   "id": "a366bbfa-d38f-4eea-bbb5-f8ed3a8007a0",
   "metadata": {
    "scrolled": true
   },
   "outputs": [
    {
     "data": {
      "text/plain": [
       "{'accuracy': [0.2967572808265686,\n",
       "  0.29364559054374695,\n",
       "  0.2947919964790344,\n",
       "  0.2897150218486786,\n",
       "  0.29184409976005554,\n",
       "  0.2939731478691101,\n",
       "  0.2905339002609253,\n",
       "  0.2951195538043976,\n",
       "  0.29561087489128113,\n",
       "  0.2959384322166443,\n",
       "  0.2957746386528015,\n",
       "  0.29446446895599365,\n",
       "  0.2951195538043976,\n",
       "  0.29348182678222656,\n",
       "  0.29544711112976074,\n",
       "  0.29724860191345215,\n",
       "  0.29364559054374695,\n",
       "  0.2923354208469391,\n",
       "  0.2967572808265686,\n",
       "  0.2951195538043976,\n",
       "  0.30167049169540405,\n",
       "  0.2959384322166443,\n",
       "  0.2974123954772949,\n",
       "  0.29905012249946594,\n",
       "  0.2983950078487396,\n",
       "  0.29921388626098633,\n",
       "  0.29921388626098633,\n",
       "  0.30167049169540405,\n",
       "  0.30167049169540405,\n",
       "  0.30167049169540405,\n",
       "  0.3010154068470001,\n",
       "  0.30167049169540405,\n",
       "  0.30167049169540405,\n",
       "  0.30167049169540405,\n",
       "  0.30167049169540405,\n",
       "  0.30167049169540405,\n",
       "  0.30167049169540405,\n",
       "  0.30167049169540405,\n",
       "  0.30167049169540405,\n",
       "  0.30167049169540405,\n",
       "  0.30167049169540405,\n",
       "  0.2979036867618561,\n",
       "  0.2985588014125824,\n",
       "  0.29626595973968506,\n",
       "  0.30167049169540405,\n",
       "  0.30167049169540405,\n",
       "  0.30167049169540405,\n",
       "  0.30167049169540405,\n",
       "  0.2974123954772949,\n",
       "  0.30167049169540405],\n",
       " 'loss': [6.262218475341797,\n",
       "  1.7532740831375122,\n",
       "  1.753740906715393,\n",
       "  1.7512543201446533,\n",
       "  1.7504349946975708,\n",
       "  1.7498959302902222,\n",
       "  1.7510136365890503,\n",
       "  1.7504420280456543,\n",
       "  1.749860167503357,\n",
       "  1.7506779432296753,\n",
       "  1.7504233121871948,\n",
       "  1.7506550550460815,\n",
       "  1.750582218170166,\n",
       "  1.749125599861145,\n",
       "  1.7501730918884277,\n",
       "  1.7507967948913574,\n",
       "  1.7493417263031006,\n",
       "  1.7496405839920044,\n",
       "  1.749516487121582,\n",
       "  1.7489635944366455,\n",
       "  1.7492481470108032,\n",
       "  1.7492663860321045,\n",
       "  1.748863697052002,\n",
       "  1.7493895292282104,\n",
       "  1.7487568855285645,\n",
       "  1.748551607131958,\n",
       "  1.7489287853240967,\n",
       "  1.7498646974563599,\n",
       "  1.7491827011108398,\n",
       "  1.7484266757965088,\n",
       "  1.7487502098083496,\n",
       "  1.7485268115997314,\n",
       "  1.7487590312957764,\n",
       "  1.7487307786941528,\n",
       "  1.7487932443618774,\n",
       "  1.7487436532974243,\n",
       "  1.7486698627471924,\n",
       "  1.7489217519760132,\n",
       "  1.7482503652572632,\n",
       "  1.748425006866455,\n",
       "  1.7484393119812012,\n",
       "  1.7483947277069092,\n",
       "  1.7486652135849,\n",
       "  1.7483665943145752,\n",
       "  1.7484228610992432,\n",
       "  1.748775839805603,\n",
       "  1.7485182285308838,\n",
       "  1.7486754655838013,\n",
       "  1.7482346296310425,\n",
       "  1.7480201721191406],\n",
       " 'val_accuracy': [0.302752286195755,\n",
       "  0.302752286195755,\n",
       "  0.302752286195755,\n",
       "  0.302752286195755,\n",
       "  0.302752286195755,\n",
       "  0.302752286195755,\n",
       "  0.302752286195755,\n",
       "  0.302752286195755,\n",
       "  0.302752286195755,\n",
       "  0.302752286195755,\n",
       "  0.302752286195755,\n",
       "  0.302752286195755,\n",
       "  0.302752286195755,\n",
       "  0.302752286195755,\n",
       "  0.302752286195755,\n",
       "  0.302752286195755,\n",
       "  0.302752286195755,\n",
       "  0.302752286195755,\n",
       "  0.302752286195755,\n",
       "  0.302752286195755,\n",
       "  0.302752286195755,\n",
       "  0.302752286195755,\n",
       "  0.302752286195755,\n",
       "  0.302752286195755,\n",
       "  0.302752286195755,\n",
       "  0.302752286195755,\n",
       "  0.302752286195755,\n",
       "  0.302752286195755,\n",
       "  0.302752286195755,\n",
       "  0.302752286195755,\n",
       "  0.302752286195755,\n",
       "  0.302752286195755,\n",
       "  0.302752286195755,\n",
       "  0.302752286195755,\n",
       "  0.302752286195755,\n",
       "  0.302752286195755,\n",
       "  0.302752286195755,\n",
       "  0.302752286195755,\n",
       "  0.302752286195755,\n",
       "  0.302752286195755,\n",
       "  0.302752286195755,\n",
       "  0.302752286195755,\n",
       "  0.302752286195755,\n",
       "  0.302752286195755,\n",
       "  0.302752286195755,\n",
       "  0.302752286195755,\n",
       "  0.302752286195755,\n",
       "  0.302752286195755,\n",
       "  0.302752286195755,\n",
       "  0.302752286195755],\n",
       " 'val_loss': [1.7595925331115723,\n",
       "  1.769776463508606,\n",
       "  1.7616795301437378,\n",
       "  1.7617220878601074,\n",
       "  1.7617220878601074,\n",
       "  1.7589430809020996,\n",
       "  1.7584837675094604,\n",
       "  1.7615416049957275,\n",
       "  1.7609652280807495,\n",
       "  1.7577428817749023,\n",
       "  1.7614494562149048,\n",
       "  1.7597458362579346,\n",
       "  1.760107159614563,\n",
       "  1.7609025239944458,\n",
       "  1.7590384483337402,\n",
       "  1.7568975687026978,\n",
       "  1.7590388059616089,\n",
       "  1.7578198909759521,\n",
       "  1.7565739154815674,\n",
       "  1.759650468826294,\n",
       "  1.7572312355041504,\n",
       "  1.7571648359298706,\n",
       "  1.7603001594543457,\n",
       "  1.7567565441131592,\n",
       "  1.756933569908142,\n",
       "  1.7580633163452148,\n",
       "  1.7573596239089966,\n",
       "  1.7577494382858276,\n",
       "  1.7558611631393433,\n",
       "  1.7567259073257446,\n",
       "  1.7580463886260986,\n",
       "  1.7577259540557861,\n",
       "  1.757968544960022,\n",
       "  1.7567812204360962,\n",
       "  1.7571722269058228,\n",
       "  1.7565613985061646,\n",
       "  1.7566903829574585,\n",
       "  1.75699782371521,\n",
       "  1.7575328350067139,\n",
       "  1.757409930229187,\n",
       "  1.7568713426589966,\n",
       "  1.7570252418518066,\n",
       "  1.7565577030181885,\n",
       "  1.7564564943313599,\n",
       "  1.7565346956253052,\n",
       "  1.7573461532592773,\n",
       "  1.7566226720809937,\n",
       "  1.7566876411437988,\n",
       "  1.7570750713348389,\n",
       "  1.756842851638794]}"
      ]
     },
     "execution_count": 12,
     "metadata": {},
     "output_type": "execute_result"
    }
   ],
   "source": [
    "history.history"
   ]
  },
  {
   "cell_type": "code",
   "execution_count": 13,
   "id": "2ed596be-2513-4f30-a794-302b4876a83d",
   "metadata": {},
   "outputs": [
    {
     "data": {
      "image/png": "[encoded data removed]",
      "text/plain": [
       "<Figure size 640x480 with 1 Axes>"
      ]
     },
     "metadata": {},
     "output_type": "display_data"
    }
   ],
   "source": [
    "plt.plot(history.history['loss'])\n",
    "plt.plot(history.history['val_loss'])\n",
    "plt.title('Model Loss')\n",
    "plt.ylabel('Loss')\n",
    "plt.xlabel('Epoch')\n",
    "plt.legend(['Train', 'Val'], loc='upper right')\n",
    "plt.show()"
   ]
  },
  {
   "cell_type": "code",
   "execution_count": 14,
   "id": "d6efae5c-ef3c-4a27-ad7d-ded026cc41a6",
   "metadata": {},
   "outputs": [
    {
     "data": {
      "image/png": "[encoded data removed]",
      "text/plain": [
       "<Figure size 640x480 with 1 Axes>"
      ]
     },
     "metadata": {},
     "output_type": "display_data"
    }
   ],
   "source": [
    "plt.plot(history.history['accuracy'])\n",
    "plt.plot(history.history['val_accuracy'])\n",
    "plt.title('Model Accuracy')\n",
    "plt.ylabel('Accuracy')\n",
    "plt.xlabel('Epoch')\n",
    "plt.legend(['Train', 'Val'], loc='lower right')\n",
    "plt.show()"
   ]
  },
  {
   "cell_type": "code",
   "execution_count": 15,
   "id": "da8be383-57fb-4de0-84fd-e760d533e10a",
   "metadata": {},
   "outputs": [
    {
     "name": "stdout",
     "output_type": "stream",
     "text": [
      "48/48 - 1s - 14ms/step - accuracy: 0.3028 - loss: 1.7568\n"
     ]
    }
   ],
   "source": [
    "test_loss, test_acc = model.evaluate(val_ds, verbose=2)"
   ]
  },
  {
   "cell_type": "code",
   "execution_count": 16,
   "id": "c79c8590-6ab6-40a3-859f-0d674ad4607c",
   "metadata": {},
   "outputs": [
    {
     "name": "stdout",
     "output_type": "stream",
     "text": [
      "0.302752286195755\n"
     ]
    }
   ],
   "source": [
    "print(test_acc)"
   ]
  },
  {
   "cell_type": "code",
   "execution_count": 17,
   "id": "0329f18b-5475-4629-92cf-f8609eb69a3c",
   "metadata": {},
   "outputs": [
    {
     "name": "stdout",
     "output_type": "stream",
     "text": [
      "\u001b[1m5/6\u001b[0m \u001b[32m━━━━━━━━━━━━━━━━\u001b[0m\u001b[37m━━━━\u001b[0m \u001b[1m0s\u001b[0m 13ms/step "
     ]
    },
    {
     "name": "stderr",
     "output_type": "stream",
     "text": [
      "2024-11-06 22:45:12.319561: I external/local_xla/xla/stream_executor/cuda/cuda_asm_compiler.cc:397] ptxas warning : Registers are spilled to local memory in function 'gemm_fusion_dot_103', 24 bytes spill stores, 24 bytes spill loads\n",
      "\n",
      "2024-11-06 22:45:12.407243: I external/local_xla/xla/stream_executor/cuda/cuda_asm_compiler.cc:397] ptxas warning : Registers are spilled to local memory in function 'gemm_fusion_dot_89_0', 248 bytes spill stores, 248 bytes spill loads\n",
      "\n",
      "2024-11-06 22:45:12.513131: I external/local_xla/xla/stream_executor/cuda/cuda_asm_compiler.cc:397] ptxas warning : Registers are spilled to local memory in function 'gemm_fusion_dot_96_0', 260 bytes spill stores, 260 bytes spill loads\n",
      "\n"
     ]
    },
    {
     "name": "stdout",
     "output_type": "stream",
     "text": [
      "\u001b[1m6/6\u001b[0m \u001b[32m━━━━━━━━━━━━━━━━━━━━\u001b[0m\u001b[37m\u001b[0m \u001b[1m4s\u001b[0m 519ms/step\n"
     ]
    }
   ],
   "source": [
    "predictions = model.predict(train_ds_test)\n",
    "val_pred = np.argmax(predictions, axis=1)"
   ]
  },
  {
   "cell_type": "code",
   "execution_count": 18,
   "id": "c2ac0f40-b5a7-434f-ad26-23199361e775",
   "metadata": {},
   "outputs": [
    {
     "name": "stdout",
     "output_type": "stream",
     "text": [
      "\u001b[1m1/1\u001b[0m \u001b[32m━━━━━━━━━━━━━━━━━━━━\u001b[0m\u001b[37m\u001b[0m \u001b[1m1s\u001b[0m 820ms/step\n",
      "\u001b[1m1/1\u001b[0m \u001b[32m━━━━━━━━━━━━━━━━━━━━\u001b[0m\u001b[37m\u001b[0m \u001b[1m0s\u001b[0m 450ms/step\n"
     ]
    },
    {
     "name": "stderr",
     "output_type": "stream",
     "text": [
      "2024-11-06 22:45:15.119562: I tensorflow/core/framework/local_rendezvous.cc:405] Local rendezvous is aborting with status: OUT_OF_RANGE: End of sequence\n"
     ]
    }
   ],
   "source": [
    "y_true = []\n",
    "y_pred = []\n",
    "for images, labels in val_ds_test:\n",
    "  # Make predictions on the batch\n",
    "  batch_pred = model.predict(images)\n",
    "  y_pred.extend(list(batch_pred.argmax(axis=1)))  # Predicted labels\n",
    "  y_true.extend(list(labels.numpy()))  # True labels from the batch\n",
    "\n",
    "# Calculate the confusion matrix\n",
    "cm = confusion_matrix(y_true, y_pred)"
   ]
  },
  {
   "cell_type": "code",
   "execution_count": 19,
   "id": "cf35659b-2062-4beb-b87f-74e5394a5fd4",
   "metadata": {},
   "outputs": [
    {
     "data": {
      "text/plain": [
       "<sklearn.metrics._plot.confusion_matrix.ConfusionMatrixDisplay at 0x7f8474115af0>"
      ]
     },
     "execution_count": 19,
     "metadata": {},
     "output_type": "execute_result"
    },
    {
     "data": {
      "image/png": "[encoded data removed]",
      "text/plain": [
       "<Figure size 640x480 with 2 Axes>"
      ]
     },
     "metadata": {},
     "output_type": "display_data"
    }
   ],
   "source": [
    "disp = ConfusionMatrixDisplay(cm, display_labels=classes_,)\n",
    "disp.plot()"
   ]
  },
  {
   "cell_type": "code",
   "execution_count": 20,
   "id": "89bf33c1-dfd0-4681-8387-66d122abdcb9",
   "metadata": {},
   "outputs": [
    {
     "name": "stdout",
     "output_type": "stream",
     "text": [
      "              precision    recall  f1-score   support\n",
      "\n",
      "           0       0.00      0.00      0.00         2\n",
      "           1       0.00      0.00      0.00        11\n",
      "           2       0.00      0.00      0.00         1\n",
      "           3       0.45      1.00      0.62        19\n",
      "           4       0.00      0.00      0.00         3\n",
      "           5       0.00      0.00      0.00         1\n",
      "           6       0.00      0.00      0.00         4\n",
      "           7       0.00      0.00      0.00         1\n",
      "\n",
      "    accuracy                           0.45        42\n",
      "   macro avg       0.06      0.12      0.08        42\n",
      "weighted avg       0.20      0.45      0.28        42\n",
      "\n"
     ]
    },
    {
     "name": "stderr",
     "output_type": "stream",
     "text": [
      "/home/viviane/apps/anaconda3/envs/pro1-cnn/lib/python3.12/site-packages/sklearn/metrics/_classification.py:1531: UndefinedMetricWarning: Precision is ill-defined and being set to 0.0 in labels with no predicted samples. Use `zero_division` parameter to control this behavior.\n",
      "  _warn_prf(average, modifier, f\"{metric.capitalize()} is\", len(result))\n",
      "/home/viviane/apps/anaconda3/envs/pro1-cnn/lib/python3.12/site-packages/sklearn/metrics/_classification.py:1531: UndefinedMetricWarning: Precision is ill-defined and being set to 0.0 in labels with no predicted samples. Use `zero_division` parameter to control this behavior.\n",
      "  _warn_prf(average, modifier, f\"{metric.capitalize()} is\", len(result))\n",
      "/home/viviane/apps/anaconda3/envs/pro1-cnn/lib/python3.12/site-packages/sklearn/metrics/_classification.py:1531: UndefinedMetricWarning: Precision is ill-defined and being set to 0.0 in labels with no predicted samples. Use `zero_division` parameter to control this behavior.\n",
      "  _warn_prf(average, modifier, f\"{metric.capitalize()} is\", len(result))\n"
     ]
    }
   ],
   "source": [
    "report = classification_report(y_true, y_pred)\n",
    "print(report)"
   ]
  },
  {
   "cell_type": "markdown",
   "id": "accc529b-1afb-4fcd-b620-2d4eaa5dfd4c",
   "metadata": {},
   "source": [
    "# Save"
   ]
  },
  {
   "cell_type": "code",
   "execution_count": 22,
   "id": "e8e6c40a-cef1-4bc6-b0b4-be2098307500",
   "metadata": {},
   "outputs": [],
   "source": [
    "# model.save('models/breast_cancer_classification-alexnet.h5')"
   ]
  },
  {
   "cell_type": "code",
   "execution_count": null,
   "id": "0b17e77e-a0db-4f32-a662-94a4c3c4e3ec",
   "metadata": {},
   "outputs": [],
   "source": []
  }
 ],
 "metadata": {
  "kernelspec": {
   "display_name": "Python 3 (ipykernel)",
   "language": "python",
   "name": "python3"
  },
  "language_info": {
   "codemirror_mode": {
    "name": "ipython",
    "version": 3
   },
   "file_extension": ".py",
   "mimetype": "text/x-python",
   "name": "python",
   "nbconvert_exporter": "python",
   "pygments_lexer": "ipython3",
   "version": "3.12.7"
  }
 },
 "nbformat": 4,
 "nbformat_minor": 5
}
