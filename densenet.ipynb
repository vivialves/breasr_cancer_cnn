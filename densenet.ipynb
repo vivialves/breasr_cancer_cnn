{
 "cells": [
  {
   "cell_type": "markdown",
   "id": "630c2f9d-76cc-401d-9096-83cdfe8fb200",
   "metadata": {},
   "source": [
    "# Densenet"
   ]
  },
  {
   "cell_type": "code",
   "execution_count": 1,
   "id": "d0627e80-6fb6-4c62-9d1b-265c2a90ea34",
   "metadata": {
    "editable": true,
    "slideshow": {
     "slide_type": ""
    },
    "tags": []
   },
   "outputs": [],
   "source": [
    "import numpy as np\n",
    "import pandas as pd"
   ]
  },
  {
   "cell_type": "code",
   "execution_count": 2,
   "id": "dc45e6da-0195-4599-93b4-83eeb520749d",
   "metadata": {
    "editable": true,
    "slideshow": {
     "slide_type": ""
    },
    "tags": []
   },
   "outputs": [
    {
     "name": "stderr",
     "output_type": "stream",
     "text": [
      "2024-11-08 23:11:33.711495: I tensorflow/core/util/port.cc:153] oneDNN custom operations are on. You may see slightly different numerical results due to floating-point round-off errors from different computation orders. To turn them off, set the environment variable `TF_ENABLE_ONEDNN_OPTS=0`.\n",
      "2024-11-08 23:11:33.719443: E external/local_xla/xla/stream_executor/cuda/cuda_fft.cc:477] Unable to register cuFFT factory: Attempting to register factory for plugin cuFFT when one has already been registered\n",
      "WARNING: All log messages before absl::InitializeLog() is called are written to STDERR\n",
      "E0000 00:00:1731125493.727979    3385 cuda_dnn.cc:8310] Unable to register cuDNN factory: Attempting to register factory for plugin cuDNN when one has already been registered\n",
      "E0000 00:00:1731125493.730617    3385 cuda_blas.cc:1418] Unable to register cuBLAS factory: Attempting to register factory for plugin cuBLAS when one has already been registered\n",
      "2024-11-08 23:11:33.739740: I tensorflow/core/platform/cpu_feature_guard.cc:210] This TensorFlow binary is optimized to use available CPU instructions in performance-critical operations.\n",
      "To enable the following instructions: AVX2 AVX_VNNI FMA, in other operations, rebuild TensorFlow with the appropriate compiler flags.\n"
     ]
    }
   ],
   "source": [
    "import matplotlib.pyplot as plt\n",
    "import tensorflow as tf\n",
    "import keras as K\n",
    "from sklearn.metrics import confusion_matrix, ConfusionMatrixDisplay\n",
    "from sklearn.metrics import classification_report\n",
    "# from tensorflow.keras import datasets, layers, models\n",
    "\n",
    "from tensorflow.keras.models import Sequential, Model\n",
    "\n",
    "from tensorflow.keras.layers import (Input, Conv2D,BatchNormalization, Concatenate,\n",
    "                                    Activation, Add, MaxPooling2D, Dense, AveragePooling2D,\n",
    "                                    GlobalAveragePooling2D)"
   ]
  },
  {
   "cell_type": "markdown",
   "id": "8d906af8-23a2-40de-9bac-a995c373b5c3",
   "metadata": {},
   "source": [
    "# Preparation for trainning - Train Split"
   ]
  },
  {
   "cell_type": "code",
   "execution_count": 3,
   "id": "d2d8c613-8a1d-4dc4-b271-8565de186fa2",
   "metadata": {},
   "outputs": [
    {
     "name": "stdout",
     "output_type": "stream",
     "text": [
      "Found 7632 files belonging to 8 classes.\n",
      "Using 6106 files for training.\n"
     ]
    },
    {
     "name": "stderr",
     "output_type": "stream",
     "text": [
      "I0000 00:00:1731125497.422238    3385 gpu_device.cc:2022] Created device /job:localhost/replica:0/task:0/device:GPU:0 with 1756 MB memory:  -> device: 0, name: NVIDIA GeForce RTX 3050 Ti Laptop GPU, pci bus id: 0000:01:00.0, compute capability: 8.6\n"
     ]
    }
   ],
   "source": [
    "train_ds = tf.keras.preprocessing.image_dataset_from_directory(\n",
    "    'Dataset of Breast mammography images with Masses/Image After Data Augmentation, Image Size 224x224/',\n",
    "    validation_split=0.2,\n",
    "    subset='training',\n",
    "    seed=123,\n",
    "    image_size=(224, 224),\n",
    "    batch_size=32,\n",
    ")"
   ]
  },
  {
   "cell_type": "code",
   "execution_count": 4,
   "id": "826b0916-31ba-40a3-9e8d-805be42b0206",
   "metadata": {},
   "outputs": [
    {
     "data": {
      "text/plain": [
       "8"
      ]
     },
     "execution_count": 4,
     "metadata": {},
     "output_type": "execute_result"
    }
   ],
   "source": [
    "classes_ = train_ds.class_names\n",
    "len(classes_)"
   ]
  },
  {
   "cell_type": "code",
   "execution_count": 5,
   "id": "007e7d7a-3960-4b2f-8d23-9c41f7d31b53",
   "metadata": {},
   "outputs": [
    {
     "name": "stdout",
     "output_type": "stream",
     "text": [
      "Found 7632 files belonging to 8 classes.\n",
      "Using 1526 files for validation.\n"
     ]
    }
   ],
   "source": [
    "val_ds = tf.keras.preprocessing.image_dataset_from_directory(\n",
    "    'Dataset of Breast mammography images with Masses/Image After Data Augmentation, Image Size 224x224/',\n",
    "    validation_split=0.2,\n",
    "    subset='validation',\n",
    "    seed=123,\n",
    "    image_size=(224, 224),\n",
    "    batch_size=32,\n",
    ")"
   ]
  },
  {
   "cell_type": "code",
   "execution_count": 6,
   "id": "511c9c80-5071-476e-8b9d-17a19619e68c",
   "metadata": {},
   "outputs": [
    {
     "data": {
      "text/plain": [
       "(<_MapDataset element_spec=(TensorSpec(shape=(None, 224, 224, 3), dtype=tf.float32, name=None), TensorSpec(shape=(None,), dtype=tf.int32, name=None))>,\n",
       " <_MapDataset element_spec=(TensorSpec(shape=(None, 224, 224, 3), dtype=tf.float32, name=None), TensorSpec(shape=(None,), dtype=tf.int32, name=None))>)"
      ]
     },
     "execution_count": 6,
     "metadata": {},
     "output_type": "execute_result"
    }
   ],
   "source": [
    "def normalize(image, label):\n",
    "  return tf.cast(image/255., tf.float32), label\n",
    "\n",
    "train_ds = train_ds.map(normalize)\n",
    "val_ds = val_ds.map(normalize)\n",
    "\n",
    "train_ds, val_ds"
   ]
  },
  {
   "cell_type": "markdown",
   "id": "e1b4ad25-ebc6-4e59-ac22-47353c0c319a",
   "metadata": {},
   "source": [
    "# Preparation for trainning - Test Split"
   ]
  },
  {
   "cell_type": "code",
   "execution_count": 7,
   "id": "61db42d6-d765-4edb-8727-a6e9ecae9b60",
   "metadata": {},
   "outputs": [
    {
     "name": "stdout",
     "output_type": "stream",
     "text": [
      "Found 212 files belonging to 8 classes.\n",
      "Using 170 files for training.\n"
     ]
    }
   ],
   "source": [
    "train_ds_test = tf.keras.preprocessing.image_dataset_from_directory(\n",
    "    'Dataset of Breast mammography images with Masses/Image Before Data Augmentation, Image Size 224x224/',\n",
    "    validation_split=0.2,\n",
    "    subset='training',\n",
    "    seed=123,\n",
    "    image_size=(224, 224),\n",
    "    batch_size=32,\n",
    ")"
   ]
  },
  {
   "cell_type": "code",
   "execution_count": 8,
   "id": "e32f77e4-eb97-4ac4-b475-65d219e5c6b0",
   "metadata": {},
   "outputs": [
    {
     "name": "stdout",
     "output_type": "stream",
     "text": [
      "Found 212 files belonging to 8 classes.\n",
      "Using 42 files for validation.\n"
     ]
    }
   ],
   "source": [
    "val_ds_test = tf.keras.preprocessing.image_dataset_from_directory(\n",
    "    'Dataset of Breast mammography images with Masses/Image Before Data Augmentation, Image Size 224x224/',\n",
    "    validation_split=0.2,\n",
    "    subset='validation',\n",
    "    seed=123,\n",
    "    image_size=(224, 224),\n",
    "    batch_size=32,\n",
    ")"
   ]
  },
  {
   "cell_type": "code",
   "execution_count": 9,
   "id": "32129e27-6476-44f6-b71f-9bb28aca91bf",
   "metadata": {},
   "outputs": [
    {
     "data": {
      "text/plain": [
       "(<_MapDataset element_spec=(TensorSpec(shape=(None, 224, 224, 3), dtype=tf.float32, name=None), TensorSpec(shape=(None,), dtype=tf.int32, name=None))>,\n",
       " <_MapDataset element_spec=(TensorSpec(shape=(None, 224, 224, 3), dtype=tf.float32, name=None), TensorSpec(shape=(None,), dtype=tf.int32, name=None))>)"
      ]
     },
     "execution_count": 9,
     "metadata": {},
     "output_type": "execute_result"
    }
   ],
   "source": [
    "def normalize(image, label):\n",
    "  return tf.cast(image/255., tf.float32), label\n",
    "\n",
    "train_ds_test = train_ds_test.map(normalize)\n",
    "val_ds_test = val_ds_test.map(normalize)\n",
    "\n",
    "train_ds_test, val_ds_test"
   ]
  },
  {
   "cell_type": "markdown",
   "id": "c6833cbc-45b9-4036-af10-5c472c1b6f44",
   "metadata": {},
   "source": [
    "# Training"
   ]
  },
  {
   "cell_type": "code",
   "execution_count": 10,
   "id": "e2b8f796-5b99-4ec0-b3da-d21e7e457a33",
   "metadata": {},
   "outputs": [],
   "source": [
    "def DenseBlock(x, filters, growth_rate):\n",
    "    inputs = x\n",
    "\n",
    "    for i in range(growth_rate):\n",
    "        x1 = BatchNormalization()(x)\n",
    "        x1 = Activation('relu')(x1)\n",
    "        x1 = Conv2D(4*growth_rate, kernel_size=1, use_bias=False)(x1)\n",
    "        x1 = BatchNormalization()(x1)\n",
    "        x1 = Activation('relu')(x1)\n",
    "        x1 = Conv2D(growth_rate, kernel_size=3, padding='same', use_bias=False)(x1)\n",
    "        x = Concatenate()([x, x1])\n",
    "\n",
    "    return x\n",
    "\n",
    "def TransitionLayer(x, reduction):\n",
    "    x = BatchNormalization()(x)\n",
    "    x = Activation('relu')(x)\n",
    "    x = Conv2D(int(x.shape[-1] * reduction), kernel_size=1, use_bias=False)(x)\n",
    "    x = AveragePooling2D(pool_size=2, strides=2)(x)\n",
    "    return x\n",
    "\n",
    "def DenseNet(input_shape, depth, growth_rate, reduction, num_classes):\n",
    "    inputs = Input(shape=input_shape)\n",
    "\n",
    "    x = Conv2D(2*growth_rate, kernel_size=3, padding='same', use_bias=False)(inputs)\n",
    "    x = BatchNormalization()(x)\n",
    "    x = Activation('relu')(x)\n",
    "    x = MaxPooling2D(pool_size=2, strides=2)(x)\n",
    "\n",
    "    for i in range(int(depth/growth_rate)-1):\n",
    "        x = DenseBlock(x, filters=x.shape[-1], growth_rate=growth_rate)\n",
    "        x = TransitionLayer(x, reduction)\n",
    "\n",
    "    x = BatchNormalization()(x)\n",
    "    x = Activation('relu')(x)\n",
    "    x = GlobalAveragePooling2D()(x)\n",
    "    outputs = Dense(num_classes, activation='softmax')(x)\n",
    "\n",
    "    model = Model(inputs=inputs, outputs=outputs)\n",
    "\n",
    "    return model\n",
    "\n",
    "model = DenseNet(input_shape=(224, 224, 3), depth=40, growth_rate=12, reduction=0.5, num_classes=8)"
   ]
  },
  {
   "cell_type": "code",
   "execution_count": 11,
   "id": "b9886333-2358-4642-b536-5ca4c5986159",
   "metadata": {},
   "outputs": [],
   "source": [
    "model.compile(optimizer='adam',\n",
    "              loss='SparseCategoricalCrossentropy',\n",
    "              metrics=['accuracy'])"
   ]
  },
  {
   "cell_type": "code",
   "execution_count": 12,
   "id": "975c6f90-8f38-4567-a51a-9f43345ffe3f",
   "metadata": {},
   "outputs": [
    {
     "name": "stdout",
     "output_type": "stream",
     "text": [
      "Epoch 1/30\n"
     ]
    },
    {
     "name": "stderr",
     "output_type": "stream",
     "text": [
      "WARNING: All log messages before absl::InitializeLog() is called are written to STDERR\n",
      "I0000 00:00:1731125511.938460    3485 service.cc:148] XLA service 0x7ff164095fc0 initialized for platform CUDA (this does not guarantee that XLA will be used). Devices:\n",
      "I0000 00:00:1731125511.938516    3485 service.cc:156]   StreamExecutor device (0): NVIDIA GeForce RTX 3050 Ti Laptop GPU, Compute Capability 8.6\n",
      "2024-11-08 23:11:52.302245: I tensorflow/compiler/mlir/tensorflow/utils/dump_mlir_util.cc:268] disabling MLIR crash reproducer, set env var `MLIR_CRASH_REPRODUCER_DIRECTORY` to enable.\n",
      "I0000 00:00:1731125513.660392    3485 cuda_dnn.cc:529] Loaded cuDNN version 90300\n",
      "2024-11-08 23:12:22.929451: E external/local_xla/xla/service/slow_operation_alarm.cc:65] Trying algorithm eng46{k2=0,k5=2,k14=4} for conv (f32[32,36,112,112]{3,2,1,0}, u8[0]{0}) custom-call(f32[32,48,112,112]{3,2,1,0}, f32[36,48,1,1]{3,2,1,0}), window={size=1x1}, dim_labels=bf01_oi01->bf01, custom_call_target=\"__cudnn$convForward\", backend_config={\"cudnn_conv_backend_config\":{\"activation_mode\":\"kNone\",\"conv_result_scale\":1,\"leakyrelu_alpha\":0,\"side_input_scale\":0},\"force_earliest_schedule\":false,\"operation_queue_id\":\"0\",\"wait_on_operation_queues\":[]} is taking a while...\n",
      "2024-11-08 23:12:22.937993: E external/local_xla/xla/service/slow_operation_alarm.cc:133] The operation took 2.818385375s\n",
      "Trying algorithm eng46{k2=0,k5=2,k14=4} for conv (f32[32,36,112,112]{3,2,1,0}, u8[0]{0}) custom-call(f32[32,48,112,112]{3,2,1,0}, f32[36,48,1,1]{3,2,1,0}), window={size=1x1}, dim_labels=bf01_oi01->bf01, custom_call_target=\"__cudnn$convForward\", backend_config={\"cudnn_conv_backend_config\":{\"activation_mode\":\"kNone\",\"conv_result_scale\":1,\"leakyrelu_alpha\":0,\"side_input_scale\":0},\"force_earliest_schedule\":false,\"operation_queue_id\":\"0\",\"wait_on_operation_queues\":[]} is taking a while...\n",
      "2024-11-08 23:12:36.916448: W external/local_xla/xla/service/hlo_rematerialization.cc:3005] Can't reduce memory use below 3.02GiB (3241909563 bytes) by rematerialization; only reduced to 5.83GiB (6265253659 bytes), down from 7.77GiB (8338727368 bytes) originally\n",
      "I0000 00:00:1731125563.958288    3485 device_compiler.h:188] Compiled cluster using XLA!  This line is logged at most once for the lifetime of the process.\n",
      "2024-11-08 23:12:53.972679: W external/local_xla/xla/tsl/framework/bfc_allocator.cc:497] Allocator (GPU_0_bfc) ran out of memory trying to allocate 5.87GiB (rounded to 6301536000)requested by op \n",
      "2024-11-08 23:12:53.972888: I external/local_xla/xla/tsl/framework/bfc_allocator.cc:1053] BFCAllocator dump for GPU_0_bfc\n",
      "2024-11-08 23:12:53.972929: I external/local_xla/xla/tsl/framework/bfc_allocator.cc:1060] Bin (256): \tTotal Chunks: 184, Chunks in use: 184. 46.0KiB allocated for chunks. 46.0KiB in use in bin. 22.1KiB client-requested in use in bin.\n",
      "2024-11-08 23:12:53.972945: I external/local_xla/xla/tsl/framework/bfc_allocator.cc:1060] Bin (512): \tTotal Chunks: 91, Chunks in use: 90. 56.8KiB allocated for chunks. 56.0KiB in use in bin. 45.1KiB client-requested in use in bin.\n",
      "2024-11-08 23:12:53.972958: I external/local_xla/xla/tsl/framework/bfc_allocator.cc:1060] Bin (1024): \tTotal Chunks: 18, Chunks in use: 18. 18.5KiB allocated for chunks. 18.5KiB in use in bin. 14.9KiB client-requested in use in bin.\n",
      "2024-11-08 23:12:53.972970: I external/local_xla/xla/tsl/framework/bfc_allocator.cc:1060] Bin (2048): \tTotal Chunks: 4, Chunks in use: 4. 13.0KiB allocated for chunks. 13.0KiB in use in bin. 12.2KiB client-requested in use in bin.\n",
      "2024-11-08 23:12:53.972982: I external/local_xla/xla/tsl/framework/bfc_allocator.cc:1060] Bin (4096): \tTotal Chunks: 4, Chunks in use: 4. 22.8KiB allocated for chunks. 22.8KiB in use in bin. 22.5KiB client-requested in use in bin.\n",
      "2024-11-08 23:12:53.972997: I external/local_xla/xla/tsl/framework/bfc_allocator.cc:1060] Bin (8192): \tTotal Chunks: 10, Chunks in use: 10. 129.8KiB allocated for chunks. 129.8KiB in use in bin. 119.2KiB client-requested in use in bin.\n",
      "2024-11-08 23:12:53.973010: I external/local_xla/xla/tsl/framework/bfc_allocator.cc:1060] Bin (16384): \tTotal Chunks: 42, Chunks in use: 42. 990.2KiB allocated for chunks. 990.2KiB in use in bin. 931.5KiB client-requested in use in bin.\n",
      "2024-11-08 23:12:53.973022: I external/local_xla/xla/tsl/framework/bfc_allocator.cc:1060] Bin (32768): \tTotal Chunks: 12, Chunks in use: 12. 477.0KiB allocated for chunks. 477.0KiB in use in bin. 415.1KiB client-requested in use in bin.\n",
      "2024-11-08 23:12:53.973035: I external/local_xla/xla/tsl/framework/bfc_allocator.cc:1060] Bin (65536): \tTotal Chunks: 3, Chunks in use: 3. 280.0KiB allocated for chunks. 280.0KiB in use in bin. 258.2KiB client-requested in use in bin.\n",
      "2024-11-08 23:12:53.973050: I external/local_xla/xla/tsl/framework/bfc_allocator.cc:1060] Bin (131072): \tTotal Chunks: 0, Chunks in use: 0. 0B allocated for chunks. 0B in use in bin. 0B client-requested in use in bin.\n",
      "2024-11-08 23:12:53.973062: I external/local_xla/xla/tsl/framework/bfc_allocator.cc:1060] Bin (262144): \tTotal Chunks: 0, Chunks in use: 0. 0B allocated for chunks. 0B in use in bin. 0B client-requested in use in bin.\n",
      "2024-11-08 23:12:53.973072: I external/local_xla/xla/tsl/framework/bfc_allocator.cc:1060] Bin (524288): \tTotal Chunks: 0, Chunks in use: 0. 0B allocated for chunks. 0B in use in bin. 0B client-requested in use in bin.\n",
      "2024-11-08 23:12:53.973083: I external/local_xla/xla/tsl/framework/bfc_allocator.cc:1060] Bin (1048576): \tTotal Chunks: 0, Chunks in use: 0. 0B allocated for chunks. 0B in use in bin. 0B client-requested in use in bin.\n",
      "2024-11-08 23:12:53.973093: I external/local_xla/xla/tsl/framework/bfc_allocator.cc:1060] Bin (2097152): \tTotal Chunks: 0, Chunks in use: 0. 0B allocated for chunks. 0B in use in bin. 0B client-requested in use in bin.\n",
      "2024-11-08 23:12:53.973103: I external/local_xla/xla/tsl/framework/bfc_allocator.cc:1060] Bin (4194304): \tTotal Chunks: 0, Chunks in use: 0. 0B allocated for chunks. 0B in use in bin. 0B client-requested in use in bin.\n",
      "2024-11-08 23:12:53.973113: I external/local_xla/xla/tsl/framework/bfc_allocator.cc:1060] Bin (8388608): \tTotal Chunks: 0, Chunks in use: 0. 0B allocated for chunks. 0B in use in bin. 0B client-requested in use in bin.\n",
      "2024-11-08 23:12:53.973127: I external/local_xla/xla/tsl/framework/bfc_allocator.cc:1060] Bin (16777216): \tTotal Chunks: 1, Chunks in use: 1. 18.38MiB allocated for chunks. 18.38MiB in use in bin. 18.38MiB client-requested in use in bin.\n",
      "2024-11-08 23:12:53.973141: I external/local_xla/xla/tsl/framework/bfc_allocator.cc:1060] Bin (33554432): \tTotal Chunks: 0, Chunks in use: 0. 0B allocated for chunks. 0B in use in bin. 0B client-requested in use in bin.\n",
      "2024-11-08 23:12:53.973150: I external/local_xla/xla/tsl/framework/bfc_allocator.cc:1060] Bin (67108864): \tTotal Chunks: 0, Chunks in use: 0. 0B allocated for chunks. 0B in use in bin. 0B client-requested in use in bin.\n",
      "2024-11-08 23:12:53.973159: I external/local_xla/xla/tsl/framework/bfc_allocator.cc:1060] Bin (134217728): \tTotal Chunks: 0, Chunks in use: 0. 0B allocated for chunks. 0B in use in bin. 0B client-requested in use in bin.\n",
      "2024-11-08 23:12:53.973169: I external/local_xla/xla/tsl/framework/bfc_allocator.cc:1060] Bin (268435456): \tTotal Chunks: 1, Chunks in use: 0. 1.69GiB allocated for chunks. 0B in use in bin. 0B client-requested in use in bin.\n",
      "2024-11-08 23:12:53.973180: I external/local_xla/xla/tsl/framework/bfc_allocator.cc:1076] Bin for 5.87GiB was 256.00MiB, Chunk State: \n",
      "2024-11-08 23:12:53.973208: I external/local_xla/xla/tsl/framework/bfc_allocator.cc:1082]   Size: 1.69GiB | Requested Size: 16.10MiB | in_use: 0 | bin_num: 20, prev:   Size: 4.8KiB | Requested Size: 4.5KiB | in_use: 1 | bin_num: -1\n",
      "2024-11-08 23:12:53.973216: I external/local_xla/xla/tsl/framework/bfc_allocator.cc:1089] Next region of size 1841561600\n",
      "2024-11-08 23:12:53.973230: I external/local_xla/xla/tsl/framework/bfc_allocator.cc:1109] InUse at 504a00000 of size 1280 next 1\n",
      "2024-11-08 23:12:53.973239: I external/local_xla/xla/tsl/framework/bfc_allocator.cc:1109] InUse at 504a00500 of size 256 next 2\n",
      "2024-11-08 23:12:53.973247: I external/local_xla/xla/tsl/framework/bfc_allocator.cc:1109] InUse at 504a00600 of size 256 next 3\n",
      "2024-11-08 23:12:53.973255: I external/local_xla/xla/tsl/framework/bfc_allocator.cc:1109] InUse at 504a00700 of size 256 next 4\n",
      "2024-11-08 23:12:53.973262: I external/local_xla/xla/tsl/framework/bfc_allocator.cc:1109] InUse at 504a00800 of size 256 next 5\n",
      "2024-11-08 23:12:53.973270: I external/local_xla/xla/tsl/framework/bfc_allocator.cc:1109] InUse at 504a00900 of size 256 next 6\n",
      "2024-11-08 23:12:53.973278: I external/local_xla/xla/tsl/framework/bfc_allocator.cc:1109] InUse at 504a00a00 of size 256 next 7\n",
      "2024-11-08 23:12:53.973285: I external/local_xla/xla/tsl/framework/bfc_allocator.cc:1109] InUse at 504a00b00 of size 256 next 8\n",
      "2024-11-08 23:12:53.973292: I external/local_xla/xla/tsl/framework/bfc_allocator.cc:1109] InUse at 504a00c00 of size 256 next 9\n",
      "2024-11-08 23:12:53.973300: I external/local_xla/xla/tsl/framework/bfc_allocator.cc:1109] InUse at 504a00d00 of size 256 next 10\n",
      "2024-11-08 23:12:53.973308: I external/local_xla/xla/tsl/framework/bfc_allocator.cc:1109] InUse at 504a00e00 of size 256 next 11\n",
      "2024-11-08 23:12:53.973315: I external/local_xla/xla/tsl/framework/bfc_allocator.cc:1109] InUse at 504a00f00 of size 256 next 12\n",
      "2024-11-08 23:12:53.973323: I external/local_xla/xla/tsl/framework/bfc_allocator.cc:1109] InUse at 504a01000 of size 256 next 13\n",
      "2024-11-08 23:12:53.973330: I external/local_xla/xla/tsl/framework/bfc_allocator.cc:1109] InUse at 504a01100 of size 256 next 14\n",
      "2024-11-08 23:12:53.973338: I external/local_xla/xla/tsl/framework/bfc_allocator.cc:1109] InUse at 504a01200 of size 256 next 15\n",
      "2024-11-08 23:12:53.973345: I external/local_xla/xla/tsl/framework/bfc_allocator.cc:1109] InUse at 504a01300 of size 256 next 16\n",
      "2024-11-08 23:12:53.973353: I external/local_xla/xla/tsl/framework/bfc_allocator.cc:1109] InUse at 504a01400 of size 256 next 17\n",
      "2024-11-08 23:12:53.973360: I external/local_xla/xla/tsl/framework/bfc_allocator.cc:1109] InUse at 504a01500 of size 256 next 19\n",
      "2024-11-08 23:12:53.973368: I external/local_xla/xla/tsl/framework/bfc_allocator.cc:1109] InUse at 504a01600 of size 256 next 20\n",
      "2024-11-08 23:12:53.973375: I external/local_xla/xla/tsl/framework/bfc_allocator.cc:1109] InUse at 504a01700 of size 256 next 18\n",
      "2024-11-08 23:12:53.973383: I external/local_xla/xla/tsl/framework/bfc_allocator.cc:1109] InUse at 504a01800 of size 256 next 21\n",
      "2024-11-08 23:12:53.973391: I external/local_xla/xla/tsl/framework/bfc_allocator.cc:1109] InUse at 504a01900 of size 256 next 24\n",
      "2024-11-08 23:12:53.973398: I external/local_xla/xla/tsl/framework/bfc_allocator.cc:1109] InUse at 504a01a00 of size 256 next 25\n",
      "2024-11-08 23:12:53.973406: I external/local_xla/xla/tsl/framework/bfc_allocator.cc:1109] InUse at 504a01b00 of size 256 next 26\n",
      "2024-11-08 23:12:53.973414: I external/local_xla/xla/tsl/framework/bfc_allocator.cc:1109] InUse at 504a01c00 of size 256 next 27\n",
      "2024-11-08 23:12:53.973421: I external/local_xla/xla/tsl/framework/bfc_allocator.cc:1109] InUse at 504a01d00 of size 256 next 28\n",
      "2024-11-08 23:12:53.973429: I external/local_xla/xla/tsl/framework/bfc_allocator.cc:1109] InUse at 504a01e00 of size 256 next 29\n",
      "2024-11-08 23:12:53.973437: I external/local_xla/xla/tsl/framework/bfc_allocator.cc:1109] InUse at 504a01f00 of size 256 next 30\n",
      "2024-11-08 23:12:53.973445: I external/local_xla/xla/tsl/framework/bfc_allocator.cc:1109] InUse at 504a02000 of size 256 next 31\n",
      "2024-11-08 23:12:53.973452: I external/local_xla/xla/tsl/framework/bfc_allocator.cc:1109] InUse at 504a02100 of size 256 next 34\n",
      "2024-11-08 23:12:53.973459: I external/local_xla/xla/tsl/framework/bfc_allocator.cc:1109] InUse at 504a02200 of size 256 next 32\n",
      "2024-11-08 23:12:53.973466: I external/local_xla/xla/tsl/framework/bfc_allocator.cc:1109] InUse at 504a02300 of size 256 next 33\n",
      "2024-11-08 23:12:53.973474: I external/local_xla/xla/tsl/framework/bfc_allocator.cc:1109] InUse at 504a02400 of size 256 next 37\n",
      "2024-11-08 23:12:53.973481: I external/local_xla/xla/tsl/framework/bfc_allocator.cc:1109] InUse at 504a02500 of size 256 next 38\n",
      "2024-11-08 23:12:53.973489: I external/local_xla/xla/tsl/framework/bfc_allocator.cc:1109] InUse at 504a02600 of size 256 next 39\n",
      "2024-11-08 23:12:53.973496: I external/local_xla/xla/tsl/framework/bfc_allocator.cc:1109] InUse at 504a02700 of size 256 next 42\n",
      "2024-11-08 23:12:53.973503: I external/local_xla/xla/tsl/framework/bfc_allocator.cc:1109] InUse at 504a02800 of size 256 next 40\n",
      "2024-11-08 23:12:53.973511: I external/local_xla/xla/tsl/framework/bfc_allocator.cc:1109] InUse at 504a02900 of size 256 next 41\n",
      "2024-11-08 23:12:53.973520: I external/local_xla/xla/tsl/framework/bfc_allocator.cc:1109] InUse at 504a02a00 of size 256 next 45\n",
      "2024-11-08 23:12:53.973528: I external/local_xla/xla/tsl/framework/bfc_allocator.cc:1109] InUse at 504a02b00 of size 256 next 46\n",
      "2024-11-08 23:12:53.973535: I external/local_xla/xla/tsl/framework/bfc_allocator.cc:1109] InUse at 504a02c00 of size 256 next 47\n",
      "2024-11-08 23:12:53.973543: I external/local_xla/xla/tsl/framework/bfc_allocator.cc:1109] InUse at 504a02d00 of size 256 next 22\n",
      "2024-11-08 23:12:53.973551: I external/local_xla/xla/tsl/framework/bfc_allocator.cc:1109] InUse at 504a02e00 of size 2816 next 23\n",
      "2024-11-08 23:12:53.973559: I external/local_xla/xla/tsl/framework/bfc_allocator.cc:1109] InUse at 504a03900 of size 512 next 78\n",
      "2024-11-08 23:12:53.973567: I external/local_xla/xla/tsl/framework/bfc_allocator.cc:1109] InUse at 504a03b00 of size 256 next 83\n",
      "2024-11-08 23:12:53.973574: I external/local_xla/xla/tsl/framework/bfc_allocator.cc:1109] InUse at 504a03c00 of size 256 next 84\n",
      "2024-11-08 23:12:53.973582: I external/local_xla/xla/tsl/framework/bfc_allocator.cc:1109] InUse at 504a03d00 of size 256 next 85\n",
      "2024-11-08 23:12:53.973590: I external/local_xla/xla/tsl/framework/bfc_allocator.cc:1109] InUse at 504a03e00 of size 256 next 86\n",
      "2024-11-08 23:12:53.973598: I external/local_xla/xla/tsl/framework/bfc_allocator.cc:1109] InUse at 504a03f00 of size 256 next 87\n",
      "2024-11-08 23:12:53.973606: I external/local_xla/xla/tsl/framework/bfc_allocator.cc:1109] InUse at 504a04000 of size 256 next 89\n",
      "2024-11-08 23:12:53.973613: I external/local_xla/xla/tsl/framework/bfc_allocator.cc:1109] InUse at 504a04100 of size 512 next 91\n",
      "2024-11-08 23:12:53.973622: I external/local_xla/xla/tsl/framework/bfc_allocator.cc:1109] InUse at 504a04300 of size 512 next 92\n",
      "2024-11-08 23:12:53.973630: I external/local_xla/xla/tsl/framework/bfc_allocator.cc:1109] InUse at 504a04500 of size 512 next 90\n",
      "2024-11-08 23:12:53.973637: I external/local_xla/xla/tsl/framework/bfc_allocator.cc:1109] InUse at 504a04700 of size 512 next 94\n",
      "2024-11-08 23:12:53.973645: I external/local_xla/xla/tsl/framework/bfc_allocator.cc:1109] InUse at 504a04900 of size 256 next 95\n",
      "2024-11-08 23:12:53.973652: I external/local_xla/xla/tsl/framework/bfc_allocator.cc:1109] InUse at 504a04a00 of size 256 next 96\n",
      "2024-11-08 23:12:53.973659: I external/local_xla/xla/tsl/framework/bfc_allocator.cc:1109] InUse at 504a04b00 of size 256 next 97\n",
      "2024-11-08 23:12:53.973667: I external/local_xla/xla/tsl/framework/bfc_allocator.cc:1109] InUse at 504a04c00 of size 256 next 98\n",
      "2024-11-08 23:12:53.973674: I external/local_xla/xla/tsl/framework/bfc_allocator.cc:1109] InUse at 504a04d00 of size 256 next 99\n",
      "2024-11-08 23:12:53.973682: I external/local_xla/xla/tsl/framework/bfc_allocator.cc:1109] InUse at 504a04e00 of size 256 next 101\n",
      "2024-11-08 23:12:53.973689: I external/local_xla/xla/tsl/framework/bfc_allocator.cc:1109] InUse at 504a04f00 of size 512 next 103\n",
      "2024-11-08 23:12:53.973697: I external/local_xla/xla/tsl/framework/bfc_allocator.cc:1109] InUse at 504a05100 of size 512 next 104\n",
      "2024-11-08 23:12:53.973705: I external/local_xla/xla/tsl/framework/bfc_allocator.cc:1109] InUse at 504a05300 of size 512 next 102\n",
      "2024-11-08 23:12:53.973712: I external/local_xla/xla/tsl/framework/bfc_allocator.cc:1109] InUse at 504a05500 of size 512 next 106\n",
      "2024-11-08 23:12:53.973720: I external/local_xla/xla/tsl/framework/bfc_allocator.cc:1109] InUse at 504a05700 of size 256 next 107\n",
      "2024-11-08 23:12:53.973727: I external/local_xla/xla/tsl/framework/bfc_allocator.cc:1109] InUse at 504a05800 of size 256 next 108\n",
      "2024-11-08 23:12:53.973735: I external/local_xla/xla/tsl/framework/bfc_allocator.cc:1109] InUse at 504a05900 of size 256 next 109\n",
      "2024-11-08 23:12:53.973742: I external/local_xla/xla/tsl/framework/bfc_allocator.cc:1109] InUse at 504a05a00 of size 256 next 110\n",
      "2024-11-08 23:12:53.973749: I external/local_xla/xla/tsl/framework/bfc_allocator.cc:1109] InUse at 504a05b00 of size 256 next 111\n",
      "2024-11-08 23:12:53.973757: I external/local_xla/xla/tsl/framework/bfc_allocator.cc:1109] InUse at 504a05c00 of size 256 next 36\n",
      "2024-11-08 23:12:53.973764: I external/local_xla/xla/tsl/framework/bfc_allocator.cc:1109] InUse at 504a05d00 of size 4608 next 35\n",
      "2024-11-08 23:12:53.973772: I external/local_xla/xla/tsl/framework/bfc_allocator.cc:1109] InUse at 504a06f00 of size 256 next 48\n",
      "2024-11-08 23:12:53.973779: I external/local_xla/xla/tsl/framework/bfc_allocator.cc:1109] InUse at 504a07000 of size 256 next 49\n",
      "2024-11-08 23:12:53.973787: I external/local_xla/xla/tsl/framework/bfc_allocator.cc:1109] InUse at 504a07100 of size 256 next 53\n",
      "2024-11-08 23:12:53.973794: I external/local_xla/xla/tsl/framework/bfc_allocator.cc:1109] InUse at 504a07200 of size 256 next 54\n",
      "2024-11-08 23:12:53.973802: I external/local_xla/xla/tsl/framework/bfc_allocator.cc:1109] InUse at 504a07300 of size 256 next 52\n",
      "2024-11-08 23:12:53.973809: I external/local_xla/xla/tsl/framework/bfc_allocator.cc:1109] InUse at 504a07400 of size 256 next 57\n",
      "2024-11-08 23:12:53.973816: I external/local_xla/xla/tsl/framework/bfc_allocator.cc:1109] InUse at 504a07500 of size 256 next 58\n",
      "2024-11-08 23:12:53.973824: I external/local_xla/xla/tsl/framework/bfc_allocator.cc:1109] InUse at 504a07600 of size 256 next 59\n",
      "2024-11-08 23:12:53.973831: I external/local_xla/xla/tsl/framework/bfc_allocator.cc:1109] InUse at 504a07700 of size 256 next 60\n",
      "2024-11-08 23:12:53.973839: I external/local_xla/xla/tsl/framework/bfc_allocator.cc:1109] InUse at 504a07800 of size 256 next 61\n",
      "2024-11-08 23:12:53.973847: I external/local_xla/xla/tsl/framework/bfc_allocator.cc:1109] InUse at 504a07900 of size 256 next 62\n",
      "2024-11-08 23:12:53.973855: I external/local_xla/xla/tsl/framework/bfc_allocator.cc:1109] InUse at 504a07a00 of size 256 next 63\n",
      "2024-11-08 23:12:53.973863: I external/local_xla/xla/tsl/framework/bfc_allocator.cc:1109] InUse at 504a07b00 of size 256 next 66\n",
      "2024-11-08 23:12:53.973870: I external/local_xla/xla/tsl/framework/bfc_allocator.cc:1109] InUse at 504a07c00 of size 256 next 67\n",
      "2024-11-08 23:12:53.973877: I external/local_xla/xla/tsl/framework/bfc_allocator.cc:1109] InUse at 504a07d00 of size 256 next 65\n",
      "2024-11-08 23:12:53.973885: I external/local_xla/xla/tsl/framework/bfc_allocator.cc:1109] InUse at 504a07e00 of size 256 next 70\n",
      "2024-11-08 23:12:53.973893: I external/local_xla/xla/tsl/framework/bfc_allocator.cc:1109] InUse at 504a07f00 of size 256 next 71\n",
      "2024-11-08 23:12:53.973900: I external/local_xla/xla/tsl/framework/bfc_allocator.cc:1109] InUse at 504a08000 of size 256 next 72\n",
      "2024-11-08 23:12:53.973908: I external/local_xla/xla/tsl/framework/bfc_allocator.cc:1109] InUse at 504a08100 of size 256 next 73\n",
      "2024-11-08 23:12:53.973915: I external/local_xla/xla/tsl/framework/bfc_allocator.cc:1109] InUse at 504a08200 of size 256 next 74\n",
      "2024-11-08 23:12:53.973923: I external/local_xla/xla/tsl/framework/bfc_allocator.cc:1109] InUse at 504a08300 of size 256 next 75\n",
      "2024-11-08 23:12:53.973930: I external/local_xla/xla/tsl/framework/bfc_allocator.cc:1109] InUse at 504a08400 of size 256 next 76\n",
      "2024-11-08 23:12:53.973938: I external/local_xla/xla/tsl/framework/bfc_allocator.cc:1109] InUse at 504a08500 of size 512 next 79\n",
      "2024-11-08 23:12:53.973945: I external/local_xla/xla/tsl/framework/bfc_allocator.cc:1109] InUse at 504a08700 of size 512 next 80\n",
      "2024-11-08 23:12:53.973953: I external/local_xla/xla/tsl/framework/bfc_allocator.cc:1109] InUse at 504a08900 of size 512 next 50\n",
      "2024-11-08 23:12:53.973960: I external/local_xla/xla/tsl/framework/bfc_allocator.cc:1109] InUse at 504a08b00 of size 6912 next 51\n",
      "2024-11-08 23:12:53.973970: I external/local_xla/xla/tsl/framework/bfc_allocator.cc:1109] InUse at 504a0a600 of size 768 next 140\n",
      "2024-11-08 23:12:53.973977: I external/local_xla/xla/tsl/framework/bfc_allocator.cc:1109] InUse at 504a0a900 of size 768 next 138\n",
      "2024-11-08 23:12:53.973985: I external/local_xla/xla/tsl/framework/bfc_allocator.cc:1109] InUse at 504a0ac00 of size 256 next 142\n",
      "2024-11-08 23:12:53.973992: I external/local_xla/xla/tsl/framework/bfc_allocator.cc:1109] InUse at 504a0ad00 of size 256 next 143\n",
      "2024-11-08 23:12:53.974000: I external/local_xla/xla/tsl/framework/bfc_allocator.cc:1109] InUse at 504a0ae00 of size 256 next 144\n",
      "2024-11-08 23:12:53.974007: I external/local_xla/xla/tsl/framework/bfc_allocator.cc:1109] InUse at 504a0af00 of size 256 next 145\n",
      "2024-11-08 23:12:53.974017: I external/local_xla/xla/tsl/framework/bfc_allocator.cc:1109] InUse at 504a0b000 of size 256 next 146\n",
      "2024-11-08 23:12:53.974023: I external/local_xla/xla/tsl/framework/bfc_allocator.cc:1109] InUse at 504a0b100 of size 256 next 149\n",
      "2024-11-08 23:12:53.974030: I external/local_xla/xla/tsl/framework/bfc_allocator.cc:1109] InUse at 504a0b200 of size 768 next 151\n",
      "2024-11-08 23:12:53.974036: I external/local_xla/xla/tsl/framework/bfc_allocator.cc:1109] InUse at 504a0b500 of size 768 next 152\n",
      "2024-11-08 23:12:53.974043: I external/local_xla/xla/tsl/framework/bfc_allocator.cc:1109] InUse at 504a0b800 of size 768 next 150\n",
      "2024-11-08 23:12:53.974049: I external/local_xla/xla/tsl/framework/bfc_allocator.cc:1109] InUse at 504a0bb00 of size 768 next 153\n",
      "2024-11-08 23:12:53.974055: I external/local_xla/xla/tsl/framework/bfc_allocator.cc:1109] InUse at 504a0be00 of size 256 next 154\n",
      "2024-11-08 23:12:53.974062: I external/local_xla/xla/tsl/framework/bfc_allocator.cc:1109] InUse at 504a0bf00 of size 256 next 155\n",
      "2024-11-08 23:12:53.974069: I external/local_xla/xla/tsl/framework/bfc_allocator.cc:1109] InUse at 504a0c000 of size 256 next 156\n",
      "2024-11-08 23:12:53.974075: I external/local_xla/xla/tsl/framework/bfc_allocator.cc:1109] InUse at 504a0c100 of size 256 next 159\n",
      "2024-11-08 23:12:53.974083: I external/local_xla/xla/tsl/framework/bfc_allocator.cc:1109] InUse at 504a0c200 of size 256 next 157\n",
      "2024-11-08 23:12:53.974089: I external/local_xla/xla/tsl/framework/bfc_allocator.cc:1109] InUse at 504a0c300 of size 256 next 158\n",
      "2024-11-08 23:12:53.974096: I external/local_xla/xla/tsl/framework/bfc_allocator.cc:1109] InUse at 504a0c400 of size 768 next 163\n",
      "2024-11-08 23:12:53.974102: I external/local_xla/xla/tsl/framework/bfc_allocator.cc:1109] InUse at 504a0c700 of size 768 next 164\n",
      "2024-11-08 23:12:53.974109: I external/local_xla/xla/tsl/framework/bfc_allocator.cc:1109] InUse at 504a0ca00 of size 768 next 162\n",
      "2024-11-08 23:12:53.974116: I external/local_xla/xla/tsl/framework/bfc_allocator.cc:1109] InUse at 504a0cd00 of size 768 next 165\n",
      "2024-11-08 23:12:53.974122: I external/local_xla/xla/tsl/framework/bfc_allocator.cc:1109] InUse at 504a0d000 of size 256 next 166\n",
      "2024-11-08 23:12:53.974129: I external/local_xla/xla/tsl/framework/bfc_allocator.cc:1109] InUse at 504a0d100 of size 256 next 167\n",
      "2024-11-08 23:12:53.974135: I external/local_xla/xla/tsl/framework/bfc_allocator.cc:1109] InUse at 504a0d200 of size 256 next 77\n",
      "2024-11-08 23:12:53.974143: I external/local_xla/xla/tsl/framework/bfc_allocator.cc:1109] InUse at 504a0d300 of size 15872 next 44\n",
      "2024-11-08 23:12:53.974155: I external/local_xla/xla/tsl/framework/bfc_allocator.cc:1109] InUse at 504a11100 of size 20736 next 43\n",
      "2024-11-08 23:12:53.974162: I external/local_xla/xla/tsl/framework/bfc_allocator.cc:1109] InUse at 504a16200 of size 512 next 114\n",
      "2024-11-08 23:12:53.974169: I external/local_xla/xla/tsl/framework/bfc_allocator.cc:1109] InUse at 504a16400 of size 512 next 115\n",
      "2024-11-08 23:12:53.974176: I external/local_xla/xla/tsl/framework/bfc_allocator.cc:1109] InUse at 504a16600 of size 512 next 113\n",
      "2024-11-08 23:12:53.974182: I external/local_xla/xla/tsl/framework/bfc_allocator.cc:1109] InUse at 504a16800 of size 512 next 117\n",
      "2024-11-08 23:12:53.974189: I external/local_xla/xla/tsl/framework/bfc_allocator.cc:1109] InUse at 504a16a00 of size 256 next 118\n",
      "2024-11-08 23:12:53.974196: I external/local_xla/xla/tsl/framework/bfc_allocator.cc:1109] InUse at 504a16b00 of size 256 next 119\n",
      "2024-11-08 23:12:53.974202: I external/local_xla/xla/tsl/framework/bfc_allocator.cc:1109] InUse at 504a16c00 of size 256 next 120\n",
      "2024-11-08 23:12:53.974209: I external/local_xla/xla/tsl/framework/bfc_allocator.cc:1109] InUse at 504a16d00 of size 256 next 121\n",
      "2024-11-08 23:12:53.974215: I external/local_xla/xla/tsl/framework/bfc_allocator.cc:1109] InUse at 504a16e00 of size 256 next 122\n",
      "2024-11-08 23:12:53.974222: I external/local_xla/xla/tsl/framework/bfc_allocator.cc:1109] InUse at 504a16f00 of size 256 next 124\n",
      "2024-11-08 23:12:53.974228: I external/local_xla/xla/tsl/framework/bfc_allocator.cc:1109] InUse at 504a17000 of size 512 next 126\n",
      "2024-11-08 23:12:53.974235: I external/local_xla/xla/tsl/framework/bfc_allocator.cc:1109] InUse at 504a17200 of size 512 next 127\n",
      "2024-11-08 23:12:53.974241: I external/local_xla/xla/tsl/framework/bfc_allocator.cc:1109] InUse at 504a17400 of size 512 next 125\n",
      "2024-11-08 23:12:53.974248: I external/local_xla/xla/tsl/framework/bfc_allocator.cc:1109] InUse at 504a17600 of size 512 next 129\n",
      "2024-11-08 23:12:53.974255: I external/local_xla/xla/tsl/framework/bfc_allocator.cc:1109] InUse at 504a17800 of size 256 next 130\n",
      "2024-11-08 23:12:53.974261: I external/local_xla/xla/tsl/framework/bfc_allocator.cc:1109] InUse at 504a17900 of size 256 next 131\n",
      "2024-11-08 23:12:53.974268: I external/local_xla/xla/tsl/framework/bfc_allocator.cc:1109] InUse at 504a17a00 of size 256 next 132\n",
      "2024-11-08 23:12:53.974274: I external/local_xla/xla/tsl/framework/bfc_allocator.cc:1109] InUse at 504a17b00 of size 256 next 135\n",
      "2024-11-08 23:12:53.974281: I external/local_xla/xla/tsl/framework/bfc_allocator.cc:1109] InUse at 504a17c00 of size 256 next 133\n",
      "2024-11-08 23:12:53.974288: I external/local_xla/xla/tsl/framework/bfc_allocator.cc:1109] InUse at 504a17d00 of size 256 next 134\n",
      "2024-11-08 23:12:53.974296: I external/local_xla/xla/tsl/framework/bfc_allocator.cc:1109] InUse at 504a17e00 of size 768 next 139\n",
      "2024-11-08 23:12:53.974302: I external/local_xla/xla/tsl/framework/bfc_allocator.cc:1109] InUse at 504a18100 of size 1280 next 64\n",
      "2024-11-08 23:12:53.974309: I external/local_xla/xla/tsl/framework/bfc_allocator.cc:1109] InUse at 504a18600 of size 11520 next 56\n",
      "2024-11-08 23:12:53.974316: I external/local_xla/xla/tsl/framework/bfc_allocator.cc:1109] InUse at 504a1b300 of size 20736 next 55\n",
      "2024-11-08 23:12:53.974323: I external/local_xla/xla/tsl/framework/bfc_allocator.cc:1109] InUse at 504a20400 of size 256 next 168\n",
      "2024-11-08 23:12:53.974329: I external/local_xla/xla/tsl/framework/bfc_allocator.cc:1109] InUse at 504a20500 of size 256 next 169\n",
      "2024-11-08 23:12:53.974336: I external/local_xla/xla/tsl/framework/bfc_allocator.cc:1109] InUse at 504a20600 of size 256 next 172\n",
      "2024-11-08 23:12:53.974343: I external/local_xla/xla/tsl/framework/bfc_allocator.cc:1109] InUse at 504a20700 of size 768 next 174\n",
      "2024-11-08 23:12:53.974349: I external/local_xla/xla/tsl/framework/bfc_allocator.cc:1109] InUse at 504a20a00 of size 768 next 175\n",
      "2024-11-08 23:12:53.974356: I external/local_xla/xla/tsl/framework/bfc_allocator.cc:1109] InUse at 504a20d00 of size 768 next 173\n",
      "2024-11-08 23:12:53.974365: I external/local_xla/xla/tsl/framework/bfc_allocator.cc:1109] InUse at 504a21000 of size 768 next 177\n",
      "2024-11-08 23:12:53.974372: I external/local_xla/xla/tsl/framework/bfc_allocator.cc:1109] InUse at 504a21300 of size 256 next 178\n",
      "2024-11-08 23:12:53.974378: I external/local_xla/xla/tsl/framework/bfc_allocator.cc:1109] InUse at 504a21400 of size 256 next 179\n",
      "2024-11-08 23:12:53.974385: I external/local_xla/xla/tsl/framework/bfc_allocator.cc:1109] InUse at 504a21500 of size 512 next 180\n",
      "2024-11-08 23:12:53.974392: I external/local_xla/xla/tsl/framework/bfc_allocator.cc:1109] InUse at 504a21700 of size 512 next 183\n",
      "2024-11-08 23:12:53.974398: I external/local_xla/xla/tsl/framework/bfc_allocator.cc:1109] InUse at 504a21900 of size 512 next 181\n",
      "2024-11-08 23:12:53.974405: I external/local_xla/xla/tsl/framework/bfc_allocator.cc:1109] InUse at 504a21b00 of size 512 next 182\n",
      "2024-11-08 23:12:53.974412: I external/local_xla/xla/tsl/framework/bfc_allocator.cc:1109] InUse at 504a21d00 of size 256 next 187\n",
      "2024-11-08 23:12:53.974418: I external/local_xla/xla/tsl/framework/bfc_allocator.cc:1109] InUse at 504a21e00 of size 256 next 188\n",
      "2024-11-08 23:12:53.974425: I external/local_xla/xla/tsl/framework/bfc_allocator.cc:1109] InUse at 504a21f00 of size 256 next 186\n",
      "2024-11-08 23:12:53.974432: I external/local_xla/xla/tsl/framework/bfc_allocator.cc:1109] InUse at 504a22000 of size 256 next 190\n",
      "2024-11-08 23:12:53.974439: I external/local_xla/xla/tsl/framework/bfc_allocator.cc:1109] InUse at 504a22100 of size 512 next 192\n",
      "2024-11-08 23:12:53.974445: I external/local_xla/xla/tsl/framework/bfc_allocator.cc:1109] InUse at 504a22300 of size 512 next 193\n",
      "2024-11-08 23:12:53.974452: I external/local_xla/xla/tsl/framework/bfc_allocator.cc:1109] InUse at 504a22500 of size 512 next 191\n",
      "2024-11-08 23:12:53.974459: I external/local_xla/xla/tsl/framework/bfc_allocator.cc:1109] InUse at 504a22700 of size 512 next 195\n",
      "2024-11-08 23:12:53.974465: I external/local_xla/xla/tsl/framework/bfc_allocator.cc:1109] InUse at 504a22900 of size 256 next 197\n",
      "2024-11-08 23:12:53.974472: I external/local_xla/xla/tsl/framework/bfc_allocator.cc:1109] InUse at 504a22a00 of size 256 next 198\n",
      "2024-11-08 23:12:53.974478: I external/local_xla/xla/tsl/framework/bfc_allocator.cc:1109] InUse at 504a22b00 of size 256 next 196\n",
      "2024-11-08 23:12:53.974485: I external/local_xla/xla/tsl/framework/bfc_allocator.cc:1109] InUse at 504a22c00 of size 256 next 199\n",
      "2024-11-08 23:12:53.974492: I external/local_xla/xla/tsl/framework/bfc_allocator.cc:1109] InUse at 504a22d00 of size 512 next 201\n",
      "2024-11-08 23:12:53.974499: I external/local_xla/xla/tsl/framework/bfc_allocator.cc:1109] InUse at 504a22f00 of size 512 next 202\n",
      "2024-11-08 23:12:53.974506: I external/local_xla/xla/tsl/framework/bfc_allocator.cc:1109] InUse at 504a23100 of size 512 next 200\n",
      "2024-11-08 23:12:53.974512: I external/local_xla/xla/tsl/framework/bfc_allocator.cc:1109] InUse at 504a23300 of size 512 next 205\n",
      "2024-11-08 23:12:53.974519: I external/local_xla/xla/tsl/framework/bfc_allocator.cc:1109] InUse at 504a23500 of size 256 next 207\n",
      "2024-11-08 23:12:53.974525: I external/local_xla/xla/tsl/framework/bfc_allocator.cc:1109] InUse at 504a23600 of size 256 next 208\n",
      "2024-11-08 23:12:53.974532: I external/local_xla/xla/tsl/framework/bfc_allocator.cc:1109] InUse at 504a23700 of size 256 next 206\n",
      "2024-11-08 23:12:53.974538: I external/local_xla/xla/tsl/framework/bfc_allocator.cc:1109] InUse at 504a23800 of size 256 next 210\n",
      "2024-11-08 23:12:53.974545: I external/local_xla/xla/tsl/framework/bfc_allocator.cc:1109] InUse at 504a23900 of size 512 next 212\n",
      "2024-11-08 23:12:53.974554: I external/local_xla/xla/tsl/framework/bfc_allocator.cc:1109] InUse at 504a23b00 of size 512 next 213\n",
      "2024-11-08 23:12:53.974560: I external/local_xla/xla/tsl/framework/bfc_allocator.cc:1109] InUse at 504a23d00 of size 512 next 211\n",
      "2024-11-08 23:12:53.974567: I external/local_xla/xla/tsl/framework/bfc_allocator.cc:1109] InUse at 504a23f00 of size 512 next 214\n",
      "2024-11-08 23:12:53.974573: I external/local_xla/xla/tsl/framework/bfc_allocator.cc:1109] InUse at 504a24100 of size 256 next 216\n",
      "2024-11-08 23:12:53.974580: I external/local_xla/xla/tsl/framework/bfc_allocator.cc:1109] InUse at 504a24200 of size 256 next 217\n",
      "2024-11-08 23:12:53.974586: I external/local_xla/xla/tsl/framework/bfc_allocator.cc:1109] InUse at 504a24300 of size 256 next 218\n",
      "2024-11-08 23:12:53.974593: I external/local_xla/xla/tsl/framework/bfc_allocator.cc:1109] InUse at 504a24400 of size 256 next 215\n",
      "2024-11-08 23:12:53.974600: I external/local_xla/xla/tsl/framework/bfc_allocator.cc:1109] InUse at 504a24500 of size 768 next 222\n",
      "2024-11-08 23:12:53.974606: I external/local_xla/xla/tsl/framework/bfc_allocator.cc:1109] InUse at 504a24800 of size 768 next 223\n",
      "2024-11-08 23:12:53.974613: I external/local_xla/xla/tsl/framework/bfc_allocator.cc:1109] InUse at 504a24b00 of size 768 next 221\n",
      "2024-11-08 23:12:53.974619: I external/local_xla/xla/tsl/framework/bfc_allocator.cc:1109] InUse at 504a24e00 of size 768 next 225\n",
      "2024-11-08 23:12:53.974626: I external/local_xla/xla/tsl/framework/bfc_allocator.cc:1109] InUse at 504a25100 of size 256 next 227\n",
      "2024-11-08 23:12:53.974632: I external/local_xla/xla/tsl/framework/bfc_allocator.cc:1109] InUse at 504a25200 of size 256 next 228\n",
      "2024-11-08 23:12:53.974639: I external/local_xla/xla/tsl/framework/bfc_allocator.cc:1109] InUse at 504a25300 of size 256 next 226\n",
      "2024-11-08 23:12:53.974646: I external/local_xla/xla/tsl/framework/bfc_allocator.cc:1109] InUse at 504a25400 of size 256 next 69\n",
      "2024-11-08 23:12:53.974653: I external/local_xla/xla/tsl/framework/bfc_allocator.cc:1109] InUse at 504a25500 of size 20736 next 68\n",
      "2024-11-08 23:12:53.974661: I external/local_xla/xla/tsl/framework/bfc_allocator.cc:1109] InUse at 504a2a600 of size 768 next 276\n",
      "2024-11-08 23:12:53.974668: I external/local_xla/xla/tsl/framework/bfc_allocator.cc:1109] InUse at 504a2a900 of size 768 next 277\n",
      "2024-11-08 23:12:53.974674: I external/local_xla/xla/tsl/framework/bfc_allocator.cc:1109] InUse at 504a2ac00 of size 768 next 275\n",
      "2024-11-08 23:12:53.974681: I external/local_xla/xla/tsl/framework/bfc_allocator.cc:1109] InUse at 504a2af00 of size 256 next 278\n",
      "2024-11-08 23:12:53.974690: I external/local_xla/xla/tsl/framework/bfc_allocator.cc:1109] InUse at 504a2b000 of size 256 next 279\n",
      "2024-11-08 23:12:53.974696: I external/local_xla/xla/tsl/framework/bfc_allocator.cc:1109] InUse at 504a2b100 of size 256 next 280\n",
      "2024-11-08 23:12:53.974702: I external/local_xla/xla/tsl/framework/bfc_allocator.cc:1109] InUse at 504a2b200 of size 256 next 281\n",
      "2024-11-08 23:12:53.974709: I external/local_xla/xla/tsl/framework/bfc_allocator.cc:1109] InUse at 504a2b300 of size 256 next 282\n",
      "2024-11-08 23:12:53.974716: I external/local_xla/xla/tsl/framework/bfc_allocator.cc:1109] InUse at 504a2b400 of size 256 next 285\n",
      "2024-11-08 23:12:53.974724: I external/local_xla/xla/tsl/framework/bfc_allocator.cc:1109] InUse at 504a2b500 of size 1024 next 287\n",
      "2024-11-08 23:12:53.974731: I external/local_xla/xla/tsl/framework/bfc_allocator.cc:1109] InUse at 504a2b900 of size 1024 next 288\n",
      "2024-11-08 23:12:53.974738: I external/local_xla/xla/tsl/framework/bfc_allocator.cc:1109] InUse at 504a2bd00 of size 1024 next 286\n",
      "2024-11-08 23:12:53.974744: I external/local_xla/xla/tsl/framework/bfc_allocator.cc:1109] InUse at 504a2c100 of size 1024 next 290\n",
      "2024-11-08 23:12:53.974751: I external/local_xla/xla/tsl/framework/bfc_allocator.cc:1109] InUse at 504a2c500 of size 256 next 292\n",
      "2024-11-08 23:12:53.974758: I external/local_xla/xla/tsl/framework/bfc_allocator.cc:1109] InUse at 504a2c600 of size 256 next 293\n",
      "2024-11-08 23:12:53.974764: I external/local_xla/xla/tsl/framework/bfc_allocator.cc:1109] InUse at 504a2c700 of size 256 next 294\n",
      "2024-11-08 23:12:53.974771: I external/local_xla/xla/tsl/framework/bfc_allocator.cc:1109] InUse at 504a2c800 of size 256 next 291\n",
      "2024-11-08 23:12:53.974778: I external/local_xla/xla/tsl/framework/bfc_allocator.cc:1109] InUse at 504a2c900 of size 1024 next 298\n",
      "2024-11-08 23:12:53.974784: I external/local_xla/xla/tsl/framework/bfc_allocator.cc:1109] InUse at 504a2cd00 of size 1024 next 299\n",
      "2024-11-08 23:12:53.974791: I external/local_xla/xla/tsl/framework/bfc_allocator.cc:1109] InUse at 504a2d100 of size 1024 next 297\n",
      "2024-11-08 23:12:53.974798: I external/local_xla/xla/tsl/framework/bfc_allocator.cc:1109] InUse at 504a2d500 of size 1024 next 300\n",
      "2024-11-08 23:12:53.974804: I external/local_xla/xla/tsl/framework/bfc_allocator.cc:1109] InUse at 504a2d900 of size 256 next 301\n",
      "2024-11-08 23:12:53.974811: I external/local_xla/xla/tsl/framework/bfc_allocator.cc:1109] InUse at 504a2da00 of size 256 next 302\n",
      "2024-11-08 23:12:53.974818: I external/local_xla/xla/tsl/framework/bfc_allocator.cc:1109] InUse at 504a2db00 of size 256 next 303\n",
      "2024-11-08 23:12:53.974824: I external/local_xla/xla/tsl/framework/bfc_allocator.cc:1109] InUse at 504a2dc00 of size 256 next 304\n",
      "2024-11-08 23:12:53.974831: I external/local_xla/xla/tsl/framework/bfc_allocator.cc:1109] InUse at 504a2dd00 of size 256 next 305\n",
      "2024-11-08 23:12:53.974838: I external/local_xla/xla/tsl/framework/bfc_allocator.cc:1109] InUse at 504a2de00 of size 256 next 308\n",
      "2024-11-08 23:12:53.974845: I external/local_xla/xla/tsl/framework/bfc_allocator.cc:1109] InUse at 504a2df00 of size 1024 next 310\n",
      "2024-11-08 23:12:53.974851: I external/local_xla/xla/tsl/framework/bfc_allocator.cc:1109] InUse at 504a2e300 of size 1024 next 311\n",
      "2024-11-08 23:12:53.974859: I external/local_xla/xla/tsl/framework/bfc_allocator.cc:1109] InUse at 504a2e700 of size 1024 next 309\n",
      "2024-11-08 23:12:53.974865: I external/local_xla/xla/tsl/framework/bfc_allocator.cc:1109] InUse at 504a2eb00 of size 1024 next 313\n",
      "2024-11-08 23:12:53.974872: I external/local_xla/xla/tsl/framework/bfc_allocator.cc:1109] InUse at 504a2ef00 of size 256 next 314\n",
      "2024-11-08 23:12:53.974879: I external/local_xla/xla/tsl/framework/bfc_allocator.cc:1109] InUse at 504a2f000 of size 256 next 315\n",
      "2024-11-08 23:12:53.974885: I external/local_xla/xla/tsl/framework/bfc_allocator.cc:1109] InUse at 504a2f100 of size 512 next 316\n",
      "2024-11-08 23:12:53.974891: I external/local_xla/xla/tsl/framework/bfc_allocator.cc:1109] InUse at 504a2f300 of size 512 next 319\n",
      "2024-11-08 23:12:53.974897: I external/local_xla/xla/tsl/framework/bfc_allocator.cc:1109] InUse at 504a2f500 of size 512 next 82\n",
      "2024-11-08 23:12:53.974904: I external/local_xla/xla/tsl/framework/bfc_allocator.cc:1109] InUse at 504a2f700 of size 20736 next 81\n",
      "2024-11-08 23:12:53.974911: I external/local_xla/xla/tsl/framework/bfc_allocator.cc:1109] InUse at 504a34800 of size 13824 next 88\n",
      "2024-11-08 23:12:53.974918: I external/local_xla/xla/tsl/framework/bfc_allocator.cc:1109] InUse at 504a37e00 of size 20736 next 93\n",
      "2024-11-08 23:12:53.974926: I external/local_xla/xla/tsl/framework/bfc_allocator.cc:1109] InUse at 504a3cf00 of size 16128 next 100\n",
      "2024-11-08 23:12:53.974932: I external/local_xla/xla/tsl/framework/bfc_allocator.cc:1109] InUse at 504a40e00 of size 20736 next 105\n",
      "2024-11-08 23:12:53.974940: I external/local_xla/xla/tsl/framework/bfc_allocator.cc:1109] InUse at 504a45f00 of size 18432 next 112\n",
      "2024-11-08 23:12:53.974947: I external/local_xla/xla/tsl/framework/bfc_allocator.cc:1109] InUse at 504a4a700 of size 20736 next 116\n",
      "2024-11-08 23:12:53.974954: I external/local_xla/xla/tsl/framework/bfc_allocator.cc:1109] InUse at 504a4f800 of size 20736 next 123\n",
      "2024-11-08 23:12:53.974960: I external/local_xla/xla/tsl/framework/bfc_allocator.cc:1109] InUse at 504a54900 of size 20736 next 128\n",
      "2024-11-08 23:12:53.974966: I external/local_xla/xla/tsl/framework/bfc_allocator.cc:1109] InUse at 504a59a00 of size 20736 next 141\n",
      "2024-11-08 23:12:53.974974: I external/local_xla/xla/tsl/framework/bfc_allocator.cc:1109] InUse at 504a5eb00 of size 25344 next 137\n",
      "2024-11-08 23:12:53.974981: I external/local_xla/xla/tsl/framework/bfc_allocator.cc:1109] InUse at 504a64e00 of size 23040 next 136\n",
      "2024-11-08 23:12:53.974992: I external/local_xla/xla/tsl/framework/bfc_allocator.cc:1109] InUse at 504a6a800 of size 25344 next 148\n",
      "2024-11-08 23:12:53.974999: I external/local_xla/xla/tsl/framework/bfc_allocator.cc:1109] InUse at 504a70b00 of size 25344 next 147\n",
      "2024-11-08 23:12:53.975006: I external/local_xla/xla/tsl/framework/bfc_allocator.cc:1109] InUse at 504a76e00 of size 20736 next 176\n",
      "2024-11-08 23:12:53.975012: I external/local_xla/xla/tsl/framework/bfc_allocator.cc:1109] InUse at 504a7bf00 of size 16128 next 189\n",
      "2024-11-08 23:12:53.975019: I external/local_xla/xla/tsl/framework/bfc_allocator.cc:1109] InUse at 504a7fe00 of size 768 next 232\n",
      "2024-11-08 23:12:53.975026: I external/local_xla/xla/tsl/framework/bfc_allocator.cc:1109] InUse at 504a80100 of size 768 next 233\n",
      "2024-11-08 23:12:53.975032: I external/local_xla/xla/tsl/framework/bfc_allocator.cc:1109] InUse at 504a80400 of size 768 next 231\n",
      "2024-11-08 23:12:53.975039: I external/local_xla/xla/tsl/framework/bfc_allocator.cc:1109] InUse at 504a80700 of size 768 next 234\n",
      "2024-11-08 23:12:53.975051: I external/local_xla/xla/tsl/framework/bfc_allocator.cc:1109] InUse at 504a80a00 of size 256 next 236\n",
      "2024-11-08 23:12:53.975057: I external/local_xla/xla/tsl/framework/bfc_allocator.cc:1109] InUse at 504a80b00 of size 256 next 237\n",
      "2024-11-08 23:12:53.975063: I external/local_xla/xla/tsl/framework/bfc_allocator.cc:1109] InUse at 504a80c00 of size 256 next 238\n",
      "2024-11-08 23:12:53.975069: I external/local_xla/xla/tsl/framework/bfc_allocator.cc:1109] InUse at 504a80d00 of size 256 next 235\n",
      "2024-11-08 23:12:53.975075: I external/local_xla/xla/tsl/framework/bfc_allocator.cc:1109] InUse at 504a80e00 of size 768 next 242\n",
      "2024-11-08 23:12:53.975081: I external/local_xla/xla/tsl/framework/bfc_allocator.cc:1109] InUse at 504a81100 of size 768 next 243\n",
      "2024-11-08 23:12:53.975087: I external/local_xla/xla/tsl/framework/bfc_allocator.cc:1109] InUse at 504a81400 of size 768 next 241\n",
      "2024-11-08 23:12:53.975093: I external/local_xla/xla/tsl/framework/bfc_allocator.cc:1109] InUse at 504a81700 of size 768 next 244\n",
      "2024-11-08 23:12:53.975099: I external/local_xla/xla/tsl/framework/bfc_allocator.cc:1109] InUse at 504a81a00 of size 256 next 246\n",
      "2024-11-08 23:12:53.975105: I external/local_xla/xla/tsl/framework/bfc_allocator.cc:1109] InUse at 504a81b00 of size 256 next 247\n",
      "2024-11-08 23:12:53.975110: I external/local_xla/xla/tsl/framework/bfc_allocator.cc:1109] InUse at 504a81c00 of size 256 next 245\n",
      "2024-11-08 23:12:53.975117: I external/local_xla/xla/tsl/framework/bfc_allocator.cc:1109] InUse at 504a81d00 of size 256 next 250\n",
      "2024-11-08 23:12:53.975122: I external/local_xla/xla/tsl/framework/bfc_allocator.cc:1109] InUse at 504a81e00 of size 768 next 252\n",
      "2024-11-08 23:12:53.975128: I external/local_xla/xla/tsl/framework/bfc_allocator.cc:1109] InUse at 504a82100 of size 768 next 253\n",
      "2024-11-08 23:12:53.975135: I external/local_xla/xla/tsl/framework/bfc_allocator.cc:1109] InUse at 504a82400 of size 768 next 251\n",
      "2024-11-08 23:12:53.975141: I external/local_xla/xla/tsl/framework/bfc_allocator.cc:1109] InUse at 504a82700 of size 768 next 254\n",
      "2024-11-08 23:12:53.975147: I external/local_xla/xla/tsl/framework/bfc_allocator.cc:1109] InUse at 504a82a00 of size 256 next 255\n",
      "2024-11-08 23:12:53.975152: I external/local_xla/xla/tsl/framework/bfc_allocator.cc:1109] InUse at 504a82b00 of size 256 next 256\n",
      "2024-11-08 23:12:53.975158: I external/local_xla/xla/tsl/framework/bfc_allocator.cc:1109] InUse at 504a82c00 of size 256 next 257\n",
      "2024-11-08 23:12:53.975166: I external/local_xla/xla/tsl/framework/bfc_allocator.cc:1109] InUse at 504a82d00 of size 256 next 258\n",
      "2024-11-08 23:12:53.975172: I external/local_xla/xla/tsl/framework/bfc_allocator.cc:1109] InUse at 504a82e00 of size 256 next 259\n",
      "2024-11-08 23:12:53.975177: I external/local_xla/xla/tsl/framework/bfc_allocator.cc:1109] InUse at 504a82f00 of size 256 next 262\n",
      "2024-11-08 23:12:53.975184: I external/local_xla/xla/tsl/framework/bfc_allocator.cc:1109] InUse at 504a83000 of size 768 next 264\n",
      "2024-11-08 23:12:53.975189: I external/local_xla/xla/tsl/framework/bfc_allocator.cc:1109] InUse at 504a83300 of size 768 next 265\n",
      "2024-11-08 23:12:53.975195: I external/local_xla/xla/tsl/framework/bfc_allocator.cc:1109] InUse at 504a83600 of size 768 next 263\n",
      "2024-11-08 23:12:53.975201: I external/local_xla/xla/tsl/framework/bfc_allocator.cc:1109] InUse at 504a83900 of size 768 next 266\n",
      "2024-11-08 23:12:53.975207: I external/local_xla/xla/tsl/framework/bfc_allocator.cc:1109] InUse at 504a83c00 of size 256 next 267\n",
      "2024-11-08 23:12:53.975213: I external/local_xla/xla/tsl/framework/bfc_allocator.cc:1109] InUse at 504a83d00 of size 256 next 268\n",
      "2024-11-08 23:12:53.975218: I external/local_xla/xla/tsl/framework/bfc_allocator.cc:1109] InUse at 504a83e00 of size 256 next 269\n",
      "2024-11-08 23:12:53.975224: I external/local_xla/xla/tsl/framework/bfc_allocator.cc:1109] InUse at 504a83f00 of size 256 next 270\n",
      "2024-11-08 23:12:53.975230: I external/local_xla/xla/tsl/framework/bfc_allocator.cc:1109] InUse at 504a84000 of size 256 next 271\n",
      "2024-11-08 23:12:53.975236: I external/local_xla/xla/tsl/framework/bfc_allocator.cc:1109] InUse at 504a84100 of size 256 next 274\n",
      "2024-11-08 23:12:53.975242: I external/local_xla/xla/tsl/framework/bfc_allocator.cc:1109] InUse at 504a84200 of size 1024 next 161\n",
      "2024-11-08 23:12:53.975249: I external/local_xla/xla/tsl/framework/bfc_allocator.cc:1109] InUse at 504a84600 of size 27648 next 160\n",
      "2024-11-08 23:12:53.975255: I external/local_xla/xla/tsl/framework/bfc_allocator.cc:1109] InUse at 504a8b200 of size 29952 next 171\n",
      "2024-11-08 23:12:53.975261: I external/local_xla/xla/tsl/framework/bfc_allocator.cc:1109] InUse at 504a92700 of size 29952 next 170\n",
      "2024-11-08 23:12:53.975267: I external/local_xla/xla/tsl/framework/bfc_allocator.cc:1109] InUse at 504a99c00 of size 20736 next 194\n",
      "2024-11-08 23:12:53.975272: I external/local_xla/xla/tsl/framework/bfc_allocator.cc:1109] InUse at 504a9ed00 of size 512 next 317\n",
      "2024-11-08 23:12:53.975278: I external/local_xla/xla/tsl/framework/bfc_allocator.cc:1109] InUse at 504a9ef00 of size 256 next 318\n",
      "2024-11-08 23:12:53.975284: I external/local_xla/xla/tsl/framework/bfc_allocator.cc:1109] InUse at 504a9f000 of size 256 next 322\n",
      "2024-11-08 23:12:53.975290: I external/local_xla/xla/tsl/framework/bfc_allocator.cc:1109] InUse at 504a9f100 of size 8704 next 328\n",
      "2024-11-08 23:12:53.975297: I external/local_xla/xla/tsl/framework/bfc_allocator.cc:1109] InUse at 504aa1300 of size 3840 next 329\n",
      "2024-11-08 23:12:53.975303: I external/local_xla/xla/tsl/framework/bfc_allocator.cc:1109] InUse at 504aa2200 of size 256 next 323\n",
      "2024-11-08 23:12:53.975309: I external/local_xla/xla/tsl/framework/bfc_allocator.cc:1109] InUse at 504aa2300 of size 256 next 325\n",
      "2024-11-08 23:12:53.975315: I external/local_xla/xla/tsl/framework/bfc_allocator.cc:1109] InUse at 504aa2400 of size 2816 next 326\n",
      "2024-11-08 23:12:53.975322: I external/local_xla/xla/tsl/framework/bfc_allocator.cc:1109] InUse at 504aa2f00 of size 512 next 324\n",
      "2024-11-08 23:12:53.975327: I external/local_xla/xla/tsl/framework/bfc_allocator.cc:1109] InUse at 504aa3100 of size 768 next 327\n",
      "2024-11-08 23:12:53.975333: I external/local_xla/xla/tsl/framework/bfc_allocator.cc:1109] InUse at 504aa3400 of size 256 next 331\n",
      "2024-11-08 23:12:53.975339: I external/local_xla/xla/tsl/framework/bfc_allocator.cc:1109] InUse at 504aa3500 of size 768 next 332\n",
      "2024-11-08 23:12:53.975345: I external/local_xla/xla/tsl/framework/bfc_allocator.cc:1109] InUse at 504aa3800 of size 768 next 335\n",
      "2024-11-08 23:12:53.975350: I external/local_xla/xla/tsl/framework/bfc_allocator.cc:1109] InUse at 504aa3b00 of size 768 next 204\n",
      "2024-11-08 23:12:53.975356: I external/local_xla/xla/tsl/framework/bfc_allocator.cc:1109] InUse at 504aa3e00 of size 20736 next 203\n",
      "2024-11-08 23:12:53.975362: I external/local_xla/xla/tsl/framework/bfc_allocator.cc:1109] InUse at 504aa8f00 of size 20736 next 209\n",
      "2024-11-08 23:12:53.975368: I external/local_xla/xla/tsl/framework/bfc_allocator.cc:1109] InUse at 504aae000 of size 30208 next 185\n",
      "2024-11-08 23:12:53.975377: I external/local_xla/xla/tsl/framework/bfc_allocator.cc:1109] InUse at 504ab5600 of size 56576 next 184\n",
      "2024-11-08 23:12:53.975383: I external/local_xla/xla/tsl/framework/bfc_allocator.cc:1109] InUse at 504ac3300 of size 20736 next 224\n",
      "2024-11-08 23:12:53.975389: I external/local_xla/xla/tsl/framework/bfc_allocator.cc:1109] InUse at 504ac8400 of size 25344 next 220\n",
      "2024-11-08 23:12:53.975395: I external/local_xla/xla/tsl/framework/bfc_allocator.cc:1109] InUse at 504ace700 of size 23040 next 219\n",
      "2024-11-08 23:12:53.975401: I external/local_xla/xla/tsl/framework/bfc_allocator.cc:1109] InUse at 504ad4100 of size 25344 next 229\n",
      "2024-11-08 23:12:53.975407: I external/local_xla/xla/tsl/framework/bfc_allocator.cc:1109] InUse at 504ada400 of size 25344 next 230\n",
      "2024-11-08 23:12:53.975413: I external/local_xla/xla/tsl/framework/bfc_allocator.cc:1109] InUse at 504ae0700 of size 20736 next 289\n",
      "2024-11-08 23:12:53.975419: I external/local_xla/xla/tsl/framework/bfc_allocator.cc:1109] InUse at 504ae5800 of size 34560 next 240\n",
      "2024-11-08 23:12:53.975425: I external/local_xla/xla/tsl/framework/bfc_allocator.cc:1109] InUse at 504aedf00 of size 27648 next 239\n",
      "2024-11-08 23:12:53.975431: I external/local_xla/xla/tsl/framework/bfc_allocator.cc:1109] InUse at 504af4b00 of size 29952 next 249\n",
      "2024-11-08 23:12:53.975436: I external/local_xla/xla/tsl/framework/bfc_allocator.cc:1109] InUse at 504afc000 of size 29952 next 248\n",
      "2024-11-08 23:12:53.975443: I external/local_xla/xla/tsl/framework/bfc_allocator.cc:1109] InUse at 504b03500 of size 32256 next 261\n",
      "2024-11-08 23:12:53.975453: I external/local_xla/xla/tsl/framework/bfc_allocator.cc:1109] InUse at 504b0b300 of size 32256 next 260\n",
      "2024-11-08 23:12:53.975458: I external/local_xla/xla/tsl/framework/bfc_allocator.cc:1109] InUse at 504b13100 of size 34560 next 273\n",
      "2024-11-08 23:12:53.975464: I external/local_xla/xla/tsl/framework/bfc_allocator.cc:1109] InUse at 504b1b800 of size 34560 next 272\n",
      "2024-11-08 23:12:53.975470: I external/local_xla/xla/tsl/framework/bfc_allocator.cc:1109] InUse at 504b23f00 of size 36864 next 284\n",
      "2024-11-08 23:12:53.975477: I external/local_xla/xla/tsl/framework/bfc_allocator.cc:1109] InUse at 504b2cf00 of size 36864 next 283\n",
      "2024-11-08 23:12:53.975483: I external/local_xla/xla/tsl/framework/bfc_allocator.cc:1109] InUse at 504b35f00 of size 78336 next 296\n",
      "2024-11-08 23:12:53.975489: I external/local_xla/xla/tsl/framework/bfc_allocator.cc:1109] InUse at 504b49100 of size 39168 next 295\n",
      "2024-11-08 23:12:53.975495: I external/local_xla/xla/tsl/framework/bfc_allocator.cc:1109] InUse at 504b52a00 of size 20736 next 312\n",
      "2024-11-08 23:12:53.975501: I external/local_xla/xla/tsl/framework/bfc_allocator.cc:1109] InUse at 504b57b00 of size 6912 next 334\n",
      "2024-11-08 23:12:53.975507: I external/local_xla/xla/tsl/framework/bfc_allocator.cc:1109] InUse at 504b59600 of size 768 next 338\n",
      "2024-11-08 23:12:53.975514: I external/local_xla/xla/tsl/framework/bfc_allocator.cc:1109] InUse at 504b59900 of size 768 next 340\n",
      "2024-11-08 23:12:53.975520: I external/local_xla/xla/tsl/framework/bfc_allocator.cc:1109] InUse at 504b59c00 of size 1024 next 341\n",
      "2024-11-08 23:12:53.975526: I external/local_xla/xla/tsl/framework/bfc_allocator.cc:1109] InUse at 504b5a000 of size 1024 next 343\n",
      "2024-11-08 23:12:53.975532: I external/local_xla/xla/tsl/framework/bfc_allocator.cc:1109] InUse at 504b5a400 of size 1024 next 345\n",
      "2024-11-08 23:12:53.975538: I external/local_xla/xla/tsl/framework/bfc_allocator.cc:1109] InUse at 504b5a800 of size 512 next 347\n",
      "2024-11-08 23:12:53.975544: I external/local_xla/xla/tsl/framework/bfc_allocator.cc:1109] InUse at 504b5aa00 of size 3840 next 348\n",
      "2024-11-08 23:12:53.975550: I external/local_xla/xla/tsl/framework/bfc_allocator.cc:1109] InUse at 504b5b900 of size 256 next 349\n",
      "2024-11-08 23:12:53.975556: I external/local_xla/xla/tsl/framework/bfc_allocator.cc:1109] InUse at 504b5ba00 of size 256 next 350\n",
      "2024-11-08 23:12:53.975562: I external/local_xla/xla/tsl/framework/bfc_allocator.cc:1109] InUse at 504b5bb00 of size 256 next 352\n",
      "2024-11-08 23:12:53.975568: I external/local_xla/xla/tsl/framework/bfc_allocator.cc:1109] InUse at 504b5bc00 of size 512 next 354\n",
      "2024-11-08 23:12:53.975574: I external/local_xla/xla/tsl/framework/bfc_allocator.cc:1109] InUse at 504b5be00 of size 512 next 356\n",
      "2024-11-08 23:12:53.975579: I external/local_xla/xla/tsl/framework/bfc_allocator.cc:1109] InUse at 504b5c000 of size 512 next 358\n",
      "2024-11-08 23:12:53.975585: I external/local_xla/xla/tsl/framework/bfc_allocator.cc:1109] InUse at 504b5c200 of size 256 next 361\n",
      "2024-11-08 23:12:53.975591: I external/local_xla/xla/tsl/framework/bfc_allocator.cc:1109] InUse at 504b5c300 of size 512 next 362\n",
      "2024-11-08 23:12:53.975597: I external/local_xla/xla/tsl/framework/bfc_allocator.cc:1109] InUse at 504b5c500 of size 256 next 364\n",
      "2024-11-08 23:12:53.975603: I external/local_xla/xla/tsl/framework/bfc_allocator.cc:1109] InUse at 504b5c600 of size 256 next 366\n",
      "2024-11-08 23:12:53.975608: I external/local_xla/xla/tsl/framework/bfc_allocator.cc:1109] InUse at 504b5c700 of size 256 next 367\n",
      "2024-11-08 23:12:53.975615: I external/local_xla/xla/tsl/framework/bfc_allocator.cc:1109] InUse at 504b5c800 of size 256 next 369\n",
      "2024-11-08 23:12:53.975621: I external/local_xla/xla/tsl/framework/bfc_allocator.cc:1109] Free  at 504b5c900 of size 768 next 307\n",
      "2024-11-08 23:12:53.975627: I external/local_xla/xla/tsl/framework/bfc_allocator.cc:1109] InUse at 504b5cc00 of size 41472 next 306\n",
      "2024-11-08 23:12:53.975633: I external/local_xla/xla/tsl/framework/bfc_allocator.cc:1109] InUse at 504b66e00 of size 25344 next 330\n",
      "2024-11-08 23:12:53.975639: I external/local_xla/xla/tsl/framework/bfc_allocator.cc:1109] InUse at 504b6d100 of size 27648 next 333\n",
      "2024-11-08 23:12:53.975645: I external/local_xla/xla/tsl/framework/bfc_allocator.cc:1109] InUse at 504b73d00 of size 29952 next 336\n",
      "2024-11-08 23:12:53.975651: I external/local_xla/xla/tsl/framework/bfc_allocator.cc:1109] InUse at 504b7b200 of size 32256 next 337\n",
      "2024-11-08 23:12:53.975657: I external/local_xla/xla/tsl/framework/bfc_allocator.cc:1109] InUse at 504b83000 of size 34560 next 339\n",
      "2024-11-08 23:12:53.975663: I external/local_xla/xla/tsl/framework/bfc_allocator.cc:1109] InUse at 504b8b700 of size 58624 next 321\n",
      "2024-11-08 23:12:53.975669: I external/local_xla/xla/tsl/framework/bfc_allocator.cc:1109] InUse at 504b99c00 of size 104192 next 320\n",
      "2024-11-08 23:12:53.975676: I external/local_xla/xla/tsl/framework/bfc_allocator.cc:1109] InUse at 504bb3300 of size 39168 next 342\n",
      "2024-11-08 23:12:53.975682: I external/local_xla/xla/tsl/framework/bfc_allocator.cc:1109] InUse at 504bbcc00 of size 41472 next 344\n",
      "2024-11-08 23:12:53.975688: I external/local_xla/xla/tsl/framework/bfc_allocator.cc:1109] InUse at 504bc6e00 of size 104192 next 346\n",
      "2024-11-08 23:12:53.975694: I external/local_xla/xla/tsl/framework/bfc_allocator.cc:1109] InUse at 504be0500 of size 9216 next 351\n",
      "2024-11-08 23:12:53.975701: I external/local_xla/xla/tsl/framework/bfc_allocator.cc:1109] InUse at 504be2900 of size 11520 next 353\n",
      "2024-11-08 23:12:53.975707: I external/local_xla/xla/tsl/framework/bfc_allocator.cc:1109] InUse at 504be5600 of size 13824 next 355\n",
      "2024-11-08 23:12:53.975714: I external/local_xla/xla/tsl/framework/bfc_allocator.cc:1109] InUse at 504be8c00 of size 16128 next 357\n",
      "2024-11-08 23:12:53.975719: I external/local_xla/xla/tsl/framework/bfc_allocator.cc:1109] InUse at 504becb00 of size 18432 next 359\n",
      "2024-11-08 23:12:53.975725: I external/local_xla/xla/tsl/framework/bfc_allocator.cc:1109] InUse at 504bf1300 of size 20736 next 360\n",
      "2024-11-08 23:12:53.975731: I external/local_xla/xla/tsl/framework/bfc_allocator.cc:1109] InUse at 504bf6400 of size 20736 next 363\n",
      "2024-11-08 23:12:53.975738: I external/local_xla/xla/tsl/framework/bfc_allocator.cc:1109] InUse at 504bfb500 of size 19267584 next 365\n",
      "2024-11-08 23:12:53.975748: I external/local_xla/xla/tsl/framework/bfc_allocator.cc:1109] InUse at 505e5b500 of size 4864 next 368\n",
      "2024-11-08 23:12:53.975756: I external/local_xla/xla/tsl/framework/bfc_allocator.cc:1109] Free  at 505e5c800 of size 1820211200 next 18446744073709551615\n",
      "2024-11-08 23:12:53.975762: I external/local_xla/xla/tsl/framework/bfc_allocator.cc:1114]      Summary of in-use Chunks by size: \n",
      "2024-11-08 23:12:53.975771: I external/local_xla/xla/tsl/framework/bfc_allocator.cc:1117] 184 Chunks of size 256 totalling 46.0KiB\n",
      "2024-11-08 23:12:53.975778: I external/local_xla/xla/tsl/framework/bfc_allocator.cc:1117] 46 Chunks of size 512 totalling 23.0KiB\n",
      "2024-11-08 23:12:53.975784: I external/local_xla/xla/tsl/framework/bfc_allocator.cc:1117] 44 Chunks of size 768 totalling 33.0KiB\n",
      "2024-11-08 23:12:53.975791: I external/local_xla/xla/tsl/framework/bfc_allocator.cc:1117] 16 Chunks of size 1024 totalling 16.0KiB\n",
      "2024-11-08 23:12:53.975797: I external/local_xla/xla/tsl/framework/bfc_allocator.cc:1117] 2 Chunks of size 1280 totalling 2.5KiB\n",
      "2024-11-08 23:12:53.975804: I external/local_xla/xla/tsl/framework/bfc_allocator.cc:1117] 2 Chunks of size 2816 totalling 5.5KiB\n",
      "2024-11-08 23:12:53.975810: I external/local_xla/xla/tsl/framework/bfc_allocator.cc:1117] 2 Chunks of size 3840 totalling 7.5KiB\n",
      "2024-11-08 23:12:53.975816: I external/local_xla/xla/tsl/framework/bfc_allocator.cc:1117] 1 Chunks of size 4608 totalling 4.5KiB\n",
      "2024-11-08 23:12:53.975822: I external/local_xla/xla/tsl/framework/bfc_allocator.cc:1117] 1 Chunks of size 4864 totalling 4.8KiB\n",
      "2024-11-08 23:12:53.975829: I external/local_xla/xla/tsl/framework/bfc_allocator.cc:1117] 2 Chunks of size 6912 totalling 13.5KiB\n",
      "2024-11-08 23:12:53.975835: I external/local_xla/xla/tsl/framework/bfc_allocator.cc:1117] 1 Chunks of size 8704 totalling 8.5KiB\n",
      "2024-11-08 23:12:53.975842: I external/local_xla/xla/tsl/framework/bfc_allocator.cc:1117] 1 Chunks of size 9216 totalling 9.0KiB\n",
      "2024-11-08 23:12:53.975848: I external/local_xla/xla/tsl/framework/bfc_allocator.cc:1117] 2 Chunks of size 11520 totalling 22.5KiB\n",
      "2024-11-08 23:12:53.975855: I external/local_xla/xla/tsl/framework/bfc_allocator.cc:1117] 2 Chunks of size 13824 totalling 27.0KiB\n",
      "2024-11-08 23:12:53.975862: I external/local_xla/xla/tsl/framework/bfc_allocator.cc:1117] 1 Chunks of size 15872 totalling 15.5KiB\n",
      "2024-11-08 23:12:53.975868: I external/local_xla/xla/tsl/framework/bfc_allocator.cc:1117] 3 Chunks of size 16128 totalling 47.2KiB\n",
      "2024-11-08 23:12:53.975875: I external/local_xla/xla/tsl/framework/bfc_allocator.cc:1117] 2 Chunks of size 18432 totalling 36.0KiB\n",
      "2024-11-08 23:12:53.975882: I external/local_xla/xla/tsl/framework/bfc_allocator.cc:1117] 19 Chunks of size 20736 totalling 384.8KiB\n",
      "2024-11-08 23:12:53.975888: I external/local_xla/xla/tsl/framework/bfc_allocator.cc:1117] 2 Chunks of size 23040 totalling 45.0KiB\n",
      "2024-11-08 23:12:53.975895: I external/local_xla/xla/tsl/framework/bfc_allocator.cc:1117] 7 Chunks of size 25344 totalling 173.2KiB\n",
      "2024-11-08 23:12:53.975902: I external/local_xla/xla/tsl/framework/bfc_allocator.cc:1117] 3 Chunks of size 27648 totalling 81.0KiB\n",
      "2024-11-08 23:12:53.975909: I external/local_xla/xla/tsl/framework/bfc_allocator.cc:1117] 5 Chunks of size 29952 totalling 146.2KiB\n",
      "2024-11-08 23:12:53.975915: I external/local_xla/xla/tsl/framework/bfc_allocator.cc:1117] 1 Chunks of size 30208 totalling 29.5KiB\n",
      "2024-11-08 23:12:53.975922: I external/local_xla/xla/tsl/framework/bfc_allocator.cc:1117] 3 Chunks of size 32256 totalling 94.5KiB\n",
      "2024-11-08 23:12:53.975928: I external/local_xla/xla/tsl/framework/bfc_allocator.cc:1117] 4 Chunks of size 34560 totalling 135.0KiB\n",
      "2024-11-08 23:12:53.975935: I external/local_xla/xla/tsl/framework/bfc_allocator.cc:1117] 2 Chunks of size 36864 totalling 72.0KiB\n",
      "2024-11-08 23:12:53.975941: I external/local_xla/xla/tsl/framework/bfc_allocator.cc:1117] 2 Chunks of size 39168 totalling 76.5KiB\n",
      "2024-11-08 23:12:53.975948: I external/local_xla/xla/tsl/framework/bfc_allocator.cc:1117] 2 Chunks of size 41472 totalling 81.0KiB\n",
      "2024-11-08 23:12:53.975954: I external/local_xla/xla/tsl/framework/bfc_allocator.cc:1117] 1 Chunks of size 56576 totalling 55.2KiB\n",
      "2024-11-08 23:12:53.975961: I external/local_xla/xla/tsl/framework/bfc_allocator.cc:1117] 1 Chunks of size 58624 totalling 57.2KiB\n",
      "2024-11-08 23:12:53.975967: I external/local_xla/xla/tsl/framework/bfc_allocator.cc:1117] 1 Chunks of size 78336 totalling 76.5KiB\n",
      "2024-11-08 23:12:53.975974: I external/local_xla/xla/tsl/framework/bfc_allocator.cc:1117] 2 Chunks of size 104192 totalling 203.5KiB\n",
      "2024-11-08 23:12:53.975980: I external/local_xla/xla/tsl/framework/bfc_allocator.cc:1117] 1 Chunks of size 19267584 totalling 18.38MiB\n",
      "2024-11-08 23:12:53.975987: I external/local_xla/xla/tsl/framework/bfc_allocator.cc:1121] Sum Total of in-use chunks: 20.36MiB\n",
      "2024-11-08 23:12:53.975994: I external/local_xla/xla/tsl/framework/bfc_allocator.cc:1123] Total bytes in pool: 1841561600 memory_limit_: 1841561600 available bytes: 0 curr_region_allocation_bytes_: 3683123200\n",
      "2024-11-08 23:12:53.976009: I external/local_xla/xla/tsl/framework/bfc_allocator.cc:1128] Stats: \n",
      "Limit:                      1841561600\n",
      "InUse:                        21349632\n",
      "MaxInUse:                   1325674240\n",
      "NumAllocs:                        4443\n",
      "MaxAllocSize:                864655104\n",
      "Reserved:                            0\n",
      "PeakReserved:                        0\n",
      "LargestFreeBlock:                    0\n",
      "\n",
      "2024-11-08 23:12:53.976032: W external/local_xla/xla/tsl/framework/bfc_allocator.cc:508] **__________________________________________________________________________________________________\n",
      "2024-11-08 23:12:53.976561: I tensorflow/core/framework/local_rendezvous.cc:405] Local rendezvous is aborting with status: RESOURCE_EXHAUSTED: Out of memory while trying to allocate 6301535800 bytes.\n",
      "\t [[{{node StatefulPartitionedCall}}]]\n",
      "Hint: If you want to see a list of allocated tensors when OOM happens, add report_tensor_allocations_upon_oom to RunOptions for current allocation info. This isn't available when running in Eager mode.\n",
      "\n"
     ]
    },
    {
     "ename": "ResourceExhaustedError",
     "evalue": "Graph execution error:\n\nDetected at node StatefulPartitionedCall defined at (most recent call last):\n  File \"/home/viviane/apps/anaconda3/envs/pro1-cnn/lib/python3.12/runpy.py\", line 198, in _run_module_as_main\n\n  File \"/home/viviane/apps/anaconda3/envs/pro1-cnn/lib/python3.12/runpy.py\", line 88, in _run_code\n\n  File \"/home/viviane/apps/anaconda3/envs/pro1-cnn/lib/python3.12/site-packages/ipykernel_launcher.py\", line 18, in <module>\n\n  File \"/home/viviane/apps/anaconda3/envs/pro1-cnn/lib/python3.12/site-packages/traitlets/config/application.py\", line 1075, in launch_instance\n\n  File \"/home/viviane/apps/anaconda3/envs/pro1-cnn/lib/python3.12/site-packages/ipykernel/kernelapp.py\", line 739, in start\n\n  File \"/home/viviane/apps/anaconda3/envs/pro1-cnn/lib/python3.12/site-packages/tornado/platform/asyncio.py\", line 205, in start\n\n  File \"/home/viviane/apps/anaconda3/envs/pro1-cnn/lib/python3.12/asyncio/base_events.py\", line 641, in run_forever\n\n  File \"/home/viviane/apps/anaconda3/envs/pro1-cnn/lib/python3.12/asyncio/base_events.py\", line 1986, in _run_once\n\n  File \"/home/viviane/apps/anaconda3/envs/pro1-cnn/lib/python3.12/asyncio/events.py\", line 88, in _run\n\n  File \"/home/viviane/apps/anaconda3/envs/pro1-cnn/lib/python3.12/site-packages/ipykernel/kernelbase.py\", line 545, in dispatch_queue\n\n  File \"/home/viviane/apps/anaconda3/envs/pro1-cnn/lib/python3.12/site-packages/ipykernel/kernelbase.py\", line 534, in process_one\n\n  File \"/home/viviane/apps/anaconda3/envs/pro1-cnn/lib/python3.12/site-packages/ipykernel/kernelbase.py\", line 437, in dispatch_shell\n\n  File \"/home/viviane/apps/anaconda3/envs/pro1-cnn/lib/python3.12/site-packages/ipykernel/ipkernel.py\", line 362, in execute_request\n\n  File \"/home/viviane/apps/anaconda3/envs/pro1-cnn/lib/python3.12/site-packages/ipykernel/kernelbase.py\", line 778, in execute_request\n\n  File \"/home/viviane/apps/anaconda3/envs/pro1-cnn/lib/python3.12/site-packages/ipykernel/ipkernel.py\", line 449, in do_execute\n\n  File \"/home/viviane/apps/anaconda3/envs/pro1-cnn/lib/python3.12/site-packages/ipykernel/zmqshell.py\", line 549, in run_cell\n\n  File \"/home/viviane/apps/anaconda3/envs/pro1-cnn/lib/python3.12/site-packages/IPython/core/interactiveshell.py\", line 3075, in run_cell\n\n  File \"/home/viviane/apps/anaconda3/envs/pro1-cnn/lib/python3.12/site-packages/IPython/core/interactiveshell.py\", line 3130, in _run_cell\n\n  File \"/home/viviane/apps/anaconda3/envs/pro1-cnn/lib/python3.12/site-packages/IPython/core/async_helpers.py\", line 128, in _pseudo_sync_runner\n\n  File \"/home/viviane/apps/anaconda3/envs/pro1-cnn/lib/python3.12/site-packages/IPython/core/interactiveshell.py\", line 3334, in run_cell_async\n\n  File \"/home/viviane/apps/anaconda3/envs/pro1-cnn/lib/python3.12/site-packages/IPython/core/interactiveshell.py\", line 3517, in run_ast_nodes\n\n  File \"/home/viviane/apps/anaconda3/envs/pro1-cnn/lib/python3.12/site-packages/IPython/core/interactiveshell.py\", line 3577, in run_code\n\n  File \"/tmp/ipykernel_3385/3607109562.py\", line 2, in <module>\n\n  File \"/home/viviane/apps/anaconda3/envs/pro1-cnn/lib/python3.12/site-packages/keras/src/utils/traceback_utils.py\", line 117, in error_handler\n\n  File \"/home/viviane/apps/anaconda3/envs/pro1-cnn/lib/python3.12/site-packages/keras/src/backend/tensorflow/trainer.py\", line 320, in fit\n\n  File \"/home/viviane/apps/anaconda3/envs/pro1-cnn/lib/python3.12/site-packages/keras/src/backend/tensorflow/trainer.py\", line 121, in one_step_on_iterator\n\nOut of memory while trying to allocate 6301535800 bytes.\n\t [[{{node StatefulPartitionedCall}}]]\nHint: If you want to see a list of allocated tensors when OOM happens, add report_tensor_allocations_upon_oom to RunOptions for current allocation info. This isn't available when running in Eager mode.\n [Op:__inference_one_step_on_iterator_33443]",
     "output_type": "error",
     "traceback": [
      "\u001b[0;31m---------------------------------------------------------------------------\u001b[0m",
      "\u001b[0;31mResourceExhaustedError\u001b[0m                    Traceback (most recent call last)",
      "Cell \u001b[0;32mIn[12], line 2\u001b[0m\n\u001b[1;32m      1\u001b[0m epochs \u001b[38;5;241m=\u001b[39m \u001b[38;5;241m30\u001b[39m\n\u001b[0;32m----> 2\u001b[0m history \u001b[38;5;241m=\u001b[39m model\u001b[38;5;241m.\u001b[39mfit(train_ds,\n\u001b[1;32m      3\u001b[0m                     validation_data\u001b[38;5;241m=\u001b[39mval_ds,\n\u001b[1;32m      4\u001b[0m                     epochs\u001b[38;5;241m=\u001b[39mepochs)\n",
      "File \u001b[0;32m~/apps/anaconda3/envs/pro1-cnn/lib/python3.12/site-packages/keras/src/utils/traceback_utils.py:122\u001b[0m, in \u001b[0;36mfilter_traceback.<locals>.error_handler\u001b[0;34m(*args, **kwargs)\u001b[0m\n\u001b[1;32m    119\u001b[0m     filtered_tb \u001b[38;5;241m=\u001b[39m _process_traceback_frames(e\u001b[38;5;241m.\u001b[39m__traceback__)\n\u001b[1;32m    120\u001b[0m     \u001b[38;5;66;03m# To get the full stack trace, call:\u001b[39;00m\n\u001b[1;32m    121\u001b[0m     \u001b[38;5;66;03m# `keras.config.disable_traceback_filtering()`\u001b[39;00m\n\u001b[0;32m--> 122\u001b[0m     \u001b[38;5;28;01mraise\u001b[39;00m e\u001b[38;5;241m.\u001b[39mwith_traceback(filtered_tb) \u001b[38;5;28;01mfrom\u001b[39;00m \u001b[38;5;28;01mNone\u001b[39;00m\n\u001b[1;32m    123\u001b[0m \u001b[38;5;28;01mfinally\u001b[39;00m:\n\u001b[1;32m    124\u001b[0m     \u001b[38;5;28;01mdel\u001b[39;00m filtered_tb\n",
      "File \u001b[0;32m~/apps/anaconda3/envs/pro1-cnn/lib/python3.12/site-packages/tensorflow/python/eager/execute.py:53\u001b[0m, in \u001b[0;36mquick_execute\u001b[0;34m(op_name, num_outputs, inputs, attrs, ctx, name)\u001b[0m\n\u001b[1;32m     51\u001b[0m \u001b[38;5;28;01mtry\u001b[39;00m:\n\u001b[1;32m     52\u001b[0m   ctx\u001b[38;5;241m.\u001b[39mensure_initialized()\n\u001b[0;32m---> 53\u001b[0m   tensors \u001b[38;5;241m=\u001b[39m pywrap_tfe\u001b[38;5;241m.\u001b[39mTFE_Py_Execute(ctx\u001b[38;5;241m.\u001b[39m_handle, device_name, op_name,\n\u001b[1;32m     54\u001b[0m                                       inputs, attrs, num_outputs)\n\u001b[1;32m     55\u001b[0m \u001b[38;5;28;01mexcept\u001b[39;00m core\u001b[38;5;241m.\u001b[39m_NotOkStatusException \u001b[38;5;28;01mas\u001b[39;00m e:\n\u001b[1;32m     56\u001b[0m   \u001b[38;5;28;01mif\u001b[39;00m name \u001b[38;5;129;01mis\u001b[39;00m \u001b[38;5;129;01mnot\u001b[39;00m \u001b[38;5;28;01mNone\u001b[39;00m:\n",
      "\u001b[0;31mResourceExhaustedError\u001b[0m: Graph execution error:\n\nDetected at node StatefulPartitionedCall defined at (most recent call last):\n  File \"/home/viviane/apps/anaconda3/envs/pro1-cnn/lib/python3.12/runpy.py\", line 198, in _run_module_as_main\n\n  File \"/home/viviane/apps/anaconda3/envs/pro1-cnn/lib/python3.12/runpy.py\", line 88, in _run_code\n\n  File \"/home/viviane/apps/anaconda3/envs/pro1-cnn/lib/python3.12/site-packages/ipykernel_launcher.py\", line 18, in <module>\n\n  File \"/home/viviane/apps/anaconda3/envs/pro1-cnn/lib/python3.12/site-packages/traitlets/config/application.py\", line 1075, in launch_instance\n\n  File \"/home/viviane/apps/anaconda3/envs/pro1-cnn/lib/python3.12/site-packages/ipykernel/kernelapp.py\", line 739, in start\n\n  File \"/home/viviane/apps/anaconda3/envs/pro1-cnn/lib/python3.12/site-packages/tornado/platform/asyncio.py\", line 205, in start\n\n  File \"/home/viviane/apps/anaconda3/envs/pro1-cnn/lib/python3.12/asyncio/base_events.py\", line 641, in run_forever\n\n  File \"/home/viviane/apps/anaconda3/envs/pro1-cnn/lib/python3.12/asyncio/base_events.py\", line 1986, in _run_once\n\n  File \"/home/viviane/apps/anaconda3/envs/pro1-cnn/lib/python3.12/asyncio/events.py\", line 88, in _run\n\n  File \"/home/viviane/apps/anaconda3/envs/pro1-cnn/lib/python3.12/site-packages/ipykernel/kernelbase.py\", line 545, in dispatch_queue\n\n  File \"/home/viviane/apps/anaconda3/envs/pro1-cnn/lib/python3.12/site-packages/ipykernel/kernelbase.py\", line 534, in process_one\n\n  File \"/home/viviane/apps/anaconda3/envs/pro1-cnn/lib/python3.12/site-packages/ipykernel/kernelbase.py\", line 437, in dispatch_shell\n\n  File \"/home/viviane/apps/anaconda3/envs/pro1-cnn/lib/python3.12/site-packages/ipykernel/ipkernel.py\", line 362, in execute_request\n\n  File \"/home/viviane/apps/anaconda3/envs/pro1-cnn/lib/python3.12/site-packages/ipykernel/kernelbase.py\", line 778, in execute_request\n\n  File \"/home/viviane/apps/anaconda3/envs/pro1-cnn/lib/python3.12/site-packages/ipykernel/ipkernel.py\", line 449, in do_execute\n\n  File \"/home/viviane/apps/anaconda3/envs/pro1-cnn/lib/python3.12/site-packages/ipykernel/zmqshell.py\", line 549, in run_cell\n\n  File \"/home/viviane/apps/anaconda3/envs/pro1-cnn/lib/python3.12/site-packages/IPython/core/interactiveshell.py\", line 3075, in run_cell\n\n  File \"/home/viviane/apps/anaconda3/envs/pro1-cnn/lib/python3.12/site-packages/IPython/core/interactiveshell.py\", line 3130, in _run_cell\n\n  File \"/home/viviane/apps/anaconda3/envs/pro1-cnn/lib/python3.12/site-packages/IPython/core/async_helpers.py\", line 128, in _pseudo_sync_runner\n\n  File \"/home/viviane/apps/anaconda3/envs/pro1-cnn/lib/python3.12/site-packages/IPython/core/interactiveshell.py\", line 3334, in run_cell_async\n\n  File \"/home/viviane/apps/anaconda3/envs/pro1-cnn/lib/python3.12/site-packages/IPython/core/interactiveshell.py\", line 3517, in run_ast_nodes\n\n  File \"/home/viviane/apps/anaconda3/envs/pro1-cnn/lib/python3.12/site-packages/IPython/core/interactiveshell.py\", line 3577, in run_code\n\n  File \"/tmp/ipykernel_3385/3607109562.py\", line 2, in <module>\n\n  File \"/home/viviane/apps/anaconda3/envs/pro1-cnn/lib/python3.12/site-packages/keras/src/utils/traceback_utils.py\", line 117, in error_handler\n\n  File \"/home/viviane/apps/anaconda3/envs/pro1-cnn/lib/python3.12/site-packages/keras/src/backend/tensorflow/trainer.py\", line 320, in fit\n\n  File \"/home/viviane/apps/anaconda3/envs/pro1-cnn/lib/python3.12/site-packages/keras/src/backend/tensorflow/trainer.py\", line 121, in one_step_on_iterator\n\nOut of memory while trying to allocate 6301535800 bytes.\n\t [[{{node StatefulPartitionedCall}}]]\nHint: If you want to see a list of allocated tensors when OOM happens, add report_tensor_allocations_upon_oom to RunOptions for current allocation info. This isn't available when running in Eager mode.\n [Op:__inference_one_step_on_iterator_33443]"
     ]
    }
   ],
   "source": [
    "epochs = 30\n",
    "history = model.fit(train_ds,\n",
    "                    validation_data=val_ds,\n",
    "                    epochs=epochs)"
   ]
  },
  {
   "cell_type": "markdown",
   "id": "3c909131-c092-4f34-9dd2-03c306612f21",
   "metadata": {},
   "source": [
    "# Evaluating"
   ]
  },
  {
   "cell_type": "code",
   "execution_count": null,
   "id": "704cd67a-3f10-409a-8c2d-b776dd9503f4",
   "metadata": {},
   "outputs": [],
   "source": [
    "history.history"
   ]
  },
  {
   "cell_type": "code",
   "execution_count": null,
   "id": "3bac3c94-ac51-42aa-b2ae-f7463d1823c1",
   "metadata": {},
   "outputs": [],
   "source": [
    "plt.plot(history.history['loss'])\n",
    "plt.plot(history.history['val_loss'])\n",
    "plt.title('Model Loss')\n",
    "plt.ylabel('Loss')\n",
    "plt.xlabel('Epoch')\n",
    "plt.legend(['Train', 'Val'], loc='upper right')\n",
    "plt.show()"
   ]
  },
  {
   "cell_type": "code",
   "execution_count": null,
   "id": "02047b4e-0c50-43a5-a454-e3c1aeca5e49",
   "metadata": {},
   "outputs": [],
   "source": [
    "plt.plot(history.history['accuracy'])\n",
    "plt.plot(history.history['val_accuracy'])\n",
    "plt.title('Model Accuracy')\n",
    "plt.ylabel('Accuracy')\n",
    "plt.xlabel('Epoch')\n",
    "plt.legend(['Train', 'Val'], loc='lower right')\n",
    "plt.show()"
   ]
  },
  {
   "cell_type": "code",
   "execution_count": null,
   "id": "c09299b2-2738-430c-999f-2128b37e9c1e",
   "metadata": {},
   "outputs": [],
   "source": [
    "test_loss, test_acc = model.evaluate(val_ds, verbose=2)"
   ]
  },
  {
   "cell_type": "code",
   "execution_count": null,
   "id": "d9efc142-91c8-4dcf-b721-bf9f06b2eb15",
   "metadata": {},
   "outputs": [],
   "source": [
    "print(test_acc)"
   ]
  },
  {
   "cell_type": "code",
   "execution_count": null,
   "id": "7a37061c-d770-4249-8fdd-91b34346ceb8",
   "metadata": {},
   "outputs": [],
   "source": [
    "predictions = model.predict(train_ds_test)\n",
    "val_pred = np.argmax(predictions, axis=1)"
   ]
  },
  {
   "cell_type": "code",
   "execution_count": null,
   "id": "e337b866-e353-4c94-bbe4-8c39e6295401",
   "metadata": {},
   "outputs": [],
   "source": [
    "y_true = []\n",
    "y_pred = []\n",
    "for images, labels in val_ds_test:\n",
    "  # Make predictions on the batch\n",
    "  batch_pred = model.predict(images)\n",
    "  y_pred.extend(list(batch_pred.argmax(axis=1)))  # Predicted labels\n",
    "  y_true.extend(list(labels.numpy()))  # True labels from the batch\n",
    "\n",
    "# Calculate the confusion matrix\n",
    "cm = confusion_matrix(y_true, y_pred)"
   ]
  },
  {
   "cell_type": "code",
   "execution_count": null,
   "id": "d9c1dd13-5650-4712-9012-f49676305da7",
   "metadata": {},
   "outputs": [],
   "source": [
    "disp = ConfusionMatrixDisplay(cm, display_labels=classes_,)\n",
    "disp.plot()"
   ]
  },
  {
   "cell_type": "code",
   "execution_count": null,
   "id": "b889ddb5-a98f-4328-a9f9-afff34a7b6bc",
   "metadata": {},
   "outputs": [],
   "source": [
    "report = classification_report(y_true, y_pred)\n",
    "print(report)"
   ]
  },
  {
   "cell_type": "markdown",
   "id": "6b42fe12-3c29-45f5-a802-10f0a01f36d5",
   "metadata": {},
   "source": [
    "# Save"
   ]
  },
  {
   "cell_type": "code",
   "execution_count": null,
   "id": "ffd33819-1053-4b3a-a977-2e9a5e8d6308",
   "metadata": {},
   "outputs": [],
   "source": [
    "# model.save('models/breast_cancer_classification-densenet.h5')"
   ]
  },
  {
   "cell_type": "code",
   "execution_count": null,
   "id": "1f6b67f1-5eee-42a4-bd5b-6fd2445c64a9",
   "metadata": {},
   "outputs": [],
   "source": []
  }
 ],
 "metadata": {
  "kernelspec": {
   "display_name": "Python 3 (ipykernel)",
   "language": "python",
   "name": "python3"
  },
  "language_info": {
   "codemirror_mode": {
    "name": "ipython",
    "version": 3
   },
   "file_extension": ".py",
   "mimetype": "text/x-python",
   "name": "python",
   "nbconvert_exporter": "python",
   "pygments_lexer": "ipython3",
   "version": "3.12.7"
  }
 },
 "nbformat": 4,
 "nbformat_minor": 5
}
