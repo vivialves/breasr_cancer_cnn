{
 "cells": [
  {
   "cell_type": "markdown",
   "id": "e24c57d0-7233-4937-ada6-bf5dbbdb3bce",
   "metadata": {},
   "source": [
    "# ShuffleNet"
   ]
  },
  {
   "cell_type": "code",
   "execution_count": 1,
   "id": "ce6e16e2-b385-406a-90d8-5445918d8099",
   "metadata": {},
   "outputs": [],
   "source": [
    "import os\n",
    "import numpy as np\n",
    "import pandas as pd"
   ]
  },
  {
   "cell_type": "code",
   "execution_count": 2,
   "id": "a1274f1c-c4c6-485a-98ad-ffe0be69a80b",
   "metadata": {},
   "outputs": [
    {
     "name": "stderr",
     "output_type": "stream",
     "text": [
      "2024-11-26 07:29:00.747016: I tensorflow/core/util/port.cc:153] oneDNN custom operations are on. You may see slightly different numerical results due to floating-point round-off errors from different computation orders. To turn them off, set the environment variable `TF_ENABLE_ONEDNN_OPTS=0`.\n",
      "2024-11-26 07:29:00.949233: E external/local_xla/xla/stream_executor/cuda/cuda_fft.cc:477] Unable to register cuFFT factory: Attempting to register factory for plugin cuFFT when one has already been registered\n",
      "WARNING: All log messages before absl::InitializeLog() is called are written to STDERR\n",
      "E0000 00:00:1732624141.028735   50150 cuda_dnn.cc:8310] Unable to register cuDNN factory: Attempting to register factory for plugin cuDNN when one has already been registered\n",
      "E0000 00:00:1732624141.047799   50150 cuda_blas.cc:1418] Unable to register cuBLAS factory: Attempting to register factory for plugin cuBLAS when one has already been registered\n",
      "2024-11-26 07:29:01.233607: I tensorflow/core/platform/cpu_feature_guard.cc:210] This TensorFlow binary is optimized to use available CPU instructions in performance-critical operations.\n",
      "To enable the following instructions: AVX2 AVX_VNNI FMA, in other operations, rebuild TensorFlow with the appropriate compiler flags.\n"
     ]
    }
   ],
   "source": [
    "import matplotlib.pyplot as plt\n",
    "import tensorflow as tf\n",
    "import keras as K\n",
    "from sklearn.metrics import confusion_matrix, ConfusionMatrixDisplay\n",
    "from sklearn.metrics import classification_report\n",
    "# from tensorflow.keras import datasets, layers, models\n",
    "\n",
    "from tensorflow.keras.models import Model\n",
    "\n",
    "from tensorflow.keras.layers import (Input, Conv2D, BatchNormalization, ReLU, \n",
    "                                    MaxPooling2D, Add, GlobalAveragePooling2D, \n",
    "                                    Dense, DepthwiseConv2D, Lambda, Reshape, \n",
    "                                    Concatenate)"
   ]
  },
  {
   "cell_type": "markdown",
   "id": "9fe2843e-b9d7-4d74-96f1-244a971ee861",
   "metadata": {},
   "source": [
    "# Preparation for trainning - Train Split"
   ]
  },
  {
   "cell_type": "code",
   "execution_count": 3,
   "id": "6265defb-da16-44f8-b5cc-c3dd09e1bedf",
   "metadata": {},
   "outputs": [],
   "source": [
    "path = os.path.realpath('data/Dataset of Breast mammography images with Masses')\n",
    "list_path = path.split('/')\n",
    "list_path.remove('notebooks')\n",
    "list_path.remove('breast-cancer-project')\n",
    "path = os.path.join('/'.join(list_path), 'Image After Data Augmentation, Image Size 224x224/')"
   ]
  },
  {
   "cell_type": "code",
   "execution_count": 4,
   "id": "ea7d6eba-f6aa-4008-b70b-2031a90fe8c2",
   "metadata": {},
   "outputs": [],
   "source": [
    "batch_size_n = 8"
   ]
  },
  {
   "cell_type": "code",
   "execution_count": 5,
   "id": "774e9e3e-a1b0-4fc6-9045-04cb89247f89",
   "metadata": {},
   "outputs": [
    {
     "name": "stdout",
     "output_type": "stream",
     "text": [
      "Found 7632 files belonging to 8 classes.\n",
      "Using 6106 files for training.\n"
     ]
    },
    {
     "name": "stderr",
     "output_type": "stream",
     "text": [
      "I0000 00:00:1732624146.932624   50150 gpu_device.cc:2022] Created device /job:localhost/replica:0/task:0/device:GPU:0 with 1756 MB memory:  -> device: 0, name: NVIDIA GeForce RTX 3050 Ti Laptop GPU, pci bus id: 0000:01:00.0, compute capability: 8.6\n"
     ]
    }
   ],
   "source": [
    "train_ds = tf.keras.preprocessing.image_dataset_from_directory(\n",
    "    path,\n",
    "    validation_split=0.2,\n",
    "    subset='training',\n",
    "    seed=123,\n",
    "    image_size=(224, 224),\n",
    "    batch_size=batch_size_n,\n",
    ")"
   ]
  },
  {
   "cell_type": "code",
   "execution_count": 6,
   "id": "62e3e0af-fa70-43c4-8fda-0196c3fe14dc",
   "metadata": {},
   "outputs": [
    {
     "data": {
      "text/plain": [
       "8"
      ]
     },
     "execution_count": 6,
     "metadata": {},
     "output_type": "execute_result"
    }
   ],
   "source": [
    "classes_ = train_ds.class_names\n",
    "len(classes_)"
   ]
  },
  {
   "cell_type": "code",
   "execution_count": 7,
   "id": "2ddc9797-7c91-4cdb-b66c-99de0bc4bd61",
   "metadata": {},
   "outputs": [
    {
     "name": "stdout",
     "output_type": "stream",
     "text": [
      "Found 7632 files belonging to 8 classes.\n",
      "Using 1526 files for validation.\n"
     ]
    }
   ],
   "source": [
    "val_ds = tf.keras.preprocessing.image_dataset_from_directory(\n",
    "    path,\n",
    "    validation_split=0.2,\n",
    "    subset='validation',\n",
    "    seed=123,\n",
    "    image_size=(224, 224),\n",
    "    batch_size=batch_size_n,\n",
    ")"
   ]
  },
  {
   "cell_type": "code",
   "execution_count": 8,
   "id": "24348253-78d1-4d12-9c53-8d69b31ee483",
   "metadata": {},
   "outputs": [
    {
     "data": {
      "text/plain": [
       "(<_MapDataset element_spec=(TensorSpec(shape=(None, 224, 224, 3), dtype=tf.float32, name=None), TensorSpec(shape=(None,), dtype=tf.int32, name=None))>,\n",
       " <_MapDataset element_spec=(TensorSpec(shape=(None, 224, 224, 3), dtype=tf.float32, name=None), TensorSpec(shape=(None,), dtype=tf.int32, name=None))>)"
      ]
     },
     "execution_count": 8,
     "metadata": {},
     "output_type": "execute_result"
    }
   ],
   "source": [
    "def normalize(image, label):\n",
    "  return tf.cast(image/255., tf.float32), label\n",
    "\n",
    "train_ds = train_ds.map(normalize)\n",
    "val_ds = val_ds.map(normalize)\n",
    "\n",
    "train_ds, val_ds"
   ]
  },
  {
   "cell_type": "markdown",
   "id": "0fd3a4fe-3d6b-44eb-a532-0dcb7d2bfbd9",
   "metadata": {},
   "source": [
    "# Preparation for trainning - Test Split"
   ]
  },
  {
   "cell_type": "code",
   "execution_count": 9,
   "id": "cf67c51e-4de8-4b30-a480-2992a1e04676",
   "metadata": {},
   "outputs": [],
   "source": [
    "path = os.path.realpath('data/Dataset of Breast mammography images with Masses')\n",
    "list_path = path.split('/')\n",
    "list_path.remove('notebooks')\n",
    "list_path.remove('breast-cancer-project')\n",
    "path = os.path.join('/'.join(list_path), 'Image Before Data Augmentation, Image Size 224x224/')"
   ]
  },
  {
   "cell_type": "code",
   "execution_count": 10,
   "id": "52c31329-3694-410e-8a3b-127fc151b59e",
   "metadata": {},
   "outputs": [
    {
     "name": "stdout",
     "output_type": "stream",
     "text": [
      "Found 212 files belonging to 8 classes.\n",
      "Using 170 files for training.\n"
     ]
    }
   ],
   "source": [
    "train_ds_test = tf.keras.preprocessing.image_dataset_from_directory(\n",
    "    path,\n",
    "    validation_split=0.2,\n",
    "    subset='training',\n",
    "    seed=123,\n",
    "    image_size=(224, 224),\n",
    "    batch_size=batch_size_n,\n",
    ")"
   ]
  },
  {
   "cell_type": "code",
   "execution_count": 11,
   "id": "fe08e1b3-d1a3-4f2e-8e2b-2bece91021af",
   "metadata": {},
   "outputs": [
    {
     "name": "stdout",
     "output_type": "stream",
     "text": [
      "Found 212 files belonging to 8 classes.\n",
      "Using 42 files for validation.\n"
     ]
    }
   ],
   "source": [
    "val_ds_test = tf.keras.preprocessing.image_dataset_from_directory(\n",
    "    path,\n",
    "    validation_split=0.2,\n",
    "    subset='validation',\n",
    "    seed=123,\n",
    "    image_size=(224, 224),\n",
    "    batch_size=batch_size_n,\n",
    ")"
   ]
  },
  {
   "cell_type": "code",
   "execution_count": 12,
   "id": "1631f2f6-0748-4678-85da-7c455379f0a8",
   "metadata": {},
   "outputs": [
    {
     "data": {
      "text/plain": [
       "(<_MapDataset element_spec=(TensorSpec(shape=(None, 224, 224, 3), dtype=tf.float32, name=None), TensorSpec(shape=(None,), dtype=tf.int32, name=None))>,\n",
       " <_MapDataset element_spec=(TensorSpec(shape=(None, 224, 224, 3), dtype=tf.float32, name=None), TensorSpec(shape=(None,), dtype=tf.int32, name=None))>)"
      ]
     },
     "execution_count": 12,
     "metadata": {},
     "output_type": "execute_result"
    }
   ],
   "source": [
    "def normalize(image, label):\n",
    "  return tf.cast(image/255., tf.float32), label\n",
    "\n",
    "train_ds_test = train_ds_test.map(normalize)\n",
    "val_ds_test = val_ds_test.map(normalize)\n",
    "\n",
    "train_ds_test, val_ds_test"
   ]
  },
  {
   "cell_type": "markdown",
   "id": "b467bf24-62b5-4f62-a6f7-a401c4e0b32e",
   "metadata": {},
   "source": [
    "# Training"
   ]
  },
  {
   "cell_type": "code",
   "execution_count": 13,
   "id": "6c9858c6-00b0-4a6f-817c-59827d85e87e",
   "metadata": {},
   "outputs": [],
   "source": [
    "def channel_shuffle(x, groups):\n",
    "    height, width, in_channels = x.shape[1:]\n",
    "    channels_per_group = in_channels // groups\n",
    "\n",
    "    # Reshape into (batch, height, width, groups, channels_per_group)\n",
    "    x = tf.reshape(x, [-1, height, width, groups, channels_per_group])\n",
    "    x = tf.transpose(x, [0, 1, 2, 4, 3])  # Swap channels_per_group and groups\n",
    "    x = tf.reshape(x, [-1, height, width, in_channels])  # Reshape back\n",
    "    return x\n",
    "\n",
    "def shuffle_unit(inputs, out_channels, stride, groups):\n",
    "    in_channels = inputs.shape[-1]\n",
    "    half_out_channels = out_channels // 2\n",
    "\n",
    "    if stride == 2:\n",
    "        # Split channels into two groups: one for the shortcut and one for the main path\n",
    "        shortcut = DepthwiseConv2D(kernel_size=3, strides=stride, padding=\"same\", use_bias=False)(inputs)\n",
    "        shortcut = BatchNormalization()(shortcut)\n",
    "        shortcut = Conv2D(half_out_channels, kernel_size=1, padding=\"same\", use_bias=False)(shortcut)\n",
    "        shortcut = BatchNormalization()(shortcut)\n",
    "        shortcut = ReLU()(shortcut)\n",
    "\n",
    "        # Main path\n",
    "        x = Conv2D(half_out_channels, kernel_size=1, padding=\"same\", use_bias=False)(inputs)\n",
    "        x = BatchNormalization()(x)\n",
    "        x = ReLU()(x)\n",
    "        \n",
    "        x = DepthwiseConv2D(kernel_size=3, strides=stride, padding=\"same\", use_bias=False)(x)\n",
    "        x = BatchNormalization()(x)\n",
    "        \n",
    "        x = Conv2D(half_out_channels, kernel_size=1, padding=\"same\", use_bias=False)(x)\n",
    "        x = BatchNormalization()(x)\n",
    "\n",
    "        # Concatenate shortcut and main path\n",
    "        x = Concatenate()([shortcut, x])\n",
    "    else:\n",
    "        # Main path with no downsampling\n",
    "        shortcut = inputs\n",
    "        x = Conv2D(half_out_channels, kernel_size=1, padding=\"same\", use_bias=False)(inputs)\n",
    "        x = BatchNormalization()(x)\n",
    "        x = ReLU()(x)\n",
    "        \n",
    "        x = DepthwiseConv2D(kernel_size=3, strides=stride, padding=\"same\", use_bias=False)(x)\n",
    "        x = BatchNormalization()(x)\n",
    "        \n",
    "        x = Conv2D(half_out_channels, kernel_size=1, padding=\"same\", use_bias=False)(x)\n",
    "        x = BatchNormalization()(x)\n",
    "        \n",
    "        # Concatenate shortcut and main path\n",
    "        x = Concatenate()([shortcut, x])\n",
    "    \n",
    "    # Apply channel shuffle\n",
    "    x = Lambda(channel_shuffle, arguments={'groups': groups})(x)\n",
    "    \n",
    "    return x\n",
    "\n",
    "def build_shufflenet(input_shape=(224, 224, 3), num_classes=1000, groups=3):\n",
    "    inputs = Input(shape=input_shape)\n",
    "    x = Conv2D(24, kernel_size=3, strides=2, padding=\"same\", use_bias=False)(inputs)\n",
    "    x = BatchNormalization()(x)\n",
    "    x = ReLU()(x)\n",
    "    \n",
    "    x = MaxPooling2D(pool_size=3, strides=2, padding=\"same\")(x)\n",
    "\n",
    "    # Stacking ShuffleNet units\n",
    "    for out_channels, num_units, stride in [(240, 4, 2), (480, 8, 2), (960, 4, 2)]:\n",
    "        for i in range(num_units):\n",
    "            x = shuffle_unit(x, out_channels, stride if i == 0 else 1, groups)\n",
    "\n",
    "    x = GlobalAveragePooling2D()(x)\n",
    "    outputs = Dense(num_classes, activation=\"softmax\")(x)\n",
    "\n",
    "    model = tf.keras.Model(inputs, outputs)\n",
    "    return model\n",
    "\n",
    "\n",
    "model = build_shufflenet(input_shape=(224, 224, 3), num_classes=8, groups=3)\n"
   ]
  },
  {
   "cell_type": "code",
   "execution_count": 14,
   "id": "17bd121e-42d0-4f18-9004-32fb30d1aa8a",
   "metadata": {},
   "outputs": [],
   "source": [
    "model.compile(optimizer='adam',\n",
    "              loss='SparseCategoricalCrossentropy',\n",
    "              auto_scale_loss='True',\n",
    "              metrics=['accuracy'])"
   ]
  },
  {
   "cell_type": "code",
   "execution_count": 15,
   "id": "c11aa5b4-d9d7-40c8-9a76-b7fb2ba283f3",
   "metadata": {
    "editable": true,
    "scrolled": true,
    "slideshow": {
     "slide_type": ""
    },
    "tags": []
   },
   "outputs": [
    {
     "name": "stdout",
     "output_type": "stream",
     "text": [
      "Epoch 1/50\n"
     ]
    },
    {
     "name": "stderr",
     "output_type": "stream",
     "text": [
      "WARNING: All log messages before absl::InitializeLog() is called are written to STDERR\n",
      "I0000 00:00:1732624160.554898   50244 service.cc:148] XLA service 0x7f69680034c0 initialized for platform CUDA (this does not guarantee that XLA will be used). Devices:\n",
      "I0000 00:00:1732624160.556675   50244 service.cc:156]   StreamExecutor device (0): NVIDIA GeForce RTX 3050 Ti Laptop GPU, Compute Capability 8.6\n",
      "2024-11-26 07:29:21.531408: I tensorflow/compiler/mlir/tensorflow/utils/dump_mlir_util.cc:268] disabling MLIR crash reproducer, set env var `MLIR_CRASH_REPRODUCER_DIRECTORY` to enable.\n",
      "I0000 00:00:1732624163.213237   50244 cuda_dnn.cc:529] Loaded cuDNN version 90300\n",
      "2024-11-26 07:29:30.754934: E external/local_xla/xla/service/slow_operation_alarm.cc:65] Trying algorithm eng34{k2=2,k4=0,k5=0,k6=0,k7=0,k19=0} for conv (f32[8,2160,7,7]{3,2,1,0}, u8[0]{0}) custom-call(f32[8,2160,15,15]{3,2,1,0}, f32[2160,1,3,3]{3,2,1,0}), window={size=3x3 stride=2x2}, dim_labels=bf01_oi01->bf01, feature_group_count=2160, custom_call_target=\"__cudnn$convForward\", backend_config={\"cudnn_conv_backend_config\":{\"activation_mode\":\"kNone\",\"conv_result_scale\":1,\"leakyrelu_alpha\":0,\"side_input_scale\":0},\"force_earliest_schedule\":false,\"operation_queue_id\":\"0\",\"wait_on_operation_queues\":[]} is taking a while...\n",
      "2024-11-26 07:29:30.772700: E external/local_xla/xla/service/slow_operation_alarm.cc:133] The operation took 1.118496734s\n",
      "Trying algorithm eng34{k2=2,k4=0,k5=0,k6=0,k7=0,k19=0} for conv (f32[8,2160,7,7]{3,2,1,0}, u8[0]{0}) custom-call(f32[8,2160,15,15]{3,2,1,0}, f32[2160,1,3,3]{3,2,1,0}), window={size=3x3 stride=2x2}, dim_labels=bf01_oi01->bf01, feature_group_count=2160, custom_call_target=\"__cudnn$convForward\", backend_config={\"cudnn_conv_backend_config\":{\"activation_mode\":\"kNone\",\"conv_result_scale\":1,\"leakyrelu_alpha\":0,\"side_input_scale\":0},\"force_earliest_schedule\":false,\"operation_queue_id\":\"0\",\"wait_on_operation_queues\":[]} is taking a while...\n",
      "2024-11-26 07:29:33.855942: E external/local_xla/xla/service/slow_operation_alarm.cc:133] The operation took 1.076854042s\n",
      "Trying algorithm eng34{k2=2,k4=0,k5=0,k6=0,k7=0,k19=0} for conv (f32[8,2160,14,14]{3,2,1,0}, u8[0]{0}) custom-call(f32[8,2160,16,16]{3,2,1,0}, f32[2160,1,3,3]{3,2,1,0}), window={size=3x3}, dim_labels=bf01_oi01->bf01, feature_group_count=2160, custom_call_target=\"__cudnn$convForward\", backend_config={\"cudnn_conv_backend_config\":{\"activation_mode\":\"kNone\",\"conv_result_scale\":1,\"leakyrelu_alpha\":0,\"side_input_scale\":0},\"force_earliest_schedule\":false,\"operation_queue_id\":\"0\",\"wait_on_operation_queues\":[]} is taking a while...\n",
      "I0000 00:00:1732624186.544401   50244 device_compiler.h:188] Compiled cluster using XLA!  This line is logged at most once for the lifetime of the process.\n"
     ]
    },
    {
     "name": "stdout",
     "output_type": "stream",
     "text": [
      "\u001b[1m764/764\u001b[0m \u001b[32m━━━━━━━━━━━━━━━━━━━━\u001b[0m\u001b[37m\u001b[0m \u001b[1m96s\u001b[0m 77ms/step - accuracy: 0.3168 - loss: 1.8442 - val_accuracy: 0.1769 - val_loss: 2.7423\n",
      "Epoch 2/50\n",
      "\u001b[1m764/764\u001b[0m \u001b[32m━━━━━━━━━━━━━━━━━━━━\u001b[0m\u001b[37m\u001b[0m \u001b[1m30s\u001b[0m 40ms/step - accuracy: 0.4137 - loss: 1.4804 - val_accuracy: 0.4286 - val_loss: 1.8463\n",
      "Epoch 3/50\n",
      "\u001b[1m764/764\u001b[0m \u001b[32m━━━━━━━━━━━━━━━━━━━━\u001b[0m\u001b[37m\u001b[0m \u001b[1m31s\u001b[0m 40ms/step - accuracy: 0.5052 - loss: 1.2802 - val_accuracy: 0.1874 - val_loss: 6.3150\n",
      "Epoch 4/50\n",
      "\u001b[1m764/764\u001b[0m \u001b[32m━━━━━━━━━━━━━━━━━━━━\u001b[0m\u001b[37m\u001b[0m \u001b[1m31s\u001b[0m 40ms/step - accuracy: 0.5738 - loss: 1.0818 - val_accuracy: 0.4089 - val_loss: 1.9042\n",
      "Epoch 5/50\n",
      "\u001b[1m764/764\u001b[0m \u001b[32m━━━━━━━━━━━━━━━━━━━━\u001b[0m\u001b[37m\u001b[0m \u001b[1m31s\u001b[0m 40ms/step - accuracy: 0.6873 - loss: 0.8284 - val_accuracy: 0.6612 - val_loss: 1.1264\n",
      "Epoch 6/50\n",
      "\u001b[1m764/764\u001b[0m \u001b[32m━━━━━━━━━━━━━━━━━━━━\u001b[0m\u001b[37m\u001b[0m \u001b[1m31s\u001b[0m 40ms/step - accuracy: 0.8023 - loss: 0.5583 - val_accuracy: 0.8316 - val_loss: 0.4445\n",
      "Epoch 7/50\n",
      "\u001b[1m764/764\u001b[0m \u001b[32m━━━━━━━━━━━━━━━━━━━━\u001b[0m\u001b[37m\u001b[0m \u001b[1m31s\u001b[0m 40ms/step - accuracy: 0.8624 - loss: 0.4100 - val_accuracy: 0.8440 - val_loss: 0.4587\n",
      "Epoch 8/50\n",
      "\u001b[1m764/764\u001b[0m \u001b[32m━━━━━━━━━━━━━━━━━━━━\u001b[0m\u001b[37m\u001b[0m \u001b[1m31s\u001b[0m 41ms/step - accuracy: 0.9101 - loss: 0.2543 - val_accuracy: 0.8159 - val_loss: 0.6290\n",
      "Epoch 9/50\n",
      "\u001b[1m764/764\u001b[0m \u001b[32m━━━━━━━━━━━━━━━━━━━━\u001b[0m\u001b[37m\u001b[0m \u001b[1m31s\u001b[0m 40ms/step - accuracy: 0.9366 - loss: 0.1848 - val_accuracy: 0.6658 - val_loss: 1.7416\n",
      "Epoch 10/50\n",
      "\u001b[1m764/764\u001b[0m \u001b[32m━━━━━━━━━━━━━━━━━━━━\u001b[0m\u001b[37m\u001b[0m \u001b[1m31s\u001b[0m 40ms/step - accuracy: 0.9338 - loss: 0.1760 - val_accuracy: 0.9371 - val_loss: 0.2052\n",
      "Epoch 11/50\n",
      "\u001b[1m764/764\u001b[0m \u001b[32m━━━━━━━━━━━━━━━━━━━━\u001b[0m\u001b[37m\u001b[0m \u001b[1m31s\u001b[0m 40ms/step - accuracy: 0.9517 - loss: 0.1395 - val_accuracy: 0.8952 - val_loss: 0.3902\n",
      "Epoch 12/50\n",
      "\u001b[1m764/764\u001b[0m \u001b[32m━━━━━━━━━━━━━━━━━━━━\u001b[0m\u001b[37m\u001b[0m \u001b[1m31s\u001b[0m 41ms/step - accuracy: 0.9665 - loss: 0.1049 - val_accuracy: 0.8460 - val_loss: 0.5461\n",
      "Epoch 13/50\n",
      "\u001b[1m764/764\u001b[0m \u001b[32m━━━━━━━━━━━━━━━━━━━━\u001b[0m\u001b[37m\u001b[0m \u001b[1m31s\u001b[0m 41ms/step - accuracy: 0.9567 - loss: 0.1278 - val_accuracy: 0.8257 - val_loss: 0.6955\n",
      "Epoch 14/50\n",
      "\u001b[1m764/764\u001b[0m \u001b[32m━━━━━━━━━━━━━━━━━━━━\u001b[0m\u001b[37m\u001b[0m \u001b[1m32s\u001b[0m 42ms/step - accuracy: 0.9690 - loss: 0.0895 - val_accuracy: 0.9830 - val_loss: 0.0545\n",
      "Epoch 15/50\n",
      "\u001b[1m764/764\u001b[0m \u001b[32m━━━━━━━━━━━━━━━━━━━━\u001b[0m\u001b[37m\u001b[0m \u001b[1m33s\u001b[0m 43ms/step - accuracy: 0.9749 - loss: 0.0737 - val_accuracy: 0.9181 - val_loss: 0.2353\n",
      "Epoch 16/50\n",
      "\u001b[1m764/764\u001b[0m \u001b[32m━━━━━━━━━━━━━━━━━━━━\u001b[0m\u001b[37m\u001b[0m \u001b[1m32s\u001b[0m 42ms/step - accuracy: 0.9755 - loss: 0.0752 - val_accuracy: 0.9817 - val_loss: 0.0533\n",
      "Epoch 17/50\n",
      "\u001b[1m764/764\u001b[0m \u001b[32m━━━━━━━━━━━━━━━━━━━━\u001b[0m\u001b[37m\u001b[0m \u001b[1m32s\u001b[0m 42ms/step - accuracy: 0.9822 - loss: 0.0538 - val_accuracy: 0.6619 - val_loss: 2.7965\n",
      "Epoch 18/50\n",
      "\u001b[1m764/764\u001b[0m \u001b[32m━━━━━━━━━━━━━━━━━━━━\u001b[0m\u001b[37m\u001b[0m \u001b[1m33s\u001b[0m 43ms/step - accuracy: 0.9818 - loss: 0.0521 - val_accuracy: 0.9594 - val_loss: 0.1334\n",
      "Epoch 19/50\n",
      "\u001b[1m764/764\u001b[0m \u001b[32m━━━━━━━━━━━━━━━━━━━━\u001b[0m\u001b[37m\u001b[0m \u001b[1m32s\u001b[0m 42ms/step - accuracy: 0.9765 - loss: 0.0715 - val_accuracy: 0.9784 - val_loss: 0.0554\n",
      "Epoch 20/50\n",
      "\u001b[1m764/764\u001b[0m \u001b[32m━━━━━━━━━━━━━━━━━━━━\u001b[0m\u001b[37m\u001b[0m \u001b[1m30s\u001b[0m 39ms/step - accuracy: 0.9843 - loss: 0.0388 - val_accuracy: 0.9712 - val_loss: 0.0758\n",
      "Epoch 21/50\n",
      "\u001b[1m764/764\u001b[0m \u001b[32m━━━━━━━━━━━━━━━━━━━━\u001b[0m\u001b[37m\u001b[0m \u001b[1m33s\u001b[0m 43ms/step - accuracy: 0.9762 - loss: 0.0772 - val_accuracy: 0.9594 - val_loss: 0.1463\n",
      "Epoch 22/50\n",
      "\u001b[1m764/764\u001b[0m \u001b[32m━━━━━━━━━━━━━━━━━━━━\u001b[0m\u001b[37m\u001b[0m \u001b[1m32s\u001b[0m 42ms/step - accuracy: 0.9693 - loss: 0.0919 - val_accuracy: 0.9967 - val_loss: 0.0114\n",
      "Epoch 23/50\n",
      "\u001b[1m764/764\u001b[0m \u001b[32m━━━━━━━━━━━━━━━━━━━━\u001b[0m\u001b[37m\u001b[0m \u001b[1m32s\u001b[0m 41ms/step - accuracy: 0.9926 - loss: 0.0253 - val_accuracy: 0.2254 - val_loss: 32.3291\n",
      "Epoch 24/50\n",
      "\u001b[1m764/764\u001b[0m \u001b[32m━━━━━━━━━━━━━━━━━━━━\u001b[0m\u001b[37m\u001b[0m \u001b[1m32s\u001b[0m 41ms/step - accuracy: 0.9897 - loss: 0.0433 - val_accuracy: 0.9161 - val_loss: 0.3206\n",
      "Epoch 25/50\n",
      "\u001b[1m764/764\u001b[0m \u001b[32m━━━━━━━━━━━━━━━━━━━━\u001b[0m\u001b[37m\u001b[0m \u001b[1m32s\u001b[0m 42ms/step - accuracy: 0.9785 - loss: 0.0646 - val_accuracy: 0.9961 - val_loss: 0.0092\n",
      "Epoch 26/50\n",
      "\u001b[1m764/764\u001b[0m \u001b[32m━━━━━━━━━━━━━━━━━━━━\u001b[0m\u001b[37m\u001b[0m \u001b[1m32s\u001b[0m 42ms/step - accuracy: 0.9839 - loss: 0.0437 - val_accuracy: 0.9921 - val_loss: 0.0225\n",
      "Epoch 27/50\n",
      "\u001b[1m764/764\u001b[0m \u001b[32m━━━━━━━━━━━━━━━━━━━━\u001b[0m\u001b[37m\u001b[0m \u001b[1m32s\u001b[0m 41ms/step - accuracy: 0.9948 - loss: 0.0174 - val_accuracy: 0.9541 - val_loss: 0.1501\n",
      "Epoch 28/50\n",
      "\u001b[1m764/764\u001b[0m \u001b[32m━━━━━━━━━━━━━━━━━━━━\u001b[0m\u001b[37m\u001b[0m \u001b[1m31s\u001b[0m 41ms/step - accuracy: 0.9873 - loss: 0.0390 - val_accuracy: 0.9987 - val_loss: 0.0077\n",
      "Epoch 29/50\n",
      "\u001b[1m764/764\u001b[0m \u001b[32m━━━━━━━━━━━━━━━━━━━━\u001b[0m\u001b[37m\u001b[0m \u001b[1m31s\u001b[0m 41ms/step - accuracy: 0.9907 - loss: 0.0267 - val_accuracy: 1.0000 - val_loss: 0.0026\n",
      "Epoch 30/50\n",
      "\u001b[1m764/764\u001b[0m \u001b[32m━━━━━━━━━━━━━━━━━━━━\u001b[0m\u001b[37m\u001b[0m \u001b[1m32s\u001b[0m 42ms/step - accuracy: 0.9972 - loss: 0.0084 - val_accuracy: 0.9862 - val_loss: 0.0306\n",
      "Epoch 31/50\n",
      "\u001b[1m764/764\u001b[0m \u001b[32m━━━━━━━━━━━━━━━━━━━━\u001b[0m\u001b[37m\u001b[0m \u001b[1m33s\u001b[0m 44ms/step - accuracy: 0.9759 - loss: 0.0695 - val_accuracy: 0.9109 - val_loss: 0.3692\n",
      "Epoch 32/50\n",
      "\u001b[1m764/764\u001b[0m \u001b[32m━━━━━━━━━━━━━━━━━━━━\u001b[0m\u001b[37m\u001b[0m \u001b[1m33s\u001b[0m 44ms/step - accuracy: 0.9876 - loss: 0.0393 - val_accuracy: 0.9993 - val_loss: 0.0031\n",
      "Epoch 33/50\n",
      "\u001b[1m764/764\u001b[0m \u001b[32m━━━━━━━━━━━━━━━━━━━━\u001b[0m\u001b[37m\u001b[0m \u001b[1m32s\u001b[0m 42ms/step - accuracy: 0.9969 - loss: 0.0088 - val_accuracy: 1.0000 - val_loss: 0.0013\n",
      "Epoch 34/50\n",
      "\u001b[1m764/764\u001b[0m \u001b[32m━━━━━━━━━━━━━━━━━━━━\u001b[0m\u001b[37m\u001b[0m \u001b[1m30s\u001b[0m 39ms/step - accuracy: 0.9935 - loss: 0.0217 - val_accuracy: 0.9273 - val_loss: 0.2361\n",
      "Epoch 35/50\n",
      "\u001b[1m764/764\u001b[0m \u001b[32m━━━━━━━━━━━━━━━━━━━━\u001b[0m\u001b[37m\u001b[0m \u001b[1m32s\u001b[0m 42ms/step - accuracy: 0.9936 - loss: 0.0209 - val_accuracy: 0.9699 - val_loss: 0.0908\n",
      "Epoch 36/50\n",
      "\u001b[1m764/764\u001b[0m \u001b[32m━━━━━━━━━━━━━━━━━━━━\u001b[0m\u001b[37m\u001b[0m \u001b[1m32s\u001b[0m 42ms/step - accuracy: 0.9950 - loss: 0.0146 - val_accuracy: 0.7326 - val_loss: 1.3260\n",
      "Epoch 37/50\n",
      "\u001b[1m764/764\u001b[0m \u001b[32m━━━━━━━━━━━━━━━━━━━━\u001b[0m\u001b[37m\u001b[0m \u001b[1m32s\u001b[0m 42ms/step - accuracy: 0.9829 - loss: 0.0497 - val_accuracy: 1.0000 - val_loss: 6.0743e-04\n",
      "Epoch 38/50\n",
      "\u001b[1m764/764\u001b[0m \u001b[32m━━━━━━━━━━━━━━━━━━━━\u001b[0m\u001b[37m\u001b[0m \u001b[1m32s\u001b[0m 42ms/step - accuracy: 0.9968 - loss: 0.0091 - val_accuracy: 0.9705 - val_loss: 0.0902\n",
      "Epoch 39/50\n",
      "\u001b[1m764/764\u001b[0m \u001b[32m━━━━━━━━━━━━━━━━━━━━\u001b[0m\u001b[37m\u001b[0m \u001b[1m31s\u001b[0m 41ms/step - accuracy: 0.9875 - loss: 0.0316 - val_accuracy: 0.9758 - val_loss: 0.0698\n",
      "Epoch 40/50\n",
      "\u001b[1m764/764\u001b[0m \u001b[32m━━━━━━━━━━━━━━━━━━━━\u001b[0m\u001b[37m\u001b[0m \u001b[1m33s\u001b[0m 43ms/step - accuracy: 0.9968 - loss: 0.0113 - val_accuracy: 0.9784 - val_loss: 0.0728\n",
      "Epoch 41/50\n",
      "\u001b[1m764/764\u001b[0m \u001b[32m━━━━━━━━━━━━━━━━━━━━\u001b[0m\u001b[37m\u001b[0m \u001b[1m32s\u001b[0m 42ms/step - accuracy: 0.9815 - loss: 0.0511 - val_accuracy: 0.9895 - val_loss: 0.0308\n",
      "Epoch 42/50\n",
      "\u001b[1m764/764\u001b[0m \u001b[32m━━━━━━━━━━━━━━━━━━━━\u001b[0m\u001b[37m\u001b[0m \u001b[1m32s\u001b[0m 42ms/step - accuracy: 0.9977 - loss: 0.0098 - val_accuracy: 1.0000 - val_loss: 3.1449e-04\n",
      "Epoch 43/50\n",
      "\u001b[1m764/764\u001b[0m \u001b[32m━━━━━━━━━━━━━━━━━━━━\u001b[0m\u001b[37m\u001b[0m \u001b[1m32s\u001b[0m 42ms/step - accuracy: 0.9996 - loss: 0.0015 - val_accuracy: 1.0000 - val_loss: 3.9407e-04\n",
      "Epoch 44/50\n",
      "\u001b[1m764/764\u001b[0m \u001b[32m━━━━━━━━━━━━━━━━━━━━\u001b[0m\u001b[37m\u001b[0m \u001b[1m33s\u001b[0m 43ms/step - accuracy: 1.0000 - loss: 3.1005e-04 - val_accuracy: 1.0000 - val_loss: 2.2211e-04\n",
      "Epoch 45/50\n",
      "\u001b[1m764/764\u001b[0m \u001b[32m━━━━━━━━━━━━━━━━━━━━\u001b[0m\u001b[37m\u001b[0m \u001b[1m33s\u001b[0m 43ms/step - accuracy: 0.9734 - loss: 0.0915 - val_accuracy: 0.9980 - val_loss: 0.0046\n",
      "Epoch 46/50\n",
      "\u001b[1m764/764\u001b[0m \u001b[32m━━━━━━━━━━━━━━━━━━━━\u001b[0m\u001b[37m\u001b[0m \u001b[1m31s\u001b[0m 41ms/step - accuracy: 0.9989 - loss: 0.0053 - val_accuracy: 1.0000 - val_loss: 3.4233e-04\n",
      "Epoch 47/50\n",
      "\u001b[1m764/764\u001b[0m \u001b[32m━━━━━━━━━━━━━━━━━━━━\u001b[0m\u001b[37m\u001b[0m \u001b[1m32s\u001b[0m 42ms/step - accuracy: 0.9987 - loss: 0.0041 - val_accuracy: 1.0000 - val_loss: 3.6124e-04\n",
      "Epoch 48/50\n",
      "\u001b[1m764/764\u001b[0m \u001b[32m━━━━━━━━━━━━━━━━━━━━\u001b[0m\u001b[37m\u001b[0m \u001b[1m32s\u001b[0m 42ms/step - accuracy: 0.9946 - loss: 0.0188 - val_accuracy: 0.9830 - val_loss: 0.0432\n",
      "Epoch 49/50\n",
      "\u001b[1m764/764\u001b[0m \u001b[32m━━━━━━━━━━━━━━━━━━━━\u001b[0m\u001b[37m\u001b[0m \u001b[1m33s\u001b[0m 43ms/step - accuracy: 0.9955 - loss: 0.0166 - val_accuracy: 0.9993 - val_loss: 0.0017\n",
      "Epoch 50/50\n",
      "\u001b[1m764/764\u001b[0m \u001b[32m━━━━━━━━━━━━━━━━━━━━\u001b[0m\u001b[37m\u001b[0m \u001b[1m32s\u001b[0m 42ms/step - accuracy: 0.9990 - loss: 0.0031 - val_accuracy: 0.9581 - val_loss: 0.1591\n"
     ]
    }
   ],
   "source": [
    "epochs = 50\n",
    "history = model.fit(train_ds,\n",
    "                    validation_data=val_ds,\n",
    "                    batch_size = batch_size_n,\n",
    "                    epochs=epochs)"
   ]
  },
  {
   "cell_type": "markdown",
   "id": "92fb6c1d-90c6-4355-8134-130251274bf3",
   "metadata": {},
   "source": [
    "# Evaluating"
   ]
  },
  {
   "cell_type": "code",
   "execution_count": 16,
   "id": "51774837-ecf3-4bcd-bd0a-391fd9809abb",
   "metadata": {
    "scrolled": true
   },
   "outputs": [
    {
     "data": {
      "text/plain": [
       "{'accuracy': [0.35031116008758545,\n",
       "  0.4359646141529083,\n",
       "  0.5262037515640259,\n",
       "  0.6057975888252258,\n",
       "  0.7207664847373962,\n",
       "  0.8170651793479919,\n",
       "  0.8773337602615356,\n",
       "  0.9145103096961975,\n",
       "  0.9371110200881958,\n",
       "  0.9358008503913879,\n",
       "  0.9588928818702698,\n",
       "  0.9647887349128723,\n",
       "  0.961840808391571,\n",
       "  0.972649872303009,\n",
       "  0.9742875695228577,\n",
       "  0.9741238355636597,\n",
       "  0.9785456657409668,\n",
       "  0.9777268171310425,\n",
       "  0.9849328398704529,\n",
       "  0.9824762344360352,\n",
       "  0.9860792756080627,\n",
       "  0.9787094593048096,\n",
       "  0.9934490919113159,\n",
       "  0.9818211793899536,\n",
       "  0.9872256517410278,\n",
       "  0.9846053123474121,\n",
       "  0.9918113350868225,\n",
       "  0.9873894453048706,\n",
       "  0.9932852983474731,\n",
       "  0.9975433945655823,\n",
       "  0.9780543446540833,\n",
       "  0.9906648993492126,\n",
       "  0.9972158670425415,\n",
       "  0.9877169728279114,\n",
       "  0.9949230551719666,\n",
       "  0.9955781102180481,\n",
       "  0.98591548204422,\n",
       "  0.9965607523918152,\n",
       "  0.9901735782623291,\n",
       "  0.996888279914856,\n",
       "  0.9895185232162476,\n",
       "  0.9986898303031921,\n",
       "  0.9998362064361572,\n",
       "  1.0,\n",
       "  0.9769079685211182,\n",
       "  0.9995086789131165,\n",
       "  0.9988535642623901,\n",
       "  0.9882082939147949,\n",
       "  0.996888279914856,\n",
       "  0.9983622431755066],\n",
       " 'loss': [1.6822291612625122,\n",
       "  1.4365408420562744,\n",
       "  1.223143458366394,\n",
       "  1.0118716955184937,\n",
       "  0.7425091862678528,\n",
       "  0.5068696141242981,\n",
       "  0.3465394973754883,\n",
       "  0.24066466093063354,\n",
       "  0.17581047117710114,\n",
       "  0.17803920805454254,\n",
       "  0.1167776957154274,\n",
       "  0.09889856725931168,\n",
       "  0.10900165885686874,\n",
       "  0.07530491054058075,\n",
       "  0.07553959637880325,\n",
       "  0.0794726088643074,\n",
       "  0.06535587459802628,\n",
       "  0.06657948344945908,\n",
       "  0.04814750328660011,\n",
       "  0.05225658044219017,\n",
       "  0.045836832374334335,\n",
       "  0.06281215697526932,\n",
       "  0.021910477429628372,\n",
       "  0.06722400337457657,\n",
       "  0.0373670868575573,\n",
       "  0.042069341987371445,\n",
       "  0.025873245671391487,\n",
       "  0.040778908878564835,\n",
       "  0.022289469838142395,\n",
       "  0.008731568232178688,\n",
       "  0.0674973577260971,\n",
       "  0.028369275853037834,\n",
       "  0.007482865359634161,\n",
       "  0.03589026257395744,\n",
       "  0.015627549961209297,\n",
       "  0.014709843322634697,\n",
       "  0.04116620495915413,\n",
       "  0.011419861577451229,\n",
       "  0.026846107095479965,\n",
       "  0.010591511614620686,\n",
       "  0.030313849449157715,\n",
       "  0.0058201989158988,\n",
       "  0.0011025059502571821,\n",
       "  0.00048102083383128047,\n",
       "  0.07908854633569717,\n",
       "  0.0032908550929278135,\n",
       "  0.003985316026955843,\n",
       "  0.03781596198678017,\n",
       "  0.011216706596314907,\n",
       "  0.004549222532659769],\n",
       " 'val_accuracy': [0.176933154463768,\n",
       "  0.4285714328289032,\n",
       "  0.18741808831691742,\n",
       "  0.40891218185424805,\n",
       "  0.6612057685852051,\n",
       "  0.8315858244895935,\n",
       "  0.8440366983413696,\n",
       "  0.8158584237098694,\n",
       "  0.6657929420471191,\n",
       "  0.9370904564857483,\n",
       "  0.8951507210731506,\n",
       "  0.8460026383399963,\n",
       "  0.8256880640983582,\n",
       "  0.9829620122909546,\n",
       "  0.9180865287780762,\n",
       "  0.9816513657569885,\n",
       "  0.6618610620498657,\n",
       "  0.9593709111213684,\n",
       "  0.9783748388290405,\n",
       "  0.9711664319038391,\n",
       "  0.9593709111213684,\n",
       "  0.996723473072052,\n",
       "  0.22542594373226166,\n",
       "  0.9161205887794495,\n",
       "  0.9960681796073914,\n",
       "  0.9921362996101379,\n",
       "  0.9541284441947937,\n",
       "  0.9986894130706787,\n",
       "  1.0,\n",
       "  0.9862385392189026,\n",
       "  0.9108781218528748,\n",
       "  0.9993447065353394,\n",
       "  1.0,\n",
       "  0.9272608160972595,\n",
       "  0.9698558449745178,\n",
       "  0.7326343655586243,\n",
       "  1.0,\n",
       "  0.9705111384391785,\n",
       "  0.9757536053657532,\n",
       "  0.9783748388290405,\n",
       "  0.9895150661468506,\n",
       "  1.0,\n",
       "  1.0,\n",
       "  1.0,\n",
       "  0.9980340600013733,\n",
       "  1.0,\n",
       "  1.0,\n",
       "  0.9829620122909546,\n",
       "  0.9993447065353394,\n",
       "  0.9580602645874023],\n",
       " 'val_loss': [2.7422635555267334,\n",
       "  1.8462555408477783,\n",
       "  6.3149847984313965,\n",
       "  1.9041645526885986,\n",
       "  1.1263952255249023,\n",
       "  0.44447189569473267,\n",
       "  0.45866456627845764,\n",
       "  0.6289635300636292,\n",
       "  1.7415852546691895,\n",
       "  0.20524747669696808,\n",
       "  0.39017215371131897,\n",
       "  0.5460643768310547,\n",
       "  0.6955003142356873,\n",
       "  0.05453411862254143,\n",
       "  0.23526981472969055,\n",
       "  0.053255923092365265,\n",
       "  2.796466827392578,\n",
       "  0.13341505825519562,\n",
       "  0.05544468015432358,\n",
       "  0.07578478753566742,\n",
       "  0.1462887078523636,\n",
       "  0.011437609791755676,\n",
       "  32.32908248901367,\n",
       "  0.32057327032089233,\n",
       "  0.009201845154166222,\n",
       "  0.022500351071357727,\n",
       "  0.15014661848545074,\n",
       "  0.007702650502324104,\n",
       "  0.00256479368545115,\n",
       "  0.030563611537218094,\n",
       "  0.3691560924053192,\n",
       "  0.003119200235232711,\n",
       "  0.0012559633469209075,\n",
       "  0.23612065613269806,\n",
       "  0.09076571464538574,\n",
       "  1.3260267972946167,\n",
       "  0.0006074326811358333,\n",
       "  0.09021268784999847,\n",
       "  0.06984205543994904,\n",
       "  0.07275617867708206,\n",
       "  0.030828578397631645,\n",
       "  0.0003144853690173477,\n",
       "  0.0003940690658055246,\n",
       "  0.0002221083705080673,\n",
       "  0.004641513340175152,\n",
       "  0.0003423272573854774,\n",
       "  0.0003612419532146305,\n",
       "  0.04321509599685669,\n",
       "  0.001663765637204051,\n",
       "  0.15908870100975037]}"
      ]
     },
     "execution_count": 16,
     "metadata": {},
     "output_type": "execute_result"
    }
   ],
   "source": [
    "history.history"
   ]
  },
  {
   "cell_type": "code",
   "execution_count": 17,
   "id": "4e9c81ec-3038-4cc2-b871-1cd3b6771d6d",
   "metadata": {},
   "outputs": [
    {
     "data": {
      "image/png": "[encoded data removed]",
      "text/plain": [
       "<Figure size 640x480 with 1 Axes>"
      ]
     },
     "metadata": {},
     "output_type": "display_data"
    }
   ],
   "source": [
    "plt.plot(history.history['loss'])\n",
    "plt.plot(history.history['val_loss'])\n",
    "plt.title('Model Loss')\n",
    "plt.ylabel('Loss')\n",
    "plt.xlabel('Epoch')\n",
    "plt.legend(['Train', 'Val'], loc='upper right')\n",
    "plt.show()"
   ]
  },
  {
   "cell_type": "code",
   "execution_count": 18,
   "id": "c06c861a-ce21-4344-b736-dcda0b9a2c0d",
   "metadata": {},
   "outputs": [
    {
     "data": {
      "image/png": "[encoded data removed]",
      "text/plain": [
       "<Figure size 640x480 with 1 Axes>"
      ]
     },
     "metadata": {},
     "output_type": "display_data"
    }
   ],
   "source": [
    "plt.plot(history.history['accuracy'])\n",
    "plt.plot(history.history['val_accuracy'])\n",
    "plt.title('Model Accuracy')\n",
    "plt.ylabel('Accuracy')\n",
    "plt.xlabel('Epoch')\n",
    "plt.legend(['Train', 'Val'], loc='lower right')\n",
    "plt.show()"
   ]
  },
  {
   "cell_type": "code",
   "execution_count": 19,
   "id": "1a578ee8-e4a1-4bcf-8269-8a535db47718",
   "metadata": {},
   "outputs": [
    {
     "name": "stdout",
     "output_type": "stream",
     "text": [
      "191/191 - 2s - 12ms/step - accuracy: 0.9581 - loss: 0.1591\n"
     ]
    }
   ],
   "source": [
    "test_loss, test_acc = model.evaluate(val_ds, verbose=2)"
   ]
  },
  {
   "cell_type": "code",
   "execution_count": 20,
   "id": "1b52fca2-bc2e-42d1-b462-fe94cf754a26",
   "metadata": {},
   "outputs": [
    {
     "name": "stdout",
     "output_type": "stream",
     "text": [
      "0.9580602645874023\n"
     ]
    }
   ],
   "source": [
    "print(test_acc)"
   ]
  },
  {
   "cell_type": "code",
   "execution_count": 21,
   "id": "0b786510-462b-4207-b168-00c9c3d31d84",
   "metadata": {},
   "outputs": [
    {
     "name": "stdout",
     "output_type": "stream",
     "text": [
      "\u001b[1m22/22\u001b[0m \u001b[32m━━━━━━━━━━━━━━━━━━━━\u001b[0m\u001b[37m\u001b[0m \u001b[1m5s\u001b[0m 135ms/step\n"
     ]
    }
   ],
   "source": [
    "predictions = model.predict(train_ds_test)\n",
    "val_pred = np.argmax(predictions, axis=1)"
   ]
  },
  {
   "cell_type": "code",
   "execution_count": 22,
   "id": "d9ae6622-1c1e-4bd3-b87f-e0bb86656fb5",
   "metadata": {},
   "outputs": [
    {
     "name": "stdout",
     "output_type": "stream",
     "text": [
      "\u001b[1m1/1\u001b[0m \u001b[32m━━━━━━━━━━━━━━━━━━━━\u001b[0m\u001b[37m\u001b[0m \u001b[1m2s\u001b[0m 2s/step\n",
      "\u001b[1m1/1\u001b[0m \u001b[32m━━━━━━━━━━━━━━━━━━━━\u001b[0m\u001b[37m\u001b[0m \u001b[1m0s\u001b[0m 21ms/step\n",
      "\u001b[1m1/1\u001b[0m \u001b[32m━━━━━━━━━━━━━━━━━━━━\u001b[0m\u001b[37m\u001b[0m \u001b[1m0s\u001b[0m 21ms/step\n",
      "\u001b[1m1/1\u001b[0m \u001b[32m━━━━━━━━━━━━━━━━━━━━\u001b[0m\u001b[37m\u001b[0m \u001b[1m0s\u001b[0m 21ms/step\n",
      "\u001b[1m1/1\u001b[0m \u001b[32m━━━━━━━━━━━━━━━━━━━━\u001b[0m\u001b[37m\u001b[0m \u001b[1m0s\u001b[0m 20ms/step\n",
      "\u001b[1m1/1\u001b[0m \u001b[32m━━━━━━━━━━━━━━━━━━━━\u001b[0m\u001b[37m\u001b[0m \u001b[1m2s\u001b[0m 2s/step\n"
     ]
    },
    {
     "name": "stderr",
     "output_type": "stream",
     "text": [
      "2024-11-26 07:56:56.544696: I tensorflow/core/framework/local_rendezvous.cc:405] Local rendezvous is aborting with status: OUT_OF_RANGE: End of sequence\n"
     ]
    }
   ],
   "source": [
    "y_true = []\n",
    "y_pred = []\n",
    "for images, labels in val_ds_test:\n",
    "  # Make predictions on the batch\n",
    "  batch_pred = model.predict(images)\n",
    "  y_pred.extend(list(batch_pred.argmax(axis=1)))  # Predicted labels\n",
    "  y_true.extend(list(labels.numpy()))  # True labels from the batch\n",
    "\n",
    "# Calculate the confusion matrix\n",
    "cm = confusion_matrix(y_true, y_pred)"
   ]
  },
  {
   "cell_type": "code",
   "execution_count": 23,
   "id": "5953d22b-7e68-4cc6-9b9b-8b2ba0285ead",
   "metadata": {},
   "outputs": [
    {
     "data": {
      "text/plain": [
       "<sklearn.metrics._plot.confusion_matrix.ConfusionMatrixDisplay at 0x7f695c80bc80>"
      ]
     },
     "execution_count": 23,
     "metadata": {},
     "output_type": "execute_result"
    },
    {
     "data": {
      "image/png": "[encoded data removed]",
      "text/plain": [
       "<Figure size 640x480 with 2 Axes>"
      ]
     },
     "metadata": {},
     "output_type": "display_data"
    }
   ],
   "source": [
    "disp = ConfusionMatrixDisplay(cm, display_labels=classes_,)\n",
    "disp.plot()"
   ]
  },
  {
   "cell_type": "code",
   "execution_count": 24,
   "id": "8cd922a6-18b1-46ee-8aec-e53f0e9ecf52",
   "metadata": {},
   "outputs": [
    {
     "name": "stdout",
     "output_type": "stream",
     "text": [
      "              precision    recall  f1-score   support\n",
      "\n",
      "           0       1.00      0.50      0.67         2\n",
      "           1       0.85      1.00      0.92        11\n",
      "           2       1.00      1.00      1.00         1\n",
      "           3       1.00      0.95      0.97        19\n",
      "           4       1.00      1.00      1.00         3\n",
      "           5       1.00      1.00      1.00         1\n",
      "           6       1.00      1.00      1.00         4\n",
      "           7       1.00      1.00      1.00         1\n",
      "\n",
      "    accuracy                           0.95        42\n",
      "   macro avg       0.98      0.93      0.94        42\n",
      "weighted avg       0.96      0.95      0.95        42\n",
      "\n"
     ]
    }
   ],
   "source": [
    "report = classification_report(y_true, y_pred)\n",
    "print(report)"
   ]
  },
  {
   "cell_type": "markdown",
   "id": "b203e32f-abd1-4075-a5a7-7461c781e37a",
   "metadata": {},
   "source": [
    "# Save"
   ]
  },
  {
   "cell_type": "code",
   "execution_count": 25,
   "id": "b4b51055-e566-44b7-b094-786143bfa999",
   "metadata": {},
   "outputs": [],
   "source": [
    "# model.save('models/breast_cancer_classification-shufflenet.h5')"
   ]
  }
 ],
 "metadata": {
  "kernelspec": {
   "display_name": "Python 3 (ipykernel)",
   "language": "python",
   "name": "python3"
  },
  "language_info": {
   "codemirror_mode": {
    "name": "ipython",
    "version": 3
   },
   "file_extension": ".py",
   "mimetype": "text/x-python",
   "name": "python",
   "nbconvert_exporter": "python",
   "pygments_lexer": "ipython3",
   "version": "3.12.7"
  }
 },
 "nbformat": 4,
 "nbformat_minor": 5
}
