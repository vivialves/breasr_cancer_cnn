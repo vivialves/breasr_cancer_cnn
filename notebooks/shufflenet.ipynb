{
 "cells": [
  {
   "cell_type": "markdown",
   "id": "e24c57d0-7233-4937-ada6-bf5dbbdb3bce",
   "metadata": {},
   "source": [
    "# ShuffleNet"
   ]
  },
  {
   "cell_type": "code",
   "execution_count": 1,
   "id": "ce6e16e2-b385-406a-90d8-5445918d8099",
   "metadata": {},
   "outputs": [],
   "source": [
    "import os\n",
    "import numpy as np\n",
    "import pandas as pd"
   ]
  },
  {
   "cell_type": "code",
   "execution_count": 2,
   "id": "a1274f1c-c4c6-485a-98ad-ffe0be69a80b",
   "metadata": {},
   "outputs": [
    {
     "name": "stderr",
     "output_type": "stream",
     "text": [
      "2024-11-07 00:05:42.692781: I tensorflow/core/util/port.cc:153] oneDNN custom operations are on. You may see slightly different numerical results due to floating-point round-off errors from different computation orders. To turn them off, set the environment variable `TF_ENABLE_ONEDNN_OPTS=0`.\n",
      "2024-11-07 00:05:42.837118: E external/local_xla/xla/stream_executor/cuda/cuda_fft.cc:477] Unable to register cuFFT factory: Attempting to register factory for plugin cuFFT when one has already been registered\n",
      "WARNING: All log messages before absl::InitializeLog() is called are written to STDERR\n",
      "E0000 00:00:1730955942.902322     526 cuda_dnn.cc:8310] Unable to register cuDNN factory: Attempting to register factory for plugin cuDNN when one has already been registered\n",
      "E0000 00:00:1730955942.919368     526 cuda_blas.cc:1418] Unable to register cuBLAS factory: Attempting to register factory for plugin cuBLAS when one has already been registered\n",
      "2024-11-07 00:05:43.058276: I tensorflow/core/platform/cpu_feature_guard.cc:210] This TensorFlow binary is optimized to use available CPU instructions in performance-critical operations.\n",
      "To enable the following instructions: AVX2 AVX_VNNI FMA, in other operations, rebuild TensorFlow with the appropriate compiler flags.\n"
     ]
    }
   ],
   "source": [
    "import matplotlib.pyplot as plt\n",
    "import tensorflow as tf\n",
    "import keras as K\n",
    "from sklearn.metrics import confusion_matrix, ConfusionMatrixDisplay\n",
    "from sklearn.metrics import classification_report\n",
    "# from tensorflow.keras import datasets, layers, models\n",
    "\n",
    "from tensorflow.keras.models import Model\n",
    "\n",
    "from tensorflow.keras.layers import (Input, Conv2D, BatchNormalization, ReLU, \n",
    "                                    MaxPooling2D, Add, GlobalAveragePooling2D, \n",
    "                                    Dense, DepthwiseConv2D, Lambda, Reshape, \n",
    "                                    Concatenate)"
   ]
  },
  {
   "cell_type": "markdown",
   "id": "9fe2843e-b9d7-4d74-96f1-244a971ee861",
   "metadata": {},
   "source": [
    "# Preparation for trainning - Train Split"
   ]
  },
  {
   "cell_type": "code",
   "execution_count": 3,
   "id": "774e9e3e-a1b0-4fc6-9045-04cb89247f89",
   "metadata": {},
   "outputs": [
    {
     "name": "stdout",
     "output_type": "stream",
     "text": [
      "Found 7632 files belonging to 8 classes.\n",
      "Using 6106 files for training.\n"
     ]
    },
    {
     "name": "stderr",
     "output_type": "stream",
     "text": [
      "I0000 00:00:1730955947.874078     526 gpu_device.cc:2022] Created device /job:localhost/replica:0/task:0/device:GPU:0 with 1756 MB memory:  -> device: 0, name: NVIDIA GeForce RTX 3050 Ti Laptop GPU, pci bus id: 0000:01:00.0, compute capability: 8.6\n"
     ]
    }
   ],
   "source": [
    "train_ds = tf.keras.preprocessing.image_dataset_from_directory(\n",
    "    'Dataset of Breast mammography images with Masses/Image After Data Augmentation, Image Size 224x224/',\n",
    "    validation_split=0.2,\n",
    "    subset='training',\n",
    "    seed=123,\n",
    "    image_size=(224, 224),\n",
    "    batch_size=32,\n",
    ")"
   ]
  },
  {
   "cell_type": "code",
   "execution_count": 4,
   "id": "62e3e0af-fa70-43c4-8fda-0196c3fe14dc",
   "metadata": {},
   "outputs": [
    {
     "data": {
      "text/plain": [
       "8"
      ]
     },
     "execution_count": 4,
     "metadata": {},
     "output_type": "execute_result"
    }
   ],
   "source": [
    "classes_ = train_ds.class_names\n",
    "len(classes_)"
   ]
  },
  {
   "cell_type": "code",
   "execution_count": 5,
   "id": "2ddc9797-7c91-4cdb-b66c-99de0bc4bd61",
   "metadata": {},
   "outputs": [
    {
     "name": "stdout",
     "output_type": "stream",
     "text": [
      "Found 7632 files belonging to 8 classes.\n",
      "Using 1526 files for validation.\n"
     ]
    }
   ],
   "source": [
    "val_ds = tf.keras.preprocessing.image_dataset_from_directory(\n",
    "    'Dataset of Breast mammography images with Masses/Image After Data Augmentation, Image Size 224x224/',\n",
    "    validation_split=0.2,\n",
    "    subset='validation',\n",
    "    seed=123,\n",
    "    image_size=(224, 224),\n",
    "    batch_size=32,\n",
    ")"
   ]
  },
  {
   "cell_type": "code",
   "execution_count": 6,
   "id": "24348253-78d1-4d12-9c53-8d69b31ee483",
   "metadata": {},
   "outputs": [
    {
     "data": {
      "text/plain": [
       "(<_MapDataset element_spec=(TensorSpec(shape=(None, 224, 224, 3), dtype=tf.float32, name=None), TensorSpec(shape=(None,), dtype=tf.int32, name=None))>,\n",
       " <_MapDataset element_spec=(TensorSpec(shape=(None, 224, 224, 3), dtype=tf.float32, name=None), TensorSpec(shape=(None,), dtype=tf.int32, name=None))>)"
      ]
     },
     "execution_count": 6,
     "metadata": {},
     "output_type": "execute_result"
    }
   ],
   "source": [
    "def normalize(image, label):\n",
    "  return tf.cast(image/255., tf.float32), label\n",
    "\n",
    "train_ds = train_ds.map(normalize)\n",
    "val_ds = val_ds.map(normalize)\n",
    "\n",
    "train_ds, val_ds"
   ]
  },
  {
   "cell_type": "markdown",
   "id": "0fd3a4fe-3d6b-44eb-a532-0dcb7d2bfbd9",
   "metadata": {},
   "source": [
    "# Preparation for trainning - Test Split"
   ]
  },
  {
   "cell_type": "code",
   "execution_count": 7,
   "id": "52c31329-3694-410e-8a3b-127fc151b59e",
   "metadata": {},
   "outputs": [
    {
     "name": "stdout",
     "output_type": "stream",
     "text": [
      "Found 212 files belonging to 8 classes.\n",
      "Using 170 files for training.\n"
     ]
    }
   ],
   "source": [
    "train_ds_test = tf.keras.preprocessing.image_dataset_from_directory(\n",
    "    'Dataset of Breast mammography images with Masses/Image Before Data Augmentation, Image Size 224x224/',\n",
    "    validation_split=0.2,\n",
    "    subset='training',\n",
    "    seed=123,\n",
    "    image_size=(224, 224),\n",
    "    batch_size=32,\n",
    ")"
   ]
  },
  {
   "cell_type": "code",
   "execution_count": 8,
   "id": "fe08e1b3-d1a3-4f2e-8e2b-2bece91021af",
   "metadata": {},
   "outputs": [
    {
     "name": "stdout",
     "output_type": "stream",
     "text": [
      "Found 212 files belonging to 8 classes.\n",
      "Using 42 files for validation.\n"
     ]
    }
   ],
   "source": [
    "val_ds_test = tf.keras.preprocessing.image_dataset_from_directory(\n",
    "    'Dataset of Breast mammography images with Masses/Image Before Data Augmentation, Image Size 224x224/',\n",
    "    validation_split=0.2,\n",
    "    subset='validation',\n",
    "    seed=123,\n",
    "    image_size=(224, 224),\n",
    "    batch_size=32,\n",
    ")"
   ]
  },
  {
   "cell_type": "code",
   "execution_count": 9,
   "id": "1631f2f6-0748-4678-85da-7c455379f0a8",
   "metadata": {},
   "outputs": [
    {
     "data": {
      "text/plain": [
       "(<_MapDataset element_spec=(TensorSpec(shape=(None, 224, 224, 3), dtype=tf.float32, name=None), TensorSpec(shape=(None,), dtype=tf.int32, name=None))>,\n",
       " <_MapDataset element_spec=(TensorSpec(shape=(None, 224, 224, 3), dtype=tf.float32, name=None), TensorSpec(shape=(None,), dtype=tf.int32, name=None))>)"
      ]
     },
     "execution_count": 9,
     "metadata": {},
     "output_type": "execute_result"
    }
   ],
   "source": [
    "def normalize(image, label):\n",
    "  return tf.cast(image/255., tf.float32), label\n",
    "\n",
    "train_ds_test = train_ds_test.map(normalize)\n",
    "val_ds_test = val_ds_test.map(normalize)\n",
    "\n",
    "train_ds_test, val_ds_test"
   ]
  },
  {
   "cell_type": "markdown",
   "id": "b467bf24-62b5-4f62-a6f7-a401c4e0b32e",
   "metadata": {},
   "source": [
    "# Training"
   ]
  },
  {
   "cell_type": "code",
   "execution_count": 10,
   "id": "6c9858c6-00b0-4a6f-817c-59827d85e87e",
   "metadata": {},
   "outputs": [],
   "source": [
    "def channel_shuffle(x, groups):\n",
    "    height, width, in_channels = x.shape[1:]\n",
    "    channels_per_group = in_channels // groups\n",
    "\n",
    "    # Reshape into (batch, height, width, groups, channels_per_group)\n",
    "    x = tf.reshape(x, [-1, height, width, groups, channels_per_group])\n",
    "    x = tf.transpose(x, [0, 1, 2, 4, 3])  # Swap channels_per_group and groups\n",
    "    x = tf.reshape(x, [-1, height, width, in_channels])  # Reshape back\n",
    "    return x\n",
    "\n",
    "def shuffle_unit(inputs, out_channels, stride, groups):\n",
    "    in_channels = inputs.shape[-1]\n",
    "    half_out_channels = out_channels // 2\n",
    "\n",
    "    if stride == 2:\n",
    "        # Split channels into two groups: one for the shortcut and one for the main path\n",
    "        shortcut = DepthwiseConv2D(kernel_size=3, strides=stride, padding=\"same\", use_bias=False)(inputs)\n",
    "        shortcut = BatchNormalization()(shortcut)\n",
    "        shortcut = Conv2D(half_out_channels, kernel_size=1, padding=\"same\", use_bias=False)(shortcut)\n",
    "        shortcut = BatchNormalization()(shortcut)\n",
    "        shortcut = ReLU()(shortcut)\n",
    "\n",
    "        # Main path\n",
    "        x = Conv2D(half_out_channels, kernel_size=1, padding=\"same\", use_bias=False)(inputs)\n",
    "        x = BatchNormalization()(x)\n",
    "        x = ReLU()(x)\n",
    "        \n",
    "        x = DepthwiseConv2D(kernel_size=3, strides=stride, padding=\"same\", use_bias=False)(x)\n",
    "        x = BatchNormalization()(x)\n",
    "        \n",
    "        x = Conv2D(half_out_channels, kernel_size=1, padding=\"same\", use_bias=False)(x)\n",
    "        x = BatchNormalization()(x)\n",
    "\n",
    "        # Concatenate shortcut and main path\n",
    "        x = Concatenate()([shortcut, x])\n",
    "    else:\n",
    "        # Main path with no downsampling\n",
    "        shortcut = inputs\n",
    "        x = Conv2D(half_out_channels, kernel_size=1, padding=\"same\", use_bias=False)(inputs)\n",
    "        x = BatchNormalization()(x)\n",
    "        x = ReLU()(x)\n",
    "        \n",
    "        x = DepthwiseConv2D(kernel_size=3, strides=stride, padding=\"same\", use_bias=False)(x)\n",
    "        x = BatchNormalization()(x)\n",
    "        \n",
    "        x = Conv2D(half_out_channels, kernel_size=1, padding=\"same\", use_bias=False)(x)\n",
    "        x = BatchNormalization()(x)\n",
    "        \n",
    "        # Concatenate shortcut and main path\n",
    "        x = Concatenate()([shortcut, x])\n",
    "    \n",
    "    # Apply channel shuffle\n",
    "    x = Lambda(channel_shuffle, arguments={'groups': groups})(x)\n",
    "    \n",
    "    return x\n",
    "\n",
    "def build_shufflenet(input_shape=(224, 224, 3), num_classes=1000, groups=3):\n",
    "    inputs = Input(shape=input_shape)\n",
    "    x = Conv2D(24, kernel_size=3, strides=2, padding=\"same\", use_bias=False)(inputs)\n",
    "    x = BatchNormalization()(x)\n",
    "    x = ReLU()(x)\n",
    "    \n",
    "    x = MaxPooling2D(pool_size=3, strides=2, padding=\"same\")(x)\n",
    "\n",
    "    # Stacking ShuffleNet units\n",
    "    for out_channels, num_units, stride in [(240, 4, 2), (480, 8, 2), (960, 4, 2)]:\n",
    "        for i in range(num_units):\n",
    "            x = shuffle_unit(x, out_channels, stride if i == 0 else 1, groups)\n",
    "\n",
    "    x = GlobalAveragePooling2D()(x)\n",
    "    outputs = Dense(num_classes, activation=\"softmax\")(x)\n",
    "\n",
    "    model = tf.keras.Model(inputs, outputs)\n",
    "    return model\n",
    "\n",
    "\n",
    "model = build_shufflenet(input_shape=(224, 224, 3), num_classes=8, groups=3)\n"
   ]
  },
  {
   "cell_type": "code",
   "execution_count": 11,
   "id": "17bd121e-42d0-4f18-9004-32fb30d1aa8a",
   "metadata": {},
   "outputs": [],
   "source": [
    "model.compile(optimizer='adam',\n",
    "              loss='SparseCategoricalCrossentropy',\n",
    "              metrics=['accuracy'])"
   ]
  },
  {
   "cell_type": "code",
   "execution_count": 12,
   "id": "c11aa5b4-d9d7-40c8-9a76-b7fb2ba283f3",
   "metadata": {
    "editable": true,
    "slideshow": {
     "slide_type": ""
    },
    "tags": []
   },
   "outputs": [
    {
     "name": "stdout",
     "output_type": "stream",
     "text": [
      "Epoch 1/30\n"
     ]
    },
    {
     "name": "stderr",
     "output_type": "stream",
     "text": [
      "WARNING: All log messages before absl::InitializeLog() is called are written to STDERR\n",
      "I0000 00:00:1730955962.624244     621 service.cc:148] XLA service 0x7ff068002960 initialized for platform CUDA (this does not guarantee that XLA will be used). Devices:\n",
      "I0000 00:00:1730955962.624858     621 service.cc:156]   StreamExecutor device (0): NVIDIA GeForce RTX 3050 Ti Laptop GPU, Compute Capability 8.6\n",
      "2024-11-07 00:06:03.110434: I tensorflow/compiler/mlir/tensorflow/utils/dump_mlir_util.cc:268] disabling MLIR crash reproducer, set env var `MLIR_CRASH_REPRODUCER_DIRECTORY` to enable.\n",
      "I0000 00:00:1730955964.479915     621 cuda_dnn.cc:529] Loaded cuDNN version 90300\n",
      "2024-11-07 00:06:16.425250: E external/local_xla/xla/service/slow_operation_alarm.cc:65] Trying algorithm eng34{k2=2,k4=0,k5=0,k6=0,k7=0,k19=0} for conv (f32[32,2160,14,14]{3,2,1,0}, u8[0]{0}) custom-call(f32[32,2160,16,16]{3,2,1,0}, f32[2160,1,3,3]{3,2,1,0}), window={size=3x3}, dim_labels=bf01_oi01->bf01, feature_group_count=2160, custom_call_target=\"__cudnn$convForward\", backend_config={\"cudnn_conv_backend_config\":{\"activation_mode\":\"kNone\",\"conv_result_scale\":1,\"leakyrelu_alpha\":0,\"side_input_scale\":0},\"force_earliest_schedule\":false,\"operation_queue_id\":\"0\",\"wait_on_operation_queues\":[]} is taking a while...\n",
      "2024-11-07 00:06:16.587764: E external/local_xla/xla/service/slow_operation_alarm.cc:133] The operation took 1.162600161s\n",
      "Trying algorithm eng34{k2=2,k4=0,k5=0,k6=0,k7=0,k19=0} for conv (f32[32,2160,14,14]{3,2,1,0}, u8[0]{0}) custom-call(f32[32,2160,16,16]{3,2,1,0}, f32[2160,1,3,3]{3,2,1,0}), window={size=3x3}, dim_labels=bf01_oi01->bf01, feature_group_count=2160, custom_call_target=\"__cudnn$convForward\", backend_config={\"cudnn_conv_backend_config\":{\"activation_mode\":\"kNone\",\"conv_result_scale\":1,\"leakyrelu_alpha\":0,\"side_input_scale\":0},\"force_earliest_schedule\":false,\"operation_queue_id\":\"0\",\"wait_on_operation_queues\":[]} is taking a while...\n",
      "I0000 00:00:1730955992.881520     621 device_compiler.h:188] Compiled cluster using XLA!  This line is logged at most once for the lifetime of the process.\n"
     ]
    },
    {
     "name": "stdout",
     "output_type": "stream",
     "text": [
      "\u001b[1m191/191\u001b[0m \u001b[32m━━━━━━━━━━━━━━━━━━━━\u001b[0m\u001b[37m\u001b[0m \u001b[1m103s\u001b[0m 318ms/step - accuracy: 0.3423 - loss: 1.7836 - val_accuracy: 0.3028 - val_loss: 1.9502\n",
      "Epoch 2/30\n",
      "\u001b[1m191/191\u001b[0m \u001b[32m━━━━━━━━━━━━━━━━━━━━\u001b[0m\u001b[37m\u001b[0m \u001b[1m23s\u001b[0m 120ms/step - accuracy: 0.5206 - loss: 1.2423 - val_accuracy: 0.0754 - val_loss: 1.9734\n",
      "Epoch 3/30\n",
      "\u001b[1m191/191\u001b[0m \u001b[32m━━━━━━━━━━━━━━━━━━━━\u001b[0m\u001b[37m\u001b[0m \u001b[1m24s\u001b[0m 124ms/step - accuracy: 0.6354 - loss: 0.9433 - val_accuracy: 0.2366 - val_loss: 2.5905\n",
      "Epoch 4/30\n",
      "\u001b[1m191/191\u001b[0m \u001b[32m━━━━━━━━━━━━━━━━━━━━\u001b[0m\u001b[37m\u001b[0m \u001b[1m24s\u001b[0m 125ms/step - accuracy: 0.7707 - loss: 0.6348 - val_accuracy: 0.5360 - val_loss: 2.8782\n",
      "Epoch 5/30\n",
      "\u001b[1m191/191\u001b[0m \u001b[32m━━━━━━━━━━━━━━━━━━━━\u001b[0m\u001b[37m\u001b[0m \u001b[1m24s\u001b[0m 124ms/step - accuracy: 0.8727 - loss: 0.3586 - val_accuracy: 0.5872 - val_loss: 1.9766\n",
      "Epoch 6/30\n",
      "\u001b[1m191/191\u001b[0m \u001b[32m━━━━━━━━━━━━━━━━━━━━\u001b[0m\u001b[37m\u001b[0m \u001b[1m23s\u001b[0m 120ms/step - accuracy: 0.9058 - loss: 0.2598 - val_accuracy: 0.3119 - val_loss: 7.3088\n",
      "Epoch 7/30\n",
      "\u001b[1m191/191\u001b[0m \u001b[32m━━━━━━━━━━━━━━━━━━━━\u001b[0m\u001b[37m\u001b[0m \u001b[1m41s\u001b[0m 119ms/step - accuracy: 0.9305 - loss: 0.1916 - val_accuracy: 0.8008 - val_loss: 0.7280\n",
      "Epoch 8/30\n",
      "\u001b[1m191/191\u001b[0m \u001b[32m━━━━━━━━━━━━━━━━━━━━\u001b[0m\u001b[37m\u001b[0m \u001b[1m24s\u001b[0m 123ms/step - accuracy: 0.9516 - loss: 0.1315 - val_accuracy: 0.8847 - val_loss: 0.4260\n",
      "Epoch 9/30\n",
      "\u001b[1m191/191\u001b[0m \u001b[32m━━━━━━━━━━━━━━━━━━━━\u001b[0m\u001b[37m\u001b[0m \u001b[1m24s\u001b[0m 124ms/step - accuracy: 0.9706 - loss: 0.0890 - val_accuracy: 0.6370 - val_loss: 1.8897\n",
      "Epoch 10/30\n",
      "\u001b[1m191/191\u001b[0m \u001b[32m━━━━━━━━━━━━━━━━━━━━\u001b[0m\u001b[37m\u001b[0m \u001b[1m24s\u001b[0m 124ms/step - accuracy: 0.9680 - loss: 0.0913 - val_accuracy: 0.4312 - val_loss: 5.1013\n",
      "Epoch 11/30\n",
      "\u001b[1m191/191\u001b[0m \u001b[32m━━━━━━━━━━━━━━━━━━━━\u001b[0m\u001b[37m\u001b[0m \u001b[1m23s\u001b[0m 120ms/step - accuracy: 0.9649 - loss: 0.1038 - val_accuracy: 0.8637 - val_loss: 0.5261\n",
      "Epoch 12/30\n",
      "\u001b[1m191/191\u001b[0m \u001b[32m━━━━━━━━━━━━━━━━━━━━\u001b[0m\u001b[37m\u001b[0m \u001b[1m24s\u001b[0m 125ms/step - accuracy: 0.9732 - loss: 0.0750 - val_accuracy: 0.8657 - val_loss: 0.5319\n",
      "Epoch 13/30\n",
      "\u001b[1m191/191\u001b[0m \u001b[32m━━━━━━━━━━━━━━━━━━━━\u001b[0m\u001b[37m\u001b[0m \u001b[1m24s\u001b[0m 124ms/step - accuracy: 0.9738 - loss: 0.0763 - val_accuracy: 0.8054 - val_loss: 1.0545\n",
      "Epoch 14/30\n",
      "\u001b[1m191/191\u001b[0m \u001b[32m━━━━━━━━━━━━━━━━━━━━\u001b[0m\u001b[37m\u001b[0m \u001b[1m23s\u001b[0m 121ms/step - accuracy: 0.9785 - loss: 0.0667 - val_accuracy: 0.7536 - val_loss: 1.2817\n",
      "Epoch 15/30\n",
      "\u001b[1m191/191\u001b[0m \u001b[32m━━━━━━━━━━━━━━━━━━━━\u001b[0m\u001b[37m\u001b[0m \u001b[1m24s\u001b[0m 126ms/step - accuracy: 0.9731 - loss: 0.0668 - val_accuracy: 0.6225 - val_loss: 2.0369\n",
      "Epoch 16/30\n",
      "\u001b[1m191/191\u001b[0m \u001b[32m━━━━━━━━━━━━━━━━━━━━\u001b[0m\u001b[37m\u001b[0m \u001b[1m24s\u001b[0m 125ms/step - accuracy: 0.9711 - loss: 0.0889 - val_accuracy: 0.5570 - val_loss: 3.8748\n",
      "Epoch 17/30\n",
      "\u001b[1m191/191\u001b[0m \u001b[32m━━━━━━━━━━━━━━━━━━━━\u001b[0m\u001b[37m\u001b[0m \u001b[1m24s\u001b[0m 125ms/step - accuracy: 0.9700 - loss: 0.0863 - val_accuracy: 0.4495 - val_loss: 4.8854\n",
      "Epoch 18/30\n",
      "\u001b[1m191/191\u001b[0m \u001b[32m━━━━━━━━━━━━━━━━━━━━\u001b[0m\u001b[37m\u001b[0m \u001b[1m23s\u001b[0m 121ms/step - accuracy: 0.9814 - loss: 0.0521 - val_accuracy: 0.9122 - val_loss: 0.2878\n",
      "Epoch 19/30\n",
      "\u001b[1m191/191\u001b[0m \u001b[32m━━━━━━━━━━━━━━━━━━━━\u001b[0m\u001b[37m\u001b[0m \u001b[1m24s\u001b[0m 125ms/step - accuracy: 0.9908 - loss: 0.0229 - val_accuracy: 0.8231 - val_loss: 0.9700\n",
      "Epoch 20/30\n",
      "\u001b[1m191/191\u001b[0m \u001b[32m━━━━━━━━━━━━━━━━━━━━\u001b[0m\u001b[37m\u001b[0m \u001b[1m24s\u001b[0m 126ms/step - accuracy: 0.9837 - loss: 0.0457 - val_accuracy: 0.9174 - val_loss: 0.3054\n",
      "Epoch 21/30\n",
      "\u001b[1m191/191\u001b[0m \u001b[32m━━━━━━━━━━━━━━━━━━━━\u001b[0m\u001b[37m\u001b[0m \u001b[1m24s\u001b[0m 126ms/step - accuracy: 0.9865 - loss: 0.0431 - val_accuracy: 0.8879 - val_loss: 0.4439\n",
      "Epoch 22/30\n",
      "\u001b[1m191/191\u001b[0m \u001b[32m━━━━━━━━━━━━━━━━━━━━\u001b[0m\u001b[37m\u001b[0m \u001b[1m23s\u001b[0m 121ms/step - accuracy: 0.9732 - loss: 0.0731 - val_accuracy: 0.7824 - val_loss: 0.9600\n",
      "Epoch 23/30\n",
      "\u001b[1m191/191\u001b[0m \u001b[32m━━━━━━━━━━━━━━━━━━━━\u001b[0m\u001b[37m\u001b[0m \u001b[1m24s\u001b[0m 125ms/step - accuracy: 0.9769 - loss: 0.0653 - val_accuracy: 0.6088 - val_loss: 2.3713\n",
      "Epoch 24/30\n",
      "\u001b[1m191/191\u001b[0m \u001b[32m━━━━━━━━━━━━━━━━━━━━\u001b[0m\u001b[37m\u001b[0m \u001b[1m24s\u001b[0m 126ms/step - accuracy: 0.9830 - loss: 0.0499 - val_accuracy: 0.7320 - val_loss: 1.0929\n",
      "Epoch 25/30\n",
      "\u001b[1m191/191\u001b[0m \u001b[32m━━━━━━━━━━━━━━━━━━━━\u001b[0m\u001b[37m\u001b[0m \u001b[1m23s\u001b[0m 121ms/step - accuracy: 0.9946 - loss: 0.0151 - val_accuracy: 0.6474 - val_loss: 3.2933\n",
      "Epoch 26/30\n",
      "\u001b[1m191/191\u001b[0m \u001b[32m━━━━━━━━━━━━━━━━━━━━\u001b[0m\u001b[37m\u001b[0m \u001b[1m24s\u001b[0m 126ms/step - accuracy: 0.9973 - loss: 0.0064 - val_accuracy: 0.7510 - val_loss: 2.0945\n",
      "Epoch 27/30\n",
      "\u001b[1m191/191\u001b[0m \u001b[32m━━━━━━━━━━━━━━━━━━━━\u001b[0m\u001b[37m\u001b[0m \u001b[1m24s\u001b[0m 126ms/step - accuracy: 0.9872 - loss: 0.0391 - val_accuracy: 0.7169 - val_loss: 1.4280\n",
      "Epoch 28/30\n",
      "\u001b[1m191/191\u001b[0m \u001b[32m━━━━━━━━━━━━━━━━━━━━\u001b[0m\u001b[37m\u001b[0m \u001b[1m24s\u001b[0m 126ms/step - accuracy: 0.9763 - loss: 0.0737 - val_accuracy: 0.8486 - val_loss: 0.5693\n",
      "Epoch 29/30\n",
      "\u001b[1m191/191\u001b[0m \u001b[32m━━━━━━━━━━━━━━━━━━━━\u001b[0m\u001b[37m\u001b[0m \u001b[1m23s\u001b[0m 120ms/step - accuracy: 0.9814 - loss: 0.0574 - val_accuracy: 0.9115 - val_loss: 0.2990\n",
      "Epoch 30/30\n",
      "\u001b[1m191/191\u001b[0m \u001b[32m━━━━━━━━━━━━━━━━━━━━\u001b[0m\u001b[37m\u001b[0m \u001b[1m24s\u001b[0m 125ms/step - accuracy: 0.9882 - loss: 0.0354 - val_accuracy: 0.8460 - val_loss: 0.5146\n"
     ]
    }
   ],
   "source": [
    "epochs = 30\n",
    "history = model.fit(train_ds,\n",
    "                    validation_data=val_ds,\n",
    "                    epochs=epochs)"
   ]
  },
  {
   "cell_type": "markdown",
   "id": "92fb6c1d-90c6-4355-8134-130251274bf3",
   "metadata": {},
   "source": [
    "# Evaluating"
   ]
  },
  {
   "cell_type": "code",
   "execution_count": 14,
   "id": "51774837-ecf3-4bcd-bd0a-391fd9809abb",
   "metadata": {
    "scrolled": true
   },
   "outputs": [
    {
     "data": {
      "text/plain": [
       "{'accuracy': [0.40795937180519104,\n",
       "  0.5533900856971741,\n",
       "  0.6794955730438232,\n",
       "  0.7941369414329529,\n",
       "  0.8748771548271179,\n",
       "  0.9228627681732178,\n",
       "  0.9344906806945801,\n",
       "  0.9580740332603455,\n",
       "  0.9659351706504822,\n",
       "  0.9616770148277283,\n",
       "  0.9690468311309814,\n",
       "  0.9780543446540833,\n",
       "  0.9721585512161255,\n",
       "  0.9770717620849609,\n",
       "  0.9760891199111938,\n",
       "  0.9706845879554749,\n",
       "  0.9739600419998169,\n",
       "  0.980347216129303,\n",
       "  0.9906648993492126,\n",
       "  0.9842777848243713,\n",
       "  0.9852604269981384,\n",
       "  0.9765804409980774,\n",
       "  0.978218138217926,\n",
       "  0.9849328398704529,\n",
       "  0.9960694313049316,\n",
       "  0.9965607523918152,\n",
       "  0.972649872303009,\n",
       "  0.980347216129303,\n",
       "  0.9752702116966248,\n",
       "  0.9895185232162476],\n",
       " 'loss': [1.5608761310577393,\n",
       "  1.1634325981140137,\n",
       "  0.833355188369751,\n",
       "  0.5595288276672363,\n",
       "  0.348686158657074,\n",
       "  0.2138751596212387,\n",
       "  0.1853819042444229,\n",
       "  0.12153153866529465,\n",
       "  0.09594769775867462,\n",
       "  0.1098640188574791,\n",
       "  0.09346597641706467,\n",
       "  0.06362798810005188,\n",
       "  0.0793653279542923,\n",
       "  0.06897126138210297,\n",
       "  0.06433998793363571,\n",
       "  0.09033481776714325,\n",
       "  0.07263261079788208,\n",
       "  0.05756497383117676,\n",
       "  0.025541996583342552,\n",
       "  0.04567697271704674,\n",
       "  0.0462789461016655,\n",
       "  0.06771662086248398,\n",
       "  0.06309245526790619,\n",
       "  0.04840302839875221,\n",
       "  0.011051188223063946,\n",
       "  0.009565041400492191,\n",
       "  0.08846220374107361,\n",
       "  0.05954775586724281,\n",
       "  0.07284853607416153,\n",
       "  0.031386058777570724],\n",
       " 'val_accuracy': [0.302752286195755,\n",
       "  0.07536041736602783,\n",
       "  0.2365661859512329,\n",
       "  0.5360419154167175,\n",
       "  0.5871559381484985,\n",
       "  0.31192660331726074,\n",
       "  0.8007863759994507,\n",
       "  0.8846657872200012,\n",
       "  0.6369593739509583,\n",
       "  0.43119266629219055,\n",
       "  0.8636959195137024,\n",
       "  0.8656618595123291,\n",
       "  0.8053735494613647,\n",
       "  0.7536041736602783,\n",
       "  0.6225426197052002,\n",
       "  0.5570117831230164,\n",
       "  0.44954127073287964,\n",
       "  0.912188708782196,\n",
       "  0.8230668306350708,\n",
       "  0.9174311757087708,\n",
       "  0.8879423141479492,\n",
       "  0.7824377417564392,\n",
       "  0.608781099319458,\n",
       "  0.7319790124893188,\n",
       "  0.6474443078041077,\n",
       "  0.750982940196991,\n",
       "  0.7169069647789001,\n",
       "  0.8486238718032837,\n",
       "  0.9115334153175354,\n",
       "  0.8460026383399963],\n",
       " 'val_loss': [1.9502211809158325,\n",
       "  1.973353624343872,\n",
       "  2.590474843978882,\n",
       "  2.8781991004943848,\n",
       "  1.9766499996185303,\n",
       "  7.308844089508057,\n",
       "  0.7279971837997437,\n",
       "  0.4259697198867798,\n",
       "  1.88968026638031,\n",
       "  5.101294040679932,\n",
       "  0.526081383228302,\n",
       "  0.5318782925605774,\n",
       "  1.0544592142105103,\n",
       "  1.2817147970199585,\n",
       "  2.0368776321411133,\n",
       "  3.874793529510498,\n",
       "  4.885365962982178,\n",
       "  0.2877909243106842,\n",
       "  0.970042884349823,\n",
       "  0.3054071366786957,\n",
       "  0.44389626383781433,\n",
       "  0.9599609971046448,\n",
       "  2.371259927749634,\n",
       "  1.0929216146469116,\n",
       "  3.2933268547058105,\n",
       "  2.0945074558258057,\n",
       "  1.4280240535736084,\n",
       "  0.5692943930625916,\n",
       "  0.2989697754383087,\n",
       "  0.5146439075469971]}"
      ]
     },
     "execution_count": 14,
     "metadata": {},
     "output_type": "execute_result"
    }
   ],
   "source": [
    "history.history"
   ]
  },
  {
   "cell_type": "code",
   "execution_count": 15,
   "id": "4e9c81ec-3038-4cc2-b871-1cd3b6771d6d",
   "metadata": {},
   "outputs": [
    {
     "data": {
      "image/png": "[encoded data removed]",
      "text/plain": [
       "<Figure size 640x480 with 1 Axes>"
      ]
     },
     "metadata": {},
     "output_type": "display_data"
    }
   ],
   "source": [
    "plt.plot(history.history['loss'])\n",
    "plt.plot(history.history['val_loss'])\n",
    "plt.title('Model Loss')\n",
    "plt.ylabel('Loss')\n",
    "plt.xlabel('Epoch')\n",
    "plt.legend(['Train', 'Val'], loc='upper right')\n",
    "plt.show()"
   ]
  },
  {
   "cell_type": "code",
   "execution_count": 16,
   "id": "c06c861a-ce21-4344-b736-dcda0b9a2c0d",
   "metadata": {},
   "outputs": [
    {
     "data": {
      "image/png": "[encoded data removed]",
      "text/plain": [
       "<Figure size 640x480 with 1 Axes>"
      ]
     },
     "metadata": {},
     "output_type": "display_data"
    }
   ],
   "source": [
    "plt.plot(history.history['accuracy'])\n",
    "plt.plot(history.history['val_accuracy'])\n",
    "plt.title('Model Accuracy')\n",
    "plt.ylabel('Accuracy')\n",
    "plt.xlabel('Epoch')\n",
    "plt.legend(['Train', 'Val'], loc='lower right')\n",
    "plt.show()"
   ]
  },
  {
   "cell_type": "code",
   "execution_count": 17,
   "id": "1a578ee8-e4a1-4bcf-8269-8a535db47718",
   "metadata": {},
   "outputs": [
    {
     "name": "stdout",
     "output_type": "stream",
     "text": [
      "48/48 - 2s - 33ms/step - accuracy: 0.8460 - loss: 0.5146\n"
     ]
    }
   ],
   "source": [
    "test_loss, test_acc = model.evaluate(val_ds, verbose=2)"
   ]
  },
  {
   "cell_type": "code",
   "execution_count": 18,
   "id": "1b52fca2-bc2e-42d1-b462-fe94cf754a26",
   "metadata": {},
   "outputs": [
    {
     "name": "stdout",
     "output_type": "stream",
     "text": [
      "0.8460026383399963\n"
     ]
    }
   ],
   "source": [
    "print(test_acc)"
   ]
  },
  {
   "cell_type": "code",
   "execution_count": 19,
   "id": "0b786510-462b-4207-b168-00c9c3d31d84",
   "metadata": {},
   "outputs": [
    {
     "name": "stdout",
     "output_type": "stream",
     "text": [
      "\u001b[1m4/6\u001b[0m \u001b[32m━━━━━━━━━━━━━\u001b[0m\u001b[37m━━━━━━━\u001b[0m \u001b[1m0s\u001b[0m 85ms/step "
     ]
    },
    {
     "name": "stderr",
     "output_type": "stream",
     "text": [
      "2024-11-07 00:19:27.059669: E external/local_xla/xla/service/slow_operation_alarm.cc:65] Trying algorithm eng34{k2=2,k4=0,k5=0,k6=0,k7=0,k19=0} for conv (f32[10,2160,7,7]{3,2,1,0}, u8[0]{0}) custom-call(f32[10,2160,15,15]{3,2,1,0}, f32[2160,1,3,3]{3,2,1,0}), window={size=3x3 stride=2x2}, dim_labels=bf01_oi01->bf01, feature_group_count=2160, custom_call_target=\"__cudnn$convForward\", backend_config={\"cudnn_conv_backend_config\":{\"activation_mode\":\"kNone\",\"conv_result_scale\":1,\"leakyrelu_alpha\":0,\"side_input_scale\":0},\"force_earliest_schedule\":false,\"operation_queue_id\":\"0\",\"wait_on_operation_queues\":[]} is taking a while...\n",
      "2024-11-07 00:19:27.251525: E external/local_xla/xla/service/slow_operation_alarm.cc:133] The operation took 1.192003662s\n",
      "Trying algorithm eng34{k2=2,k4=0,k5=0,k6=0,k7=0,k19=0} for conv (f32[10,2160,7,7]{3,2,1,0}, u8[0]{0}) custom-call(f32[10,2160,15,15]{3,2,1,0}, f32[2160,1,3,3]{3,2,1,0}), window={size=3x3 stride=2x2}, dim_labels=bf01_oi01->bf01, feature_group_count=2160, custom_call_target=\"__cudnn$convForward\", backend_config={\"cudnn_conv_backend_config\":{\"activation_mode\":\"kNone\",\"conv_result_scale\":1,\"leakyrelu_alpha\":0,\"side_input_scale\":0},\"force_earliest_schedule\":false,\"operation_queue_id\":\"0\",\"wait_on_operation_queues\":[]} is taking a while...\n"
     ]
    },
    {
     "name": "stdout",
     "output_type": "stream",
     "text": [
      "\u001b[1m6/6\u001b[0m \u001b[32m━━━━━━━━━━━━━━━━━━━━\u001b[0m\u001b[37m\u001b[0m \u001b[1m11s\u001b[0m 2s/step\n"
     ]
    }
   ],
   "source": [
    "predictions = model.predict(train_ds_test)\n",
    "val_pred = np.argmax(predictions, axis=1)"
   ]
  },
  {
   "cell_type": "code",
   "execution_count": 20,
   "id": "d9ae6622-1c1e-4bd3-b87f-e0bb86656fb5",
   "metadata": {},
   "outputs": [
    {
     "name": "stdout",
     "output_type": "stream",
     "text": [
      "\u001b[1m1/1\u001b[0m \u001b[32m━━━━━━━━━━━━━━━━━━━━\u001b[0m\u001b[37m\u001b[0m \u001b[1m2s\u001b[0m 2s/step\n",
      "\u001b[1m1/1\u001b[0m \u001b[32m━━━━━━━━━━━━━━━━━━━━\u001b[0m\u001b[37m\u001b[0m \u001b[1m2s\u001b[0m 2s/step\n"
     ]
    },
    {
     "name": "stderr",
     "output_type": "stream",
     "text": [
      "2024-11-07 00:19:34.484777: I tensorflow/core/framework/local_rendezvous.cc:405] Local rendezvous is aborting with status: OUT_OF_RANGE: End of sequence\n"
     ]
    }
   ],
   "source": [
    "y_true = []\n",
    "y_pred = []\n",
    "for images, labels in val_ds_test:\n",
    "  # Make predictions on the batch\n",
    "  batch_pred = model.predict(images)\n",
    "  y_pred.extend(list(batch_pred.argmax(axis=1)))  # Predicted labels\n",
    "  y_true.extend(list(labels.numpy()))  # True labels from the batch\n",
    "\n",
    "# Calculate the confusion matrix\n",
    "cm = confusion_matrix(y_true, y_pred)"
   ]
  },
  {
   "cell_type": "code",
   "execution_count": 21,
   "id": "5953d22b-7e68-4cc6-9b9b-8b2ba0285ead",
   "metadata": {},
   "outputs": [
    {
     "data": {
      "text/plain": [
       "<sklearn.metrics._plot.confusion_matrix.ConfusionMatrixDisplay at 0x7ff1fa04ac00>"
      ]
     },
     "execution_count": 21,
     "metadata": {},
     "output_type": "execute_result"
    },
    {
     "data": {
      "image/png": "[encoded data removed]",
      "text/plain": [
       "<Figure size 640x480 with 2 Axes>"
      ]
     },
     "metadata": {},
     "output_type": "display_data"
    }
   ],
   "source": [
    "disp = ConfusionMatrixDisplay(cm, display_labels=classes_,)\n",
    "disp.plot()"
   ]
  },
  {
   "cell_type": "code",
   "execution_count": 22,
   "id": "8cd922a6-18b1-46ee-8aec-e53f0e9ecf52",
   "metadata": {},
   "outputs": [
    {
     "name": "stdout",
     "output_type": "stream",
     "text": [
      "              precision    recall  f1-score   support\n",
      "\n",
      "           0       1.00      0.50      0.67         2\n",
      "           1       1.00      0.55      0.71        11\n",
      "           2       1.00      1.00      1.00         1\n",
      "           3       0.72      0.95      0.82        19\n",
      "           4       1.00      0.67      0.80         3\n",
      "           5       0.00      0.00      0.00         1\n",
      "           6       0.80      1.00      0.89         4\n",
      "           7       1.00      1.00      1.00         1\n",
      "\n",
      "    accuracy                           0.79        42\n",
      "   macro avg       0.81      0.71      0.73        42\n",
      "weighted avg       0.83      0.79      0.78        42\n",
      "\n"
     ]
    }
   ],
   "source": [
    "report = classification_report(y_true, y_pred)\n",
    "print(report)"
   ]
  },
  {
   "cell_type": "markdown",
   "id": "b203e32f-abd1-4075-a5a7-7461c781e37a",
   "metadata": {},
   "source": [
    "# Save"
   ]
  },
  {
   "cell_type": "code",
   "execution_count": 23,
   "id": "b4b51055-e566-44b7-b094-786143bfa999",
   "metadata": {},
   "outputs": [],
   "source": [
    "# model.save('models/breast_cancer_classification-shufflenet.h5')"
   ]
  }
 ],
 "metadata": {
  "kernelspec": {
   "display_name": "Python 3 (ipykernel)",
   "language": "python",
   "name": "python3"
  },
  "language_info": {
   "codemirror_mode": {
    "name": "ipython",
    "version": 3
   },
   "file_extension": ".py",
   "mimetype": "text/x-python",
   "name": "python",
   "nbconvert_exporter": "python",
   "pygments_lexer": "ipython3",
   "version": "3.12.7"
  }
 },
 "nbformat": 4,
 "nbformat_minor": 5
}
