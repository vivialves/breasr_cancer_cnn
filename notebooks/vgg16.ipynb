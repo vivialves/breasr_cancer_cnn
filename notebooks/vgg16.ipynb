{
 "cells": [
  {
   "cell_type": "markdown",
   "id": "618d9dba-2f82-4d84-bf74-98a4e563a15d",
   "metadata": {},
   "source": [
    "# VGG-16"
   ]
  },
  {
   "cell_type": "code",
   "execution_count": 1,
   "id": "e73ca8f9-4520-4af3-80e8-fdf119977e8a",
   "metadata": {},
   "outputs": [],
   "source": [
    "import numpy as np\n",
    "import pandas as pd"
   ]
  },
  {
   "cell_type": "code",
   "execution_count": 2,
   "id": "dd5dfcf3-580c-4253-ac74-5bca584129a9",
   "metadata": {},
   "outputs": [
    {
     "name": "stderr",
     "output_type": "stream",
     "text": [
      "2024-11-20 21:46:11.773432: I tensorflow/core/util/port.cc:153] oneDNN custom operations are on. You may see slightly different numerical results due to floating-point round-off errors from different computation orders. To turn them off, set the environment variable `TF_ENABLE_ONEDNN_OPTS=0`.\n",
      "2024-11-20 21:46:11.784223: E external/local_xla/xla/stream_executor/cuda/cuda_fft.cc:477] Unable to register cuFFT factory: Attempting to register factory for plugin cuFFT when one has already been registered\n",
      "WARNING: All log messages before absl::InitializeLog() is called are written to STDERR\n",
      "E0000 00:00:1732157171.794762    1774 cuda_dnn.cc:8310] Unable to register cuDNN factory: Attempting to register factory for plugin cuDNN when one has already been registered\n",
      "E0000 00:00:1732157171.798344    1774 cuda_blas.cc:1418] Unable to register cuBLAS factory: Attempting to register factory for plugin cuBLAS when one has already been registered\n",
      "2024-11-20 21:46:11.812028: I tensorflow/core/platform/cpu_feature_guard.cc:210] This TensorFlow binary is optimized to use available CPU instructions in performance-critical operations.\n",
      "To enable the following instructions: AVX2 AVX_VNNI FMA, in other operations, rebuild TensorFlow with the appropriate compiler flags.\n"
     ]
    }
   ],
   "source": [
    "import matplotlib.pyplot as plt\n",
    "import tensorflow as tf\n",
    "physical_devices = tf.config.experimental.list_physical_devices('GPU')\n",
    "tf.config.experimental.set_memory_growth(physical_devices[0],\n",
    " True)\n",
    "import keras as K\n",
    "from sklearn.metrics import confusion_matrix, ConfusionMatrixDisplay\n",
    "from sklearn.metrics import classification_report\n",
    "# from tensorflow.keras import datasets, layers, models\n",
    "\n",
    "from tensorflow.keras.models import Sequential\n",
    "from tensorflow.keras.layers import Conv2D, MaxPooling2D, Flatten, Dense\n",
    "from keras.applications.vgg16 import VGG16"
   ]
  },
  {
   "cell_type": "markdown",
   "id": "f08e4e50-d481-46d5-9c80-1be25bc8e04d",
   "metadata": {},
   "source": [
    "# Preparation for trainning - Train Split"
   ]
  },
  {
   "cell_type": "code",
   "execution_count": 3,
   "id": "fd79802d-0c65-4322-b25e-0beb9a029387",
   "metadata": {},
   "outputs": [
    {
     "name": "stdout",
     "output_type": "stream",
     "text": [
      "Found 7632 files belonging to 8 classes.\n",
      "Using 6106 files for training.\n"
     ]
    },
    {
     "name": "stderr",
     "output_type": "stream",
     "text": [
      "I0000 00:00:1732157175.683255    1774 gpu_device.cc:2022] Created device /job:localhost/replica:0/task:0/device:GPU:0 with 1756 MB memory:  -> device: 0, name: NVIDIA GeForce RTX 3050 Ti Laptop GPU, pci bus id: 0000:01:00.0, compute capability: 8.6\n"
     ]
    }
   ],
   "source": [
    "train_ds = tf.keras.preprocessing.image_dataset_from_directory(\n",
    "    'Dataset of Breast mammography images with Masses/Image After Data Augmentation, Image Size 224x224/',\n",
    "    validation_split=0.2,\n",
    "    subset='training',\n",
    "    seed=123,\n",
    "    image_size=(224, 224),\n",
    "    batch_size=32,\n",
    ")"
   ]
  },
  {
   "cell_type": "code",
   "execution_count": 4,
   "id": "716a08a0-c458-49cd-a8d0-1a9efd764003",
   "metadata": {},
   "outputs": [
    {
     "data": {
      "text/plain": [
       "8"
      ]
     },
     "execution_count": 4,
     "metadata": {},
     "output_type": "execute_result"
    }
   ],
   "source": [
    "classes_ = train_ds.class_names\n",
    "len(classes_)"
   ]
  },
  {
   "cell_type": "code",
   "execution_count": 5,
   "id": "0430155d-5bdc-4ec6-925b-cc5ad5e5e5ed",
   "metadata": {},
   "outputs": [
    {
     "name": "stdout",
     "output_type": "stream",
     "text": [
      "Found 7632 files belonging to 8 classes.\n",
      "Using 1526 files for validation.\n"
     ]
    }
   ],
   "source": [
    "val_ds = tf.keras.preprocessing.image_dataset_from_directory(\n",
    "    'Dataset of Breast mammography images with Masses/Image After Data Augmentation, Image Size 224x224/',\n",
    "    validation_split=0.2,\n",
    "    subset='validation',\n",
    "    seed=123,\n",
    "    image_size=(224, 224),\n",
    "    batch_size=32,\n",
    ")"
   ]
  },
  {
   "cell_type": "code",
   "execution_count": 6,
   "id": "8cde6076-b1c9-4f67-bcac-d1b51a52ac81",
   "metadata": {},
   "outputs": [
    {
     "data": {
      "text/plain": [
       "(<_MapDataset element_spec=(TensorSpec(shape=(None, 224, 224, 3), dtype=tf.float32, name=None), TensorSpec(shape=(None,), dtype=tf.int32, name=None))>,\n",
       " <_MapDataset element_spec=(TensorSpec(shape=(None, 224, 224, 3), dtype=tf.float32, name=None), TensorSpec(shape=(None,), dtype=tf.int32, name=None))>)"
      ]
     },
     "execution_count": 6,
     "metadata": {},
     "output_type": "execute_result"
    }
   ],
   "source": [
    "def normalize(image, label):\n",
    "  return tf.cast(image/255., tf.float32), label\n",
    "\n",
    "train_ds = train_ds.map(normalize)\n",
    "val_ds = val_ds.map(normalize)\n",
    "\n",
    "train_ds, val_ds"
   ]
  },
  {
   "cell_type": "markdown",
   "id": "99ba8d9d-8483-43ae-89e4-3de0bab3eec5",
   "metadata": {},
   "source": [
    "# Preparation for trainning - Test Split"
   ]
  },
  {
   "cell_type": "code",
   "execution_count": 7,
   "id": "23a2b006-11ce-47d8-9575-044adab8f7e8",
   "metadata": {},
   "outputs": [
    {
     "name": "stdout",
     "output_type": "stream",
     "text": [
      "Found 212 files belonging to 8 classes.\n",
      "Using 170 files for training.\n"
     ]
    }
   ],
   "source": [
    "train_ds_test = tf.keras.preprocessing.image_dataset_from_directory(\n",
    "    'Dataset of Breast mammography images with Masses/Image Before Data Augmentation, Image Size 224x224/',\n",
    "    validation_split=0.2,\n",
    "    subset='training',\n",
    "    seed=123,\n",
    "    image_size=(224, 224),\n",
    "    batch_size=32,\n",
    ")"
   ]
  },
  {
   "cell_type": "code",
   "execution_count": 8,
   "id": "2ed6c6f9-e5c6-41bb-9466-84f41a35ff86",
   "metadata": {},
   "outputs": [
    {
     "name": "stdout",
     "output_type": "stream",
     "text": [
      "Found 212 files belonging to 8 classes.\n",
      "Using 42 files for validation.\n"
     ]
    }
   ],
   "source": [
    "val_ds_test = tf.keras.preprocessing.image_dataset_from_directory(\n",
    "    'Dataset of Breast mammography images with Masses/Image Before Data Augmentation, Image Size 224x224/',\n",
    "    validation_split=0.2,\n",
    "    subset='validation',\n",
    "    seed=123,\n",
    "    image_size=(224, 224),\n",
    "    batch_size=32,\n",
    ")"
   ]
  },
  {
   "cell_type": "code",
   "execution_count": 9,
   "id": "91cb6be8-eafb-42df-9939-03e92fa0b5d1",
   "metadata": {},
   "outputs": [
    {
     "data": {
      "text/plain": [
       "(<_MapDataset element_spec=(TensorSpec(shape=(None, 224, 224, 3), dtype=tf.float32, name=None), TensorSpec(shape=(None,), dtype=tf.int32, name=None))>,\n",
       " <_MapDataset element_spec=(TensorSpec(shape=(None, 224, 224, 3), dtype=tf.float32, name=None), TensorSpec(shape=(None,), dtype=tf.int32, name=None))>)"
      ]
     },
     "execution_count": 9,
     "metadata": {},
     "output_type": "execute_result"
    }
   ],
   "source": [
    "def normalize(image, label):\n",
    "  return tf.cast(image/255., tf.float32), label\n",
    "\n",
    "train_ds_test = train_ds_test.map(normalize)\n",
    "val_ds_test = val_ds_test.map(normalize)\n",
    "\n",
    "train_ds_test, val_ds_test"
   ]
  },
  {
   "cell_type": "markdown",
   "id": "27452d16-3cdb-4d6d-b1cd-2c16f14f51c9",
   "metadata": {},
   "source": [
    "# Training"
   ]
  },
  {
   "cell_type": "code",
   "execution_count": 10,
   "id": "672692a2-a51e-4da6-a637-c44024fc3ea9",
   "metadata": {},
   "outputs": [],
   "source": [
    "from tensorflow.keras import mixed_precision\n",
    "\n",
    "\n",
    "mixed_precision.set_global_policy('mixed_float16')"
   ]
  },
  {
   "cell_type": "code",
   "execution_count": 11,
   "id": "33e8133f-4d5e-4c1a-949f-0d4ca75f58cb",
   "metadata": {},
   "outputs": [
    {
     "name": "stderr",
     "output_type": "stream",
     "text": [
      "I0000 00:00:1732157176.833200    1774 gpu_device.cc:2022] Created device /job:localhost/replica:0/task:0/device:GPU:0 with 1756 MB memory:  -> device: 0, name: NVIDIA GeForce RTX 3050 Ti Laptop GPU, pci bus id: 0000:01:00.0, compute capability: 8.6\n"
     ]
    }
   ],
   "source": [
    "config = tf.compat.v1.ConfigProto()\n",
    "config.gpu_options.allow_growth = True\n",
    "session = tf.compat.v1.Session(config=config)"
   ]
  },
  {
   "cell_type": "code",
   "execution_count": 12,
   "id": "14315d18-7e46-40de-92c8-0aa1377ae025",
   "metadata": {},
   "outputs": [],
   "source": [
    "# model=VGG16(weights=None, include_top=False, input_shape=(224, 224, 3), classes=8)\n",
    "with session.as_default():\n",
    "    base_model = VGG16(weights=None, include_top=False, input_shape=(224, 224, 3), classes=8)\n",
    "    x = base_model.output\n",
    "    x = Flatten()(x)\n",
    "    last_layer = Dense(8, activation='softmax')(x)"
   ]
  },
  {
   "cell_type": "code",
   "execution_count": 13,
   "id": "e73dafe3-b715-4f2f-b856-905ae8ccad81",
   "metadata": {},
   "outputs": [],
   "source": [
    "model = tf.keras.Model(inputs=base_model.input, outputs=last_layer)"
   ]
  },
  {
   "cell_type": "code",
   "execution_count": 14,
   "id": "b4b3f2a0-058e-4df5-bdba-49ad2e1f3e36",
   "metadata": {},
   "outputs": [],
   "source": [
    "model.compile(optimizer='adam',\n",
    "              loss='SparseCategoricalCrossentropy',\n",
    "              metrics=['accuracy'])"
   ]
  },
  {
   "cell_type": "code",
   "execution_count": 15,
   "id": "c98784ea-d7b3-47be-a4e7-665e9531e517",
   "metadata": {
    "scrolled": true
   },
   "outputs": [
    {
     "name": "stdout",
     "output_type": "stream",
     "text": [
      "Epoch 1/70\n"
     ]
    },
    {
     "name": "stderr",
     "output_type": "stream",
     "text": [
      "WARNING: All log messages before absl::InitializeLog() is called are written to STDERR\n",
      "I0000 00:00:1732157179.263406    1872 service.cc:148] XLA service 0x7f0ac4017bd0 initialized for platform CUDA (this does not guarantee that XLA will be used). Devices:\n",
      "I0000 00:00:1732157179.263458    1872 service.cc:156]   StreamExecutor device (0): NVIDIA GeForce RTX 3050 Ti Laptop GPU, Compute Capability 8.6\n",
      "2024-11-20 21:46:19.340982: I tensorflow/compiler/mlir/tensorflow/utils/dump_mlir_util.cc:268] disabling MLIR crash reproducer, set env var `MLIR_CRASH_REPRODUCER_DIRECTORY` to enable.\n",
      "I0000 00:00:1732157179.861661    1872 cuda_dnn.cc:529] Loaded cuDNN version 90300\n",
      "2024-11-20 21:46:32.885284: W external/local_xla/xla/tsl/framework/bfc_allocator.cc:378] Garbage collection: deallocate free memory regions (i.e., allocations) so that we can re-allocate a larger region to avoid OOM due to memory fragmentation. If you see this message frequently, you are running near the threshold of the available device memory and re-allocation may incur great performance overhead. You may try smaller batch sizes to observe the performance impact. Set TF_ENABLE_GPU_GARBAGE_COLLECTION=false if you'd like to disable this feature.\n",
      "2024-11-20 21:46:35.768626: E external/local_xla/xla/service/slow_operation_alarm.cc:65] Trying algorithm eng0{} for conv (f16[64,3,3,4]{3,2,1,0}, u8[0]{0}) custom-call(f16[32,224,224,4]{3,2,1,0}, f16[32,224,224,64]{3,2,1,0}), window={size=3x3 pad=1_1x1_1}, dim_labels=b01f_o01i->b01f, custom_call_target=\"__cudnn$convBackwardFilter\", backend_config={\"cudnn_conv_backend_config\":{\"activation_mode\":\"kNone\",\"conv_result_scale\":1,\"leakyrelu_alpha\":0,\"side_input_scale\":0},\"force_earliest_schedule\":false,\"operation_queue_id\":\"0\",\"wait_on_operation_queues\":[]} is taking a while...\n",
      "2024-11-20 21:46:36.834602: E external/local_xla/xla/service/slow_operation_alarm.cc:133] The operation took 2.066249869s\n",
      "Trying algorithm eng0{} for conv (f16[64,3,3,4]{3,2,1,0}, u8[0]{0}) custom-call(f16[32,224,224,4]{3,2,1,0}, f16[32,224,224,64]{3,2,1,0}), window={size=3x3 pad=1_1x1_1}, dim_labels=b01f_o01i->b01f, custom_call_target=\"__cudnn$convBackwardFilter\", backend_config={\"cudnn_conv_backend_config\":{\"activation_mode\":\"kNone\",\"conv_result_scale\":1,\"leakyrelu_alpha\":0,\"side_input_scale\":0},\"force_earliest_schedule\":false,\"operation_queue_id\":\"0\",\"wait_on_operation_queues\":[]} is taking a while...\n",
      "2024-11-20 21:46:39.899429: E external/local_xla/xla/service/slow_operation_alarm.cc:65] Trying algorithm eng19{k2=4} for conv (f16[64,3,3,64]{3,2,1,0}, u8[0]{0}) custom-call(f16[32,224,224,64]{3,2,1,0}, f16[32,224,224,64]{3,2,1,0}), window={size=3x3 pad=1_1x1_1}, dim_labels=b01f_o01i->b01f, custom_call_target=\"__cudnn$convBackwardFilter\", backend_config={\"cudnn_conv_backend_config\":{\"activation_mode\":\"kNone\",\"conv_result_scale\":1,\"leakyrelu_alpha\":0,\"side_input_scale\":0},\"force_earliest_schedule\":false,\"operation_queue_id\":\"0\",\"wait_on_operation_queues\":[]} is taking a while...\n",
      "2024-11-20 21:46:47.355009: E external/local_xla/xla/service/slow_operation_alarm.cc:133] The operation took 8.455882319s\n",
      "Trying algorithm eng19{k2=4} for conv (f16[64,3,3,64]{3,2,1,0}, u8[0]{0}) custom-call(f16[32,224,224,64]{3,2,1,0}, f16[32,224,224,64]{3,2,1,0}), window={size=3x3 pad=1_1x1_1}, dim_labels=b01f_o01i->b01f, custom_call_target=\"__cudnn$convBackwardFilter\", backend_config={\"cudnn_conv_backend_config\":{\"activation_mode\":\"kNone\",\"conv_result_scale\":1,\"leakyrelu_alpha\":0,\"side_input_scale\":0},\"force_earliest_schedule\":false,\"operation_queue_id\":\"0\",\"wait_on_operation_queues\":[]} is taking a while...\n",
      "2024-11-20 21:46:48.355445: E external/local_xla/xla/service/slow_operation_alarm.cc:65] Trying algorithm eng19{k2=3} for conv (f16[64,3,3,64]{3,2,1,0}, u8[0]{0}) custom-call(f16[32,224,224,64]{3,2,1,0}, f16[32,224,224,64]{3,2,1,0}), window={size=3x3 pad=1_1x1_1}, dim_labels=b01f_o01i->b01f, custom_call_target=\"__cudnn$convBackwardFilter\", backend_config={\"cudnn_conv_backend_config\":{\"activation_mode\":\"kNone\",\"conv_result_scale\":1,\"leakyrelu_alpha\":0,\"side_input_scale\":0},\"force_earliest_schedule\":false,\"operation_queue_id\":\"0\",\"wait_on_operation_queues\":[]} is taking a while...\n",
      "2024-11-20 21:46:55.131367: E external/local_xla/xla/service/slow_operation_alarm.cc:133] The operation took 7.776253564s\n",
      "Trying algorithm eng19{k2=3} for conv (f16[64,3,3,64]{3,2,1,0}, u8[0]{0}) custom-call(f16[32,224,224,64]{3,2,1,0}, f16[32,224,224,64]{3,2,1,0}), window={size=3x3 pad=1_1x1_1}, dim_labels=b01f_o01i->b01f, custom_call_target=\"__cudnn$convBackwardFilter\", backend_config={\"cudnn_conv_backend_config\":{\"activation_mode\":\"kNone\",\"conv_result_scale\":1,\"leakyrelu_alpha\":0,\"side_input_scale\":0},\"force_earliest_schedule\":false,\"operation_queue_id\":\"0\",\"wait_on_operation_queues\":[]} is taking a while...\n",
      "2024-11-20 21:46:56.131621: E external/local_xla/xla/service/slow_operation_alarm.cc:65] Trying algorithm eng19{k2=2} for conv (f16[64,3,3,64]{3,2,1,0}, u8[0]{0}) custom-call(f16[32,224,224,64]{3,2,1,0}, f16[32,224,224,64]{3,2,1,0}), window={size=3x3 pad=1_1x1_1}, dim_labels=b01f_o01i->b01f, custom_call_target=\"__cudnn$convBackwardFilter\", backend_config={\"cudnn_conv_backend_config\":{\"activation_mode\":\"kNone\",\"conv_result_scale\":1,\"leakyrelu_alpha\":0,\"side_input_scale\":0},\"force_earliest_schedule\":false,\"operation_queue_id\":\"0\",\"wait_on_operation_queues\":[]} is taking a while...\n",
      "2024-11-20 21:47:02.953003: E external/local_xla/xla/service/slow_operation_alarm.cc:133] The operation took 7.821546624s\n",
      "Trying algorithm eng19{k2=2} for conv (f16[64,3,3,64]{3,2,1,0}, u8[0]{0}) custom-call(f16[32,224,224,64]{3,2,1,0}, f16[32,224,224,64]{3,2,1,0}), window={size=3x3 pad=1_1x1_1}, dim_labels=b01f_o01i->b01f, custom_call_target=\"__cudnn$convBackwardFilter\", backend_config={\"cudnn_conv_backend_config\":{\"activation_mode\":\"kNone\",\"conv_result_scale\":1,\"leakyrelu_alpha\":0,\"side_input_scale\":0},\"force_earliest_schedule\":false,\"operation_queue_id\":\"0\",\"wait_on_operation_queues\":[]} is taking a while...\n",
      "2024-11-20 21:47:05.083156: E external/local_xla/xla/service/slow_operation_alarm.cc:65] Trying algorithm eng19{k2=4} for conv (f16[128,3,3,64]{3,2,1,0}, u8[0]{0}) custom-call(f16[32,112,112,64]{3,2,1,0}, f16[32,112,112,128]{3,2,1,0}), window={size=3x3 pad=1_1x1_1}, dim_labels=b01f_o01i->b01f, custom_call_target=\"__cudnn$convBackwardFilter\", backend_config={\"cudnn_conv_backend_config\":{\"activation_mode\":\"kNone\",\"conv_result_scale\":1,\"leakyrelu_alpha\":0,\"side_input_scale\":0},\"force_earliest_schedule\":false,\"operation_queue_id\":\"0\",\"wait_on_operation_queues\":[]} is taking a while...\n",
      "2024-11-20 21:47:08.309394: E external/local_xla/xla/service/slow_operation_alarm.cc:133] The operation took 4.226281634s\n",
      "Trying algorithm eng19{k2=4} for conv (f16[128,3,3,64]{3,2,1,0}, u8[0]{0}) custom-call(f16[32,112,112,64]{3,2,1,0}, f16[32,112,112,128]{3,2,1,0}), window={size=3x3 pad=1_1x1_1}, dim_labels=b01f_o01i->b01f, custom_call_target=\"__cudnn$convBackwardFilter\", backend_config={\"cudnn_conv_backend_config\":{\"activation_mode\":\"kNone\",\"conv_result_scale\":1,\"leakyrelu_alpha\":0,\"side_input_scale\":0},\"force_earliest_schedule\":false,\"operation_queue_id\":\"0\",\"wait_on_operation_queues\":[]} is taking a while...\n",
      "2024-11-20 21:47:09.309577: E external/local_xla/xla/service/slow_operation_alarm.cc:65] Trying algorithm eng19{k2=2} for conv (f16[128,3,3,64]{3,2,1,0}, u8[0]{0}) custom-call(f16[32,112,112,64]{3,2,1,0}, f16[32,112,112,128]{3,2,1,0}), window={size=3x3 pad=1_1x1_1}, dim_labels=b01f_o01i->b01f, custom_call_target=\"__cudnn$convBackwardFilter\", backend_config={\"cudnn_conv_backend_config\":{\"activation_mode\":\"kNone\",\"conv_result_scale\":1,\"leakyrelu_alpha\":0,\"side_input_scale\":0},\"force_earliest_schedule\":false,\"operation_queue_id\":\"0\",\"wait_on_operation_queues\":[]} is taking a while...\n",
      "2024-11-20 21:47:12.421960: E external/local_xla/xla/service/slow_operation_alarm.cc:133] The operation took 4.11247298s\n",
      "Trying algorithm eng19{k2=2} for conv (f16[128,3,3,64]{3,2,1,0}, u8[0]{0}) custom-call(f16[32,112,112,64]{3,2,1,0}, f16[32,112,112,128]{3,2,1,0}), window={size=3x3 pad=1_1x1_1}, dim_labels=b01f_o01i->b01f, custom_call_target=\"__cudnn$convBackwardFilter\", backend_config={\"cudnn_conv_backend_config\":{\"activation_mode\":\"kNone\",\"conv_result_scale\":1,\"leakyrelu_alpha\":0,\"side_input_scale\":0},\"force_earliest_schedule\":false,\"operation_queue_id\":\"0\",\"wait_on_operation_queues\":[]} is taking a while...\n",
      "2024-11-20 21:47:15.293032: E external/local_xla/xla/service/slow_operation_alarm.cc:65] Trying algorithm eng19{k2=0} for conv (f16[128,3,3,128]{3,2,1,0}, u8[0]{0}) custom-call(f16[32,112,112,128]{3,2,1,0}, f16[32,112,112,128]{3,2,1,0}), window={size=3x3 pad=1_1x1_1}, dim_labels=b01f_o01i->b01f, custom_call_target=\"__cudnn$convBackwardFilter\", backend_config={\"cudnn_conv_backend_config\":{\"activation_mode\":\"kNone\",\"conv_result_scale\":1,\"leakyrelu_alpha\":0,\"side_input_scale\":0},\"force_earliest_schedule\":false,\"operation_queue_id\":\"0\",\"wait_on_operation_queues\":[]} is taking a while...\n",
      "2024-11-20 21:47:27.395063: E external/local_xla/xla/service/slow_operation_alarm.cc:133] The operation took 13.102396906s\n",
      "Trying algorithm eng19{k2=0} for conv (f16[128,3,3,128]{3,2,1,0}, u8[0]{0}) custom-call(f16[32,112,112,128]{3,2,1,0}, f16[32,112,112,128]{3,2,1,0}), window={size=3x3 pad=1_1x1_1}, dim_labels=b01f_o01i->b01f, custom_call_target=\"__cudnn$convBackwardFilter\", backend_config={\"cudnn_conv_backend_config\":{\"activation_mode\":\"kNone\",\"conv_result_scale\":1,\"leakyrelu_alpha\":0,\"side_input_scale\":0},\"force_earliest_schedule\":false,\"operation_queue_id\":\"0\",\"wait_on_operation_queues\":[]} is taking a while...\n",
      "2024-11-20 21:47:29.022870: E external/local_xla/xla/service/slow_operation_alarm.cc:65] Trying algorithm eng19{k2=4} for conv (f16[256,3,3,128]{3,2,1,0}, u8[0]{0}) custom-call(f16[32,56,56,128]{3,2,1,0}, f16[32,56,56,256]{3,2,1,0}), window={size=3x3 pad=1_1x1_1}, dim_labels=b01f_o01i->b01f, custom_call_target=\"__cudnn$convBackwardFilter\", backend_config={\"cudnn_conv_backend_config\":{\"activation_mode\":\"kNone\",\"conv_result_scale\":1,\"leakyrelu_alpha\":0,\"side_input_scale\":0},\"force_earliest_schedule\":false,\"operation_queue_id\":\"0\",\"wait_on_operation_queues\":[]} is taking a while...\n",
      "2024-11-20 21:47:32.474871: E external/local_xla/xla/service/slow_operation_alarm.cc:133] The operation took 4.452222258s\n",
      "Trying algorithm eng19{k2=4} for conv (f16[256,3,3,128]{3,2,1,0}, u8[0]{0}) custom-call(f16[32,56,56,128]{3,2,1,0}, f16[32,56,56,256]{3,2,1,0}), window={size=3x3 pad=1_1x1_1}, dim_labels=b01f_o01i->b01f, custom_call_target=\"__cudnn$convBackwardFilter\", backend_config={\"cudnn_conv_backend_config\":{\"activation_mode\":\"kNone\",\"conv_result_scale\":1,\"leakyrelu_alpha\":0,\"side_input_scale\":0},\"force_earliest_schedule\":false,\"operation_queue_id\":\"0\",\"wait_on_operation_queues\":[]} is taking a while...\n",
      "2024-11-20 21:47:33.475161: E external/local_xla/xla/service/slow_operation_alarm.cc:65] Trying algorithm eng19{k2=2} for conv (f16[256,3,3,128]{3,2,1,0}, u8[0]{0}) custom-call(f16[32,56,56,128]{3,2,1,0}, f16[32,56,56,256]{3,2,1,0}), window={size=3x3 pad=1_1x1_1}, dim_labels=b01f_o01i->b01f, custom_call_target=\"__cudnn$convBackwardFilter\", backend_config={\"cudnn_conv_backend_config\":{\"activation_mode\":\"kNone\",\"conv_result_scale\":1,\"leakyrelu_alpha\":0,\"side_input_scale\":0},\"force_earliest_schedule\":false,\"operation_queue_id\":\"0\",\"wait_on_operation_queues\":[]} is taking a while...\n",
      "2024-11-20 21:47:36.869088: E external/local_xla/xla/service/slow_operation_alarm.cc:133] The operation took 4.394121084s\n",
      "Trying algorithm eng19{k2=2} for conv (f16[256,3,3,128]{3,2,1,0}, u8[0]{0}) custom-call(f16[32,56,56,128]{3,2,1,0}, f16[32,56,56,256]{3,2,1,0}), window={size=3x3 pad=1_1x1_1}, dim_labels=b01f_o01i->b01f, custom_call_target=\"__cudnn$convBackwardFilter\", backend_config={\"cudnn_conv_backend_config\":{\"activation_mode\":\"kNone\",\"conv_result_scale\":1,\"leakyrelu_alpha\":0,\"side_input_scale\":0},\"force_earliest_schedule\":false,\"operation_queue_id\":\"0\",\"wait_on_operation_queues\":[]} is taking a while...\n",
      "2024-11-20 21:47:37.869393: E external/local_xla/xla/service/slow_operation_alarm.cc:65] Trying algorithm eng19{k2=3} for conv (f16[256,3,3,128]{3,2,1,0}, u8[0]{0}) custom-call(f16[32,56,56,128]{3,2,1,0}, f16[32,56,56,256]{3,2,1,0}), window={size=3x3 pad=1_1x1_1}, dim_labels=b01f_o01i->b01f, custom_call_target=\"__cudnn$convBackwardFilter\", backend_config={\"cudnn_conv_backend_config\":{\"activation_mode\":\"kNone\",\"conv_result_scale\":1,\"leakyrelu_alpha\":0,\"side_input_scale\":0},\"force_earliest_schedule\":false,\"operation_queue_id\":\"0\",\"wait_on_operation_queues\":[]} is taking a while...\n",
      "2024-11-20 21:47:41.359305: E external/local_xla/xla/service/slow_operation_alarm.cc:133] The operation took 4.49010229s\n",
      "Trying algorithm eng19{k2=3} for conv (f16[256,3,3,128]{3,2,1,0}, u8[0]{0}) custom-call(f16[32,56,56,128]{3,2,1,0}, f16[32,56,56,256]{3,2,1,0}), window={size=3x3 pad=1_1x1_1}, dim_labels=b01f_o01i->b01f, custom_call_target=\"__cudnn$convBackwardFilter\", backend_config={\"cudnn_conv_backend_config\":{\"activation_mode\":\"kNone\",\"conv_result_scale\":1,\"leakyrelu_alpha\":0,\"side_input_scale\":0},\"force_earliest_schedule\":false,\"operation_queue_id\":\"0\",\"wait_on_operation_queues\":[]} is taking a while...\n",
      "2024-11-20 21:47:42.359467: E external/local_xla/xla/service/slow_operation_alarm.cc:65] Trying algorithm eng19{k2=0} for conv (f16[256,3,3,128]{3,2,1,0}, u8[0]{0}) custom-call(f16[32,56,56,128]{3,2,1,0}, f16[32,56,56,256]{3,2,1,0}), window={size=3x3 pad=1_1x1_1}, dim_labels=b01f_o01i->b01f, custom_call_target=\"__cudnn$convBackwardFilter\", backend_config={\"cudnn_conv_backend_config\":{\"activation_mode\":\"kNone\",\"conv_result_scale\":1,\"leakyrelu_alpha\":0,\"side_input_scale\":0},\"force_earliest_schedule\":false,\"operation_queue_id\":\"0\",\"wait_on_operation_queues\":[]} is taking a while...\n",
      "2024-11-20 21:47:46.617930: E external/local_xla/xla/service/slow_operation_alarm.cc:133] The operation took 5.258525024s\n",
      "Trying algorithm eng19{k2=0} for conv (f16[256,3,3,128]{3,2,1,0}, u8[0]{0}) custom-call(f16[32,56,56,128]{3,2,1,0}, f16[32,56,56,256]{3,2,1,0}), window={size=3x3 pad=1_1x1_1}, dim_labels=b01f_o01i->b01f, custom_call_target=\"__cudnn$convBackwardFilter\", backend_config={\"cudnn_conv_backend_config\":{\"activation_mode\":\"kNone\",\"conv_result_scale\":1,\"leakyrelu_alpha\":0,\"side_input_scale\":0},\"force_earliest_schedule\":false,\"operation_queue_id\":\"0\",\"wait_on_operation_queues\":[]} is taking a while...\n",
      "2024-11-20 21:47:48.563970: E external/local_xla/xla/service/slow_operation_alarm.cc:65] Trying algorithm eng19{k2=4} for conv (f16[256,3,3,256]{3,2,1,0}, u8[0]{0}) custom-call(f16[32,56,56,256]{3,2,1,0}, f16[32,56,56,256]{3,2,1,0}), window={size=3x3 pad=1_1x1_1}, dim_labels=b01f_o01i->b01f, custom_call_target=\"__cudnn$convBackwardFilter\", backend_config={\"cudnn_conv_backend_config\":{\"activation_mode\":\"kNone\",\"conv_result_scale\":1,\"leakyrelu_alpha\":0,\"side_input_scale\":0},\"force_earliest_schedule\":false,\"operation_queue_id\":\"0\",\"wait_on_operation_queues\":[]} is taking a while...\n",
      "2024-11-20 21:47:57.128184: E external/local_xla/xla/service/slow_operation_alarm.cc:133] The operation took 9.564307826s\n",
      "Trying algorithm eng19{k2=4} for conv (f16[256,3,3,256]{3,2,1,0}, u8[0]{0}) custom-call(f16[32,56,56,256]{3,2,1,0}, f16[32,56,56,256]{3,2,1,0}), window={size=3x3 pad=1_1x1_1}, dim_labels=b01f_o01i->b01f, custom_call_target=\"__cudnn$convBackwardFilter\", backend_config={\"cudnn_conv_backend_config\":{\"activation_mode\":\"kNone\",\"conv_result_scale\":1,\"leakyrelu_alpha\":0,\"side_input_scale\":0},\"force_earliest_schedule\":false,\"operation_queue_id\":\"0\",\"wait_on_operation_queues\":[]} is taking a while...\n",
      "2024-11-20 21:47:58.128506: E external/local_xla/xla/service/slow_operation_alarm.cc:65] Trying algorithm eng19{k2=2} for conv (f16[256,3,3,256]{3,2,1,0}, u8[0]{0}) custom-call(f16[32,56,56,256]{3,2,1,0}, f16[32,56,56,256]{3,2,1,0}), window={size=3x3 pad=1_1x1_1}, dim_labels=b01f_o01i->b01f, custom_call_target=\"__cudnn$convBackwardFilter\", backend_config={\"cudnn_conv_backend_config\":{\"activation_mode\":\"kNone\",\"conv_result_scale\":1,\"leakyrelu_alpha\":0,\"side_input_scale\":0},\"force_earliest_schedule\":false,\"operation_queue_id\":\"0\",\"wait_on_operation_queues\":[]} is taking a while...\n",
      "2024-11-20 21:48:06.263011: E external/local_xla/xla/service/slow_operation_alarm.cc:133] The operation took 9.134722123s\n",
      "Trying algorithm eng19{k2=2} for conv (f16[256,3,3,256]{3,2,1,0}, u8[0]{0}) custom-call(f16[32,56,56,256]{3,2,1,0}, f16[32,56,56,256]{3,2,1,0}), window={size=3x3 pad=1_1x1_1}, dim_labels=b01f_o01i->b01f, custom_call_target=\"__cudnn$convBackwardFilter\", backend_config={\"cudnn_conv_backend_config\":{\"activation_mode\":\"kNone\",\"conv_result_scale\":1,\"leakyrelu_alpha\":0,\"side_input_scale\":0},\"force_earliest_schedule\":false,\"operation_queue_id\":\"0\",\"wait_on_operation_queues\":[]} is taking a while...\n",
      "2024-11-20 21:48:07.263315: E external/local_xla/xla/service/slow_operation_alarm.cc:65] Trying algorithm eng19{k2=3} for conv (f16[256,3,3,256]{3,2,1,0}, u8[0]{0}) custom-call(f16[32,56,56,256]{3,2,1,0}, f16[32,56,56,256]{3,2,1,0}), window={size=3x3 pad=1_1x1_1}, dim_labels=b01f_o01i->b01f, custom_call_target=\"__cudnn$convBackwardFilter\", backend_config={\"cudnn_conv_backend_config\":{\"activation_mode\":\"kNone\",\"conv_result_scale\":1,\"leakyrelu_alpha\":0,\"side_input_scale\":0},\"force_earliest_schedule\":false,\"operation_queue_id\":\"0\",\"wait_on_operation_queues\":[]} is taking a while...\n",
      "2024-11-20 21:48:15.242759: E external/local_xla/xla/service/slow_operation_alarm.cc:133] The operation took 8.979660174s\n",
      "Trying algorithm eng19{k2=3} for conv (f16[256,3,3,256]{3,2,1,0}, u8[0]{0}) custom-call(f16[32,56,56,256]{3,2,1,0}, f16[32,56,56,256]{3,2,1,0}), window={size=3x3 pad=1_1x1_1}, dim_labels=b01f_o01i->b01f, custom_call_target=\"__cudnn$convBackwardFilter\", backend_config={\"cudnn_conv_backend_config\":{\"activation_mode\":\"kNone\",\"conv_result_scale\":1,\"leakyrelu_alpha\":0,\"side_input_scale\":0},\"force_earliest_schedule\":false,\"operation_queue_id\":\"0\",\"wait_on_operation_queues\":[]} is taking a while...\n",
      "2024-11-20 21:48:16.242924: E external/local_xla/xla/service/slow_operation_alarm.cc:65] Trying algorithm eng19{k2=0} for conv (f16[256,3,3,256]{3,2,1,0}, u8[0]{0}) custom-call(f16[32,56,56,256]{3,2,1,0}, f16[32,56,56,256]{3,2,1,0}), window={size=3x3 pad=1_1x1_1}, dim_labels=b01f_o01i->b01f, custom_call_target=\"__cudnn$convBackwardFilter\", backend_config={\"cudnn_conv_backend_config\":{\"activation_mode\":\"kNone\",\"conv_result_scale\":1,\"leakyrelu_alpha\":0,\"side_input_scale\":0},\"force_earliest_schedule\":false,\"operation_queue_id\":\"0\",\"wait_on_operation_queues\":[]} is taking a while...\n",
      "2024-11-20 21:48:27.218295: E external/local_xla/xla/service/slow_operation_alarm.cc:133] The operation took 11.975447784s\n",
      "Trying algorithm eng19{k2=0} for conv (f16[256,3,3,256]{3,2,1,0}, u8[0]{0}) custom-call(f16[32,56,56,256]{3,2,1,0}, f16[32,56,56,256]{3,2,1,0}), window={size=3x3 pad=1_1x1_1}, dim_labels=b01f_o01i->b01f, custom_call_target=\"__cudnn$convBackwardFilter\", backend_config={\"cudnn_conv_backend_config\":{\"activation_mode\":\"kNone\",\"conv_result_scale\":1,\"leakyrelu_alpha\":0,\"side_input_scale\":0},\"force_earliest_schedule\":false,\"operation_queue_id\":\"0\",\"wait_on_operation_queues\":[]} is taking a while...\n",
      "2024-11-20 21:48:28.621543: E external/local_xla/xla/service/slow_operation_alarm.cc:65] Trying algorithm eng19{k2=3} for conv (f16[512,3,3,256]{3,2,1,0}, u8[0]{0}) custom-call(f16[32,28,28,256]{3,2,1,0}, f16[32,28,28,512]{3,2,1,0}), window={size=3x3 pad=1_1x1_1}, dim_labels=b01f_o01i->b01f, custom_call_target=\"__cudnn$convBackwardFilter\", backend_config={\"cudnn_conv_backend_config\":{\"activation_mode\":\"kNone\",\"conv_result_scale\":1,\"leakyrelu_alpha\":0,\"side_input_scale\":0},\"force_earliest_schedule\":false,\"operation_queue_id\":\"0\",\"wait_on_operation_queues\":[]} is taking a while...\n",
      "2024-11-20 21:48:31.339231: E external/local_xla/xla/service/slow_operation_alarm.cc:133] The operation took 3.717775938s\n",
      "Trying algorithm eng19{k2=3} for conv (f16[512,3,3,256]{3,2,1,0}, u8[0]{0}) custom-call(f16[32,28,28,256]{3,2,1,0}, f16[32,28,28,512]{3,2,1,0}), window={size=3x3 pad=1_1x1_1}, dim_labels=b01f_o01i->b01f, custom_call_target=\"__cudnn$convBackwardFilter\", backend_config={\"cudnn_conv_backend_config\":{\"activation_mode\":\"kNone\",\"conv_result_scale\":1,\"leakyrelu_alpha\":0,\"side_input_scale\":0},\"force_earliest_schedule\":false,\"operation_queue_id\":\"0\",\"wait_on_operation_queues\":[]} is taking a while...\n",
      "2024-11-20 21:48:32.339445: E external/local_xla/xla/service/slow_operation_alarm.cc:65] Trying algorithm eng19{k2=2} for conv (f16[512,3,3,256]{3,2,1,0}, u8[0]{0}) custom-call(f16[32,28,28,256]{3,2,1,0}, f16[32,28,28,512]{3,2,1,0}), window={size=3x3 pad=1_1x1_1}, dim_labels=b01f_o01i->b01f, custom_call_target=\"__cudnn$convBackwardFilter\", backend_config={\"cudnn_conv_backend_config\":{\"activation_mode\":\"kNone\",\"conv_result_scale\":1,\"leakyrelu_alpha\":0,\"side_input_scale\":0},\"force_earliest_schedule\":false,\"operation_queue_id\":\"0\",\"wait_on_operation_queues\":[]} is taking a while...\n",
      "2024-11-20 21:48:35.415168: E external/local_xla/xla/service/slow_operation_alarm.cc:133] The operation took 4.075831235s\n",
      "Trying algorithm eng19{k2=2} for conv (f16[512,3,3,256]{3,2,1,0}, u8[0]{0}) custom-call(f16[32,28,28,256]{3,2,1,0}, f16[32,28,28,512]{3,2,1,0}), window={size=3x3 pad=1_1x1_1}, dim_labels=b01f_o01i->b01f, custom_call_target=\"__cudnn$convBackwardFilter\", backend_config={\"cudnn_conv_backend_config\":{\"activation_mode\":\"kNone\",\"conv_result_scale\":1,\"leakyrelu_alpha\":0,\"side_input_scale\":0},\"force_earliest_schedule\":false,\"operation_queue_id\":\"0\",\"wait_on_operation_queues\":[]} is taking a while...\n",
      "2024-11-20 21:48:36.415458: E external/local_xla/xla/service/slow_operation_alarm.cc:65] Trying algorithm eng19{k2=4} for conv (f16[512,3,3,256]{3,2,1,0}, u8[0]{0}) custom-call(f16[32,28,28,256]{3,2,1,0}, f16[32,28,28,512]{3,2,1,0}), window={size=3x3 pad=1_1x1_1}, dim_labels=b01f_o01i->b01f, custom_call_target=\"__cudnn$convBackwardFilter\", backend_config={\"cudnn_conv_backend_config\":{\"activation_mode\":\"kNone\",\"conv_result_scale\":1,\"leakyrelu_alpha\":0,\"side_input_scale\":0},\"force_earliest_schedule\":false,\"operation_queue_id\":\"0\",\"wait_on_operation_queues\":[]} is taking a while...\n",
      "2024-11-20 21:48:37.988522: E external/local_xla/xla/service/slow_operation_alarm.cc:133] The operation took 2.573270848s\n",
      "Trying algorithm eng19{k2=4} for conv (f16[512,3,3,256]{3,2,1,0}, u8[0]{0}) custom-call(f16[32,28,28,256]{3,2,1,0}, f16[32,28,28,512]{3,2,1,0}), window={size=3x3 pad=1_1x1_1}, dim_labels=b01f_o01i->b01f, custom_call_target=\"__cudnn$convBackwardFilter\", backend_config={\"cudnn_conv_backend_config\":{\"activation_mode\":\"kNone\",\"conv_result_scale\":1,\"leakyrelu_alpha\":0,\"side_input_scale\":0},\"force_earliest_schedule\":false,\"operation_queue_id\":\"0\",\"wait_on_operation_queues\":[]} is taking a while...\n",
      "2024-11-20 21:48:38.988705: E external/local_xla/xla/service/slow_operation_alarm.cc:65] Trying algorithm eng19{k2=0} for conv (f16[512,3,3,256]{3,2,1,0}, u8[0]{0}) custom-call(f16[32,28,28,256]{3,2,1,0}, f16[32,28,28,512]{3,2,1,0}), window={size=3x3 pad=1_1x1_1}, dim_labels=b01f_o01i->b01f, custom_call_target=\"__cudnn$convBackwardFilter\", backend_config={\"cudnn_conv_backend_config\":{\"activation_mode\":\"kNone\",\"conv_result_scale\":1,\"leakyrelu_alpha\":0,\"side_input_scale\":0},\"force_earliest_schedule\":false,\"operation_queue_id\":\"0\",\"wait_on_operation_queues\":[]} is taking a while...\n",
      "2024-11-20 21:48:43.175195: E external/local_xla/xla/service/slow_operation_alarm.cc:133] The operation took 5.186590344s\n",
      "Trying algorithm eng19{k2=0} for conv (f16[512,3,3,256]{3,2,1,0}, u8[0]{0}) custom-call(f16[32,28,28,256]{3,2,1,0}, f16[32,28,28,512]{3,2,1,0}), window={size=3x3 pad=1_1x1_1}, dim_labels=b01f_o01i->b01f, custom_call_target=\"__cudnn$convBackwardFilter\", backend_config={\"cudnn_conv_backend_config\":{\"activation_mode\":\"kNone\",\"conv_result_scale\":1,\"leakyrelu_alpha\":0,\"side_input_scale\":0},\"force_earliest_schedule\":false,\"operation_queue_id\":\"0\",\"wait_on_operation_queues\":[]} is taking a while...\n",
      "2024-11-20 21:48:45.220645: E external/local_xla/xla/service/slow_operation_alarm.cc:65] Trying algorithm eng19{k2=2} for conv (f16[512,3,3,512]{3,2,1,0}, u8[0]{0}) custom-call(f16[32,28,28,512]{3,2,1,0}, f16[32,28,28,512]{3,2,1,0}), window={size=3x3 pad=1_1x1_1}, dim_labels=b01f_o01i->b01f, custom_call_target=\"__cudnn$convBackwardFilter\", backend_config={\"cudnn_conv_backend_config\":{\"activation_mode\":\"kNone\",\"conv_result_scale\":1,\"leakyrelu_alpha\":0,\"side_input_scale\":0},\"force_earliest_schedule\":false,\"operation_queue_id\":\"0\",\"wait_on_operation_queues\":[]} is taking a while...\n",
      "2024-11-20 21:48:54.528020: E external/local_xla/xla/service/slow_operation_alarm.cc:133] The operation took 10.307517479s\n",
      "Trying algorithm eng19{k2=2} for conv (f16[512,3,3,512]{3,2,1,0}, u8[0]{0}) custom-call(f16[32,28,28,512]{3,2,1,0}, f16[32,28,28,512]{3,2,1,0}), window={size=3x3 pad=1_1x1_1}, dim_labels=b01f_o01i->b01f, custom_call_target=\"__cudnn$convBackwardFilter\", backend_config={\"cudnn_conv_backend_config\":{\"activation_mode\":\"kNone\",\"conv_result_scale\":1,\"leakyrelu_alpha\":0,\"side_input_scale\":0},\"force_earliest_schedule\":false,\"operation_queue_id\":\"0\",\"wait_on_operation_queues\":[]} is taking a while...\n",
      "2024-11-20 21:48:55.528436: E external/local_xla/xla/service/slow_operation_alarm.cc:65] Trying algorithm eng19{k2=3} for conv (f16[512,3,3,512]{3,2,1,0}, u8[0]{0}) custom-call(f16[32,28,28,512]{3,2,1,0}, f16[32,28,28,512]{3,2,1,0}), window={size=3x3 pad=1_1x1_1}, dim_labels=b01f_o01i->b01f, custom_call_target=\"__cudnn$convBackwardFilter\", backend_config={\"cudnn_conv_backend_config\":{\"activation_mode\":\"kNone\",\"conv_result_scale\":1,\"leakyrelu_alpha\":0,\"side_input_scale\":0},\"force_earliest_schedule\":false,\"operation_queue_id\":\"0\",\"wait_on_operation_queues\":[]} is taking a while...\n",
      "2024-11-20 21:49:04.495020: E external/local_xla/xla/service/slow_operation_alarm.cc:133] The operation took 9.966909916s\n",
      "Trying algorithm eng19{k2=3} for conv (f16[512,3,3,512]{3,2,1,0}, u8[0]{0}) custom-call(f16[32,28,28,512]{3,2,1,0}, f16[32,28,28,512]{3,2,1,0}), window={size=3x3 pad=1_1x1_1}, dim_labels=b01f_o01i->b01f, custom_call_target=\"__cudnn$convBackwardFilter\", backend_config={\"cudnn_conv_backend_config\":{\"activation_mode\":\"kNone\",\"conv_result_scale\":1,\"leakyrelu_alpha\":0,\"side_input_scale\":0},\"force_earliest_schedule\":false,\"operation_queue_id\":\"0\",\"wait_on_operation_queues\":[]} is taking a while...\n",
      "2024-11-20 21:49:05.495189: E external/local_xla/xla/service/slow_operation_alarm.cc:65] Trying algorithm eng19{k2=4} for conv (f16[512,3,3,512]{3,2,1,0}, u8[0]{0}) custom-call(f16[32,28,28,512]{3,2,1,0}, f16[32,28,28,512]{3,2,1,0}), window={size=3x3 pad=1_1x1_1}, dim_labels=b01f_o01i->b01f, custom_call_target=\"__cudnn$convBackwardFilter\", backend_config={\"cudnn_conv_backend_config\":{\"activation_mode\":\"kNone\",\"conv_result_scale\":1,\"leakyrelu_alpha\":0,\"side_input_scale\":0},\"force_earliest_schedule\":false,\"operation_queue_id\":\"0\",\"wait_on_operation_queues\":[]} is taking a while...\n",
      "2024-11-20 21:49:09.518946: E external/local_xla/xla/service/slow_operation_alarm.cc:133] The operation took 5.023844119s\n",
      "Trying algorithm eng19{k2=4} for conv (f16[512,3,3,512]{3,2,1,0}, u8[0]{0}) custom-call(f16[32,28,28,512]{3,2,1,0}, f16[32,28,28,512]{3,2,1,0}), window={size=3x3 pad=1_1x1_1}, dim_labels=b01f_o01i->b01f, custom_call_target=\"__cudnn$convBackwardFilter\", backend_config={\"cudnn_conv_backend_config\":{\"activation_mode\":\"kNone\",\"conv_result_scale\":1,\"leakyrelu_alpha\":0,\"side_input_scale\":0},\"force_earliest_schedule\":false,\"operation_queue_id\":\"0\",\"wait_on_operation_queues\":[]} is taking a while...\n",
      "2024-11-20 21:49:10.519282: E external/local_xla/xla/service/slow_operation_alarm.cc:65] Trying algorithm eng19{k2=0} for conv (f16[512,3,3,512]{3,2,1,0}, u8[0]{0}) custom-call(f16[32,28,28,512]{3,2,1,0}, f16[32,28,28,512]{3,2,1,0}), window={size=3x3 pad=1_1x1_1}, dim_labels=b01f_o01i->b01f, custom_call_target=\"__cudnn$convBackwardFilter\", backend_config={\"cudnn_conv_backend_config\":{\"activation_mode\":\"kNone\",\"conv_result_scale\":1,\"leakyrelu_alpha\":0,\"side_input_scale\":0},\"force_earliest_schedule\":false,\"operation_queue_id\":\"0\",\"wait_on_operation_queues\":[]} is taking a while...\n",
      "2024-11-20 21:49:22.856401: E external/local_xla/xla/service/slow_operation_alarm.cc:133] The operation took 13.337368846s\n",
      "Trying algorithm eng19{k2=0} for conv (f16[512,3,3,512]{3,2,1,0}, u8[0]{0}) custom-call(f16[32,28,28,512]{3,2,1,0}, f16[32,28,28,512]{3,2,1,0}), window={size=3x3 pad=1_1x1_1}, dim_labels=b01f_o01i->b01f, custom_call_target=\"__cudnn$convBackwardFilter\", backend_config={\"cudnn_conv_backend_config\":{\"activation_mode\":\"kNone\",\"conv_result_scale\":1,\"leakyrelu_alpha\":0,\"side_input_scale\":0},\"force_earliest_schedule\":false,\"operation_queue_id\":\"0\",\"wait_on_operation_queues\":[]} is taking a while...\n",
      "I0000 00:00:1732157367.660328    1872 device_compiler.h:188] Compiled cluster using XLA!  This line is logged at most once for the lifetime of the process.\n",
      "2024-11-20 21:49:38.236701: W external/local_xla/xla/tsl/framework/bfc_allocator.cc:497] Allocator (GPU_0_bfc) ran out of memory trying to allocate 1.75GiB (rounded to 1881129472)requested by op \n",
      "2024-11-20 21:49:38.236850: I external/local_xla/xla/tsl/framework/bfc_allocator.cc:1053] BFCAllocator dump for GPU_0_bfc\n",
      "2024-11-20 21:49:38.236874: I external/local_xla/xla/tsl/framework/bfc_allocator.cc:1060] Bin (256): \tTotal Chunks: 45, Chunks in use: 45. 11.2KiB allocated for chunks. 11.2KiB in use in bin. 1.1KiB client-requested in use in bin.\n",
      "2024-11-20 21:49:38.236885: I external/local_xla/xla/tsl/framework/bfc_allocator.cc:1060] Bin (512): \tTotal Chunks: 4, Chunks in use: 4. 2.2KiB allocated for chunks. 2.2KiB in use in bin. 2.2KiB client-requested in use in bin.\n",
      "2024-11-20 21:49:38.236893: I external/local_xla/xla/tsl/framework/bfc_allocator.cc:1060] Bin (1024): \tTotal Chunks: 5, Chunks in use: 5. 5.2KiB allocated for chunks. 5.2KiB in use in bin. 5.0KiB client-requested in use in bin.\n",
      "2024-11-20 21:49:38.236902: I external/local_xla/xla/tsl/framework/bfc_allocator.cc:1060] Bin (2048): \tTotal Chunks: 7, Chunks in use: 7. 14.2KiB allocated for chunks. 14.2KiB in use in bin. 14.0KiB client-requested in use in bin.\n",
      "2024-11-20 21:49:38.236911: I external/local_xla/xla/tsl/framework/bfc_allocator.cc:1060] Bin (4096): \tTotal Chunks: 2, Chunks in use: 2. 13.5KiB allocated for chunks. 13.5KiB in use in bin. 13.5KiB client-requested in use in bin.\n",
      "2024-11-20 21:49:38.236920: I external/local_xla/xla/tsl/framework/bfc_allocator.cc:1060] Bin (8192): \tTotal Chunks: 0, Chunks in use: 0. 0B allocated for chunks. 0B in use in bin. 0B client-requested in use in bin.\n",
      "2024-11-20 21:49:38.236929: I external/local_xla/xla/tsl/framework/bfc_allocator.cc:1060] Bin (16384): \tTotal Chunks: 0, Chunks in use: 0. 0B allocated for chunks. 0B in use in bin. 0B client-requested in use in bin.\n",
      "2024-11-20 21:49:38.236936: I external/local_xla/xla/tsl/framework/bfc_allocator.cc:1060] Bin (32768): \tTotal Chunks: 0, Chunks in use: 0. 0B allocated for chunks. 0B in use in bin. 0B client-requested in use in bin.\n",
      "2024-11-20 21:49:38.236943: I external/local_xla/xla/tsl/framework/bfc_allocator.cc:1060] Bin (65536): \tTotal Chunks: 0, Chunks in use: 0. 0B allocated for chunks. 0B in use in bin. 0B client-requested in use in bin.\n",
      "2024-11-20 21:49:38.236953: I external/local_xla/xla/tsl/framework/bfc_allocator.cc:1060] Bin (131072): \tTotal Chunks: 1, Chunks in use: 1. 144.0KiB allocated for chunks. 144.0KiB in use in bin. 144.0KiB client-requested in use in bin.\n",
      "2024-11-20 21:49:38.236962: I external/local_xla/xla/tsl/framework/bfc_allocator.cc:1060] Bin (262144): \tTotal Chunks: 3, Chunks in use: 3. 845.5KiB allocated for chunks. 845.5KiB in use in bin. 720.0KiB client-requested in use in bin.\n",
      "2024-11-20 21:49:38.236970: I external/local_xla/xla/tsl/framework/bfc_allocator.cc:1060] Bin (524288): \tTotal Chunks: 4, Chunks in use: 3. 2.88MiB allocated for chunks. 1.89MiB in use in bin. 1.89MiB client-requested in use in bin.\n",
      "2024-11-20 21:49:38.236979: I external/local_xla/xla/tsl/framework/bfc_allocator.cc:1060] Bin (1048576): \tTotal Chunks: 4, Chunks in use: 3. 4.98MiB allocated for chunks. 3.73MiB in use in bin. 3.02MiB client-requested in use in bin.\n",
      "2024-11-20 21:49:38.236990: I external/local_xla/xla/tsl/framework/bfc_allocator.cc:1060] Bin (2097152): \tTotal Chunks: 3, Chunks in use: 3. 7.38MiB allocated for chunks. 7.38MiB in use in bin. 6.75MiB client-requested in use in bin.\n",
      "2024-11-20 21:49:38.236999: I external/local_xla/xla/tsl/framework/bfc_allocator.cc:1060] Bin (4194304): \tTotal Chunks: 2, Chunks in use: 2. 13.75MiB allocated for chunks. 13.75MiB in use in bin. 9.00MiB client-requested in use in bin.\n",
      "2024-11-20 21:49:38.237008: I external/local_xla/xla/tsl/framework/bfc_allocator.cc:1060] Bin (8388608): \tTotal Chunks: 6, Chunks in use: 6. 59.00MiB allocated for chunks. 59.00MiB in use in bin. 54.00MiB client-requested in use in bin.\n",
      "2024-11-20 21:49:38.237018: I external/local_xla/xla/tsl/framework/bfc_allocator.cc:1060] Bin (16777216): \tTotal Chunks: 2, Chunks in use: 1. 37.00MiB allocated for chunks. 18.38MiB in use in bin. 18.38MiB client-requested in use in bin.\n",
      "2024-11-20 21:49:38.237029: I external/local_xla/xla/tsl/framework/bfc_allocator.cc:1060] Bin (33554432): \tTotal Chunks: 0, Chunks in use: 0. 0B allocated for chunks. 0B in use in bin. 0B client-requested in use in bin.\n",
      "2024-11-20 21:49:38.237036: I external/local_xla/xla/tsl/framework/bfc_allocator.cc:1060] Bin (67108864): \tTotal Chunks: 0, Chunks in use: 0. 0B allocated for chunks. 0B in use in bin. 0B client-requested in use in bin.\n",
      "2024-11-20 21:49:38.237043: I external/local_xla/xla/tsl/framework/bfc_allocator.cc:1060] Bin (134217728): \tTotal Chunks: 0, Chunks in use: 0. 0B allocated for chunks. 0B in use in bin. 0B client-requested in use in bin.\n",
      "2024-11-20 21:49:38.237051: I external/local_xla/xla/tsl/framework/bfc_allocator.cc:1060] Bin (268435456): \tTotal Chunks: 3, Chunks in use: 0. 1.59GiB allocated for chunks. 0B in use in bin. 0B client-requested in use in bin.\n",
      "2024-11-20 21:49:38.237060: I external/local_xla/xla/tsl/framework/bfc_allocator.cc:1076] Bin for 1.75GiB was 256.00MiB, Chunk State: \n",
      "2024-11-20 21:49:38.237079: I external/local_xla/xla/tsl/framework/bfc_allocator.cc:1082]   Size: 256.00MiB | Requested Size: 22.12MiB | in_use: 0 | bin_num: 20\n",
      "2024-11-20 21:49:38.237090: I external/local_xla/xla/tsl/framework/bfc_allocator.cc:1082]   Size: 512.00MiB | Requested Size: 16.00MiB | in_use: 0 | bin_num: 20\n",
      "2024-11-20 21:49:38.237099: I external/local_xla/xla/tsl/framework/bfc_allocator.cc:1082]   Size: 862.25MiB | Requested Size: 800.28MiB | in_use: 0 | bin_num: 20\n",
      "2024-11-20 21:49:38.237106: I external/local_xla/xla/tsl/framework/bfc_allocator.cc:1089] Next region of size 2097152\n",
      "2024-11-20 21:49:38.237213: I external/local_xla/xla/tsl/framework/bfc_allocator.cc:1109] InUse at 504a00000 of size 1280 next 1\n",
      "2024-11-20 21:49:38.237226: I external/local_xla/xla/tsl/framework/bfc_allocator.cc:1109] InUse at 504a00500 of size 256 next 2\n",
      "2024-11-20 21:49:38.237233: I external/local_xla/xla/tsl/framework/bfc_allocator.cc:1109] InUse at 504a00600 of size 256 next 3\n",
      "2024-11-20 21:49:38.237240: I external/local_xla/xla/tsl/framework/bfc_allocator.cc:1109] InUse at 504a00700 of size 256 next 4\n",
      "2024-11-20 21:49:38.237246: I external/local_xla/xla/tsl/framework/bfc_allocator.cc:1109] InUse at 504a00800 of size 256 next 5\n",
      "2024-11-20 21:49:38.237253: I external/local_xla/xla/tsl/framework/bfc_allocator.cc:1109] InUse at 504a00900 of size 256 next 6\n",
      "2024-11-20 21:49:38.237259: I external/local_xla/xla/tsl/framework/bfc_allocator.cc:1109] InUse at 504a00a00 of size 256 next 7\n",
      "2024-11-20 21:49:38.237265: I external/local_xla/xla/tsl/framework/bfc_allocator.cc:1109] InUse at 504a00b00 of size 256 next 8\n",
      "2024-11-20 21:49:38.237271: I external/local_xla/xla/tsl/framework/bfc_allocator.cc:1109] InUse at 504a00c00 of size 256 next 9\n",
      "2024-11-20 21:49:38.237278: I external/local_xla/xla/tsl/framework/bfc_allocator.cc:1109] InUse at 504a00d00 of size 256 next 10\n",
      "2024-11-20 21:49:38.237284: I external/local_xla/xla/tsl/framework/bfc_allocator.cc:1109] InUse at 504a00e00 of size 256 next 11\n",
      "2024-11-20 21:49:38.237290: I external/local_xla/xla/tsl/framework/bfc_allocator.cc:1109] InUse at 504a00f00 of size 256 next 12\n",
      "2024-11-20 21:49:38.237296: I external/local_xla/xla/tsl/framework/bfc_allocator.cc:1109] InUse at 504a01000 of size 256 next 13\n",
      "2024-11-20 21:49:38.237302: I external/local_xla/xla/tsl/framework/bfc_allocator.cc:1109] InUse at 504a01100 of size 256 next 14\n",
      "2024-11-20 21:49:38.237308: I external/local_xla/xla/tsl/framework/bfc_allocator.cc:1109] InUse at 504a01200 of size 256 next 15\n",
      "2024-11-20 21:49:38.237314: I external/local_xla/xla/tsl/framework/bfc_allocator.cc:1109] InUse at 504a01300 of size 256 next 16\n",
      "2024-11-20 21:49:38.237320: I external/local_xla/xla/tsl/framework/bfc_allocator.cc:1109] InUse at 504a01400 of size 256 next 17\n",
      "2024-11-20 21:49:38.237326: I external/local_xla/xla/tsl/framework/bfc_allocator.cc:1109] InUse at 504a01500 of size 256 next 19\n",
      "2024-11-20 21:49:38.237333: I external/local_xla/xla/tsl/framework/bfc_allocator.cc:1109] InUse at 504a01600 of size 256 next 20\n",
      "2024-11-20 21:49:38.237339: I external/local_xla/xla/tsl/framework/bfc_allocator.cc:1109] InUse at 504a01700 of size 256 next 18\n",
      "2024-11-20 21:49:38.237345: I external/local_xla/xla/tsl/framework/bfc_allocator.cc:1109] InUse at 504a01800 of size 256 next 21\n",
      "2024-11-20 21:49:38.237351: I external/local_xla/xla/tsl/framework/bfc_allocator.cc:1109] InUse at 504a01900 of size 256 next 26\n",
      "2024-11-20 21:49:38.237357: I external/local_xla/xla/tsl/framework/bfc_allocator.cc:1109] InUse at 504a01a00 of size 256 next 24\n",
      "2024-11-20 21:49:38.237364: I external/local_xla/xla/tsl/framework/bfc_allocator.cc:1109] InUse at 504a01b00 of size 512 next 25\n",
      "2024-11-20 21:49:38.237370: I external/local_xla/xla/tsl/framework/bfc_allocator.cc:1109] InUse at 504a01d00 of size 256 next 29\n",
      "2024-11-20 21:49:38.237376: I external/local_xla/xla/tsl/framework/bfc_allocator.cc:1109] InUse at 504a01e00 of size 256 next 30\n",
      "2024-11-20 21:49:38.237382: I external/local_xla/xla/tsl/framework/bfc_allocator.cc:1109] InUse at 504a01f00 of size 512 next 33\n",
      "2024-11-20 21:49:38.237388: I external/local_xla/xla/tsl/framework/bfc_allocator.cc:1109] InUse at 504a02100 of size 256 next 34\n",
      "2024-11-20 21:49:38.237395: I external/local_xla/xla/tsl/framework/bfc_allocator.cc:1109] InUse at 504a02200 of size 256 next 35\n",
      "2024-11-20 21:49:38.237401: I external/local_xla/xla/tsl/framework/bfc_allocator.cc:1109] InUse at 504a02300 of size 1024 next 39\n",
      "2024-11-20 21:49:38.237407: I external/local_xla/xla/tsl/framework/bfc_allocator.cc:1109] InUse at 504a02700 of size 256 next 42\n",
      "2024-11-20 21:49:38.237414: I external/local_xla/xla/tsl/framework/bfc_allocator.cc:1109] InUse at 504a02800 of size 256 next 40\n",
      "2024-11-20 21:49:38.237420: I external/local_xla/xla/tsl/framework/bfc_allocator.cc:1109] InUse at 504a02900 of size 1024 next 41\n",
      "2024-11-20 21:49:38.237426: I external/local_xla/xla/tsl/framework/bfc_allocator.cc:1109] InUse at 504a02d00 of size 1024 next 46\n",
      "2024-11-20 21:49:38.237432: I external/local_xla/xla/tsl/framework/bfc_allocator.cc:1109] InUse at 504a03100 of size 256 next 49\n",
      "2024-11-20 21:49:38.237438: I external/local_xla/xla/tsl/framework/bfc_allocator.cc:1109] InUse at 504a03200 of size 256 next 45\n",
      "2024-11-20 21:49:38.237445: I external/local_xla/xla/tsl/framework/bfc_allocator.cc:1109] InUse at 504a03300 of size 2048 next 50\n",
      "2024-11-20 21:49:38.237451: I external/local_xla/xla/tsl/framework/bfc_allocator.cc:1109] InUse at 504a03b00 of size 256 next 54\n",
      "2024-11-20 21:49:38.237457: I external/local_xla/xla/tsl/framework/bfc_allocator.cc:1109] InUse at 504a03c00 of size 256 next 51\n",
      "2024-11-20 21:49:38.237464: I external/local_xla/xla/tsl/framework/bfc_allocator.cc:1109] InUse at 504a03d00 of size 2048 next 52\n",
      "2024-11-20 21:49:38.237470: I external/local_xla/xla/tsl/framework/bfc_allocator.cc:1109] InUse at 504a04500 of size 2304 next 22\n",
      "2024-11-20 21:49:38.237478: I external/local_xla/xla/tsl/framework/bfc_allocator.cc:1109] InUse at 504a04e00 of size 6912 next 23\n",
      "2024-11-20 21:49:38.237484: I external/local_xla/xla/tsl/framework/bfc_allocator.cc:1109] InUse at 504a06900 of size 2048 next 61\n",
      "2024-11-20 21:49:38.237490: I external/local_xla/xla/tsl/framework/bfc_allocator.cc:1109] InUse at 504a07100 of size 2048 next 57\n",
      "2024-11-20 21:49:38.237496: I external/local_xla/xla/tsl/framework/bfc_allocator.cc:1109] InUse at 504a07900 of size 2048 next 55\n",
      "2024-11-20 21:49:38.237503: I external/local_xla/xla/tsl/framework/bfc_allocator.cc:1109] InUse at 504a08100 of size 256 next 66\n",
      "2024-11-20 21:49:38.237509: I external/local_xla/xla/tsl/framework/bfc_allocator.cc:1109] InUse at 504a08200 of size 256 next 64\n",
      "2024-11-20 21:49:38.237515: I external/local_xla/xla/tsl/framework/bfc_allocator.cc:1109] InUse at 504a08300 of size 256 next 68\n",
      "2024-11-20 21:49:38.237521: I external/local_xla/xla/tsl/framework/bfc_allocator.cc:1109] InUse at 504a08400 of size 256 next 69\n",
      "2024-11-20 21:49:38.237528: I external/local_xla/xla/tsl/framework/bfc_allocator.cc:1109] InUse at 504a08500 of size 256 next 70\n",
      "2024-11-20 21:49:38.237534: I external/local_xla/xla/tsl/framework/bfc_allocator.cc:1109] InUse at 504a08600 of size 256 next 71\n",
      "2024-11-20 21:49:38.237540: I external/local_xla/xla/tsl/framework/bfc_allocator.cc:1109] InUse at 504a08700 of size 256 next 73\n",
      "2024-11-20 21:49:38.237546: I external/local_xla/xla/tsl/framework/bfc_allocator.cc:1109] InUse at 504a08800 of size 512 next 74\n",
      "2024-11-20 21:49:38.237552: I external/local_xla/xla/tsl/framework/bfc_allocator.cc:1109] InUse at 504a08a00 of size 1024 next 77\n",
      "2024-11-20 21:49:38.237558: I external/local_xla/xla/tsl/framework/bfc_allocator.cc:1109] InUse at 504a08e00 of size 6912 next 78\n",
      "2024-11-20 21:49:38.237565: I external/local_xla/xla/tsl/framework/bfc_allocator.cc:1109] InUse at 504a0a900 of size 2048 next 79\n",
      "2024-11-20 21:49:38.237571: I external/local_xla/xla/tsl/framework/bfc_allocator.cc:1109] InUse at 504a0b100 of size 256 next 80\n",
      "2024-11-20 21:49:38.237577: I external/local_xla/xla/tsl/framework/bfc_allocator.cc:1109] InUse at 504a0b200 of size 256 next 81\n",
      "2024-11-20 21:49:38.237584: I external/local_xla/xla/tsl/framework/bfc_allocator.cc:1109] InUse at 504a0b300 of size 275968 next 28\n",
      "2024-11-20 21:49:38.237597: I external/local_xla/xla/tsl/framework/bfc_allocator.cc:1109] InUse at 504a4e900 of size 147456 next 27\n",
      "2024-11-20 21:49:38.237603: I external/local_xla/xla/tsl/framework/bfc_allocator.cc:1109] InUse at 504a72900 of size 294912 next 32\n",
      "2024-11-20 21:49:38.237610: I external/local_xla/xla/tsl/framework/bfc_allocator.cc:1109] InUse at 504aba900 of size 294912 next 31\n",
      "2024-11-20 21:49:38.237616: I external/local_xla/xla/tsl/framework/bfc_allocator.cc:1109] InUse at 504b02900 of size 256 next 82\n",
      "2024-11-20 21:49:38.237622: I external/local_xla/xla/tsl/framework/bfc_allocator.cc:1109] InUse at 504b02a00 of size 256 next 83\n",
      "2024-11-20 21:49:38.237628: I external/local_xla/xla/tsl/framework/bfc_allocator.cc:1109] InUse at 504b02b00 of size 768 next 89\n",
      "2024-11-20 21:49:38.237635: I external/local_xla/xla/tsl/framework/bfc_allocator.cc:1109] InUse at 504b02e00 of size 256 next 86\n",
      "2024-11-20 21:49:38.237641: I external/local_xla/xla/tsl/framework/bfc_allocator.cc:1109] InUse at 504b02f00 of size 256 next 91\n",
      "2024-11-20 21:49:38.237649: I external/local_xla/xla/tsl/framework/bfc_allocator.cc:1109] Free  at 504b03000 of size 1036288 next 18446744073709551615\n",
      "2024-11-20 21:49:38.237657: I external/local_xla/xla/tsl/framework/bfc_allocator.cc:1089] Next region of size 4194304\n",
      "2024-11-20 21:49:38.237665: I external/local_xla/xla/tsl/framework/bfc_allocator.cc:1109] InUse at 504e00000 of size 589824 next 38\n",
      "2024-11-20 21:49:38.237672: I external/local_xla/xla/tsl/framework/bfc_allocator.cc:1109] InUse at 504e90000 of size 589824 next 36\n",
      "2024-11-20 21:49:38.237678: I external/local_xla/xla/tsl/framework/bfc_allocator.cc:1109] InUse at 504f20000 of size 3014656 next 18446744073709551615\n",
      "2024-11-20 21:49:38.237684: I external/local_xla/xla/tsl/framework/bfc_allocator.cc:1089] Next region of size 8388608\n",
      "2024-11-20 21:49:38.237691: I external/local_xla/xla/tsl/framework/bfc_allocator.cc:1109] InUse at 505200000 of size 1179648 next 44\n",
      "2024-11-20 21:49:38.237698: I external/local_xla/xla/tsl/framework/bfc_allocator.cc:1109] InUse at 505320000 of size 802816 next 72\n",
      "2024-11-20 21:49:38.237704: I external/local_xla/xla/tsl/framework/bfc_allocator.cc:1109] InUse at 5053e4000 of size 1556480 next 48\n",
      "2024-11-20 21:49:38.237717: I external/local_xla/xla/tsl/framework/bfc_allocator.cc:1109] InUse at 505560000 of size 2359296 next 47\n",
      "2024-11-20 21:49:38.237723: I external/local_xla/xla/tsl/framework/bfc_allocator.cc:1109] InUse at 5057a0000 of size 1179648 next 75\n",
      "2024-11-20 21:49:38.237729: I external/local_xla/xla/tsl/framework/bfc_allocator.cc:1109] Free  at 5058c0000 of size 1310720 next 18446744073709551615\n",
      "2024-11-20 21:49:38.237736: I external/local_xla/xla/tsl/framework/bfc_allocator.cc:1089] Next region of size 16777216\n",
      "2024-11-20 21:49:38.237743: I external/local_xla/xla/tsl/framework/bfc_allocator.cc:1109] InUse at 505a00000 of size 2359296 next 76\n",
      "2024-11-20 21:49:38.237749: I external/local_xla/xla/tsl/framework/bfc_allocator.cc:1109] InUse at 505c40000 of size 7077888 next 56\n",
      "2024-11-20 21:49:38.237756: I external/local_xla/xla/tsl/framework/bfc_allocator.cc:1109] InUse at 506300000 of size 7340032 next 18446744073709551615\n",
      "2024-11-20 21:49:38.237762: I external/local_xla/xla/tsl/framework/bfc_allocator.cc:1089] Next region of size 33554432\n",
      "2024-11-20 21:49:38.237769: I external/local_xla/xla/tsl/framework/bfc_allocator.cc:1109] InUse at 506a00000 of size 9437184 next 60\n",
      "2024-11-20 21:49:38.237775: I external/local_xla/xla/tsl/framework/bfc_allocator.cc:1109] InUse at 507300000 of size 9437184 next 58\n",
      "2024-11-20 21:49:38.237782: I external/local_xla/xla/tsl/framework/bfc_allocator.cc:1109] InUse at 507c00000 of size 14680064 next 18446744073709551615\n",
      "2024-11-20 21:49:38.237788: I external/local_xla/xla/tsl/framework/bfc_allocator.cc:1089] Next region of size 67108864\n",
      "2024-11-20 21:49:38.237795: I external/local_xla/xla/tsl/framework/bfc_allocator.cc:1109] InUse at 508a00000 of size 9437184 next 63\n",
      "2024-11-20 21:49:38.237801: I external/local_xla/xla/tsl/framework/bfc_allocator.cc:1109] InUse at 509300000 of size 9437184 next 65\n",
      "2024-11-20 21:49:38.237807: I external/local_xla/xla/tsl/framework/bfc_allocator.cc:1109] InUse at 509c00000 of size 9437184 next 67\n",
      "2024-11-20 21:49:38.237814: I external/local_xla/xla/tsl/framework/bfc_allocator.cc:1109] InUse at 50a500000 of size 19267584 next 84\n",
      "2024-11-20 21:49:38.237820: I external/local_xla/xla/tsl/framework/bfc_allocator.cc:1109] Free  at 50b760000 of size 19529728 next 18446744073709551615\n",
      "2024-11-20 21:49:38.237826: I external/local_xla/xla/tsl/framework/bfc_allocator.cc:1089] Next region of size 268435456\n",
      "2024-11-20 21:49:38.237833: I external/local_xla/xla/tsl/framework/bfc_allocator.cc:1109] Free  at 515a00000 of size 268435456 next 18446744073709551615\n",
      "2024-11-20 21:49:38.237839: I external/local_xla/xla/tsl/framework/bfc_allocator.cc:1089] Next region of size 536870912\n",
      "2024-11-20 21:49:38.237846: I external/local_xla/xla/tsl/framework/bfc_allocator.cc:1109] Free  at 525a00000 of size 536870912 next 18446744073709551615\n",
      "2024-11-20 21:49:38.237852: I external/local_xla/xla/tsl/framework/bfc_allocator.cc:1089] Next region of size 904134656\n",
      "2024-11-20 21:49:38.237858: I external/local_xla/xla/tsl/framework/bfc_allocator.cc:1109] Free  at 545c00000 of size 904134656 next 18446744073709551615\n",
      "2024-11-20 21:49:38.237864: I external/local_xla/xla/tsl/framework/bfc_allocator.cc:1114]      Summary of in-use Chunks by size: \n",
      "2024-11-20 21:49:38.237875: I external/local_xla/xla/tsl/framework/bfc_allocator.cc:1117] 45 Chunks of size 256 totalling 11.2KiB\n",
      "2024-11-20 21:49:38.237884: I external/local_xla/xla/tsl/framework/bfc_allocator.cc:1117] 3 Chunks of size 512 totalling 1.5KiB\n",
      "2024-11-20 21:49:38.237892: I external/local_xla/xla/tsl/framework/bfc_allocator.cc:1117] 1 Chunks of size 768 totalling 768B\n",
      "2024-11-20 21:49:38.237899: I external/local_xla/xla/tsl/framework/bfc_allocator.cc:1117] 4 Chunks of size 1024 totalling 4.0KiB\n",
      "2024-11-20 21:49:38.237906: I external/local_xla/xla/tsl/framework/bfc_allocator.cc:1117] 1 Chunks of size 1280 totalling 1.2KiB\n",
      "2024-11-20 21:49:38.237914: I external/local_xla/xla/tsl/framework/bfc_allocator.cc:1117] 6 Chunks of size 2048 totalling 12.0KiB\n",
      "2024-11-20 21:49:38.237920: I external/local_xla/xla/tsl/framework/bfc_allocator.cc:1117] 1 Chunks of size 2304 totalling 2.2KiB\n",
      "2024-11-20 21:49:38.237928: I external/local_xla/xla/tsl/framework/bfc_allocator.cc:1117] 2 Chunks of size 6912 totalling 13.5KiB\n",
      "2024-11-20 21:49:38.237936: I external/local_xla/xla/tsl/framework/bfc_allocator.cc:1117] 1 Chunks of size 147456 totalling 144.0KiB\n",
      "2024-11-20 21:49:38.237944: I external/local_xla/xla/tsl/framework/bfc_allocator.cc:1117] 1 Chunks of size 275968 totalling 269.5KiB\n",
      "2024-11-20 21:49:38.237951: I external/local_xla/xla/tsl/framework/bfc_allocator.cc:1117] 2 Chunks of size 294912 totalling 576.0KiB\n",
      "2024-11-20 21:49:38.237959: I external/local_xla/xla/tsl/framework/bfc_allocator.cc:1117] 2 Chunks of size 589824 totalling 1.12MiB\n",
      "2024-11-20 21:49:38.237966: I external/local_xla/xla/tsl/framework/bfc_allocator.cc:1117] 1 Chunks of size 802816 totalling 784.0KiB\n",
      "2024-11-20 21:49:38.237973: I external/local_xla/xla/tsl/framework/bfc_allocator.cc:1117] 2 Chunks of size 1179648 totalling 2.25MiB\n",
      "2024-11-20 21:49:38.237980: I external/local_xla/xla/tsl/framework/bfc_allocator.cc:1117] 1 Chunks of size 1556480 totalling 1.48MiB\n",
      "2024-11-20 21:49:38.237987: I external/local_xla/xla/tsl/framework/bfc_allocator.cc:1117] 2 Chunks of size 2359296 totalling 4.50MiB\n",
      "2024-11-20 21:49:38.237994: I external/local_xla/xla/tsl/framework/bfc_allocator.cc:1117] 1 Chunks of size 3014656 totalling 2.88MiB\n",
      "2024-11-20 21:49:38.238001: I external/local_xla/xla/tsl/framework/bfc_allocator.cc:1117] 1 Chunks of size 7077888 totalling 6.75MiB\n",
      "2024-11-20 21:49:38.238008: I external/local_xla/xla/tsl/framework/bfc_allocator.cc:1117] 1 Chunks of size 7340032 totalling 7.00MiB\n",
      "2024-11-20 21:49:38.238016: I external/local_xla/xla/tsl/framework/bfc_allocator.cc:1117] 5 Chunks of size 9437184 totalling 45.00MiB\n",
      "2024-11-20 21:49:38.238023: I external/local_xla/xla/tsl/framework/bfc_allocator.cc:1117] 1 Chunks of size 14680064 totalling 14.00MiB\n",
      "2024-11-20 21:49:38.238030: I external/local_xla/xla/tsl/framework/bfc_allocator.cc:1117] 1 Chunks of size 19267584 totalling 18.38MiB\n",
      "2024-11-20 21:49:38.238039: I external/local_xla/xla/tsl/framework/bfc_allocator.cc:1121] Sum Total of in-use chunks: 105.14MiB\n",
      "2024-11-20 21:49:38.238046: I external/local_xla/xla/tsl/framework/bfc_allocator.cc:1123] Total bytes in pool: 1841561600 memory_limit_: 1841561600 available bytes: 0 curr_region_allocation_bytes_: 4294967296\n",
      "2024-11-20 21:49:38.238066: I external/local_xla/xla/tsl/framework/bfc_allocator.cc:1128] Stats: \n",
      "Limit:                      1841561600\n",
      "InUse:                       110243840\n",
      "MaxInUse:                   1839213312\n",
      "NumAllocs:                        1221\n",
      "MaxAllocSize:                904134656\n",
      "Reserved:                            0\n",
      "PeakReserved:                        0\n",
      "LargestFreeBlock:                    0\n",
      "\n",
      "2024-11-20 21:49:38.238084: W external/local_xla/xla/tsl/framework/bfc_allocator.cc:508] *******_____________________________________________________________________________________________\n",
      "2024-11-20 21:49:38.238568: I tensorflow/core/framework/local_rendezvous.cc:405] Local rendezvous is aborting with status: RESOURCE_EXHAUSTED: Out of memory while trying to allocate 1881129416 bytes.\n",
      "\t [[{{node StatefulPartitionedCall}}]]\n",
      "Hint: If you want to see a list of allocated tensors when OOM happens, add report_tensor_allocations_upon_oom to RunOptions for current allocation info. This isn't available when running in Eager mode.\n",
      "\n"
     ]
    },
    {
     "ename": "ResourceExhaustedError",
     "evalue": "Graph execution error:\n\nDetected at node StatefulPartitionedCall defined at (most recent call last):\n  File \"/home/viviane/apps/anaconda3/envs/pro1-cnn/lib/python3.12/runpy.py\", line 198, in _run_module_as_main\n\n  File \"/home/viviane/apps/anaconda3/envs/pro1-cnn/lib/python3.12/runpy.py\", line 88, in _run_code\n\n  File \"/home/viviane/apps/anaconda3/envs/pro1-cnn/lib/python3.12/site-packages/ipykernel_launcher.py\", line 18, in <module>\n\n  File \"/home/viviane/apps/anaconda3/envs/pro1-cnn/lib/python3.12/site-packages/traitlets/config/application.py\", line 1075, in launch_instance\n\n  File \"/home/viviane/apps/anaconda3/envs/pro1-cnn/lib/python3.12/site-packages/ipykernel/kernelapp.py\", line 739, in start\n\n  File \"/home/viviane/apps/anaconda3/envs/pro1-cnn/lib/python3.12/site-packages/tornado/platform/asyncio.py\", line 205, in start\n\n  File \"/home/viviane/apps/anaconda3/envs/pro1-cnn/lib/python3.12/asyncio/base_events.py\", line 641, in run_forever\n\n  File \"/home/viviane/apps/anaconda3/envs/pro1-cnn/lib/python3.12/asyncio/base_events.py\", line 1986, in _run_once\n\n  File \"/home/viviane/apps/anaconda3/envs/pro1-cnn/lib/python3.12/asyncio/events.py\", line 88, in _run\n\n  File \"/home/viviane/apps/anaconda3/envs/pro1-cnn/lib/python3.12/site-packages/ipykernel/kernelbase.py\", line 545, in dispatch_queue\n\n  File \"/home/viviane/apps/anaconda3/envs/pro1-cnn/lib/python3.12/site-packages/ipykernel/kernelbase.py\", line 534, in process_one\n\n  File \"/home/viviane/apps/anaconda3/envs/pro1-cnn/lib/python3.12/site-packages/ipykernel/kernelbase.py\", line 437, in dispatch_shell\n\n  File \"/home/viviane/apps/anaconda3/envs/pro1-cnn/lib/python3.12/site-packages/ipykernel/ipkernel.py\", line 362, in execute_request\n\n  File \"/home/viviane/apps/anaconda3/envs/pro1-cnn/lib/python3.12/site-packages/ipykernel/kernelbase.py\", line 778, in execute_request\n\n  File \"/home/viviane/apps/anaconda3/envs/pro1-cnn/lib/python3.12/site-packages/ipykernel/ipkernel.py\", line 449, in do_execute\n\n  File \"/home/viviane/apps/anaconda3/envs/pro1-cnn/lib/python3.12/site-packages/ipykernel/zmqshell.py\", line 549, in run_cell\n\n  File \"/home/viviane/apps/anaconda3/envs/pro1-cnn/lib/python3.12/site-packages/IPython/core/interactiveshell.py\", line 3075, in run_cell\n\n  File \"/home/viviane/apps/anaconda3/envs/pro1-cnn/lib/python3.12/site-packages/IPython/core/interactiveshell.py\", line 3130, in _run_cell\n\n  File \"/home/viviane/apps/anaconda3/envs/pro1-cnn/lib/python3.12/site-packages/IPython/core/async_helpers.py\", line 128, in _pseudo_sync_runner\n\n  File \"/home/viviane/apps/anaconda3/envs/pro1-cnn/lib/python3.12/site-packages/IPython/core/interactiveshell.py\", line 3334, in run_cell_async\n\n  File \"/home/viviane/apps/anaconda3/envs/pro1-cnn/lib/python3.12/site-packages/IPython/core/interactiveshell.py\", line 3517, in run_ast_nodes\n\n  File \"/home/viviane/apps/anaconda3/envs/pro1-cnn/lib/python3.12/site-packages/IPython/core/interactiveshell.py\", line 3577, in run_code\n\n  File \"/tmp/ipykernel_1774/2120409052.py\", line 2, in <module>\n\n  File \"/home/viviane/apps/anaconda3/envs/pro1-cnn/lib/python3.12/site-packages/keras/src/utils/traceback_utils.py\", line 117, in error_handler\n\n  File \"/home/viviane/apps/anaconda3/envs/pro1-cnn/lib/python3.12/site-packages/keras/src/backend/tensorflow/trainer.py\", line 320, in fit\n\n  File \"/home/viviane/apps/anaconda3/envs/pro1-cnn/lib/python3.12/site-packages/keras/src/backend/tensorflow/trainer.py\", line 121, in one_step_on_iterator\n\nOut of memory while trying to allocate 1881129416 bytes.\n\t [[{{node StatefulPartitionedCall}}]]\nHint: If you want to see a list of allocated tensors when OOM happens, add report_tensor_allocations_upon_oom to RunOptions for current allocation info. This isn't available when running in Eager mode.\n [Op:__inference_one_step_on_iterator_6042]",
     "output_type": "error",
     "traceback": [
      "\u001b[0;31m---------------------------------------------------------------------------\u001b[0m",
      "\u001b[0;31mResourceExhaustedError\u001b[0m                    Traceback (most recent call last)",
      "Cell \u001b[0;32mIn[15], line 2\u001b[0m\n\u001b[1;32m      1\u001b[0m epochs \u001b[38;5;241m=\u001b[39m \u001b[38;5;241m70\u001b[39m\n\u001b[0;32m----> 2\u001b[0m history \u001b[38;5;241m=\u001b[39m model\u001b[38;5;241m.\u001b[39mfit(train_ds,\n\u001b[1;32m      3\u001b[0m                     validation_data\u001b[38;5;241m=\u001b[39mval_ds,\n\u001b[1;32m      4\u001b[0m                     batch_size\u001b[38;5;241m=\u001b[39m\u001b[38;5;241m128\u001b[39m,\n\u001b[1;32m      5\u001b[0m                     epochs\u001b[38;5;241m=\u001b[39mepochs)\n",
      "File \u001b[0;32m~/apps/anaconda3/envs/pro1-cnn/lib/python3.12/site-packages/keras/src/utils/traceback_utils.py:122\u001b[0m, in \u001b[0;36mfilter_traceback.<locals>.error_handler\u001b[0;34m(*args, **kwargs)\u001b[0m\n\u001b[1;32m    119\u001b[0m     filtered_tb \u001b[38;5;241m=\u001b[39m _process_traceback_frames(e\u001b[38;5;241m.\u001b[39m__traceback__)\n\u001b[1;32m    120\u001b[0m     \u001b[38;5;66;03m# To get the full stack trace, call:\u001b[39;00m\n\u001b[1;32m    121\u001b[0m     \u001b[38;5;66;03m# `keras.config.disable_traceback_filtering()`\u001b[39;00m\n\u001b[0;32m--> 122\u001b[0m     \u001b[38;5;28;01mraise\u001b[39;00m e\u001b[38;5;241m.\u001b[39mwith_traceback(filtered_tb) \u001b[38;5;28;01mfrom\u001b[39;00m \u001b[38;5;28;01mNone\u001b[39;00m\n\u001b[1;32m    123\u001b[0m \u001b[38;5;28;01mfinally\u001b[39;00m:\n\u001b[1;32m    124\u001b[0m     \u001b[38;5;28;01mdel\u001b[39;00m filtered_tb\n",
      "File \u001b[0;32m~/apps/anaconda3/envs/pro1-cnn/lib/python3.12/site-packages/tensorflow/python/eager/execute.py:53\u001b[0m, in \u001b[0;36mquick_execute\u001b[0;34m(op_name, num_outputs, inputs, attrs, ctx, name)\u001b[0m\n\u001b[1;32m     51\u001b[0m \u001b[38;5;28;01mtry\u001b[39;00m:\n\u001b[1;32m     52\u001b[0m   ctx\u001b[38;5;241m.\u001b[39mensure_initialized()\n\u001b[0;32m---> 53\u001b[0m   tensors \u001b[38;5;241m=\u001b[39m pywrap_tfe\u001b[38;5;241m.\u001b[39mTFE_Py_Execute(ctx\u001b[38;5;241m.\u001b[39m_handle, device_name, op_name,\n\u001b[1;32m     54\u001b[0m                                       inputs, attrs, num_outputs)\n\u001b[1;32m     55\u001b[0m \u001b[38;5;28;01mexcept\u001b[39;00m core\u001b[38;5;241m.\u001b[39m_NotOkStatusException \u001b[38;5;28;01mas\u001b[39;00m e:\n\u001b[1;32m     56\u001b[0m   \u001b[38;5;28;01mif\u001b[39;00m name \u001b[38;5;129;01mis\u001b[39;00m \u001b[38;5;129;01mnot\u001b[39;00m \u001b[38;5;28;01mNone\u001b[39;00m:\n",
      "\u001b[0;31mResourceExhaustedError\u001b[0m: Graph execution error:\n\nDetected at node StatefulPartitionedCall defined at (most recent call last):\n  File \"/home/viviane/apps/anaconda3/envs/pro1-cnn/lib/python3.12/runpy.py\", line 198, in _run_module_as_main\n\n  File \"/home/viviane/apps/anaconda3/envs/pro1-cnn/lib/python3.12/runpy.py\", line 88, in _run_code\n\n  File \"/home/viviane/apps/anaconda3/envs/pro1-cnn/lib/python3.12/site-packages/ipykernel_launcher.py\", line 18, in <module>\n\n  File \"/home/viviane/apps/anaconda3/envs/pro1-cnn/lib/python3.12/site-packages/traitlets/config/application.py\", line 1075, in launch_instance\n\n  File \"/home/viviane/apps/anaconda3/envs/pro1-cnn/lib/python3.12/site-packages/ipykernel/kernelapp.py\", line 739, in start\n\n  File \"/home/viviane/apps/anaconda3/envs/pro1-cnn/lib/python3.12/site-packages/tornado/platform/asyncio.py\", line 205, in start\n\n  File \"/home/viviane/apps/anaconda3/envs/pro1-cnn/lib/python3.12/asyncio/base_events.py\", line 641, in run_forever\n\n  File \"/home/viviane/apps/anaconda3/envs/pro1-cnn/lib/python3.12/asyncio/base_events.py\", line 1986, in _run_once\n\n  File \"/home/viviane/apps/anaconda3/envs/pro1-cnn/lib/python3.12/asyncio/events.py\", line 88, in _run\n\n  File \"/home/viviane/apps/anaconda3/envs/pro1-cnn/lib/python3.12/site-packages/ipykernel/kernelbase.py\", line 545, in dispatch_queue\n\n  File \"/home/viviane/apps/anaconda3/envs/pro1-cnn/lib/python3.12/site-packages/ipykernel/kernelbase.py\", line 534, in process_one\n\n  File \"/home/viviane/apps/anaconda3/envs/pro1-cnn/lib/python3.12/site-packages/ipykernel/kernelbase.py\", line 437, in dispatch_shell\n\n  File \"/home/viviane/apps/anaconda3/envs/pro1-cnn/lib/python3.12/site-packages/ipykernel/ipkernel.py\", line 362, in execute_request\n\n  File \"/home/viviane/apps/anaconda3/envs/pro1-cnn/lib/python3.12/site-packages/ipykernel/kernelbase.py\", line 778, in execute_request\n\n  File \"/home/viviane/apps/anaconda3/envs/pro1-cnn/lib/python3.12/site-packages/ipykernel/ipkernel.py\", line 449, in do_execute\n\n  File \"/home/viviane/apps/anaconda3/envs/pro1-cnn/lib/python3.12/site-packages/ipykernel/zmqshell.py\", line 549, in run_cell\n\n  File \"/home/viviane/apps/anaconda3/envs/pro1-cnn/lib/python3.12/site-packages/IPython/core/interactiveshell.py\", line 3075, in run_cell\n\n  File \"/home/viviane/apps/anaconda3/envs/pro1-cnn/lib/python3.12/site-packages/IPython/core/interactiveshell.py\", line 3130, in _run_cell\n\n  File \"/home/viviane/apps/anaconda3/envs/pro1-cnn/lib/python3.12/site-packages/IPython/core/async_helpers.py\", line 128, in _pseudo_sync_runner\n\n  File \"/home/viviane/apps/anaconda3/envs/pro1-cnn/lib/python3.12/site-packages/IPython/core/interactiveshell.py\", line 3334, in run_cell_async\n\n  File \"/home/viviane/apps/anaconda3/envs/pro1-cnn/lib/python3.12/site-packages/IPython/core/interactiveshell.py\", line 3517, in run_ast_nodes\n\n  File \"/home/viviane/apps/anaconda3/envs/pro1-cnn/lib/python3.12/site-packages/IPython/core/interactiveshell.py\", line 3577, in run_code\n\n  File \"/tmp/ipykernel_1774/2120409052.py\", line 2, in <module>\n\n  File \"/home/viviane/apps/anaconda3/envs/pro1-cnn/lib/python3.12/site-packages/keras/src/utils/traceback_utils.py\", line 117, in error_handler\n\n  File \"/home/viviane/apps/anaconda3/envs/pro1-cnn/lib/python3.12/site-packages/keras/src/backend/tensorflow/trainer.py\", line 320, in fit\n\n  File \"/home/viviane/apps/anaconda3/envs/pro1-cnn/lib/python3.12/site-packages/keras/src/backend/tensorflow/trainer.py\", line 121, in one_step_on_iterator\n\nOut of memory while trying to allocate 1881129416 bytes.\n\t [[{{node StatefulPartitionedCall}}]]\nHint: If you want to see a list of allocated tensors when OOM happens, add report_tensor_allocations_upon_oom to RunOptions for current allocation info. This isn't available when running in Eager mode.\n [Op:__inference_one_step_on_iterator_6042]"
     ]
    }
   ],
   "source": [
    "epochs = 70\n",
    "history = model.fit(train_ds,\n",
    "                    validation_data=val_ds,\n",
    "                    batch_size=128,\n",
    "                    epochs=epochs)"
   ]
  },
  {
   "cell_type": "markdown",
   "id": "71ee495c-a9ae-47fd-a04d-81ce357f9a56",
   "metadata": {},
   "source": [
    "# Evaluating"
   ]
  },
  {
   "cell_type": "code",
   "execution_count": null,
   "id": "dfcc6c62-fb41-4544-875d-fbc41a09c603",
   "metadata": {},
   "outputs": [],
   "source": [
    "history.history"
   ]
  },
  {
   "cell_type": "code",
   "execution_count": null,
   "id": "0193003a-f9ef-40da-830e-a5966e9a65d5",
   "metadata": {},
   "outputs": [],
   "source": [
    "model.summary()"
   ]
  },
  {
   "cell_type": "code",
   "execution_count": null,
   "id": "2b0a5bef-b197-4e72-90c4-00890945f05d",
   "metadata": {},
   "outputs": [],
   "source": [
    "plt.plot(history.history['loss'])\n",
    "plt.plot(history.history['val_loss'])\n",
    "plt.title('Model Loss')\n",
    "plt.ylabel('Loss')\n",
    "plt.xlabel('Epoch')\n",
    "plt.legend(['Train', 'Val'], loc='upper right')\n",
    "plt.show()"
   ]
  },
  {
   "cell_type": "code",
   "execution_count": null,
   "id": "305967a2-2dde-4512-acba-371f1d6d1738",
   "metadata": {},
   "outputs": [],
   "source": [
    "plt.plot(history.history['accuracy'])\n",
    "plt.plot(history.history['val_accuracy'])\n",
    "plt.title('Model Accuracy')\n",
    "plt.ylabel('Accuracy')\n",
    "plt.xlabel('Epoch')\n",
    "plt.legend(['Train', 'Val'], loc='lower right')\n",
    "plt.show()"
   ]
  },
  {
   "cell_type": "code",
   "execution_count": null,
   "id": "923e05d4-7f71-4826-bc55-b8e543c6f2f2",
   "metadata": {},
   "outputs": [],
   "source": [
    "test_loss, test_acc = model.evaluate(val_ds, verbose=2)"
   ]
  },
  {
   "cell_type": "code",
   "execution_count": null,
   "id": "3c48bd9b-711a-4d07-b679-7b2abc98e629",
   "metadata": {},
   "outputs": [],
   "source": [
    "print(test_acc)"
   ]
  },
  {
   "cell_type": "code",
   "execution_count": null,
   "id": "c1d52e46-04b9-457c-8292-22fc27c8d968",
   "metadata": {},
   "outputs": [],
   "source": [
    "predictions = model.predict(train_ds_test)\n",
    "val_pred = np.argmax(predictions, axis=1)"
   ]
  },
  {
   "cell_type": "code",
   "execution_count": null,
   "id": "10b6878d-deda-4b86-9de0-cafab577df6f",
   "metadata": {},
   "outputs": [],
   "source": [
    "y_true = []\n",
    "y_pred = []\n",
    "for images, labels in val_ds_test:\n",
    "  # Make predictions on the batch\n",
    "  batch_pred = model.predict(images)\n",
    "  y_pred.extend(list(batch_pred.argmax(axis=1)))  # Predicted labels\n",
    "  y_true.extend(list(labels.numpy()))  # True labels from the batch\n",
    "\n",
    "# Calculate the confusion matrix\n",
    "cm = confusion_matrix(y_true, y_pred)"
   ]
  },
  {
   "cell_type": "code",
   "execution_count": null,
   "id": "e8e5bfec-e2c5-4a48-af24-6846d027f436",
   "metadata": {},
   "outputs": [],
   "source": [
    "disp = ConfusionMatrixDisplay(cm, display_labels=classes_,)\n",
    "disp.plot()"
   ]
  },
  {
   "cell_type": "code",
   "execution_count": null,
   "id": "87082979-3139-4968-ad16-749df18b2b27",
   "metadata": {},
   "outputs": [],
   "source": [
    "report = classification_report(y_true, y_pred)\n",
    "print(report)"
   ]
  },
  {
   "cell_type": "markdown",
   "id": "9e2265a2-9c32-4546-baec-262578538732",
   "metadata": {},
   "source": [
    "# Save"
   ]
  },
  {
   "cell_type": "code",
   "execution_count": null,
   "id": "5dd9cba5-f892-480f-91c7-7e619ad567ae",
   "metadata": {},
   "outputs": [],
   "source": [
    "# model.save('models/breast_cancer_classification-vgg16.h5')"
   ]
  }
 ],
 "metadata": {
  "kernelspec": {
   "display_name": "Python 3 (ipykernel)",
   "language": "python",
   "name": "python3"
  },
  "language_info": {
   "codemirror_mode": {
    "name": "ipython",
    "version": 3
   },
   "file_extension": ".py",
   "mimetype": "text/x-python",
   "name": "python",
   "nbconvert_exporter": "python",
   "pygments_lexer": "ipython3",
   "version": "3.12.7"
  }
 },
 "nbformat": 4,
 "nbformat_minor": 5
}
