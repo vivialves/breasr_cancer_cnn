{
 "cells": [
  {
   "cell_type": "markdown",
   "id": "630c2f9d-76cc-401d-9096-83cdfe8fb200",
   "metadata": {},
   "source": [
    "# Densenet"
   ]
  },
  {
   "cell_type": "code",
   "execution_count": 1,
   "id": "d0627e80-6fb6-4c62-9d1b-265c2a90ea34",
   "metadata": {
    "editable": true,
    "slideshow": {
     "slide_type": ""
    },
    "tags": []
   },
   "outputs": [],
   "source": [
    "import numpy as np\n",
    "import pandas as pd\n",
    "import os"
   ]
  },
  {
   "cell_type": "code",
   "execution_count": 2,
   "id": "dc45e6da-0195-4599-93b4-83eeb520749d",
   "metadata": {
    "editable": true,
    "slideshow": {
     "slide_type": ""
    },
    "tags": []
   },
   "outputs": [
    {
     "name": "stderr",
     "output_type": "stream",
     "text": [
      "2024-11-27 17:28:30.842754: I tensorflow/core/util/port.cc:153] oneDNN custom operations are on. You may see slightly different numerical results due to floating-point round-off errors from different computation orders. To turn them off, set the environment variable `TF_ENABLE_ONEDNN_OPTS=0`.\n",
      "2024-11-27 17:28:30.913786: E external/local_xla/xla/stream_executor/cuda/cuda_fft.cc:477] Unable to register cuFFT factory: Attempting to register factory for plugin cuFFT when one has already been registered\n",
      "WARNING: All log messages before absl::InitializeLog() is called are written to STDERR\n",
      "E0000 00:00:1732746510.955211  121794 cuda_dnn.cc:8310] Unable to register cuDNN factory: Attempting to register factory for plugin cuDNN when one has already been registered\n",
      "E0000 00:00:1732746510.967730  121794 cuda_blas.cc:1418] Unable to register cuBLAS factory: Attempting to register factory for plugin cuBLAS when one has already been registered\n",
      "2024-11-27 17:28:31.035392: I tensorflow/core/platform/cpu_feature_guard.cc:210] This TensorFlow binary is optimized to use available CPU instructions in performance-critical operations.\n",
      "To enable the following instructions: AVX2 AVX_VNNI FMA, in other operations, rebuild TensorFlow with the appropriate compiler flags.\n"
     ]
    }
   ],
   "source": [
    "import matplotlib.pyplot as plt\n",
    "import tensorflow as tf\n",
    "import keras as K\n",
    "from sklearn.metrics import confusion_matrix, ConfusionMatrixDisplay\n",
    "from sklearn.metrics import classification_report\n",
    "# from tensorflow.keras import datasets, layers, models\n",
    "\n",
    "from tensorflow.keras.models import Sequential, Model\n",
    "\n",
    "from tensorflow.keras.layers import (Input, Conv2D,BatchNormalization, Concatenate,\n",
    "                                    Activation, Add, MaxPooling2D, Dense, AveragePooling2D,\n",
    "                                    GlobalAveragePooling2D)\n",
    "\n",
    "from tensorflow.keras.layers import Dense, Flatten\n",
    "from keras.applications import DenseNet121"
   ]
  },
  {
   "cell_type": "markdown",
   "id": "8d906af8-23a2-40de-9bac-a995c373b5c3",
   "metadata": {},
   "source": [
    "# Preparation for trainning - Train Split"
   ]
  },
  {
   "cell_type": "code",
   "execution_count": 3,
   "id": "34f69f19-73e2-4d66-ab27-5b6ccf2766c5",
   "metadata": {},
   "outputs": [],
   "source": [
    "path = os.path.realpath('data/Dataset of Breast mammography images with Masses')\n",
    "list_path = path.split('/')\n",
    "list_path.remove('notebooks')\n",
    "list_path.remove('breast-cancer-project')\n",
    "path = os.path.join('/'.join(list_path), 'Image After Data Augmentation, Image Size 224x224/')"
   ]
  },
  {
   "cell_type": "code",
   "execution_count": 4,
   "id": "1d1c8e91-3951-4b41-a8c4-0fbaf5b153fb",
   "metadata": {},
   "outputs": [],
   "source": [
    "batch_size_n = 8"
   ]
  },
  {
   "cell_type": "code",
   "execution_count": 5,
   "id": "d2d8c613-8a1d-4dc4-b271-8565de186fa2",
   "metadata": {},
   "outputs": [
    {
     "name": "stdout",
     "output_type": "stream",
     "text": [
      "Found 7632 files belonging to 8 classes.\n",
      "Using 6106 files for training.\n"
     ]
    },
    {
     "name": "stderr",
     "output_type": "stream",
     "text": [
      "I0000 00:00:1732746517.193181  121794 gpu_device.cc:2022] Created device /job:localhost/replica:0/task:0/device:GPU:0 with 1756 MB memory:  -> device: 0, name: NVIDIA GeForce RTX 3050 Ti Laptop GPU, pci bus id: 0000:01:00.0, compute capability: 8.6\n"
     ]
    }
   ],
   "source": [
    "train_ds = tf.keras.preprocessing.image_dataset_from_directory(\n",
    "    path,\n",
    "    validation_split=0.2,\n",
    "    subset='training',\n",
    "    seed=123,\n",
    "    image_size=(224, 224),\n",
    "    batch_size=batch_size_n,\n",
    ")"
   ]
  },
  {
   "cell_type": "code",
   "execution_count": 6,
   "id": "826b0916-31ba-40a3-9e8d-805be42b0206",
   "metadata": {},
   "outputs": [
    {
     "data": {
      "text/plain": [
       "8"
      ]
     },
     "execution_count": 6,
     "metadata": {},
     "output_type": "execute_result"
    }
   ],
   "source": [
    "classes_ = train_ds.class_names\n",
    "len(classes_)"
   ]
  },
  {
   "cell_type": "code",
   "execution_count": 7,
   "id": "007e7d7a-3960-4b2f-8d23-9c41f7d31b53",
   "metadata": {},
   "outputs": [
    {
     "name": "stdout",
     "output_type": "stream",
     "text": [
      "Found 7632 files belonging to 8 classes.\n",
      "Using 1526 files for validation.\n"
     ]
    }
   ],
   "source": [
    "val_ds = tf.keras.preprocessing.image_dataset_from_directory(\n",
    "    path,\n",
    "    validation_split=0.2,\n",
    "    subset='validation',\n",
    "    seed=123,\n",
    "    image_size=(224, 224),\n",
    "    batch_size=batch_size_n,\n",
    ")"
   ]
  },
  {
   "cell_type": "code",
   "execution_count": 8,
   "id": "511c9c80-5071-476e-8b9d-17a19619e68c",
   "metadata": {},
   "outputs": [
    {
     "data": {
      "text/plain": [
       "(<_MapDataset element_spec=(TensorSpec(shape=(None, 224, 224, 3), dtype=tf.float32, name=None), TensorSpec(shape=(None,), dtype=tf.int32, name=None))>,\n",
       " <_MapDataset element_spec=(TensorSpec(shape=(None, 224, 224, 3), dtype=tf.float32, name=None), TensorSpec(shape=(None,), dtype=tf.int32, name=None))>)"
      ]
     },
     "execution_count": 8,
     "metadata": {},
     "output_type": "execute_result"
    }
   ],
   "source": [
    "def normalize(image, label):\n",
    "  return tf.cast(image/255., tf.float32), label\n",
    "\n",
    "train_ds = train_ds.map(normalize)\n",
    "val_ds = val_ds.map(normalize)\n",
    "\n",
    "train_ds, val_ds"
   ]
  },
  {
   "cell_type": "markdown",
   "id": "e1b4ad25-ebc6-4e59-ac22-47353c0c319a",
   "metadata": {},
   "source": [
    "# Preparation for trainning - Test Split"
   ]
  },
  {
   "cell_type": "code",
   "execution_count": 9,
   "id": "aa7b95ea-5960-4761-ae38-56b977cb2bd5",
   "metadata": {},
   "outputs": [],
   "source": [
    "path = os.path.realpath('data/Dataset of Breast mammography images with Masses')\n",
    "list_path = path.split('/')\n",
    "list_path.remove('notebooks')\n",
    "list_path.remove('breast-cancer-project')\n",
    "path = os.path.join('/'.join(list_path), 'Image Before Data Augmentation, Image Size 224x224/')"
   ]
  },
  {
   "cell_type": "code",
   "execution_count": 10,
   "id": "61db42d6-d765-4edb-8727-a6e9ecae9b60",
   "metadata": {},
   "outputs": [
    {
     "name": "stdout",
     "output_type": "stream",
     "text": [
      "Found 212 files belonging to 8 classes.\n",
      "Using 170 files for training.\n"
     ]
    }
   ],
   "source": [
    "train_ds_test = tf.keras.preprocessing.image_dataset_from_directory(\n",
    "    path,\n",
    "    validation_split=0.2,\n",
    "    subset='training',\n",
    "    seed=123,\n",
    "    image_size=(224, 224),\n",
    "    batch_size=batch_size_n,\n",
    ")"
   ]
  },
  {
   "cell_type": "code",
   "execution_count": 11,
   "id": "e32f77e4-eb97-4ac4-b475-65d219e5c6b0",
   "metadata": {},
   "outputs": [
    {
     "name": "stdout",
     "output_type": "stream",
     "text": [
      "Found 212 files belonging to 8 classes.\n",
      "Using 42 files for validation.\n"
     ]
    }
   ],
   "source": [
    "val_ds_test = tf.keras.preprocessing.image_dataset_from_directory(\n",
    "    path,\n",
    "    validation_split=0.2,\n",
    "    subset='validation',\n",
    "    seed=123,\n",
    "    image_size=(224, 224),\n",
    "    batch_size=batch_size_n,\n",
    ")"
   ]
  },
  {
   "cell_type": "code",
   "execution_count": 12,
   "id": "32129e27-6476-44f6-b71f-9bb28aca91bf",
   "metadata": {},
   "outputs": [
    {
     "data": {
      "text/plain": [
       "(<_MapDataset element_spec=(TensorSpec(shape=(None, 224, 224, 3), dtype=tf.float32, name=None), TensorSpec(shape=(None,), dtype=tf.int32, name=None))>,\n",
       " <_MapDataset element_spec=(TensorSpec(shape=(None, 224, 224, 3), dtype=tf.float32, name=None), TensorSpec(shape=(None,), dtype=tf.int32, name=None))>)"
      ]
     },
     "execution_count": 12,
     "metadata": {},
     "output_type": "execute_result"
    }
   ],
   "source": [
    "def normalize(image, label):\n",
    "  return tf.cast(image/255., tf.float32), label\n",
    "\n",
    "train_ds_test = train_ds_test.map(normalize)\n",
    "val_ds_test = val_ds_test.map(normalize)\n",
    "\n",
    "train_ds_test, val_ds_test"
   ]
  },
  {
   "cell_type": "markdown",
   "id": "c6833cbc-45b9-4036-af10-5c472c1b6f44",
   "metadata": {},
   "source": [
    "# Training"
   ]
  },
  {
   "cell_type": "code",
   "execution_count": 13,
   "id": "4b42ed18-029e-4ae1-a85d-35fa8bc2cf05",
   "metadata": {},
   "outputs": [],
   "source": [
    "from tensorflow.keras import mixed_precision\n",
    "\n",
    "\n",
    "mixed_precision.set_global_policy('mixed_float16')"
   ]
  },
  {
   "cell_type": "code",
   "execution_count": 14,
   "id": "1a75b9db-6dd5-465f-83f7-6140f8075217",
   "metadata": {},
   "outputs": [
    {
     "name": "stderr",
     "output_type": "stream",
     "text": [
      "I0000 00:00:1732746518.426652  121794 gpu_device.cc:2022] Created device /job:localhost/replica:0/task:0/device:GPU:0 with 1756 MB memory:  -> device: 0, name: NVIDIA GeForce RTX 3050 Ti Laptop GPU, pci bus id: 0000:01:00.0, compute capability: 8.6\n"
     ]
    }
   ],
   "source": [
    "config = tf.compat.v1.ConfigProto()\n",
    "config.gpu_options.allow_growth = True\n",
    "session = tf.compat.v1.Session(config=config)"
   ]
  },
  {
   "cell_type": "code",
   "execution_count": 15,
   "id": "04cf22ea-c5dc-4812-bcdb-dcbc86ae7bdf",
   "metadata": {},
   "outputs": [],
   "source": [
    "with session.as_default():\n",
    "    base_model = DenseNet121(weights=None, include_top=False, input_shape=(224, 224, 3), classes=8)\n",
    "    x = base_model.output\n",
    "    x = Flatten()(x)\n",
    "    last_layer = Dense(8, activation='softmax')(x)"
   ]
  },
  {
   "cell_type": "code",
   "execution_count": 16,
   "id": "970ff5ff-6324-4519-9454-7f37f900551b",
   "metadata": {},
   "outputs": [],
   "source": [
    "model = tf.keras.Model(inputs=base_model.input, outputs=last_layer)"
   ]
  },
  {
   "cell_type": "code",
   "execution_count": 17,
   "id": "b9886333-2358-4642-b536-5ca4c5986159",
   "metadata": {},
   "outputs": [],
   "source": [
    "model.compile(optimizer=tf.keras.optimizers.Adam(learning_rate=0.001),\n",
    "              loss='SparseCategoricalCrossentropy',\n",
    "              auto_scale_loss='False',\n",
    "              metrics=['accuracy'])"
   ]
  },
  {
   "cell_type": "code",
   "execution_count": 18,
   "id": "975c6f90-8f38-4567-a51a-9f43345ffe3f",
   "metadata": {
    "scrolled": true
   },
   "outputs": [
    {
     "name": "stdout",
     "output_type": "stream",
     "text": [
      "Epoch 1/50\n"
     ]
    },
    {
     "name": "stderr",
     "output_type": "stream",
     "text": [
      "WARNING: All log messages before absl::InitializeLog() is called are written to STDERR\n",
      "I0000 00:00:1732746553.734978  121895 service.cc:148] XLA service 0x7f1984003ff0 initialized for platform CUDA (this does not guarantee that XLA will be used). Devices:\n",
      "I0000 00:00:1732746553.735105  121895 service.cc:156]   StreamExecutor device (0): NVIDIA GeForce RTX 3050 Ti Laptop GPU, Compute Capability 8.6\n",
      "2024-11-27 17:29:14.663466: I tensorflow/compiler/mlir/tensorflow/utils/dump_mlir_util.cc:268] disabling MLIR crash reproducer, set env var `MLIR_CRASH_REPRODUCER_DIRECTORY` to enable.\n",
      "I0000 00:00:1732746562.153876  121895 cuda_dnn.cc:529] Loaded cuDNN version 90300\n",
      "2024-11-27 17:30:53.520121: I external/local_xla/xla/stream_executor/cuda/cuda_asm_compiler.cc:397] ptxas warning : Registers are spilled to local memory in function 'input_reduce_select_fusion_2', 92 bytes spill stores, 92 bytes spill loads\n",
      "ptxas warning : Registers are spilled to local memory in function 'input_reduce_fusion_138', 32 bytes spill stores, 32 bytes spill loads\n",
      "ptxas warning : Registers are spilled to local memory in function 'input_reduce_fusion_140', 8 bytes spill stores, 8 bytes spill loads\n",
      "ptxas warning : Registers are spilled to local memory in function 'input_reduce_fusion_142', 24 bytes spill stores, 24 bytes spill loads\n",
      "ptxas warning : Registers are spilled to local memory in function 'input_reduce_fusion_144', 40 bytes spill stores, 40 bytes spill loads\n",
      "ptxas warning : Registers are spilled to local memory in function 'input_reduce_fusion_146', 132 bytes spill stores, 132 bytes spill loads\n",
      "ptxas warning : Registers are spilled to local memory in function 'input_reduce_fusion_148', 44 bytes spill stores, 44 bytes spill loads\n",
      "ptxas warning : Registers are spilled to local memory in function 'input_reduce_fusion_150', 52 bytes spill stores, 52 bytes spill loads\n",
      "ptxas warning : Registers are spilled to local memory in function 'input_reduce_fusion_159', 44 bytes spill stores, 44 bytes spill loads\n",
      "ptxas warning : Registers are spilled to local memory in function 'input_reduce_fusion_160', 28 bytes spill stores, 28 bytes spill loads\n",
      "ptxas warning : Registers are spilled to local memory in function 'input_reduce_fusion_163', 28 bytes spill stores, 28 bytes spill loads\n",
      "ptxas warning : Registers are spilled to local memory in function 'input_reduce_fusion_164', 12 bytes spill stores, 12 bytes spill loads\n",
      "ptxas warning : Registers are spilled to local memory in function 'input_reduce_fusion_167', 12 bytes spill stores, 12 bytes spill loads\n",
      "\n",
      "I0000 00:00:1732746654.010376  121895 device_compiler.h:188] Compiled cluster using XLA!  This line is logged at most once for the lifetime of the process.\n"
     ]
    },
    {
     "name": "stdout",
     "output_type": "stream",
     "text": [
      "\u001b[1m741/764\u001b[0m \u001b[32m━━━━━━━━━━━━━━━━━━━\u001b[0m\u001b[37m━\u001b[0m \u001b[1m1s\u001b[0m 71ms/step - accuracy: 0.2720 - loss: 6.2712"
     ]
    },
    {
     "name": "stderr",
     "output_type": "stream",
     "text": [
      "2024-11-27 17:33:13.732084: I external/local_xla/xla/stream_executor/cuda/cuda_asm_compiler.cc:397] ptxas warning : Registers are spilled to local memory in function 'input_reduce_fusion_132', 84 bytes spill stores, 84 bytes spill loads\n",
      "\n"
     ]
    },
    {
     "name": "stdout",
     "output_type": "stream",
     "text": [
      "\u001b[1m764/764\u001b[0m \u001b[32m━━━━━━━━━━━━━━━━━━━━\u001b[0m\u001b[37m\u001b[0m \u001b[1m0s\u001b[0m 183ms/step - accuracy: 0.2722 - loss: 6.2239"
     ]
    },
    {
     "name": "stderr",
     "output_type": "stream",
     "text": [
      "2024-11-27 17:33:16.475870: I external/local_xla/xla/stream_executor/cuda/cuda_asm_compiler.cc:397] ptxas warning : Registers are spilled to local memory in function 'gemm_fusion_dot_3641', 4 bytes spill stores, 4 bytes spill loads\n",
      "\n",
      "2024-11-27 17:33:23.707163: I external/local_xla/xla/stream_executor/cuda/cuda_asm_compiler.cc:397] ptxas warning : Registers are spilled to local memory in function 'gemm_fusion_dot_3641', 4 bytes spill stores, 4 bytes spill loads\n",
      "\n"
     ]
    },
    {
     "name": "stdout",
     "output_type": "stream",
     "text": [
      "\u001b[1m764/764\u001b[0m \u001b[32m━━━━━━━━━━━━━━━━━━━━\u001b[0m\u001b[37m\u001b[0m \u001b[1m297s\u001b[0m 213ms/step - accuracy: 0.2723 - loss: 6.2218 - val_accuracy: 0.2903 - val_loss: 1.7701\n",
      "Epoch 2/50\n",
      "\u001b[1m764/764\u001b[0m \u001b[32m━━━━━━━━━━━━━━━━━━━━\u001b[0m\u001b[37m\u001b[0m \u001b[1m56s\u001b[0m 73ms/step - accuracy: 0.3135 - loss: 3.2823 - val_accuracy: 0.2615 - val_loss: nan\n",
      "Epoch 3/50\n",
      "\u001b[1m764/764\u001b[0m \u001b[32m━━━━━━━━━━━━━━━━━━━━\u001b[0m\u001b[37m\u001b[0m \u001b[1m57s\u001b[0m 74ms/step - accuracy: 0.3127 - loss: 3.4107 - val_accuracy: 0.2969 - val_loss: nan\n",
      "Epoch 4/50\n",
      "\u001b[1m764/764\u001b[0m \u001b[32m━━━━━━━━━━━━━━━━━━━━\u001b[0m\u001b[37m\u001b[0m \u001b[1m57s\u001b[0m 74ms/step - accuracy: 0.3710 - loss: 2.8862 - val_accuracy: 0.3827 - val_loss: 1.6211\n",
      "Epoch 5/50\n",
      "\u001b[1m764/764\u001b[0m \u001b[32m━━━━━━━━━━━━━━━━━━━━\u001b[0m\u001b[37m\u001b[0m \u001b[1m57s\u001b[0m 75ms/step - accuracy: 0.3189 - loss: 3.3558 - val_accuracy: 0.2123 - val_loss: 8.3075\n",
      "Epoch 6/50\n",
      "\u001b[1m764/764\u001b[0m \u001b[32m━━━━━━━━━━━━━━━━━━━━\u001b[0m\u001b[37m\u001b[0m \u001b[1m56s\u001b[0m 74ms/step - accuracy: 0.2774 - loss: 5.1472 - val_accuracy: 0.1822 - val_loss: nan\n",
      "Epoch 7/50\n",
      "\u001b[1m764/764\u001b[0m \u001b[32m━━━━━━━━━━━━━━━━━━━━\u001b[0m\u001b[37m\u001b[0m \u001b[1m57s\u001b[0m 74ms/step - accuracy: 0.3414 - loss: 3.3083 - val_accuracy: 0.3801 - val_loss: 1.6905\n",
      "Epoch 8/50\n",
      "\u001b[1m764/764\u001b[0m \u001b[32m━━━━━━━━━━━━━━━━━━━━\u001b[0m\u001b[37m\u001b[0m \u001b[1m60s\u001b[0m 79ms/step - accuracy: 0.3456 - loss: 2.9692 - val_accuracy: 0.2792 - val_loss: nan\n",
      "Epoch 9/50\n",
      "\u001b[1m764/764\u001b[0m \u001b[32m━━━━━━━━━━━━━━━━━━━━\u001b[0m\u001b[37m\u001b[0m \u001b[1m60s\u001b[0m 78ms/step - accuracy: 0.3652 - loss: 2.8146 - val_accuracy: 0.3722 - val_loss: 1.7754\n",
      "Epoch 10/50\n",
      "\u001b[1m764/764\u001b[0m \u001b[32m━━━━━━━━━━━━━━━━━━━━\u001b[0m\u001b[37m\u001b[0m \u001b[1m59s\u001b[0m 77ms/step - accuracy: 0.3613 - loss: 2.8410 - val_accuracy: 0.3879 - val_loss: nan\n",
      "Epoch 11/50\n",
      "\u001b[1m764/764\u001b[0m \u001b[32m━━━━━━━━━━━━━━━━━━━━\u001b[0m\u001b[37m\u001b[0m \u001b[1m59s\u001b[0m 78ms/step - accuracy: 0.3252 - loss: 3.1229 - val_accuracy: 0.2163 - val_loss: nan\n",
      "Epoch 12/50\n",
      "\u001b[1m764/764\u001b[0m \u001b[32m━━━━━━━━━━━━━━━━━━━━\u001b[0m\u001b[37m\u001b[0m \u001b[1m57s\u001b[0m 75ms/step - accuracy: 0.3859 - loss: 2.7523 - val_accuracy: 0.3657 - val_loss: nan\n",
      "Epoch 13/50\n",
      "\u001b[1m764/764\u001b[0m \u001b[32m━━━━━━━━━━━━━━━━━━━━\u001b[0m\u001b[37m\u001b[0m \u001b[1m60s\u001b[0m 78ms/step - accuracy: 0.3992 - loss: 2.6463 - val_accuracy: 0.3860 - val_loss: nan\n",
      "Epoch 14/50\n",
      "\u001b[1m764/764\u001b[0m \u001b[32m━━━━━━━━━━━━━━━━━━━━\u001b[0m\u001b[37m\u001b[0m \u001b[1m59s\u001b[0m 78ms/step - accuracy: 0.4123 - loss: 2.6627 - val_accuracy: 0.3716 - val_loss: 1.7006\n",
      "Epoch 15/50\n",
      "\u001b[1m764/764\u001b[0m \u001b[32m━━━━━━━━━━━━━━━━━━━━\u001b[0m\u001b[37m\u001b[0m \u001b[1m61s\u001b[0m 79ms/step - accuracy: 0.4160 - loss: 2.6523 - val_accuracy: 0.3014 - val_loss: nan\n",
      "Epoch 16/50\n",
      "\u001b[1m764/764\u001b[0m \u001b[32m━━━━━━━━━━━━━━━━━━━━\u001b[0m\u001b[37m\u001b[0m \u001b[1m60s\u001b[0m 78ms/step - accuracy: 0.3729 - loss: 2.8602 - val_accuracy: 0.2726 - val_loss: nan\n",
      "Epoch 17/50\n",
      "\u001b[1m764/764\u001b[0m \u001b[32m━━━━━━━━━━━━━━━━━━━━\u001b[0m\u001b[37m\u001b[0m \u001b[1m60s\u001b[0m 79ms/step - accuracy: 0.3913 - loss: 2.7669 - val_accuracy: 0.4089 - val_loss: nan\n",
      "Epoch 18/50\n",
      "\u001b[1m764/764\u001b[0m \u001b[32m━━━━━━━━━━━━━━━━━━━━\u001b[0m\u001b[37m\u001b[0m \u001b[1m60s\u001b[0m 78ms/step - accuracy: 0.4092 - loss: 2.7121 - val_accuracy: 0.4384 - val_loss: 1.4938\n",
      "Epoch 19/50\n",
      "\u001b[1m764/764\u001b[0m \u001b[32m━━━━━━━━━━━━━━━━━━━━\u001b[0m\u001b[37m\u001b[0m \u001b[1m59s\u001b[0m 77ms/step - accuracy: 0.4037 - loss: 2.7077 - val_accuracy: 0.4043 - val_loss: nan\n",
      "Epoch 20/50\n",
      "\u001b[1m764/764\u001b[0m \u001b[32m━━━━━━━━━━━━━━━━━━━━\u001b[0m\u001b[37m\u001b[0m \u001b[1m59s\u001b[0m 77ms/step - accuracy: 0.4166 - loss: 2.7753 - val_accuracy: 0.4325 - val_loss: 1.5736\n",
      "Epoch 21/50\n",
      "\u001b[1m764/764\u001b[0m \u001b[32m━━━━━━━━━━━━━━━━━━━━\u001b[0m\u001b[37m\u001b[0m \u001b[1m59s\u001b[0m 77ms/step - accuracy: 0.4058 - loss: 2.8583 - val_accuracy: 0.4201 - val_loss: 3.6792\n",
      "Epoch 22/50\n",
      "\u001b[1m764/764\u001b[0m \u001b[32m━━━━━━━━━━━━━━━━━━━━\u001b[0m\u001b[37m\u001b[0m \u001b[1m60s\u001b[0m 78ms/step - accuracy: 0.4219 - loss: 2.7726 - val_accuracy: 0.3165 - val_loss: nan\n",
      "Epoch 23/50\n",
      "\u001b[1m764/764\u001b[0m \u001b[32m━━━━━━━━━━━━━━━━━━━━\u001b[0m\u001b[37m\u001b[0m \u001b[1m59s\u001b[0m 77ms/step - accuracy: 0.3860 - loss: 3.9560 - val_accuracy: 0.4292 - val_loss: 1.4827\n",
      "Epoch 24/50\n",
      "\u001b[1m764/764\u001b[0m \u001b[32m━━━━━━━━━━━━━━━━━━━━\u001b[0m\u001b[37m\u001b[0m \u001b[1m59s\u001b[0m 77ms/step - accuracy: 0.4389 - loss: 2.7481 - val_accuracy: 0.3716 - val_loss: 1.8600\n",
      "Epoch 25/50\n",
      "\u001b[1m764/764\u001b[0m \u001b[32m━━━━━━━━━━━━━━━━━━━━\u001b[0m\u001b[37m\u001b[0m \u001b[1m59s\u001b[0m 77ms/step - accuracy: 0.3851 - loss: 3.1015 - val_accuracy: 0.4050 - val_loss: 1.9850\n",
      "Epoch 26/50\n",
      "\u001b[1m764/764\u001b[0m \u001b[32m━━━━━━━━━━━━━━━━━━━━\u001b[0m\u001b[37m\u001b[0m \u001b[1m59s\u001b[0m 77ms/step - accuracy: 0.4179 - loss: 2.8615 - val_accuracy: 0.4731 - val_loss: nan\n",
      "Epoch 27/50\n",
      "\u001b[1m764/764\u001b[0m \u001b[32m━━━━━━━━━━━━━━━━━━━━\u001b[0m\u001b[37m\u001b[0m \u001b[1m58s\u001b[0m 76ms/step - accuracy: 0.4031 - loss: 2.8456 - val_accuracy: 0.4640 - val_loss: nan\n",
      "Epoch 28/50\n",
      "\u001b[1m764/764\u001b[0m \u001b[32m━━━━━━━━━━━━━━━━━━━━\u001b[0m\u001b[37m\u001b[0m \u001b[1m58s\u001b[0m 76ms/step - accuracy: 0.4385 - loss: 2.6367 - val_accuracy: 0.4515 - val_loss: nan\n",
      "Epoch 29/50\n",
      "\u001b[1m764/764\u001b[0m \u001b[32m━━━━━━━━━━━━━━━━━━━━\u001b[0m\u001b[37m\u001b[0m \u001b[1m58s\u001b[0m 76ms/step - accuracy: 0.4500 - loss: 2.5419 - val_accuracy: 0.3152 - val_loss: nan\n",
      "Epoch 30/50\n",
      "\u001b[1m764/764\u001b[0m \u001b[32m━━━━━━━━━━━━━━━━━━━━\u001b[0m\u001b[37m\u001b[0m \u001b[1m59s\u001b[0m 77ms/step - accuracy: 0.4103 - loss: 2.7690 - val_accuracy: 0.4194 - val_loss: 1.5172\n",
      "Epoch 31/50\n",
      "\u001b[1m764/764\u001b[0m \u001b[32m━━━━━━━━━━━━━━━━━━━━\u001b[0m\u001b[37m\u001b[0m \u001b[1m59s\u001b[0m 78ms/step - accuracy: 0.4190 - loss: 2.6313 - val_accuracy: 0.3978 - val_loss: nan\n",
      "Epoch 32/50\n",
      "\u001b[1m764/764\u001b[0m \u001b[32m━━━━━━━━━━━━━━━━━━━━\u001b[0m\u001b[37m\u001b[0m \u001b[1m59s\u001b[0m 77ms/step - accuracy: 0.4328 - loss: 2.6057 - val_accuracy: 0.3958 - val_loss: 3.7476\n",
      "Epoch 33/50\n",
      "\u001b[1m764/764\u001b[0m \u001b[32m━━━━━━━━━━━━━━━━━━━━\u001b[0m\u001b[37m\u001b[0m \u001b[1m59s\u001b[0m 77ms/step - accuracy: 0.4596 - loss: 1.3385 - val_accuracy: 0.3650 - val_loss: 3.6387\n",
      "Epoch 34/50\n",
      "\u001b[1m764/764\u001b[0m \u001b[32m━━━━━━━━━━━━━━━━━━━━\u001b[0m\u001b[37m\u001b[0m \u001b[1m59s\u001b[0m 78ms/step - accuracy: 0.4819 - loss: 1.2999 - val_accuracy: 0.4109 - val_loss: 3.7333\n",
      "Epoch 35/50\n",
      "\u001b[1m764/764\u001b[0m \u001b[32m━━━━━━━━━━━━━━━━━━━━\u001b[0m\u001b[37m\u001b[0m \u001b[1m59s\u001b[0m 77ms/step - accuracy: 0.4865 - loss: 1.2793 - val_accuracy: 0.4692 - val_loss: 1.8603\n",
      "Epoch 36/50\n",
      "\u001b[1m764/764\u001b[0m \u001b[32m━━━━━━━━━━━━━━━━━━━━\u001b[0m\u001b[37m\u001b[0m \u001b[1m58s\u001b[0m 76ms/step - accuracy: 0.5063 - loss: 1.2388 - val_accuracy: 0.3893 - val_loss: 1.6649\n",
      "Epoch 37/50\n",
      "\u001b[1m764/764\u001b[0m \u001b[32m━━━━━━━━━━━━━━━━━━━━\u001b[0m\u001b[37m\u001b[0m \u001b[1m59s\u001b[0m 77ms/step - accuracy: 0.5241 - loss: 1.2051 - val_accuracy: 0.3539 - val_loss: 2.0630\n",
      "Epoch 38/50\n",
      "\u001b[1m764/764\u001b[0m \u001b[32m━━━━━━━━━━━━━━━━━━━━\u001b[0m\u001b[37m\u001b[0m \u001b[1m57s\u001b[0m 75ms/step - accuracy: 0.5482 - loss: 1.1619 - val_accuracy: 0.3978 - val_loss: 1.6158\n",
      "Epoch 39/50\n",
      "\u001b[1m764/764\u001b[0m \u001b[32m━━━━━━━━━━━━━━━━━━━━\u001b[0m\u001b[37m\u001b[0m \u001b[1m58s\u001b[0m 76ms/step - accuracy: 0.5375 - loss: 1.1468 - val_accuracy: 0.4928 - val_loss: 1.2965\n",
      "Epoch 40/50\n",
      "\u001b[1m764/764\u001b[0m \u001b[32m━━━━━━━━━━━━━━━━━━━━\u001b[0m\u001b[37m\u001b[0m \u001b[1m57s\u001b[0m 74ms/step - accuracy: 0.5640 - loss: 1.0904 - val_accuracy: 0.4895 - val_loss: 1.3400\n",
      "Epoch 41/50\n",
      "\u001b[1m764/764\u001b[0m \u001b[32m━━━━━━━━━━━━━━━━━━━━\u001b[0m\u001b[37m\u001b[0m \u001b[1m58s\u001b[0m 76ms/step - accuracy: 0.5754 - loss: 1.0603 - val_accuracy: 0.5256 - val_loss: 1.2127\n",
      "Epoch 42/50\n",
      "\u001b[1m764/764\u001b[0m \u001b[32m━━━━━━━━━━━━━━━━━━━━\u001b[0m\u001b[37m\u001b[0m \u001b[1m57s\u001b[0m 75ms/step - accuracy: 0.6045 - loss: 1.0016 - val_accuracy: 0.4646 - val_loss: 3.4136\n",
      "Epoch 43/50\n",
      "\u001b[1m764/764\u001b[0m \u001b[32m━━━━━━━━━━━━━━━━━━━━\u001b[0m\u001b[37m\u001b[0m \u001b[1m61s\u001b[0m 79ms/step - accuracy: 0.6240 - loss: 0.9634 - val_accuracy: 0.6062 - val_loss: 0.9794\n",
      "Epoch 44/50\n",
      "\u001b[1m764/764\u001b[0m \u001b[32m━━━━━━━━━━━━━━━━━━━━\u001b[0m\u001b[37m\u001b[0m \u001b[1m63s\u001b[0m 82ms/step - accuracy: 0.6486 - loss: 0.9099 - val_accuracy: 0.5734 - val_loss: 2.0977\n",
      "Epoch 45/50\n",
      "\u001b[1m764/764\u001b[0m \u001b[32m━━━━━━━━━━━━━━━━━━━━\u001b[0m\u001b[37m\u001b[0m \u001b[1m78s\u001b[0m 102ms/step - accuracy: 0.6606 - loss: 0.8676 - val_accuracy: 0.5950 - val_loss: 1.0190\n",
      "Epoch 46/50\n",
      "\u001b[1m764/764\u001b[0m \u001b[32m━━━━━━━━━━━━━━━━━━━━\u001b[0m\u001b[37m\u001b[0m \u001b[1m58s\u001b[0m 75ms/step - accuracy: 0.6947 - loss: 0.8135 - val_accuracy: 0.6501 - val_loss: 1.1478\n",
      "Epoch 47/50\n",
      "\u001b[1m764/764\u001b[0m \u001b[32m━━━━━━━━━━━━━━━━━━━━\u001b[0m\u001b[37m\u001b[0m \u001b[1m56s\u001b[0m 74ms/step - accuracy: 0.7375 - loss: 0.7135 - val_accuracy: 0.6284 - val_loss: 1.9015\n",
      "Epoch 48/50\n",
      "\u001b[1m764/764\u001b[0m \u001b[32m━━━━━━━━━━━━━━━━━━━━\u001b[0m\u001b[37m\u001b[0m \u001b[1m57s\u001b[0m 74ms/step - accuracy: 0.7533 - loss: 0.6557 - val_accuracy: 0.7097 - val_loss: 0.7435\n",
      "Epoch 49/50\n",
      "\u001b[1m764/764\u001b[0m \u001b[32m━━━━━━━━━━━━━━━━━━━━\u001b[0m\u001b[37m\u001b[0m \u001b[1m57s\u001b[0m 74ms/step - accuracy: 0.7778 - loss: 0.5869 - val_accuracy: 0.6094 - val_loss: 1.7174\n",
      "Epoch 50/50\n",
      "\u001b[1m764/764\u001b[0m \u001b[32m━━━━━━━━━━━━━━━━━━━━\u001b[0m\u001b[37m\u001b[0m \u001b[1m57s\u001b[0m 74ms/step - accuracy: 0.8150 - loss: 0.5172 - val_accuracy: 0.7372 - val_loss: 0.6414\n"
     ]
    }
   ],
   "source": [
    "epochs = 50\n",
    "history = model.fit(train_ds,\n",
    "                    validation_data=val_ds,\n",
    "                    batch_size=batch_size_n,\n",
    "                    epochs=epochs)"
   ]
  },
  {
   "cell_type": "markdown",
   "id": "3c909131-c092-4f34-9dd2-03c306612f21",
   "metadata": {},
   "source": [
    "# Evaluating"
   ]
  },
  {
   "cell_type": "code",
   "execution_count": 19,
   "id": "704cd67a-3f10-409a-8c2d-b776dd9503f4",
   "metadata": {},
   "outputs": [
    {
     "data": {
      "text/plain": [
       "{'accuracy': [0.28169015049934387,\n",
       "  0.303963303565979,\n",
       "  0.33770063519477844,\n",
       "  0.37995412945747375,\n",
       "  0.30789387226104736,\n",
       "  0.2885686159133911,\n",
       "  0.34474286437034607,\n",
       "  0.35194891691207886,\n",
       "  0.37618735432624817,\n",
       "  0.3553881347179413,\n",
       "  0.33229610323905945,\n",
       "  0.39338356256484985,\n",
       "  0.40337371826171875,\n",
       "  0.40615788102149963,\n",
       "  0.40435636043548584,\n",
       "  0.3635767996311188,\n",
       "  0.3999345004558563,\n",
       "  0.41254502534866333,\n",
       "  0.40681296586990356,\n",
       "  0.411726176738739,\n",
       "  0.40239107608795166,\n",
       "  0.4145103096961975,\n",
       "  0.4135276675224304,\n",
       "  0.43285292387008667,\n",
       "  0.3991156220436096,\n",
       "  0.428103506565094,\n",
       "  0.4192597568035126,\n",
       "  0.44480839371681213,\n",
       "  0.4377661347389221,\n",
       "  0.4235178530216217,\n",
       "  0.41680315136909485,\n",
       "  0.4423517882823944,\n",
       "  0.4703570306301117,\n",
       "  0.4911562502384186,\n",
       "  0.49705207347869873,\n",
       "  0.5145758390426636,\n",
       "  0.5289878845214844,\n",
       "  0.5489682555198669,\n",
       "  0.5461840629577637,\n",
       "  0.5748444199562073,\n",
       "  0.5838519334793091,\n",
       "  0.6103832125663757,\n",
       "  0.6257779002189636,\n",
       "  0.6537831425666809,\n",
       "  0.6744186282157898,\n",
       "  0.7038978338241577,\n",
       "  0.737471342086792,\n",
       "  0.753848671913147,\n",
       "  0.7884048223495483,\n",
       "  0.8178840279579163],\n",
       " 'loss': [4.673497200012207,\n",
       "  3.444807767868042,\n",
       "  3.16156268119812,\n",
       "  2.926222324371338,\n",
       "  3.7331228256225586,\n",
       "  4.767380237579346,\n",
       "  3.2221319675445557,\n",
       "  2.870556592941284,\n",
       "  2.801265239715576,\n",
       "  2.92352557182312,\n",
       "  3.0345776081085205,\n",
       "  2.72733473777771,\n",
       "  2.611555814743042,\n",
       "  2.67244553565979,\n",
       "  2.711517333984375,\n",
       "  2.8734946250915527,\n",
       "  2.710292100906372,\n",
       "  2.7064270973205566,\n",
       "  2.70568585395813,\n",
       "  2.87809157371521,\n",
       "  2.888612985610962,\n",
       "  2.9191737174987793,\n",
       "  3.3767948150634766,\n",
       "  2.8008944988250732,\n",
       "  2.9295926094055176,\n",
       "  2.731344223022461,\n",
       "  2.712660312652588,\n",
       "  2.5810089111328125,\n",
       "  2.614743947982788,\n",
       "  2.722698450088501,\n",
       "  2.7018020153045654,\n",
       "  2.3258249759674072,\n",
       "  1.3279417753219604,\n",
       "  1.2888015508651733,\n",
       "  1.268255591392517,\n",
       "  1.2263776063919067,\n",
       "  1.2015411853790283,\n",
       "  1.1569335460662842,\n",
       "  1.1285548210144043,\n",
       "  1.0804578065872192,\n",
       "  1.04137122631073,\n",
       "  0.9981367588043213,\n",
       "  0.9525424242019653,\n",
       "  0.8930009007453918,\n",
       "  0.8428719639778137,\n",
       "  0.7793188691139221,\n",
       "  0.6994763016700745,\n",
       "  0.6380950212478638,\n",
       "  0.5665708184242249,\n",
       "  0.5055344104766846],\n",
       " 'val_accuracy': [0.29030144214630127,\n",
       "  0.26146790385246277,\n",
       "  0.29685452580451965,\n",
       "  0.3826998770236969,\n",
       "  0.21231979131698608,\n",
       "  0.1821756213903427,\n",
       "  0.38007864356040955,\n",
       "  0.2791612148284912,\n",
       "  0.3722149431705475,\n",
       "  0.3879423439502716,\n",
       "  0.21625164151191711,\n",
       "  0.3656618595123291,\n",
       "  0.3859764039516449,\n",
       "  0.37155961990356445,\n",
       "  0.30144166946411133,\n",
       "  0.2726081311702728,\n",
       "  0.40891218185424805,\n",
       "  0.4384010434150696,\n",
       "  0.40432503819465637,\n",
       "  0.43250328302383423,\n",
       "  0.4200524389743805,\n",
       "  0.3165137469768524,\n",
       "  0.42922672629356384,\n",
       "  0.37155961990356445,\n",
       "  0.404980331659317,\n",
       "  0.4731323719024658,\n",
       "  0.4639580547809601,\n",
       "  0.45150721073150635,\n",
       "  0.31520316004753113,\n",
       "  0.41939711570739746,\n",
       "  0.397771954536438,\n",
       "  0.3958060145378113,\n",
       "  0.36500656604766846,\n",
       "  0.41087812185287476,\n",
       "  0.4692005217075348,\n",
       "  0.3892529606819153,\n",
       "  0.353866308927536,\n",
       "  0.397771954536438,\n",
       "  0.49279162287712097,\n",
       "  0.4895150661468506,\n",
       "  0.5255570411682129,\n",
       "  0.4646133780479431,\n",
       "  0.6061598658561707,\n",
       "  0.5733944773674011,\n",
       "  0.5950196385383606,\n",
       "  0.650065541267395,\n",
       "  0.6284403800964355,\n",
       "  0.7096985578536987,\n",
       "  0.6094364523887634,\n",
       "  0.7372214794158936],\n",
       " 'val_loss': [1.7700673341751099,\n",
       "  nan,\n",
       "  nan,\n",
       "  1.621090054512024,\n",
       "  8.307496070861816,\n",
       "  nan,\n",
       "  1.6904951333999634,\n",
       "  nan,\n",
       "  1.7754260301589966,\n",
       "  nan,\n",
       "  nan,\n",
       "  nan,\n",
       "  nan,\n",
       "  1.7006218433380127,\n",
       "  nan,\n",
       "  nan,\n",
       "  nan,\n",
       "  1.4938278198242188,\n",
       "  nan,\n",
       "  1.5736138820648193,\n",
       "  3.67922043800354,\n",
       "  nan,\n",
       "  1.482719898223877,\n",
       "  1.8600389957427979,\n",
       "  1.9849616289138794,\n",
       "  nan,\n",
       "  nan,\n",
       "  nan,\n",
       "  nan,\n",
       "  1.5171738862991333,\n",
       "  nan,\n",
       "  3.7476351261138916,\n",
       "  3.638655185699463,\n",
       "  3.733307361602783,\n",
       "  1.860277771949768,\n",
       "  1.6648917198181152,\n",
       "  2.062988519668579,\n",
       "  1.6158168315887451,\n",
       "  1.296493649482727,\n",
       "  1.340002179145813,\n",
       "  1.212722659111023,\n",
       "  3.4136312007904053,\n",
       "  0.9794003367424011,\n",
       "  2.0976626873016357,\n",
       "  1.0190248489379883,\n",
       "  1.147780418395996,\n",
       "  1.9014514684677124,\n",
       "  0.7435275316238403,\n",
       "  1.7173950672149658,\n",
       "  0.6413756012916565]}"
      ]
     },
     "execution_count": 19,
     "metadata": {},
     "output_type": "execute_result"
    }
   ],
   "source": [
    "history.history"
   ]
  },
  {
   "cell_type": "code",
   "execution_count": 20,
   "id": "3bac3c94-ac51-42aa-b2ae-f7463d1823c1",
   "metadata": {},
   "outputs": [
    {
     "data": {
      "image/png": "[encoded data removed]",
      "text/plain": [
       "<Figure size 640x480 with 1 Axes>"
      ]
     },
     "metadata": {},
     "output_type": "display_data"
    }
   ],
   "source": [
    "plt.plot(history.history['loss'])\n",
    "plt.plot(history.history['val_loss'])\n",
    "plt.title('Model Loss')\n",
    "plt.ylabel('Loss')\n",
    "plt.xlabel('Epoch')\n",
    "plt.legend(['Train', 'Val'], loc='upper right')\n",
    "plt.show()"
   ]
  },
  {
   "cell_type": "code",
   "execution_count": 21,
   "id": "02047b4e-0c50-43a5-a454-e3c1aeca5e49",
   "metadata": {},
   "outputs": [
    {
     "data": {
      "image/png": "[encoded data removed]",
      "text/plain": [
       "<Figure size 640x480 with 1 Axes>"
      ]
     },
     "metadata": {},
     "output_type": "display_data"
    }
   ],
   "source": [
    "plt.plot(history.history['accuracy'])\n",
    "plt.plot(history.history['val_accuracy'])\n",
    "plt.title('Model Accuracy')\n",
    "plt.ylabel('Accuracy')\n",
    "plt.xlabel('Epoch')\n",
    "plt.legend(['Train', 'Val'], loc='lower right')\n",
    "plt.show()"
   ]
  },
  {
   "cell_type": "code",
   "execution_count": 22,
   "id": "c09299b2-2738-430c-999f-2128b37e9c1e",
   "metadata": {},
   "outputs": [
    {
     "name": "stdout",
     "output_type": "stream",
     "text": [
      "191/191 - 3s - 16ms/step - accuracy: 0.7372 - loss: 0.6414\n"
     ]
    }
   ],
   "source": [
    "test_loss, test_acc = model.evaluate(val_ds, verbose=2)"
   ]
  },
  {
   "cell_type": "code",
   "execution_count": 23,
   "id": "d9efc142-91c8-4dcf-b721-bf9f06b2eb15",
   "metadata": {},
   "outputs": [
    {
     "name": "stdout",
     "output_type": "stream",
     "text": [
      "0.7372214794158936\n"
     ]
    }
   ],
   "source": [
    "print(test_acc)"
   ]
  },
  {
   "cell_type": "code",
   "execution_count": 24,
   "id": "7a37061c-d770-4249-8fdd-91b34346ceb8",
   "metadata": {},
   "outputs": [
    {
     "name": "stderr",
     "output_type": "stream",
     "text": [
      "2024-11-27 18:21:49.017467: E tensorflow/core/util/util.cc:131] oneDNN supports DT_HALF only on platforms with AVX-512. Falling back to the default Eigen-based implementation if present.\n"
     ]
    },
    {
     "name": "stdout",
     "output_type": "stream",
     "text": [
      "\u001b[1m20/22\u001b[0m \u001b[32m━━━━━━━━━━━━━━━━━━\u001b[0m\u001b[37m━━\u001b[0m \u001b[1m0s\u001b[0m 29ms/step"
     ]
    },
    {
     "name": "stderr",
     "output_type": "stream",
     "text": [
      "2024-11-27 18:21:59.299734: I external/local_xla/xla/stream_executor/cuda/cuda_asm_compiler.cc:397] ptxas warning : Registers are spilled to local memory in function 'gemm_fusion_dot_3624', 4 bytes spill stores, 4 bytes spill loads\n",
      "\n"
     ]
    },
    {
     "name": "stdout",
     "output_type": "stream",
     "text": [
      "\u001b[1m22/22\u001b[0m \u001b[32m━━━━━━━━━━━━━━━━━━━━\u001b[0m\u001b[37m\u001b[0m \u001b[1m17s\u001b[0m 368ms/step\n"
     ]
    }
   ],
   "source": [
    "predictions = model.predict(train_ds_test)\n",
    "val_pred = np.argmax(predictions, axis=1)"
   ]
  },
  {
   "cell_type": "code",
   "execution_count": 25,
   "id": "e337b866-e353-4c94-bbe4-8c39e6295401",
   "metadata": {},
   "outputs": [
    {
     "name": "stdout",
     "output_type": "stream",
     "text": [
      "\u001b[1m1/1\u001b[0m \u001b[32m━━━━━━━━━━━━━━━━━━━━\u001b[0m\u001b[37m\u001b[0m \u001b[1m6s\u001b[0m 6s/step\n",
      "\u001b[1m1/1\u001b[0m \u001b[32m━━━━━━━━━━━━━━━━━━━━\u001b[0m\u001b[37m\u001b[0m \u001b[1m0s\u001b[0m 29ms/step\n",
      "\u001b[1m1/1\u001b[0m \u001b[32m━━━━━━━━━━━━━━━━━━━━\u001b[0m\u001b[37m\u001b[0m \u001b[1m0s\u001b[0m 33ms/step\n",
      "\u001b[1m1/1\u001b[0m \u001b[32m━━━━━━━━━━━━━━━━━━━━\u001b[0m\u001b[37m\u001b[0m \u001b[1m0s\u001b[0m 28ms/step\n",
      "\u001b[1m1/1\u001b[0m \u001b[32m━━━━━━━━━━━━━━━━━━━━\u001b[0m\u001b[37m\u001b[0m \u001b[1m0s\u001b[0m 26ms/step\n",
      "\u001b[1m1/1\u001b[0m \u001b[32m━━━━━━━━━━━━━━━━━━━━\u001b[0m\u001b[37m\u001b[0m \u001b[1m8s\u001b[0m 8s/step\n"
     ]
    },
    {
     "name": "stderr",
     "output_type": "stream",
     "text": [
      "2024-11-27 18:22:17.038040: I tensorflow/core/framework/local_rendezvous.cc:405] Local rendezvous is aborting with status: OUT_OF_RANGE: End of sequence\n"
     ]
    }
   ],
   "source": [
    "y_true = []\n",
    "y_pred = []\n",
    "for images, labels in val_ds_test:\n",
    "  # Make predictions on the batch\n",
    "  batch_pred = model.predict(images)\n",
    "  y_pred.extend(list(batch_pred.argmax(axis=1)))  # Predicted labels\n",
    "  y_true.extend(list(labels.numpy()))  # True labels from the batch\n",
    "\n",
    "# Calculate the confusion matrix\n",
    "cm = confusion_matrix(y_true, y_pred)"
   ]
  },
  {
   "cell_type": "code",
   "execution_count": 26,
   "id": "d9c1dd13-5650-4712-9012-f49676305da7",
   "metadata": {},
   "outputs": [
    {
     "data": {
      "text/plain": [
       "<sklearn.metrics._plot.confusion_matrix.ConfusionMatrixDisplay at 0x7f18df6c4cb0>"
      ]
     },
     "execution_count": 26,
     "metadata": {},
     "output_type": "execute_result"
    },
    {
     "data": {
      "image/png": "[encoded data removed]",
      "text/plain": [
       "<Figure size 640x480 with 2 Axes>"
      ]
     },
     "metadata": {},
     "output_type": "display_data"
    }
   ],
   "source": [
    "disp = ConfusionMatrixDisplay(cm, display_labels=classes_,)\n",
    "disp.plot()"
   ]
  },
  {
   "cell_type": "code",
   "execution_count": 27,
   "id": "b889ddb5-a98f-4328-a9f9-afff34a7b6bc",
   "metadata": {},
   "outputs": [
    {
     "name": "stdout",
     "output_type": "stream",
     "text": [
      "              precision    recall  f1-score   support\n",
      "\n",
      "           0       0.67      1.00      0.80         2\n",
      "           1       0.82      0.82      0.82        11\n",
      "           2       1.00      1.00      1.00         1\n",
      "           3       0.84      0.84      0.84        19\n",
      "           4       1.00      0.33      0.50         3\n",
      "           5       0.33      1.00      0.50         1\n",
      "           6       1.00      0.75      0.86         4\n",
      "           7       1.00      1.00      1.00         1\n",
      "\n",
      "    accuracy                           0.81        42\n",
      "   macro avg       0.83      0.84      0.79        42\n",
      "weighted avg       0.85      0.81      0.81        42\n",
      "\n"
     ]
    }
   ],
   "source": [
    "report = classification_report(y_true, y_pred)\n",
    "print(report)"
   ]
  },
  {
   "cell_type": "markdown",
   "id": "6b42fe12-3c29-45f5-a802-10f0a01f36d5",
   "metadata": {},
   "source": [
    "# Save"
   ]
  },
  {
   "cell_type": "code",
   "execution_count": 28,
   "id": "ffd33819-1053-4b3a-a977-2e9a5e8d6308",
   "metadata": {},
   "outputs": [],
   "source": [
    "# model.save('models/breast_cancer_classification-densenet.h5')"
   ]
  },
  {
   "cell_type": "code",
   "execution_count": null,
   "id": "1f6b67f1-5eee-42a4-bd5b-6fd2445c64a9",
   "metadata": {},
   "outputs": [],
   "source": []
  }
 ],
 "metadata": {
  "kernelspec": {
   "display_name": "Python 3 (ipykernel)",
   "language": "python",
   "name": "python3"
  },
  "language_info": {
   "codemirror_mode": {
    "name": "ipython",
    "version": 3
   },
   "file_extension": ".py",
   "mimetype": "text/x-python",
   "name": "python",
   "nbconvert_exporter": "python",
   "pygments_lexer": "ipython3",
   "version": "3.12.7"
  }
 },
 "nbformat": 4,
 "nbformat_minor": 5
}
