{
 "cells": [
  {
   "cell_type": "markdown",
   "id": "7833ccb2-13fc-4f0c-abb5-b242fec7babb",
   "metadata": {},
   "source": [
    "# Alexnet"
   ]
  },
  {
   "cell_type": "code",
   "execution_count": 1,
   "id": "a949086a-250c-44ed-bf96-b342632b150d",
   "metadata": {},
   "outputs": [],
   "source": [
    "import numpy as np\n",
    "import pandas as pd"
   ]
  },
  {
   "cell_type": "code",
   "execution_count": 2,
   "id": "5ffafb28-0186-4ac2-a81b-868d537f06e9",
   "metadata": {},
   "outputs": [
    {
     "name": "stderr",
     "output_type": "stream",
     "text": [
      "2024-11-20 22:10:07.122639: I tensorflow/core/util/port.cc:153] oneDNN custom operations are on. You may see slightly different numerical results due to floating-point round-off errors from different computation orders. To turn them off, set the environment variable `TF_ENABLE_ONEDNN_OPTS=0`.\n",
      "2024-11-20 22:10:07.133551: E external/local_xla/xla/stream_executor/cuda/cuda_fft.cc:477] Unable to register cuFFT factory: Attempting to register factory for plugin cuFFT when one has already been registered\n",
      "WARNING: All log messages before absl::InitializeLog() is called are written to STDERR\n",
      "E0000 00:00:1732158607.144402    6569 cuda_dnn.cc:8310] Unable to register cuDNN factory: Attempting to register factory for plugin cuDNN when one has already been registered\n",
      "E0000 00:00:1732158607.147537    6569 cuda_blas.cc:1418] Unable to register cuBLAS factory: Attempting to register factory for plugin cuBLAS when one has already been registered\n",
      "2024-11-20 22:10:07.159312: I tensorflow/core/platform/cpu_feature_guard.cc:210] This TensorFlow binary is optimized to use available CPU instructions in performance-critical operations.\n",
      "To enable the following instructions: AVX2 AVX_VNNI FMA, in other operations, rebuild TensorFlow with the appropriate compiler flags.\n"
     ]
    }
   ],
   "source": [
    "import matplotlib.pyplot as plt\n",
    "import tensorflow as tf\n",
    "import keras as K\n",
    "from sklearn.metrics import confusion_matrix, ConfusionMatrixDisplay\n",
    "from sklearn.metrics import classification_report\n",
    "# from tensorflow.keras import datasets, layers, models\n",
    "\n",
    "from tensorflow.keras.models import Sequential\n",
    "from tensorflow.keras.layers import Conv2D, MaxPooling2D, Flatten, Dense"
   ]
  },
  {
   "cell_type": "markdown",
   "id": "15998c73-a763-4a70-8559-5087e458f270",
   "metadata": {},
   "source": [
    "# Preparation for trainning - Train Split"
   ]
  },
  {
   "cell_type": "code",
   "execution_count": 3,
   "id": "79267c1c-b776-47c6-8347-456dc9a4fe89",
   "metadata": {},
   "outputs": [
    {
     "name": "stdout",
     "output_type": "stream",
     "text": [
      "Found 7632 files belonging to 8 classes.\n",
      "Using 6106 files for training.\n"
     ]
    },
    {
     "name": "stderr",
     "output_type": "stream",
     "text": [
      "I0000 00:00:1732158610.545107    6569 gpu_device.cc:2022] Created device /job:localhost/replica:0/task:0/device:GPU:0 with 1756 MB memory:  -> device: 0, name: NVIDIA GeForce RTX 3050 Ti Laptop GPU, pci bus id: 0000:01:00.0, compute capability: 8.6\n"
     ]
    }
   ],
   "source": [
    "train_ds = tf.keras.preprocessing.image_dataset_from_directory(\n",
    "    'Dataset of Breast mammography images with Masses/Image After Data Augmentation, Image Size 227x227/',\n",
    "    validation_split=0.2,\n",
    "    subset='training',\n",
    "    seed=123,\n",
    "    image_size=(227, 227),\n",
    "    batch_size=32,\n",
    ")"
   ]
  },
  {
   "cell_type": "code",
   "execution_count": 4,
   "id": "b2ce4506-53ab-4014-9102-3dcea2067fbd",
   "metadata": {},
   "outputs": [
    {
     "data": {
      "text/plain": [
       "8"
      ]
     },
     "execution_count": 4,
     "metadata": {},
     "output_type": "execute_result"
    }
   ],
   "source": [
    "classes_ = train_ds.class_names\n",
    "len(classes_)"
   ]
  },
  {
   "cell_type": "code",
   "execution_count": 5,
   "id": "e44d8bde-7735-459c-940c-cdcb3763b748",
   "metadata": {},
   "outputs": [
    {
     "name": "stdout",
     "output_type": "stream",
     "text": [
      "Found 7632 files belonging to 8 classes.\n",
      "Using 1526 files for validation.\n"
     ]
    }
   ],
   "source": [
    "val_ds = tf.keras.preprocessing.image_dataset_from_directory(\n",
    "    'Dataset of Breast mammography images with Masses/Image After Data Augmentation, Image Size 227x227/',\n",
    "    validation_split=0.2,\n",
    "    subset='validation',\n",
    "    seed=123,\n",
    "    image_size=(227, 227),\n",
    "    batch_size=32,\n",
    ")"
   ]
  },
  {
   "cell_type": "markdown",
   "id": "083012fb-9ac5-4499-8814-61eed68aa58e",
   "metadata": {},
   "source": [
    "def normalize(image, label):\n",
    "  return tf.cast(image/255., tf.float32), label\n",
    "\n",
    "train_ds = train_ds.map(normalize)\n",
    "val_ds = val_ds.map(normalize)\n",
    "\n",
    "train_ds, val_ds"
   ]
  },
  {
   "cell_type": "markdown",
   "id": "aebe2fc2-e0ea-406e-97fd-14060990a7c9",
   "metadata": {},
   "source": [
    "# Preparation for trainning - Test Split"
   ]
  },
  {
   "cell_type": "code",
   "execution_count": 6,
   "id": "321e3a74-49b6-40e0-bd4e-2e4192624cf3",
   "metadata": {},
   "outputs": [
    {
     "name": "stdout",
     "output_type": "stream",
     "text": [
      "Found 212 files belonging to 8 classes.\n",
      "Using 170 files for training.\n"
     ]
    }
   ],
   "source": [
    "train_ds_test = tf.keras.preprocessing.image_dataset_from_directory(\n",
    "    'Dataset of Breast mammography images with Masses/Image Before Data Augmentation, Image Size 227x227/',\n",
    "    validation_split=0.2,\n",
    "    subset='training',\n",
    "    seed=123,\n",
    "    image_size=(227, 227),\n",
    "    batch_size=32,\n",
    ")"
   ]
  },
  {
   "cell_type": "code",
   "execution_count": 7,
   "id": "b581d473-fc8e-449a-9130-ed7fa60854fa",
   "metadata": {},
   "outputs": [
    {
     "name": "stdout",
     "output_type": "stream",
     "text": [
      "Found 212 files belonging to 8 classes.\n",
      "Using 42 files for validation.\n"
     ]
    }
   ],
   "source": [
    "val_ds_test = tf.keras.preprocessing.image_dataset_from_directory(\n",
    "    'Dataset of Breast mammography images with Masses/Image Before Data Augmentation, Image Size 227x227/',\n",
    "    validation_split=0.2,\n",
    "    subset='validation',\n",
    "    seed=123,\n",
    "    image_size=(227, 227),\n",
    "    batch_size=32,\n",
    ")"
   ]
  },
  {
   "cell_type": "code",
   "execution_count": 8,
   "id": "bd22c9eb-00f8-4efd-a1bc-61ed082d879c",
   "metadata": {},
   "outputs": [
    {
     "data": {
      "text/plain": [
       "(<_MapDataset element_spec=(TensorSpec(shape=(None, 227, 227, 3), dtype=tf.float32, name=None), TensorSpec(shape=(None,), dtype=tf.int32, name=None))>,\n",
       " <_MapDataset element_spec=(TensorSpec(shape=(None, 227, 227, 3), dtype=tf.float32, name=None), TensorSpec(shape=(None,), dtype=tf.int32, name=None))>)"
      ]
     },
     "execution_count": 8,
     "metadata": {},
     "output_type": "execute_result"
    }
   ],
   "source": [
    "def normalize(image, label):\n",
    "  return tf.cast(image/255., tf.float32), label\n",
    "\n",
    "train_ds_test = train_ds_test.map(normalize)\n",
    "val_ds_test = val_ds_test.map(normalize)\n",
    "\n",
    "train_ds_test, val_ds_test"
   ]
  },
  {
   "cell_type": "markdown",
   "id": "053a442b-86ec-4b6d-97f9-f9cb395dcacb",
   "metadata": {},
   "source": [
    "# Training"
   ]
  },
  {
   "cell_type": "code",
   "execution_count": 9,
   "id": "1b3b8fa7-859b-42b9-aca9-a9f5a666a3b3",
   "metadata": {},
   "outputs": [
    {
     "name": "stderr",
     "output_type": "stream",
     "text": [
      "/home/viviane/apps/anaconda3/envs/pro1-cnn/lib/python3.12/site-packages/keras/src/layers/convolutional/base_conv.py:107: UserWarning: Do not pass an `input_shape`/`input_dim` argument to a layer. When using Sequential models, prefer using an `Input(shape)` object as the first layer in the model instead.\n",
      "  super().__init__(activity_regularizer=activity_regularizer, **kwargs)\n"
     ]
    }
   ],
   "source": [
    "model = Sequential([\n",
    "    Conv2D(filters=96, kernel_size=(11,11), strides=(4,4), activation='relu', input_shape=(227,227,3)),\n",
    "    MaxPooling2D(pool_size=(3,3), strides=(2,2)),\n",
    "    Conv2D(filters=256, kernel_size=(5,5), padding='same', activation='relu'),\n",
    "    MaxPooling2D(pool_size=(3,3), strides=(2,2)),\n",
    "    Conv2D(filters=384, kernel_size=(3,3), padding='same', activation='relu'),\n",
    "    Conv2D(filters=384, kernel_size=(3,3), padding='same', activation='relu'),\n",
    "    Conv2D(filters=256, kernel_size=(3,3), padding='same', activation='relu'),\n",
    "    MaxPooling2D(pool_size=(3,3), strides=(2,2)),\n",
    "    Flatten(),\n",
    "    Dense(4096, activation='relu'),\n",
    "    Dense(4096, activation='relu'),\n",
    "    Dense(1000, activation= 'relu'),\n",
    "    Dense(8, activation='softmax')\n",
    "])"
   ]
  },
  {
   "cell_type": "code",
   "execution_count": 10,
   "id": "de6bc51f-49b5-40ff-93db-a6974485fe62",
   "metadata": {},
   "outputs": [],
   "source": [
    "model.compile(optimizer='adam',\n",
    "              loss='SparseCategoricalCrossentropy',\n",
    "              metrics=['accuracy'])"
   ]
  },
  {
   "cell_type": "code",
   "execution_count": 11,
   "id": "849309fc-b5cc-434c-a6ae-4237eb46484a",
   "metadata": {
    "scrolled": true
   },
   "outputs": [
    {
     "name": "stdout",
     "output_type": "stream",
     "text": [
      "Epoch 1/70\n"
     ]
    },
    {
     "name": "stderr",
     "output_type": "stream",
     "text": [
      "WARNING: All log messages before absl::InitializeLog() is called are written to STDERR\n",
      "I0000 00:00:1732158613.334417    6669 service.cc:148] XLA service 0x7f5300014130 initialized for platform CUDA (this does not guarantee that XLA will be used). Devices:\n",
      "I0000 00:00:1732158613.334495    6669 service.cc:156]   StreamExecutor device (0): NVIDIA GeForce RTX 3050 Ti Laptop GPU, Compute Capability 8.6\n",
      "2024-11-20 22:10:13.362720: I tensorflow/compiler/mlir/tensorflow/utils/dump_mlir_util.cc:268] disabling MLIR crash reproducer, set env var `MLIR_CRASH_REPRODUCER_DIRECTORY` to enable.\n",
      "I0000 00:00:1732158613.980551    6669 cuda_dnn.cc:529] Loaded cuDNN version 90300\n",
      "2024-11-20 22:10:15.042445: I external/local_xla/xla/stream_executor/cuda/cuda_asm_compiler.cc:397] ptxas warning : Registers are spilled to local memory in function 'gemm_fusion_dot_600', 236 bytes spill stores, 236 bytes spill loads\n",
      "\n",
      "2024-11-20 22:10:15.193076: I external/local_xla/xla/stream_executor/cuda/cuda_asm_compiler.cc:397] ptxas warning : Registers are spilled to local memory in function 'gemm_fusion_dot_600', 196 bytes spill stores, 196 bytes spill loads\n",
      "\n",
      "2024-11-20 22:10:15.222953: I external/local_xla/xla/stream_executor/cuda/cuda_asm_compiler.cc:397] ptxas warning : Registers are spilled to local memory in function 'gemm_fusion_dot_614', 200 bytes spill stores, 200 bytes spill loads\n",
      "\n",
      "2024-11-20 22:10:15.372842: I external/local_xla/xla/stream_executor/cuda/cuda_asm_compiler.cc:397] ptxas warning : Registers are spilled to local memory in function 'gemm_fusion_dot_628', 236 bytes spill stores, 236 bytes spill loads\n",
      "\n",
      "2024-11-20 22:10:15.670421: I external/local_xla/xla/stream_executor/cuda/cuda_asm_compiler.cc:397] ptxas warning : Registers are spilled to local memory in function 'gemm_fusion_dot_944', 24 bytes spill stores, 24 bytes spill loads\n",
      "\n",
      "2024-11-20 22:10:15.703026: I external/local_xla/xla/stream_executor/cuda/cuda_asm_compiler.cc:397] ptxas warning : Registers are spilled to local memory in function 'gemm_fusion_dot_944', 68 bytes spill stores, 72 bytes spill loads\n",
      "\n",
      "2024-11-20 22:10:15.834199: I external/local_xla/xla/stream_executor/cuda/cuda_asm_compiler.cc:397] ptxas warning : Registers are spilled to local memory in function 'gemm_fusion_dot_614_0', 252 bytes spill stores, 252 bytes spill loads\n",
      "\n",
      "2024-11-20 22:10:15.991073: I external/local_xla/xla/stream_executor/cuda/cuda_asm_compiler.cc:397] ptxas warning : Registers are spilled to local memory in function 'gemm_fusion_dot_944', 68 bytes spill stores, 72 bytes spill loads\n",
      "\n"
     ]
    },
    {
     "name": "stdout",
     "output_type": "stream",
     "text": [
      "\u001b[1m  1/191\u001b[0m \u001b[37m━━━━━━━━━━━━━━━━━━━━\u001b[0m \u001b[1m31:26\u001b[0m 10s/step - accuracy: 0.0000e+00 - loss: 6.4025"
     ]
    },
    {
     "name": "stderr",
     "output_type": "stream",
     "text": [
      "I0000 00:00:1732158621.938441    6669 device_compiler.h:188] Compiled cluster using XLA!  This line is logged at most once for the lifetime of the process.\n"
     ]
    },
    {
     "name": "stdout",
     "output_type": "stream",
     "text": [
      "\u001b[1m189/191\u001b[0m \u001b[32m━━━━━━━━━━━━━━━━━━━\u001b[0m\u001b[37m━\u001b[0m \u001b[1m0s\u001b[0m 52ms/step - accuracy: 0.2621 - loss: 15.3010"
     ]
    },
    {
     "name": "stderr",
     "output_type": "stream",
     "text": [
      "2024-11-20 22:10:32.884551: I external/local_xla/xla/stream_executor/cuda/cuda_asm_compiler.cc:397] ptxas warning : Registers are spilled to local memory in function 'gemm_fusion_dot_600', 244 bytes spill stores, 244 bytes spill loads\n",
      "\n",
      "2024-11-20 22:10:33.097159: I external/local_xla/xla/stream_executor/cuda/cuda_asm_compiler.cc:397] ptxas warning : Registers are spilled to local memory in function 'gemm_fusion_dot_944', 32 bytes spill stores, 32 bytes spill loads\n",
      "\n",
      "2024-11-20 22:10:33.242585: I external/local_xla/xla/stream_executor/cuda/cuda_asm_compiler.cc:397] ptxas warning : Registers are spilled to local memory in function 'gemm_fusion_dot_600', 152 bytes spill stores, 152 bytes spill loads\n",
      "\n",
      "2024-11-20 22:10:33.677868: I external/local_xla/xla/stream_executor/cuda/cuda_asm_compiler.cc:397] ptxas warning : Registers are spilled to local memory in function 'gemm_fusion_dot_944', 32 bytes spill stores, 32 bytes spill loads\n",
      "\n",
      "2024-11-20 22:10:34.062182: I external/local_xla/xla/stream_executor/cuda/cuda_asm_compiler.cc:397] ptxas warning : Registers are spilled to local memory in function 'gemm_fusion_dot_628', 352 bytes spill stores, 352 bytes spill loads\n",
      "\n",
      "2024-11-20 22:10:34.123405: I external/local_xla/xla/stream_executor/cuda/cuda_asm_compiler.cc:397] ptxas warning : Registers are spilled to local memory in function 'gemm_fusion_dot_944', 24 bytes spill stores, 24 bytes spill loads\n",
      "\n",
      "2024-11-20 22:10:34.212964: I external/local_xla/xla/stream_executor/cuda/cuda_asm_compiler.cc:397] ptxas warning : Registers are spilled to local memory in function 'gemm_fusion_dot_614_0', 272 bytes spill stores, 272 bytes spill loads\n",
      "\n",
      "2024-11-20 22:10:34.255742: I external/local_xla/xla/stream_executor/cuda/cuda_asm_compiler.cc:397] ptxas warning : Registers are spilled to local memory in function 'gemm_fusion_dot_614', 148 bytes spill stores, 148 bytes spill loads\n",
      "\n"
     ]
    },
    {
     "name": "stdout",
     "output_type": "stream",
     "text": [
      "\u001b[1m191/191\u001b[0m \u001b[32m━━━━━━━━━━━━━━━━━━━━\u001b[0m\u001b[37m\u001b[0m \u001b[1m0s\u001b[0m 93ms/step - accuracy: 0.2624 - loss: 15.1986"
     ]
    },
    {
     "name": "stderr",
     "output_type": "stream",
     "text": [
      "2024-11-20 22:10:40.763265: W external/local_xla/xla/tsl/framework/bfc_allocator.cc:306] Allocator (GPU_0_bfc) ran out of memory trying to allocate 730.00MiB with freed_by_count=0. The caller indicates that this is not a failure, but this may mean that there could be performance gains if more memory were available.\n",
      "2024-11-20 22:10:43.203143: I external/local_xla/xla/stream_executor/cuda/cuda_asm_compiler.cc:397] ptxas warning : Registers are spilled to local memory in function 'gemm_fusion_dot_106', 88 bytes spill stores, 88 bytes spill loads\n",
      "\n",
      "2024-11-20 22:10:43.282071: I external/local_xla/xla/stream_executor/cuda/cuda_asm_compiler.cc:397] ptxas warning : Registers are spilled to local memory in function 'gemm_fusion_dot_113', 84 bytes spill stores, 84 bytes spill loads\n",
      "\n",
      "2024-11-20 22:10:43.311774: I external/local_xla/xla/stream_executor/cuda/cuda_asm_compiler.cc:397] ptxas warning : Registers are spilled to local memory in function 'gemm_fusion_dot_106', 244 bytes spill stores, 244 bytes spill loads\n",
      "\n",
      "2024-11-20 22:10:43.396653: I external/local_xla/xla/stream_executor/cuda/cuda_asm_compiler.cc:397] ptxas warning : Registers are spilled to local memory in function 'gemm_fusion_dot_113_0', 272 bytes spill stores, 272 bytes spill loads\n",
      "\n",
      "2024-11-20 22:10:43.444573: I external/local_xla/xla/stream_executor/cuda/cuda_asm_compiler.cc:397] ptxas warning : Registers are spilled to local memory in function 'gemm_fusion_dot_120', 276 bytes spill stores, 276 bytes spill loads\n",
      "\n"
     ]
    },
    {
     "name": "stdout",
     "output_type": "stream",
     "text": [
      "\u001b[1m191/191\u001b[0m \u001b[32m━━━━━━━━━━━━━━━━━━━━\u001b[0m\u001b[37m\u001b[0m \u001b[1m33s\u001b[0m 122ms/step - accuracy: 0.2625 - loss: 15.1482 - val_accuracy: 0.3028 - val_loss: 1.7606\n",
      "Epoch 2/70\n",
      "\u001b[1m191/191\u001b[0m \u001b[32m━━━━━━━━━━━━━━━━━━━━\u001b[0m\u001b[37m\u001b[0m \u001b[1m11s\u001b[0m 58ms/step - accuracy: 0.2914 - loss: 1.7528 - val_accuracy: 0.3028 - val_loss: 1.7714\n",
      "Epoch 3/70\n",
      "\u001b[1m191/191\u001b[0m \u001b[32m━━━━━━━━━━━━━━━━━━━━\u001b[0m\u001b[37m\u001b[0m \u001b[1m11s\u001b[0m 55ms/step - accuracy: 0.2907 - loss: 1.7644 - val_accuracy: 0.3028 - val_loss: 1.7616\n",
      "Epoch 4/70\n",
      "\u001b[1m191/191\u001b[0m \u001b[32m━━━━━━━━━━━━━━━━━━━━\u001b[0m\u001b[37m\u001b[0m \u001b[1m11s\u001b[0m 56ms/step - accuracy: 0.2918 - loss: 1.7603 - val_accuracy: 0.3028 - val_loss: 1.7625\n",
      "Epoch 5/70\n",
      "\u001b[1m191/191\u001b[0m \u001b[32m━━━━━━━━━━━━━━━━━━━━\u001b[0m\u001b[37m\u001b[0m \u001b[1m11s\u001b[0m 58ms/step - accuracy: 0.2887 - loss: 1.7529 - val_accuracy: 0.3028 - val_loss: 1.7627\n",
      "Epoch 6/70\n",
      "\u001b[1m191/191\u001b[0m \u001b[32m━━━━━━━━━━━━━━━━━━━━\u001b[0m\u001b[37m\u001b[0m \u001b[1m11s\u001b[0m 56ms/step - accuracy: 0.2975 - loss: 1.7557 - val_accuracy: 0.3028 - val_loss: 1.7589\n",
      "Epoch 7/70\n",
      "\u001b[1m191/191\u001b[0m \u001b[32m━━━━━━━━━━━━━━━━━━━━\u001b[0m\u001b[37m\u001b[0m \u001b[1m11s\u001b[0m 56ms/step - accuracy: 0.3017 - loss: 1.7575 - val_accuracy: 0.3028 - val_loss: 1.7581\n",
      "Epoch 8/70\n",
      "\u001b[1m191/191\u001b[0m \u001b[32m━━━━━━━━━━━━━━━━━━━━\u001b[0m\u001b[37m\u001b[0m \u001b[1m11s\u001b[0m 58ms/step - accuracy: 0.3014 - loss: 1.7484 - val_accuracy: 0.3028 - val_loss: 1.7601\n",
      "Epoch 9/70\n",
      "\u001b[1m191/191\u001b[0m \u001b[32m━━━━━━━━━━━━━━━━━━━━\u001b[0m\u001b[37m\u001b[0m \u001b[1m11s\u001b[0m 56ms/step - accuracy: 0.3016 - loss: 1.7503 - val_accuracy: 0.3028 - val_loss: 1.7604\n",
      "Epoch 10/70\n",
      "\u001b[1m191/191\u001b[0m \u001b[32m━━━━━━━━━━━━━━━━━━━━\u001b[0m\u001b[37m\u001b[0m \u001b[1m11s\u001b[0m 56ms/step - accuracy: 0.2954 - loss: 1.7559 - val_accuracy: 0.3028 - val_loss: 1.7578\n",
      "Epoch 11/70\n",
      "\u001b[1m191/191\u001b[0m \u001b[32m━━━━━━━━━━━━━━━━━━━━\u001b[0m\u001b[37m\u001b[0m \u001b[1m12s\u001b[0m 62ms/step - accuracy: 0.3036 - loss: 1.7544 - val_accuracy: 0.3028 - val_loss: 1.7609\n",
      "Epoch 12/70\n",
      "\u001b[1m191/191\u001b[0m \u001b[32m━━━━━━━━━━━━━━━━━━━━\u001b[0m\u001b[37m\u001b[0m \u001b[1m11s\u001b[0m 56ms/step - accuracy: 0.2960 - loss: 1.7519 - val_accuracy: 0.3028 - val_loss: 1.7593\n",
      "Epoch 13/70\n",
      "\u001b[1m191/191\u001b[0m \u001b[32m━━━━━━━━━━━━━━━━━━━━\u001b[0m\u001b[37m\u001b[0m \u001b[1m11s\u001b[0m 56ms/step - accuracy: 0.3014 - loss: 1.7521 - val_accuracy: 0.3028 - val_loss: 1.7599\n",
      "Epoch 14/70\n",
      "\u001b[1m191/191\u001b[0m \u001b[32m━━━━━━━━━━━━━━━━━━━━\u001b[0m\u001b[37m\u001b[0m \u001b[1m11s\u001b[0m 59ms/step - accuracy: 0.2995 - loss: 1.7478 - val_accuracy: 0.3028 - val_loss: 1.7606\n",
      "Epoch 15/70\n",
      "\u001b[1m191/191\u001b[0m \u001b[32m━━━━━━━━━━━━━━━━━━━━\u001b[0m\u001b[37m\u001b[0m \u001b[1m11s\u001b[0m 56ms/step - accuracy: 0.2983 - loss: 1.7543 - val_accuracy: 0.3028 - val_loss: 1.7586\n",
      "Epoch 16/70\n",
      "\u001b[1m191/191\u001b[0m \u001b[32m━━━━━━━━━━━━━━━━━━━━\u001b[0m\u001b[37m\u001b[0m \u001b[1m11s\u001b[0m 56ms/step - accuracy: 0.2974 - loss: 1.7534 - val_accuracy: 0.3028 - val_loss: 1.7570\n",
      "Epoch 17/70\n",
      "\u001b[1m191/191\u001b[0m \u001b[32m━━━━━━━━━━━━━━━━━━━━\u001b[0m\u001b[37m\u001b[0m \u001b[1m11s\u001b[0m 59ms/step - accuracy: 0.2969 - loss: 1.7519 - val_accuracy: 0.3028 - val_loss: 1.7588\n",
      "Epoch 18/70\n",
      "\u001b[1m191/191\u001b[0m \u001b[32m━━━━━━━━━━━━━━━━━━━━\u001b[0m\u001b[37m\u001b[0m \u001b[1m11s\u001b[0m 56ms/step - accuracy: 0.2985 - loss: 1.7459 - val_accuracy: 0.3028 - val_loss: 1.7575\n",
      "Epoch 19/70\n",
      "\u001b[1m191/191\u001b[0m \u001b[32m━━━━━━━━━━━━━━━━━━━━\u001b[0m\u001b[37m\u001b[0m \u001b[1m11s\u001b[0m 56ms/step - accuracy: 0.3004 - loss: 1.7484 - val_accuracy: 0.3028 - val_loss: 1.7565\n",
      "Epoch 20/70\n",
      "\u001b[1m191/191\u001b[0m \u001b[32m━━━━━━━━━━━━━━━━━━━━\u001b[0m\u001b[37m\u001b[0m \u001b[1m11s\u001b[0m 59ms/step - accuracy: 0.3008 - loss: 1.7506 - val_accuracy: 0.3028 - val_loss: 1.7595\n",
      "Epoch 21/70\n",
      "\u001b[1m191/191\u001b[0m \u001b[32m━━━━━━━━━━━━━━━━━━━━\u001b[0m\u001b[37m\u001b[0m \u001b[1m11s\u001b[0m 56ms/step - accuracy: 0.3024 - loss: 1.7542 - val_accuracy: 0.3028 - val_loss: 1.7574\n",
      "Epoch 22/70\n",
      "\u001b[1m191/191\u001b[0m \u001b[32m━━━━━━━━━━━━━━━━━━━━\u001b[0m\u001b[37m\u001b[0m \u001b[1m11s\u001b[0m 56ms/step - accuracy: 0.3009 - loss: 1.7517 - val_accuracy: 0.3028 - val_loss: 1.7576\n",
      "Epoch 23/70\n",
      "\u001b[1m191/191\u001b[0m \u001b[32m━━━━━━━━━━━━━━━━━━━━\u001b[0m\u001b[37m\u001b[0m \u001b[1m11s\u001b[0m 59ms/step - accuracy: 0.3018 - loss: 1.7512 - val_accuracy: 0.3028 - val_loss: 1.7610\n",
      "Epoch 24/70\n",
      "\u001b[1m191/191\u001b[0m \u001b[32m━━━━━━━━━━━━━━━━━━━━\u001b[0m\u001b[37m\u001b[0m \u001b[1m11s\u001b[0m 56ms/step - accuracy: 0.2993 - loss: 1.7506 - val_accuracy: 0.3028 - val_loss: 1.7570\n",
      "Epoch 25/70\n",
      "\u001b[1m191/191\u001b[0m \u001b[32m━━━━━━━━━━━━━━━━━━━━\u001b[0m\u001b[37m\u001b[0m \u001b[1m11s\u001b[0m 56ms/step - accuracy: 0.2990 - loss: 1.7514 - val_accuracy: 0.3028 - val_loss: 1.7574\n",
      "Epoch 26/70\n",
      "\u001b[1m191/191\u001b[0m \u001b[32m━━━━━━━━━━━━━━━━━━━━\u001b[0m\u001b[37m\u001b[0m \u001b[1m11s\u001b[0m 59ms/step - accuracy: 0.2988 - loss: 1.7509 - val_accuracy: 0.3028 - val_loss: 1.7589\n",
      "Epoch 27/70\n",
      "\u001b[1m191/191\u001b[0m \u001b[32m━━━━━━━━━━━━━━━━━━━━\u001b[0m\u001b[37m\u001b[0m \u001b[1m11s\u001b[0m 56ms/step - accuracy: 0.2988 - loss: 1.7526 - val_accuracy: 0.3028 - val_loss: 1.7585\n",
      "Epoch 28/70\n",
      "\u001b[1m191/191\u001b[0m \u001b[32m━━━━━━━━━━━━━━━━━━━━\u001b[0m\u001b[37m\u001b[0m \u001b[1m11s\u001b[0m 56ms/step - accuracy: 0.2973 - loss: 1.7546 - val_accuracy: 0.3028 - val_loss: 1.7587\n",
      "Epoch 29/70\n",
      "\u001b[1m191/191\u001b[0m \u001b[32m━━━━━━━━━━━━━━━━━━━━\u001b[0m\u001b[37m\u001b[0m \u001b[1m11s\u001b[0m 59ms/step - accuracy: 0.3006 - loss: 1.7532 - val_accuracy: 0.3028 - val_loss: 1.7558\n",
      "Epoch 30/70\n",
      "\u001b[1m191/191\u001b[0m \u001b[32m━━━━━━━━━━━━━━━━━━━━\u001b[0m\u001b[37m\u001b[0m \u001b[1m11s\u001b[0m 56ms/step - accuracy: 0.3022 - loss: 1.7466 - val_accuracy: 0.3028 - val_loss: 1.7574\n",
      "Epoch 31/70\n",
      "\u001b[1m191/191\u001b[0m \u001b[32m━━━━━━━━━━━━━━━━━━━━\u001b[0m\u001b[37m\u001b[0m \u001b[1m11s\u001b[0m 56ms/step - accuracy: 0.2998 - loss: 1.7511 - val_accuracy: 0.3028 - val_loss: 1.7594\n",
      "Epoch 32/70\n",
      "\u001b[1m191/191\u001b[0m \u001b[32m━━━━━━━━━━━━━━━━━━━━\u001b[0m\u001b[37m\u001b[0m \u001b[1m11s\u001b[0m 59ms/step - accuracy: 0.3019 - loss: 1.7486 - val_accuracy: 0.3028 - val_loss: 1.7596\n",
      "Epoch 33/70\n",
      "\u001b[1m191/191\u001b[0m \u001b[32m━━━━━━━━━━━━━━━━━━━━\u001b[0m\u001b[37m\u001b[0m \u001b[1m11s\u001b[0m 56ms/step - accuracy: 0.3005 - loss: 1.7521 - val_accuracy: 0.3028 - val_loss: 1.7580\n",
      "Epoch 34/70\n",
      "\u001b[1m191/191\u001b[0m \u001b[32m━━━━━━━━━━━━━━━━━━━━\u001b[0m\u001b[37m\u001b[0m \u001b[1m11s\u001b[0m 56ms/step - accuracy: 0.3020 - loss: 1.7541 - val_accuracy: 0.3028 - val_loss: 1.7576\n",
      "Epoch 35/70\n",
      "\u001b[1m191/191\u001b[0m \u001b[32m━━━━━━━━━━━━━━━━━━━━\u001b[0m\u001b[37m\u001b[0m \u001b[1m11s\u001b[0m 59ms/step - accuracy: 0.3032 - loss: 1.7524 - val_accuracy: 0.3028 - val_loss: 1.7573\n",
      "Epoch 36/70\n",
      "\u001b[1m191/191\u001b[0m \u001b[32m━━━━━━━━━━━━━━━━━━━━\u001b[0m\u001b[37m\u001b[0m \u001b[1m11s\u001b[0m 56ms/step - accuracy: 0.3040 - loss: 1.7510 - val_accuracy: 0.3028 - val_loss: 1.7567\n",
      "Epoch 37/70\n",
      "\u001b[1m191/191\u001b[0m \u001b[32m━━━━━━━━━━━━━━━━━━━━\u001b[0m\u001b[37m\u001b[0m \u001b[1m11s\u001b[0m 56ms/step - accuracy: 0.3039 - loss: 1.7470 - val_accuracy: 0.3028 - val_loss: 1.7567\n",
      "Epoch 38/70\n",
      "\u001b[1m191/191\u001b[0m \u001b[32m━━━━━━━━━━━━━━━━━━━━\u001b[0m\u001b[37m\u001b[0m \u001b[1m11s\u001b[0m 59ms/step - accuracy: 0.3007 - loss: 1.7501 - val_accuracy: 0.3028 - val_loss: 1.7572\n",
      "Epoch 39/70\n",
      "\u001b[1m191/191\u001b[0m \u001b[32m━━━━━━━━━━━━━━━━━━━━\u001b[0m\u001b[37m\u001b[0m \u001b[1m11s\u001b[0m 56ms/step - accuracy: 0.3046 - loss: 1.7503 - val_accuracy: 0.3028 - val_loss: 1.7577\n",
      "Epoch 40/70\n",
      "\u001b[1m191/191\u001b[0m \u001b[32m━━━━━━━━━━━━━━━━━━━━\u001b[0m\u001b[37m\u001b[0m \u001b[1m11s\u001b[0m 56ms/step - accuracy: 0.2989 - loss: 1.7540 - val_accuracy: 0.3028 - val_loss: 1.7579\n",
      "Epoch 41/70\n",
      "\u001b[1m191/191\u001b[0m \u001b[32m━━━━━━━━━━━━━━━━━━━━\u001b[0m\u001b[37m\u001b[0m \u001b[1m11s\u001b[0m 59ms/step - accuracy: 0.2979 - loss: 1.7549 - val_accuracy: 0.3028 - val_loss: 1.7572\n",
      "Epoch 42/70\n",
      "\u001b[1m191/191\u001b[0m \u001b[32m━━━━━━━━━━━━━━━━━━━━\u001b[0m\u001b[37m\u001b[0m \u001b[1m11s\u001b[0m 56ms/step - accuracy: 0.2980 - loss: 1.7545 - val_accuracy: 0.3028 - val_loss: 1.7577\n",
      "Epoch 43/70\n",
      "\u001b[1m191/191\u001b[0m \u001b[32m━━━━━━━━━━━━━━━━━━━━\u001b[0m\u001b[37m\u001b[0m \u001b[1m11s\u001b[0m 56ms/step - accuracy: 0.3038 - loss: 1.7513 - val_accuracy: 0.3028 - val_loss: 1.7570\n",
      "Epoch 44/70\n",
      "\u001b[1m191/191\u001b[0m \u001b[32m━━━━━━━━━━━━━━━━━━━━\u001b[0m\u001b[37m\u001b[0m \u001b[1m11s\u001b[0m 59ms/step - accuracy: 0.3001 - loss: 1.7527 - val_accuracy: 0.3028 - val_loss: 1.7564\n",
      "Epoch 45/70\n",
      "\u001b[1m191/191\u001b[0m \u001b[32m━━━━━━━━━━━━━━━━━━━━\u001b[0m\u001b[37m\u001b[0m \u001b[1m11s\u001b[0m 56ms/step - accuracy: 0.3020 - loss: 1.7501 - val_accuracy: 0.3028 - val_loss: 1.7570\n",
      "Epoch 46/70\n",
      "\u001b[1m191/191\u001b[0m \u001b[32m━━━━━━━━━━━━━━━━━━━━\u001b[0m\u001b[37m\u001b[0m \u001b[1m11s\u001b[0m 56ms/step - accuracy: 0.3042 - loss: 1.7555 - val_accuracy: 0.3028 - val_loss: 1.7574\n",
      "Epoch 47/70\n",
      "\u001b[1m191/191\u001b[0m \u001b[32m━━━━━━━━━━━━━━━━━━━━\u001b[0m\u001b[37m\u001b[0m \u001b[1m11s\u001b[0m 59ms/step - accuracy: 0.3023 - loss: 1.7522 - val_accuracy: 0.3028 - val_loss: 1.7571\n",
      "Epoch 48/70\n",
      "\u001b[1m191/191\u001b[0m \u001b[32m━━━━━━━━━━━━━━━━━━━━\u001b[0m\u001b[37m\u001b[0m \u001b[1m11s\u001b[0m 56ms/step - accuracy: 0.3020 - loss: 1.7493 - val_accuracy: 0.3028 - val_loss: 1.7569\n",
      "Epoch 49/70\n",
      "\u001b[1m191/191\u001b[0m \u001b[32m━━━━━━━━━━━━━━━━━━━━\u001b[0m\u001b[37m\u001b[0m \u001b[1m11s\u001b[0m 56ms/step - accuracy: 0.3017 - loss: 1.7504 - val_accuracy: 0.3028 - val_loss: 1.7572\n",
      "Epoch 50/70\n",
      "\u001b[1m191/191\u001b[0m \u001b[32m━━━━━━━━━━━━━━━━━━━━\u001b[0m\u001b[37m\u001b[0m \u001b[1m11s\u001b[0m 59ms/step - accuracy: 0.3029 - loss: 1.7537 - val_accuracy: 0.3028 - val_loss: 1.7572\n",
      "Epoch 51/70\n",
      "\u001b[1m191/191\u001b[0m \u001b[32m━━━━━━━━━━━━━━━━━━━━\u001b[0m\u001b[37m\u001b[0m \u001b[1m11s\u001b[0m 56ms/step - accuracy: 0.3030 - loss: 1.7509 - val_accuracy: 0.3028 - val_loss: 1.7566\n",
      "Epoch 52/70\n",
      "\u001b[1m191/191\u001b[0m \u001b[32m━━━━━━━━━━━━━━━━━━━━\u001b[0m\u001b[37m\u001b[0m \u001b[1m11s\u001b[0m 56ms/step - accuracy: 0.3051 - loss: 1.7495 - val_accuracy: 0.3028 - val_loss: 1.7567\n",
      "Epoch 53/70\n",
      "\u001b[1m191/191\u001b[0m \u001b[32m━━━━━━━━━━━━━━━━━━━━\u001b[0m\u001b[37m\u001b[0m \u001b[1m11s\u001b[0m 59ms/step - accuracy: 0.3041 - loss: 1.7479 - val_accuracy: 0.3028 - val_loss: 1.7563\n",
      "Epoch 54/70\n",
      "\u001b[1m191/191\u001b[0m \u001b[32m━━━━━━━━━━━━━━━━━━━━\u001b[0m\u001b[37m\u001b[0m \u001b[1m11s\u001b[0m 56ms/step - accuracy: 0.3033 - loss: 1.7490 - val_accuracy: 0.3028 - val_loss: 1.7567\n",
      "Epoch 55/70\n",
      "\u001b[1m191/191\u001b[0m \u001b[32m━━━━━━━━━━━━━━━━━━━━\u001b[0m\u001b[37m\u001b[0m \u001b[1m11s\u001b[0m 57ms/step - accuracy: 0.3025 - loss: 1.7486 - val_accuracy: 0.3028 - val_loss: 1.7563\n",
      "Epoch 56/70\n",
      "\u001b[1m191/191\u001b[0m \u001b[32m━━━━━━━━━━━━━━━━━━━━\u001b[0m\u001b[37m\u001b[0m \u001b[1m11s\u001b[0m 59ms/step - accuracy: 0.3044 - loss: 1.7531 - val_accuracy: 0.3028 - val_loss: 1.7564\n",
      "Epoch 57/70\n",
      "\u001b[1m191/191\u001b[0m \u001b[32m━━━━━━━━━━━━━━━━━━━━\u001b[0m\u001b[37m\u001b[0m \u001b[1m11s\u001b[0m 56ms/step - accuracy: 0.3002 - loss: 1.7481 - val_accuracy: 0.3028 - val_loss: 1.7565\n",
      "Epoch 58/70\n",
      "\u001b[1m191/191\u001b[0m \u001b[32m━━━━━━━━━━━━━━━━━━━━\u001b[0m\u001b[37m\u001b[0m \u001b[1m11s\u001b[0m 56ms/step - accuracy: 0.3055 - loss: 1.7487 - val_accuracy: 0.3028 - val_loss: 1.7566\n",
      "Epoch 59/70\n",
      "\u001b[1m191/191\u001b[0m \u001b[32m━━━━━━━━━━━━━━━━━━━━\u001b[0m\u001b[37m\u001b[0m \u001b[1m11s\u001b[0m 59ms/step - accuracy: 0.3026 - loss: 1.7496 - val_accuracy: 0.3028 - val_loss: 1.7568\n",
      "Epoch 60/70\n",
      "\u001b[1m191/191\u001b[0m \u001b[32m━━━━━━━━━━━━━━━━━━━━\u001b[0m\u001b[37m\u001b[0m \u001b[1m11s\u001b[0m 56ms/step - accuracy: 0.3019 - loss: 1.7522 - val_accuracy: 0.3028 - val_loss: 1.7565\n",
      "Epoch 61/70\n",
      "\u001b[1m191/191\u001b[0m \u001b[32m━━━━━━━━━━━━━━━━━━━━\u001b[0m\u001b[37m\u001b[0m \u001b[1m11s\u001b[0m 56ms/step - accuracy: 0.3024 - loss: 1.7477 - val_accuracy: 0.3028 - val_loss: 1.7565\n",
      "Epoch 62/70\n",
      "\u001b[1m191/191\u001b[0m \u001b[32m━━━━━━━━━━━━━━━━━━━━\u001b[0m\u001b[37m\u001b[0m \u001b[1m11s\u001b[0m 59ms/step - accuracy: 0.3043 - loss: 1.7562 - val_accuracy: 0.3028 - val_loss: 1.7573\n",
      "Epoch 63/70\n",
      "\u001b[1m191/191\u001b[0m \u001b[32m━━━━━━━━━━━━━━━━━━━━\u001b[0m\u001b[37m\u001b[0m \u001b[1m11s\u001b[0m 56ms/step - accuracy: 0.3035 - loss: 1.7532 - val_accuracy: 0.3028 - val_loss: 1.7571\n",
      "Epoch 64/70\n",
      "\u001b[1m191/191\u001b[0m \u001b[32m━━━━━━━━━━━━━━━━━━━━\u001b[0m\u001b[37m\u001b[0m \u001b[1m11s\u001b[0m 56ms/step - accuracy: 0.3029 - loss: 1.7536 - val_accuracy: 0.3028 - val_loss: 1.7564\n",
      "Epoch 65/70\n",
      "\u001b[1m191/191\u001b[0m \u001b[32m━━━━━━━━━━━━━━━━━━━━\u001b[0m\u001b[37m\u001b[0m \u001b[1m11s\u001b[0m 59ms/step - accuracy: 0.3028 - loss: 1.7487 - val_accuracy: 0.3028 - val_loss: 1.7569\n",
      "Epoch 66/70\n",
      "\u001b[1m191/191\u001b[0m \u001b[32m━━━━━━━━━━━━━━━━━━━━\u001b[0m\u001b[37m\u001b[0m \u001b[1m11s\u001b[0m 56ms/step - accuracy: 0.3029 - loss: 1.7501 - val_accuracy: 0.3028 - val_loss: 1.7573\n",
      "Epoch 67/70\n",
      "\u001b[1m191/191\u001b[0m \u001b[32m━━━━━━━━━━━━━━━━━━━━\u001b[0m\u001b[37m\u001b[0m \u001b[1m11s\u001b[0m 56ms/step - accuracy: 0.3031 - loss: 1.7538 - val_accuracy: 0.3028 - val_loss: 1.7564\n",
      "Epoch 68/70\n",
      "\u001b[1m191/191\u001b[0m \u001b[32m━━━━━━━━━━━━━━━━━━━━\u001b[0m\u001b[37m\u001b[0m \u001b[1m11s\u001b[0m 59ms/step - accuracy: 0.3047 - loss: 1.7484 - val_accuracy: 0.3028 - val_loss: 1.7570\n",
      "Epoch 69/70\n",
      "\u001b[1m191/191\u001b[0m \u001b[32m━━━━━━━━━━━━━━━━━━━━\u001b[0m\u001b[37m\u001b[0m \u001b[1m11s\u001b[0m 56ms/step - accuracy: 0.2950 - loss: 1.7522 - val_accuracy: 0.3028 - val_loss: 1.7563\n",
      "Epoch 70/70\n",
      "\u001b[1m191/191\u001b[0m \u001b[32m━━━━━━━━━━━━━━━━━━━━\u001b[0m\u001b[37m\u001b[0m \u001b[1m11s\u001b[0m 56ms/step - accuracy: 0.2998 - loss: 1.7515 - val_accuracy: 0.3028 - val_loss: 1.7564\n"
     ]
    }
   ],
   "source": [
    "epochs = 70\n",
    "history = model.fit(train_ds,\n",
    "                    validation_data=val_ds,\n",
    "                    batch_size=128,\n",
    "                    epochs=epochs)"
   ]
  },
  {
   "cell_type": "markdown",
   "id": "02a69cb1-630f-4112-9a3e-ca7e78052296",
   "metadata": {},
   "source": [
    "# Evaluating"
   ]
  },
  {
   "cell_type": "code",
   "execution_count": 12,
   "id": "a366bbfa-d38f-4eea-bbb5-f8ed3a8007a0",
   "metadata": {
    "scrolled": true
   },
   "outputs": [
    {
     "data": {
      "text/plain": [
       "{'accuracy': [0.2897150218486786,\n",
       "  0.2921716272830963,\n",
       "  0.29446446895599365,\n",
       "  0.2923354208469391,\n",
       "  0.28807729482650757,\n",
       "  0.29266294836997986,\n",
       "  0.2951195538043976,\n",
       "  0.2959384322166443,\n",
       "  0.2924991846084595,\n",
       "  0.2943006753921509,\n",
       "  0.2967572808265686,\n",
       "  0.29184409976005554,\n",
       "  0.29282674193382263,\n",
       "  0.2911889851093292,\n",
       "  0.29528331756591797,\n",
       "  0.2947919964790344,\n",
       "  0.2924991846084595,\n",
       "  0.2920078635215759,\n",
       "  0.2943006753921509,\n",
       "  0.29380935430526733,\n",
       "  0.29986897110939026,\n",
       "  0.29364559054374695,\n",
       "  0.2947919964790344,\n",
       "  0.2933180332183838,\n",
       "  0.2985588014125824,\n",
       "  0.29544711112976074,\n",
       "  0.29462823271751404,\n",
       "  0.2965935170650482,\n",
       "  0.2983950078487396,\n",
       "  0.2957746386528015,\n",
       "  0.30003276467323303,\n",
       "  0.2939731478691101,\n",
       "  0.30167049169540405,\n",
       "  0.2967572808265686,\n",
       "  0.30167049169540405,\n",
       "  0.30167049169540405,\n",
       "  0.2977399230003357,\n",
       "  0.29528331756591797,\n",
       "  0.30167049169540405,\n",
       "  0.2969210743904114,\n",
       "  0.292990505695343,\n",
       "  0.29561087489128113,\n",
       "  0.29708483815193176,\n",
       "  0.2949557900428772,\n",
       "  0.30167049169540405,\n",
       "  0.30167049169540405,\n",
       "  0.30167049169540405,\n",
       "  0.29921388626098633,\n",
       "  0.2975761592388153,\n",
       "  0.30167049169540405,\n",
       "  0.30167049169540405,\n",
       "  0.30167049169540405,\n",
       "  0.30167049169540405,\n",
       "  0.30167049169540405,\n",
       "  0.29823124408721924,\n",
       "  0.30167049169540405,\n",
       "  0.29462823271751404,\n",
       "  0.30167049169540405,\n",
       "  0.30167049169540405,\n",
       "  0.29888632893562317,\n",
       "  0.2959384322166443,\n",
       "  0.30167049169540405,\n",
       "  0.30167049169540405,\n",
       "  0.30167049169540405,\n",
       "  0.29708483815193176,\n",
       "  0.30167049169540405,\n",
       "  0.30167049169540405,\n",
       "  0.30167049169540405,\n",
       "  0.29642975330352783,\n",
       "  0.2977399230003357],\n",
       " 'loss': [4.49796199798584,\n",
       "  1.7539522647857666,\n",
       "  1.754589319229126,\n",
       "  1.7520606517791748,\n",
       "  1.7511310577392578,\n",
       "  1.7504007816314697,\n",
       "  1.7514466047286987,\n",
       "  1.7506728172302246,\n",
       "  1.7501204013824463,\n",
       "  1.7507048845291138,\n",
       "  1.7506464719772339,\n",
       "  1.751011610031128,\n",
       "  1.7508442401885986,\n",
       "  1.7493247985839844,\n",
       "  1.7505772113800049,\n",
       "  1.7510374784469604,\n",
       "  1.749698519706726,\n",
       "  1.7500903606414795,\n",
       "  1.7500113248825073,\n",
       "  1.749240517616272,\n",
       "  1.749610424041748,\n",
       "  1.74970543384552,\n",
       "  1.7491722106933594,\n",
       "  1.7497859001159668,\n",
       "  1.7490754127502441,\n",
       "  1.7489447593688965,\n",
       "  1.7494380474090576,\n",
       "  1.7504315376281738,\n",
       "  1.749789834022522,\n",
       "  1.7487884759902954,\n",
       "  1.7490466833114624,\n",
       "  1.7489556074142456,\n",
       "  1.7492910623550415,\n",
       "  1.749161958694458,\n",
       "  1.7495099306106567,\n",
       "  1.7491974830627441,\n",
       "  1.7491774559020996,\n",
       "  1.7495031356811523,\n",
       "  1.7485682964324951,\n",
       "  1.7488431930541992,\n",
       "  1.7488503456115723,\n",
       "  1.7487819194793701,\n",
       "  1.749191164970398,\n",
       "  1.7488017082214355,\n",
       "  1.7487187385559082,\n",
       "  1.749167799949646,\n",
       "  1.7487998008728027,\n",
       "  1.7490819692611694,\n",
       "  1.7485965490341187,\n",
       "  1.748249888420105,\n",
       "  1.7484290599822998,\n",
       "  1.7485519647598267,\n",
       "  1.7482928037643433,\n",
       "  1.7483839988708496,\n",
       "  1.748244047164917,\n",
       "  1.7484102249145508,\n",
       "  1.7482659816741943,\n",
       "  1.7480814456939697,\n",
       "  1.7482950687408447,\n",
       "  1.7481714487075806,\n",
       "  1.7485674619674683,\n",
       "  1.7487316131591797,\n",
       "  1.7482181787490845,\n",
       "  1.74801504611969,\n",
       "  1.748079538345337,\n",
       "  1.7478221654891968,\n",
       "  1.7479771375656128,\n",
       "  1.7483147382736206,\n",
       "  1.747849464416504,\n",
       "  1.7481745481491089],\n",
       " 'val_accuracy': [0.302752286195755,\n",
       "  0.302752286195755,\n",
       "  0.302752286195755,\n",
       "  0.302752286195755,\n",
       "  0.302752286195755,\n",
       "  0.302752286195755,\n",
       "  0.302752286195755,\n",
       "  0.302752286195755,\n",
       "  0.302752286195755,\n",
       "  0.302752286195755,\n",
       "  0.302752286195755,\n",
       "  0.302752286195755,\n",
       "  0.302752286195755,\n",
       "  0.302752286195755,\n",
       "  0.302752286195755,\n",
       "  0.302752286195755,\n",
       "  0.302752286195755,\n",
       "  0.302752286195755,\n",
       "  0.302752286195755,\n",
       "  0.302752286195755,\n",
       "  0.302752286195755,\n",
       "  0.302752286195755,\n",
       "  0.302752286195755,\n",
       "  0.302752286195755,\n",
       "  0.302752286195755,\n",
       "  0.302752286195755,\n",
       "  0.302752286195755,\n",
       "  0.302752286195755,\n",
       "  0.302752286195755,\n",
       "  0.302752286195755,\n",
       "  0.302752286195755,\n",
       "  0.302752286195755,\n",
       "  0.302752286195755,\n",
       "  0.302752286195755,\n",
       "  0.302752286195755,\n",
       "  0.302752286195755,\n",
       "  0.302752286195755,\n",
       "  0.302752286195755,\n",
       "  0.302752286195755,\n",
       "  0.302752286195755,\n",
       "  0.302752286195755,\n",
       "  0.302752286195755,\n",
       "  0.302752286195755,\n",
       "  0.302752286195755,\n",
       "  0.302752286195755,\n",
       "  0.302752286195755,\n",
       "  0.302752286195755,\n",
       "  0.302752286195755,\n",
       "  0.302752286195755,\n",
       "  0.302752286195755,\n",
       "  0.302752286195755,\n",
       "  0.302752286195755,\n",
       "  0.302752286195755,\n",
       "  0.302752286195755,\n",
       "  0.302752286195755,\n",
       "  0.302752286195755,\n",
       "  0.302752286195755,\n",
       "  0.302752286195755,\n",
       "  0.302752286195755,\n",
       "  0.302752286195755,\n",
       "  0.302752286195755,\n",
       "  0.302752286195755,\n",
       "  0.302752286195755,\n",
       "  0.302752286195755,\n",
       "  0.302752286195755,\n",
       "  0.302752286195755,\n",
       "  0.302752286195755,\n",
       "  0.302752286195755,\n",
       "  0.302752286195755,\n",
       "  0.302752286195755],\n",
       " 'val_loss': [1.7606065273284912,\n",
       "  1.7714234590530396,\n",
       "  1.7615678310394287,\n",
       "  1.7625483274459839,\n",
       "  1.7627421617507935,\n",
       "  1.7589290142059326,\n",
       "  1.7580572366714478,\n",
       "  1.7600868940353394,\n",
       "  1.7604429721832275,\n",
       "  1.7577946186065674,\n",
       "  1.760885238647461,\n",
       "  1.7593052387237549,\n",
       "  1.7599157094955444,\n",
       "  1.7606037855148315,\n",
       "  1.7585939168930054,\n",
       "  1.7570277452468872,\n",
       "  1.758768081665039,\n",
       "  1.7575258016586304,\n",
       "  1.7564697265625,\n",
       "  1.7594695091247559,\n",
       "  1.7574046850204468,\n",
       "  1.757568359375,\n",
       "  1.7610456943511963,\n",
       "  1.757023572921753,\n",
       "  1.757364273071289,\n",
       "  1.7589396238327026,\n",
       "  1.7585132122039795,\n",
       "  1.7587409019470215,\n",
       "  1.7558013200759888,\n",
       "  1.757425308227539,\n",
       "  1.7594096660614014,\n",
       "  1.759572982788086,\n",
       "  1.7579665184020996,\n",
       "  1.7575764656066895,\n",
       "  1.7572858333587646,\n",
       "  1.7566936016082764,\n",
       "  1.7567461729049683,\n",
       "  1.757220983505249,\n",
       "  1.7577288150787354,\n",
       "  1.7579206228256226,\n",
       "  1.757249355316162,\n",
       "  1.7576755285263062,\n",
       "  1.7569756507873535,\n",
       "  1.756433367729187,\n",
       "  1.756959319114685,\n",
       "  1.7574111223220825,\n",
       "  1.7571203708648682,\n",
       "  1.756941795349121,\n",
       "  1.7571723461151123,\n",
       "  1.7571675777435303,\n",
       "  1.7566393613815308,\n",
       "  1.7566616535186768,\n",
       "  1.7562953233718872,\n",
       "  1.7566577196121216,\n",
       "  1.7563360929489136,\n",
       "  1.7564303874969482,\n",
       "  1.7565481662750244,\n",
       "  1.7566454410552979,\n",
       "  1.7568204402923584,\n",
       "  1.7565300464630127,\n",
       "  1.7564500570297241,\n",
       "  1.757313847541809,\n",
       "  1.7570561170578003,\n",
       "  1.756431221961975,\n",
       "  1.7568813562393188,\n",
       "  1.7573003768920898,\n",
       "  1.7564489841461182,\n",
       "  1.7569786310195923,\n",
       "  1.7562916278839111,\n",
       "  1.7563908100128174]}"
      ]
     },
     "execution_count": 12,
     "metadata": {},
     "output_type": "execute_result"
    }
   ],
   "source": [
    "history.history"
   ]
  },
  {
   "cell_type": "code",
   "execution_count": 13,
   "id": "2ed596be-2513-4f30-a794-302b4876a83d",
   "metadata": {},
   "outputs": [
    {
     "data": {
      "image/png": "[encoded data removed]",
      "text/plain": [
       "<Figure size 640x480 with 1 Axes>"
      ]
     },
     "metadata": {},
     "output_type": "display_data"
    }
   ],
   "source": [
    "plt.plot(history.history['loss'])\n",
    "plt.plot(history.history['val_loss'])\n",
    "plt.title('Model Loss')\n",
    "plt.ylabel('Loss')\n",
    "plt.xlabel('Epoch')\n",
    "plt.legend(['Train', 'Val'], loc='upper right')\n",
    "plt.show()"
   ]
  },
  {
   "cell_type": "code",
   "execution_count": 14,
   "id": "d6efae5c-ef3c-4a27-ad7d-ded026cc41a6",
   "metadata": {},
   "outputs": [
    {
     "data": {
      "image/png": "[encoded data removed]",
      "text/plain": [
       "<Figure size 640x480 with 1 Axes>"
      ]
     },
     "metadata": {},
     "output_type": "display_data"
    }
   ],
   "source": [
    "plt.plot(history.history['accuracy'])\n",
    "plt.plot(history.history['val_accuracy'])\n",
    "plt.title('Model Accuracy')\n",
    "plt.ylabel('Accuracy')\n",
    "plt.xlabel('Epoch')\n",
    "plt.legend(['Train', 'Val'], loc='lower right')\n",
    "plt.show()"
   ]
  },
  {
   "cell_type": "code",
   "execution_count": 15,
   "id": "da8be383-57fb-4de0-84fd-e760d533e10a",
   "metadata": {},
   "outputs": [
    {
     "name": "stdout",
     "output_type": "stream",
     "text": [
      "48/48 - 1s - 24ms/step - accuracy: 0.3028 - loss: 1.7564\n"
     ]
    }
   ],
   "source": [
    "test_loss, test_acc = model.evaluate(val_ds, verbose=2)"
   ]
  },
  {
   "cell_type": "code",
   "execution_count": 16,
   "id": "c79c8590-6ab6-40a3-859f-0d674ad4607c",
   "metadata": {},
   "outputs": [
    {
     "name": "stdout",
     "output_type": "stream",
     "text": [
      "0.302752286195755\n"
     ]
    }
   ],
   "source": [
    "print(test_acc)"
   ]
  },
  {
   "cell_type": "code",
   "execution_count": 17,
   "id": "0329f18b-5475-4629-92cf-f8609eb69a3c",
   "metadata": {},
   "outputs": [
    {
     "name": "stdout",
     "output_type": "stream",
     "text": [
      "\u001b[1m5/6\u001b[0m \u001b[32m━━━━━━━━━━━━━━━━\u001b[0m\u001b[37m━━━━\u001b[0m \u001b[1m0s\u001b[0m 13ms/step "
     ]
    },
    {
     "name": "stderr",
     "output_type": "stream",
     "text": [
      "2024-11-20 22:23:21.689826: I external/local_xla/xla/stream_executor/cuda/cuda_asm_compiler.cc:397] ptxas warning : Registers are spilled to local memory in function 'gemm_fusion_dot_96_0', 260 bytes spill stores, 260 bytes spill loads\n",
      "\n",
      "2024-11-20 22:23:21.723906: I external/local_xla/xla/stream_executor/cuda/cuda_asm_compiler.cc:397] ptxas warning : Registers are spilled to local memory in function 'gemm_fusion_dot_89_0', 248 bytes spill stores, 248 bytes spill loads\n",
      "\n",
      "2024-11-20 22:23:21.793516: I external/local_xla/xla/stream_executor/cuda/cuda_asm_compiler.cc:397] ptxas warning : Registers are spilled to local memory in function 'gemm_fusion_dot_103', 24 bytes spill stores, 24 bytes spill loads\n",
      "\n"
     ]
    },
    {
     "name": "stdout",
     "output_type": "stream",
     "text": [
      "\u001b[1m6/6\u001b[0m \u001b[32m━━━━━━━━━━━━━━━━━━━━\u001b[0m\u001b[37m\u001b[0m \u001b[1m4s\u001b[0m 549ms/step\n"
     ]
    }
   ],
   "source": [
    "predictions = model.predict(train_ds_test)\n",
    "val_pred = np.argmax(predictions, axis=1)"
   ]
  },
  {
   "cell_type": "code",
   "execution_count": 18,
   "id": "c2ac0f40-b5a7-434f-ad26-23199361e775",
   "metadata": {},
   "outputs": [
    {
     "name": "stdout",
     "output_type": "stream",
     "text": [
      "\u001b[1m1/1\u001b[0m \u001b[32m━━━━━━━━━━━━━━━━━━━━\u001b[0m\u001b[37m\u001b[0m \u001b[1m1s\u001b[0m 741ms/step\n",
      "\u001b[1m1/1\u001b[0m \u001b[32m━━━━━━━━━━━━━━━━━━━━\u001b[0m\u001b[37m\u001b[0m \u001b[1m1s\u001b[0m 529ms/step\n"
     ]
    },
    {
     "name": "stderr",
     "output_type": "stream",
     "text": [
      "2024-11-20 22:23:24.466146: I tensorflow/core/framework/local_rendezvous.cc:405] Local rendezvous is aborting with status: OUT_OF_RANGE: End of sequence\n"
     ]
    }
   ],
   "source": [
    "y_true = []\n",
    "y_pred = []\n",
    "for images, labels in val_ds_test:\n",
    "  # Make predictions on the batch\n",
    "  batch_pred = model.predict(images)\n",
    "  y_pred.extend(list(batch_pred.argmax(axis=1)))  # Predicted labels\n",
    "  y_true.extend(list(labels.numpy()))  # True labels from the batch\n",
    "\n",
    "# Calculate the confusion matrix\n",
    "cm = confusion_matrix(y_true, y_pred)"
   ]
  },
  {
   "cell_type": "code",
   "execution_count": 19,
   "id": "cf35659b-2062-4beb-b87f-74e5394a5fd4",
   "metadata": {},
   "outputs": [
    {
     "data": {
      "text/plain": [
       "<sklearn.metrics._plot.confusion_matrix.ConfusionMatrixDisplay at 0x7f539194bf50>"
      ]
     },
     "execution_count": 19,
     "metadata": {},
     "output_type": "execute_result"
    },
    {
     "data": {
      "image/png": "[encoded data removed]",
      "text/plain": [
       "<Figure size 640x480 with 2 Axes>"
      ]
     },
     "metadata": {},
     "output_type": "display_data"
    }
   ],
   "source": [
    "disp = ConfusionMatrixDisplay(cm, display_labels=classes_,)\n",
    "disp.plot()"
   ]
  },
  {
   "cell_type": "code",
   "execution_count": 20,
   "id": "89bf33c1-dfd0-4681-8387-66d122abdcb9",
   "metadata": {},
   "outputs": [
    {
     "name": "stdout",
     "output_type": "stream",
     "text": [
      "              precision    recall  f1-score   support\n",
      "\n",
      "           0       0.00      0.00      0.00         2\n",
      "           1       0.00      0.00      0.00        11\n",
      "           2       0.00      0.00      0.00         1\n",
      "           3       0.45      1.00      0.62        19\n",
      "           4       0.00      0.00      0.00         3\n",
      "           5       0.00      0.00      0.00         1\n",
      "           6       0.00      0.00      0.00         4\n",
      "           7       0.00      0.00      0.00         1\n",
      "\n",
      "    accuracy                           0.45        42\n",
      "   macro avg       0.06      0.12      0.08        42\n",
      "weighted avg       0.20      0.45      0.28        42\n",
      "\n"
     ]
    },
    {
     "name": "stderr",
     "output_type": "stream",
     "text": [
      "/home/viviane/apps/anaconda3/envs/pro1-cnn/lib/python3.12/site-packages/sklearn/metrics/_classification.py:1531: UndefinedMetricWarning: Precision is ill-defined and being set to 0.0 in labels with no predicted samples. Use `zero_division` parameter to control this behavior.\n",
      "  _warn_prf(average, modifier, f\"{metric.capitalize()} is\", len(result))\n",
      "/home/viviane/apps/anaconda3/envs/pro1-cnn/lib/python3.12/site-packages/sklearn/metrics/_classification.py:1531: UndefinedMetricWarning: Precision is ill-defined and being set to 0.0 in labels with no predicted samples. Use `zero_division` parameter to control this behavior.\n",
      "  _warn_prf(average, modifier, f\"{metric.capitalize()} is\", len(result))\n",
      "/home/viviane/apps/anaconda3/envs/pro1-cnn/lib/python3.12/site-packages/sklearn/metrics/_classification.py:1531: UndefinedMetricWarning: Precision is ill-defined and being set to 0.0 in labels with no predicted samples. Use `zero_division` parameter to control this behavior.\n",
      "  _warn_prf(average, modifier, f\"{metric.capitalize()} is\", len(result))\n"
     ]
    }
   ],
   "source": [
    "report = classification_report(y_true, y_pred)\n",
    "print(report)"
   ]
  },
  {
   "cell_type": "markdown",
   "id": "accc529b-1afb-4fcd-b620-2d4eaa5dfd4c",
   "metadata": {},
   "source": [
    "# Save"
   ]
  },
  {
   "cell_type": "code",
   "execution_count": 21,
   "id": "e8e6c40a-cef1-4bc6-b0b4-be2098307500",
   "metadata": {},
   "outputs": [],
   "source": [
    "# model.save('models/breast_cancer_classification-alexnet.h5')"
   ]
  },
  {
   "cell_type": "code",
   "execution_count": null,
   "id": "0b17e77e-a0db-4f32-a662-94a4c3c4e3ec",
   "metadata": {},
   "outputs": [],
   "source": []
  }
 ],
 "metadata": {
  "kernelspec": {
   "display_name": "Python 3 (ipykernel)",
   "language": "python",
   "name": "python3"
  },
  "language_info": {
   "codemirror_mode": {
    "name": "ipython",
    "version": 3
   },
   "file_extension": ".py",
   "mimetype": "text/x-python",
   "name": "python",
   "nbconvert_exporter": "python",
   "pygments_lexer": "ipython3",
   "version": "3.12.7"
  }
 },
 "nbformat": 4,
 "nbformat_minor": 5
}
