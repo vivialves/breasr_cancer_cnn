{
 "cells": [
  {
   "cell_type": "markdown",
   "id": "7833ccb2-13fc-4f0c-abb5-b242fec7babb",
   "metadata": {},
   "source": [
    "# Alexnet"
   ]
  },
  {
   "cell_type": "code",
   "execution_count": 1,
   "id": "a949086a-250c-44ed-bf96-b342632b150d",
   "metadata": {},
   "outputs": [],
   "source": [
    "import numpy as np\n",
    "import pandas as pd"
   ]
  },
  {
   "cell_type": "code",
   "execution_count": 2,
   "id": "5ffafb28-0186-4ac2-a81b-868d537f06e9",
   "metadata": {},
   "outputs": [
    {
     "name": "stderr",
     "output_type": "stream",
     "text": [
      "2024-11-26 01:46:46.204632: I tensorflow/core/util/port.cc:153] oneDNN custom operations are on. You may see slightly different numerical results due to floating-point round-off errors from different computation orders. To turn them off, set the environment variable `TF_ENABLE_ONEDNN_OPTS=0`.\n",
      "2024-11-26 01:46:46.221965: E external/local_xla/xla/stream_executor/cuda/cuda_fft.cc:477] Unable to register cuFFT factory: Attempting to register factory for plugin cuFFT when one has already been registered\n",
      "WARNING: All log messages before absl::InitializeLog() is called are written to STDERR\n",
      "E0000 00:00:1732603606.239460   41094 cuda_dnn.cc:8310] Unable to register cuDNN factory: Attempting to register factory for plugin cuDNN when one has already been registered\n",
      "E0000 00:00:1732603606.243448   41094 cuda_blas.cc:1418] Unable to register cuBLAS factory: Attempting to register factory for plugin cuBLAS when one has already been registered\n",
      "2024-11-26 01:46:46.256988: I tensorflow/core/platform/cpu_feature_guard.cc:210] This TensorFlow binary is optimized to use available CPU instructions in performance-critical operations.\n",
      "To enable the following instructions: AVX2 AVX_VNNI FMA, in other operations, rebuild TensorFlow with the appropriate compiler flags.\n"
     ]
    }
   ],
   "source": [
    "import matplotlib.pyplot as plt\n",
    "import tensorflow as tf\n",
    "import keras as K\n",
    "import os\n",
    "\n",
    "from sklearn.metrics import confusion_matrix, ConfusionMatrixDisplay\n",
    "from sklearn.metrics import classification_report\n",
    "\n",
    "from tensorflow.keras.models import Sequential\n",
    "from tensorflow.keras.layers import Conv2D, MaxPooling2D, Flatten, Dense"
   ]
  },
  {
   "cell_type": "markdown",
   "id": "15998c73-a763-4a70-8559-5087e458f270",
   "metadata": {},
   "source": [
    "# Preparation for trainning - Train Split"
   ]
  },
  {
   "cell_type": "code",
   "execution_count": 3,
   "id": "5771efcd-633c-416a-ab10-59843ff73de9",
   "metadata": {},
   "outputs": [],
   "source": [
    "path = os.path.realpath('data/Dataset of Breast mammography images with Masses')\n",
    "list_path = path.split('/')\n",
    "list_path.remove('notebooks')\n",
    "list_path.remove('breast-cancer-project')\n",
    "path = os.path.join('/'.join(list_path), 'Image After Data Augmentation, Image Size 227x227/')"
   ]
  },
  {
   "cell_type": "code",
   "execution_count": 4,
   "id": "3c06ae85-a498-4a36-ab80-38fa9f8090e5",
   "metadata": {},
   "outputs": [],
   "source": [
    "batch_size_n = 64"
   ]
  },
  {
   "cell_type": "code",
   "execution_count": 5,
   "id": "79267c1c-b776-47c6-8347-456dc9a4fe89",
   "metadata": {},
   "outputs": [
    {
     "name": "stdout",
     "output_type": "stream",
     "text": [
      "Found 7632 files belonging to 8 classes.\n",
      "Using 6106 files for training.\n"
     ]
    },
    {
     "name": "stderr",
     "output_type": "stream",
     "text": [
      "I0000 00:00:1732603605.961259   41094 gpu_device.cc:2022] Created device /job:localhost/replica:0/task:0/device:GPU:0 with 1756 MB memory:  -> device: 0, name: NVIDIA GeForce RTX 3050 Ti Laptop GPU, pci bus id: 0000:01:00.0, compute capability: 8.6\n"
     ]
    }
   ],
   "source": [
    "train_ds = tf.keras.preprocessing.image_dataset_from_directory(\n",
    "    path,\n",
    "    validation_split=0.2,\n",
    "    subset='training',\n",
    "    seed=123,\n",
    "    image_size=(227, 227),\n",
    "    batch_size=batch_size_n,\n",
    ")"
   ]
  },
  {
   "cell_type": "code",
   "execution_count": 6,
   "id": "b2ce4506-53ab-4014-9102-3dcea2067fbd",
   "metadata": {},
   "outputs": [
    {
     "data": {
      "text/plain": [
       "8"
      ]
     },
     "execution_count": 6,
     "metadata": {},
     "output_type": "execute_result"
    }
   ],
   "source": [
    "classes_ = train_ds.class_names\n",
    "len(classes_)"
   ]
  },
  {
   "cell_type": "code",
   "execution_count": 7,
   "id": "e44d8bde-7735-459c-940c-cdcb3763b748",
   "metadata": {},
   "outputs": [
    {
     "name": "stdout",
     "output_type": "stream",
     "text": [
      "Found 7632 files belonging to 8 classes.\n",
      "Using 1526 files for validation.\n"
     ]
    }
   ],
   "source": [
    "val_ds = tf.keras.preprocessing.image_dataset_from_directory(\n",
    "    path,\n",
    "    validation_split=0.2,\n",
    "    subset='validation',\n",
    "    seed=123,\n",
    "    image_size=(227, 227),\n",
    "    batch_size=batch_size_n,\n",
    ")"
   ]
  },
  {
   "cell_type": "code",
   "execution_count": 8,
   "id": "fa080552-138b-4109-9a63-54262737e223",
   "metadata": {},
   "outputs": [
    {
     "data": {
      "text/plain": [
       "(<_MapDataset element_spec=(TensorSpec(shape=(None, 227, 227, 3), dtype=tf.float32, name=None), TensorSpec(shape=(None,), dtype=tf.int32, name=None))>,\n",
       " <_MapDataset element_spec=(TensorSpec(shape=(None, 227, 227, 3), dtype=tf.float32, name=None), TensorSpec(shape=(None,), dtype=tf.int32, name=None))>)"
      ]
     },
     "execution_count": 8,
     "metadata": {},
     "output_type": "execute_result"
    }
   ],
   "source": [
    "def normalize(image, label):\n",
    "  return tf.cast(image/255., tf.float32), label\n",
    "\n",
    "train_ds = train_ds.map(normalize)\n",
    "val_ds = val_ds.map(normalize)\n",
    "\n",
    "train_ds, val_ds"
   ]
  },
  {
   "cell_type": "markdown",
   "id": "aebe2fc2-e0ea-406e-97fd-14060990a7c9",
   "metadata": {},
   "source": [
    "# Preparation for trainning - Test Split"
   ]
  },
  {
   "cell_type": "code",
   "execution_count": 9,
   "id": "0711bb04-ffb3-4ded-9a54-e91dc48b1a66",
   "metadata": {},
   "outputs": [],
   "source": [
    "path = os.path.realpath('data/Dataset of Breast mammography images with Masses')\n",
    "list_path = path.split('/')\n",
    "list_path.remove('notebooks')\n",
    "list_path.remove('breast-cancer-project')\n",
    "path = os.path.join('/'.join(list_path), 'Image Before Data Augmentation, Image Size 227x227/')"
   ]
  },
  {
   "cell_type": "code",
   "execution_count": 10,
   "id": "321e3a74-49b6-40e0-bd4e-2e4192624cf3",
   "metadata": {},
   "outputs": [
    {
     "name": "stdout",
     "output_type": "stream",
     "text": [
      "Found 212 files belonging to 8 classes.\n",
      "Using 170 files for training.\n"
     ]
    }
   ],
   "source": [
    "train_ds_test = tf.keras.preprocessing.image_dataset_from_directory(\n",
    "    path,\n",
    "    validation_split=0.2,\n",
    "    subset='training',\n",
    "    seed=123,\n",
    "    image_size=(227, 227),\n",
    "    batch_size=batch_size_n,\n",
    ")"
   ]
  },
  {
   "cell_type": "code",
   "execution_count": 11,
   "id": "b581d473-fc8e-449a-9130-ed7fa60854fa",
   "metadata": {},
   "outputs": [
    {
     "name": "stdout",
     "output_type": "stream",
     "text": [
      "Found 212 files belonging to 8 classes.\n",
      "Using 42 files for validation.\n"
     ]
    }
   ],
   "source": [
    "val_ds_test = tf.keras.preprocessing.image_dataset_from_directory(\n",
    "    path,\n",
    "    validation_split=0.2,\n",
    "    subset='validation',\n",
    "    seed=123,\n",
    "    image_size=(227, 227),\n",
    "    batch_size=batch_size_n,\n",
    ")"
   ]
  },
  {
   "cell_type": "code",
   "execution_count": 12,
   "id": "bd22c9eb-00f8-4efd-a1bc-61ed082d879c",
   "metadata": {},
   "outputs": [
    {
     "data": {
      "text/plain": [
       "(<_MapDataset element_spec=(TensorSpec(shape=(None, 227, 227, 3), dtype=tf.float32, name=None), TensorSpec(shape=(None,), dtype=tf.int32, name=None))>,\n",
       " <_MapDataset element_spec=(TensorSpec(shape=(None, 227, 227, 3), dtype=tf.float32, name=None), TensorSpec(shape=(None,), dtype=tf.int32, name=None))>)"
      ]
     },
     "execution_count": 12,
     "metadata": {},
     "output_type": "execute_result"
    }
   ],
   "source": [
    "def normalize(image, label):\n",
    "  return tf.cast(image/255., tf.float32), label\n",
    "\n",
    "train_ds_test = train_ds_test.map(normalize)\n",
    "val_ds_test = val_ds_test.map(normalize)\n",
    "\n",
    "train_ds_test, val_ds_test"
   ]
  },
  {
   "cell_type": "markdown",
   "id": "053a442b-86ec-4b6d-97f9-f9cb395dcacb",
   "metadata": {},
   "source": [
    "# Training"
   ]
  },
  {
   "cell_type": "code",
   "execution_count": 13,
   "id": "1b3b8fa7-859b-42b9-aca9-a9f5a666a3b3",
   "metadata": {},
   "outputs": [
    {
     "name": "stderr",
     "output_type": "stream",
     "text": [
      "/home/viviane/apps/anaconda3/envs/pro1-cnn/lib/python3.12/site-packages/keras/src/layers/convolutional/base_conv.py:107: UserWarning: Do not pass an `input_shape`/`input_dim` argument to a layer. When using Sequential models, prefer using an `Input(shape)` object as the first layer in the model instead.\n",
      "  super().__init__(activity_regularizer=activity_regularizer, **kwargs)\n"
     ]
    }
   ],
   "source": [
    "model = Sequential([\n",
    "    Conv2D(filters=96, kernel_size=(11,11), strides=(4,4), activation='relu', input_shape=(227,227,3)),\n",
    "    MaxPooling2D(pool_size=(3,3), strides=(2,2)),\n",
    "    Conv2D(filters=256, kernel_size=(5,5), padding='same', activation='relu'),\n",
    "    MaxPooling2D(pool_size=(3,3), strides=(2,2)),\n",
    "    Conv2D(filters=384, kernel_size=(3,3), padding='same', activation='relu'),\n",
    "    Conv2D(filters=384, kernel_size=(3,3), padding='same', activation='relu'),\n",
    "    Conv2D(filters=256, kernel_size=(3,3), padding='same', activation='relu'),\n",
    "    MaxPooling2D(pool_size=(3,3), strides=(2,2)),\n",
    "    Flatten(),\n",
    "    Dense(4096, activation='relu'),\n",
    "    Dense(4096, activation='relu'),\n",
    "    Dense(1000, activation= 'relu'),\n",
    "    Dense(8, activation='softmax')\n",
    "])"
   ]
  },
  {
   "cell_type": "code",
   "execution_count": 14,
   "id": "de6bc51f-49b5-40ff-93db-a6974485fe62",
   "metadata": {},
   "outputs": [],
   "source": [
    "model.compile(optimizer='adam',\n",
    "              loss='SparseCategoricalCrossentropy',\n",
    "              auto_scale_loss='True',\n",
    "              metrics=['accuracy'])"
   ]
  },
  {
   "cell_type": "code",
   "execution_count": 15,
   "id": "849309fc-b5cc-434c-a6ae-4237eb46484a",
   "metadata": {
    "scrolled": true
   },
   "outputs": [
    {
     "name": "stdout",
     "output_type": "stream",
     "text": [
      "Epoch 1/50\n"
     ]
    },
    {
     "name": "stderr",
     "output_type": "stream",
     "text": [
      "WARNING: All log messages before absl::InitializeLog() is called are written to STDERR\n",
      "I0000 00:00:1732603608.810414   41200 service.cc:148] XLA service 0x7f8c180182e0 initialized for platform CUDA (this does not guarantee that XLA will be used). Devices:\n",
      "I0000 00:00:1732603608.810544   41200 service.cc:156]   StreamExecutor device (0): NVIDIA GeForce RTX 3050 Ti Laptop GPU, Compute Capability 8.6\n",
      "2024-11-26 01:46:48.926305: I tensorflow/compiler/mlir/tensorflow/utils/dump_mlir_util.cc:268] disabling MLIR crash reproducer, set env var `MLIR_CRASH_REPRODUCER_DIRECTORY` to enable.\n",
      "I0000 00:00:1732603609.377794   41200 cuda_dnn.cc:529] Loaded cuDNN version 90300\n",
      "2024-11-26 01:46:50.672840: I external/local_xla/xla/stream_executor/cuda/cuda_asm_compiler.cc:397] ptxas warning : Registers are spilled to local memory in function 'gemm_fusion_dot_600', 196 bytes spill stores, 196 bytes spill loads\n",
      "\n",
      "2024-11-26 01:46:50.832021: I external/local_xla/xla/stream_executor/cuda/cuda_asm_compiler.cc:397] ptxas warning : Registers are spilled to local memory in function 'gemm_fusion_dot_600', 236 bytes spill stores, 236 bytes spill loads\n",
      "\n",
      "2024-11-26 01:46:50.958421: I external/local_xla/xla/stream_executor/cuda/cuda_asm_compiler.cc:397] ptxas warning : Registers are spilled to local memory in function 'gemm_fusion_dot_946', 116 bytes spill stores, 116 bytes spill loads\n",
      "\n",
      "2024-11-26 01:46:51.347138: I external/local_xla/xla/stream_executor/cuda/cuda_asm_compiler.cc:397] ptxas warning : Registers are spilled to local memory in function 'gemm_fusion_dot_614', 200 bytes spill stores, 200 bytes spill loads\n",
      "\n",
      "2024-11-26 01:46:51.641404: I external/local_xla/xla/stream_executor/cuda/cuda_asm_compiler.cc:397] ptxas warning : Registers are spilled to local memory in function 'gemm_fusion_dot_628', 236 bytes spill stores, 236 bytes spill loads\n",
      "\n",
      "2024-11-26 01:46:51.802936: I external/local_xla/xla/stream_executor/cuda/cuda_asm_compiler.cc:397] ptxas warning : Registers are spilled to local memory in function 'gemm_fusion_dot_944', 448 bytes spill stores, 448 bytes spill loads\n",
      "\n",
      "2024-11-26 01:46:51.831132: I external/local_xla/xla/stream_executor/cuda/cuda_asm_compiler.cc:397] ptxas warning : Registers are spilled to local memory in function 'gemm_fusion_dot_946', 88 bytes spill stores, 88 bytes spill loads\n",
      "\n",
      "2024-11-26 01:46:52.004061: I external/local_xla/xla/stream_executor/cuda/cuda_asm_compiler.cc:397] ptxas warning : Registers are spilled to local memory in function 'gemm_fusion_dot_614', 248 bytes spill stores, 248 bytes spill loads\n",
      "\n",
      "2024-11-26 01:46:52.146064: I external/local_xla/xla/stream_executor/cuda/cuda_asm_compiler.cc:397] ptxas warning : Registers are spilled to local memory in function 'gemm_fusion_dot_944', 440 bytes spill stores, 440 bytes spill loads\n",
      "\n",
      "I0000 00:00:1732603622.028354   41200 device_compiler.h:188] Compiled cluster using XLA!  This line is logged at most once for the lifetime of the process.\n"
     ]
    },
    {
     "name": "stdout",
     "output_type": "stream",
     "text": [
      "\u001b[1m95/96\u001b[0m \u001b[32m━━━━━━━━━━━━━━━━━━━\u001b[0m\u001b[37m━\u001b[0m \u001b[1m0s\u001b[0m 83ms/step - accuracy: 0.2672 - loss: 2.1019"
     ]
    },
    {
     "name": "stderr",
     "output_type": "stream",
     "text": [
      "2024-11-26 01:47:11.029030: I external/local_xla/xla/stream_executor/cuda/cuda_asm_compiler.cc:397] ptxas warning : Registers are spilled to local memory in function 'gemm_fusion_dot_614', 148 bytes spill stores, 148 bytes spill loads\n",
      "\n",
      "2024-11-26 01:47:11.151296: I external/local_xla/xla/stream_executor/cuda/cuda_asm_compiler.cc:397] ptxas warning : Registers are spilled to local memory in function 'gemm_fusion_dot_600', 152 bytes spill stores, 152 bytes spill loads\n",
      "\n",
      "2024-11-26 01:47:11.162386: I external/local_xla/xla/stream_executor/cuda/cuda_asm_compiler.cc:397] ptxas warning : Registers are spilled to local memory in function 'gemm_fusion_dot_614_0', 272 bytes spill stores, 272 bytes spill loads\n",
      "\n",
      "2024-11-26 01:47:11.646221: I external/local_xla/xla/stream_executor/cuda/cuda_asm_compiler.cc:397] ptxas warning : Registers are spilled to local memory in function 'gemm_fusion_dot_600', 244 bytes spill stores, 244 bytes spill loads\n",
      "\n",
      "2024-11-26 01:47:11.775794: I external/local_xla/xla/stream_executor/cuda/cuda_asm_compiler.cc:397] ptxas warning : Registers are spilled to local memory in function 'gemm_fusion_dot_944', 32 bytes spill stores, 32 bytes spill loads\n",
      "\n",
      "2024-11-26 01:47:12.285017: I external/local_xla/xla/stream_executor/cuda/cuda_asm_compiler.cc:397] ptxas warning : Registers are spilled to local memory in function 'gemm_fusion_dot_944', 24 bytes spill stores, 24 bytes spill loads\n",
      "\n",
      "2024-11-26 01:47:12.328839: I external/local_xla/xla/stream_executor/cuda/cuda_asm_compiler.cc:397] ptxas warning : Registers are spilled to local memory in function 'gemm_fusion_dot_628', 352 bytes spill stores, 352 bytes spill loads\n",
      "\n",
      "2024-11-26 01:47:12.331322: I external/local_xla/xla/stream_executor/cuda/cuda_asm_compiler.cc:397] ptxas warning : Registers are spilled to local memory in function 'gemm_fusion_dot_944', 32 bytes spill stores, 32 bytes spill loads\n",
      "\n"
     ]
    },
    {
     "name": "stdout",
     "output_type": "stream",
     "text": [
      "\u001b[1m96/96\u001b[0m \u001b[32m━━━━━━━━━━━━━━━━━━━━\u001b[0m\u001b[37m\u001b[0m \u001b[1m0s\u001b[0m 150ms/step - accuracy: 0.2673 - loss: 2.0996"
     ]
    },
    {
     "name": "stderr",
     "output_type": "stream",
     "text": [
      "2024-11-26 01:47:20.763782: I external/local_xla/xla/stream_executor/cuda/cuda_asm_compiler.cc:397] ptxas warning : Registers are spilled to local memory in function 'gemm_fusion_dot_106', 244 bytes spill stores, 244 bytes spill loads\n",
      "\n",
      "2024-11-26 01:47:20.889516: I external/local_xla/xla/stream_executor/cuda/cuda_asm_compiler.cc:397] ptxas warning : Registers are spilled to local memory in function 'gemm_fusion_dot_113', 272 bytes spill stores, 272 bytes spill loads\n",
      "\n",
      "2024-11-26 01:47:21.315975: I external/local_xla/xla/stream_executor/cuda/cuda_asm_compiler.cc:397] ptxas warning : Registers are spilled to local memory in function 'gemm_fusion_dot_106', 248 bytes spill stores, 248 bytes spill loads\n",
      "\n",
      "2024-11-26 01:47:21.442197: I external/local_xla/xla/stream_executor/cuda/cuda_asm_compiler.cc:397] ptxas warning : Registers are spilled to local memory in function 'gemm_fusion_dot_113', 244 bytes spill stores, 244 bytes spill loads\n",
      "\n",
      "2024-11-26 01:47:21.489390: I external/local_xla/xla/stream_executor/cuda/cuda_asm_compiler.cc:397] ptxas warning : Registers are spilled to local memory in function 'gemm_fusion_dot_120', 264 bytes spill stores, 264 bytes spill loads\n",
      "\n"
     ]
    },
    {
     "name": "stdout",
     "output_type": "stream",
     "text": [
      "\u001b[1m96/96\u001b[0m \u001b[32m━━━━━━━━━━━━━━━━━━━━\u001b[0m\u001b[37m\u001b[0m \u001b[1m37s\u001b[0m 237ms/step - accuracy: 0.2674 - loss: 2.0975 - val_accuracy: 0.2864 - val_loss: 1.7872\n",
      "Epoch 2/50\n",
      "\u001b[1m96/96\u001b[0m \u001b[32m━━━━━━━━━━━━━━━━━━━━\u001b[0m\u001b[37m\u001b[0m \u001b[1m9s\u001b[0m 89ms/step - accuracy: 0.2958 - loss: 1.7577 - val_accuracy: 0.3028 - val_loss: 1.7622\n",
      "Epoch 3/50\n",
      "\u001b[1m96/96\u001b[0m \u001b[32m━━━━━━━━━━━━━━━━━━━━\u001b[0m\u001b[37m\u001b[0m \u001b[1m9s\u001b[0m 89ms/step - accuracy: 0.2970 - loss: 1.7621 - val_accuracy: 0.3028 - val_loss: 1.7578\n",
      "Epoch 4/50\n",
      "\u001b[1m96/96\u001b[0m \u001b[32m━━━━━━━━━━━━━━━━━━━━\u001b[0m\u001b[37m\u001b[0m \u001b[1m6s\u001b[0m 67ms/step - accuracy: 0.2962 - loss: 1.7541 - val_accuracy: 0.3028 - val_loss: 1.7566\n",
      "Epoch 5/50\n",
      "\u001b[1m96/96\u001b[0m \u001b[32m━━━━━━━━━━━━━━━━━━━━\u001b[0m\u001b[37m\u001b[0m \u001b[1m9s\u001b[0m 89ms/step - accuracy: 0.3003 - loss: 1.7532 - val_accuracy: 0.3028 - val_loss: 1.7635\n",
      "Epoch 6/50\n",
      "\u001b[1m96/96\u001b[0m \u001b[32m━━━━━━━━━━━━━━━━━━━━\u001b[0m\u001b[37m\u001b[0m \u001b[1m9s\u001b[0m 89ms/step - accuracy: 0.2996 - loss: 1.7589 - val_accuracy: 0.3028 - val_loss: 1.7602\n",
      "Epoch 7/50\n",
      "\u001b[1m96/96\u001b[0m \u001b[32m━━━━━━━━━━━━━━━━━━━━\u001b[0m\u001b[37m\u001b[0m \u001b[1m9s\u001b[0m 90ms/step - accuracy: 0.3027 - loss: 1.7457 - val_accuracy: 0.3028 - val_loss: 1.7568\n",
      "Epoch 8/50\n",
      "\u001b[1m96/96\u001b[0m \u001b[32m━━━━━━━━━━━━━━━━━━━━\u001b[0m\u001b[37m\u001b[0m \u001b[1m6s\u001b[0m 67ms/step - accuracy: 0.2990 - loss: 1.7492 - val_accuracy: 0.3028 - val_loss: 1.7564\n",
      "Epoch 9/50\n",
      "\u001b[1m96/96\u001b[0m \u001b[32m━━━━━━━━━━━━━━━━━━━━\u001b[0m\u001b[37m\u001b[0m \u001b[1m9s\u001b[0m 89ms/step - accuracy: 0.3022 - loss: 1.7534 - val_accuracy: 0.3028 - val_loss: 1.7585\n",
      "Epoch 10/50\n",
      "\u001b[1m96/96\u001b[0m \u001b[32m━━━━━━━━━━━━━━━━━━━━\u001b[0m\u001b[37m\u001b[0m \u001b[1m9s\u001b[0m 90ms/step - accuracy: 0.2994 - loss: 1.7535 - val_accuracy: 0.3028 - val_loss: 1.7594\n",
      "Epoch 11/50\n",
      "\u001b[1m96/96\u001b[0m \u001b[32m━━━━━━━━━━━━━━━━━━━━\u001b[0m\u001b[37m\u001b[0m \u001b[1m9s\u001b[0m 90ms/step - accuracy: 0.3018 - loss: 1.7501 - val_accuracy: 0.3028 - val_loss: 1.7568\n",
      "Epoch 12/50\n",
      "\u001b[1m96/96\u001b[0m \u001b[32m━━━━━━━━━━━━━━━━━━━━\u001b[0m\u001b[37m\u001b[0m \u001b[1m6s\u001b[0m 65ms/step - accuracy: 0.2951 - loss: 1.7509 - val_accuracy: 0.3028 - val_loss: 1.7582\n",
      "Epoch 13/50\n",
      "\u001b[1m96/96\u001b[0m \u001b[32m━━━━━━━━━━━━━━━━━━━━\u001b[0m\u001b[37m\u001b[0m \u001b[1m9s\u001b[0m 89ms/step - accuracy: 0.3019 - loss: 1.7515 - val_accuracy: 0.3028 - val_loss: 1.7623\n",
      "Epoch 14/50\n",
      "\u001b[1m96/96\u001b[0m \u001b[32m━━━━━━━━━━━━━━━━━━━━\u001b[0m\u001b[37m\u001b[0m \u001b[1m9s\u001b[0m 88ms/step - accuracy: 0.3009 - loss: 1.7489 - val_accuracy: 0.3028 - val_loss: 1.7582\n",
      "Epoch 15/50\n",
      "\u001b[1m96/96\u001b[0m \u001b[32m━━━━━━━━━━━━━━━━━━━━\u001b[0m\u001b[37m\u001b[0m \u001b[1m9s\u001b[0m 89ms/step - accuracy: 0.3024 - loss: 1.7550 - val_accuracy: 0.3028 - val_loss: 1.7568\n",
      "Epoch 16/50\n",
      "\u001b[1m96/96\u001b[0m \u001b[32m━━━━━━━━━━━━━━━━━━━━\u001b[0m\u001b[37m\u001b[0m \u001b[1m7s\u001b[0m 67ms/step - accuracy: 0.2991 - loss: 1.7535 - val_accuracy: 0.3028 - val_loss: 1.7568\n",
      "Epoch 17/50\n",
      "\u001b[1m96/96\u001b[0m \u001b[32m━━━━━━━━━━━━━━━━━━━━\u001b[0m\u001b[37m\u001b[0m \u001b[1m9s\u001b[0m 89ms/step - accuracy: 0.2841 - loss: 1.7598 - val_accuracy: 0.3028 - val_loss: 1.7573\n",
      "Epoch 18/50\n",
      "\u001b[1m96/96\u001b[0m \u001b[32m━━━━━━━━━━━━━━━━━━━━\u001b[0m\u001b[37m\u001b[0m \u001b[1m9s\u001b[0m 89ms/step - accuracy: 0.3028 - loss: 1.7474 - val_accuracy: 0.3028 - val_loss: 1.7573\n",
      "Epoch 19/50\n",
      "\u001b[1m96/96\u001b[0m \u001b[32m━━━━━━━━━━━━━━━━━━━━\u001b[0m\u001b[37m\u001b[0m \u001b[1m6s\u001b[0m 67ms/step - accuracy: 0.3069 - loss: 1.7456 - val_accuracy: 0.3028 - val_loss: 1.7563\n",
      "Epoch 20/50\n",
      "\u001b[1m96/96\u001b[0m \u001b[32m━━━━━━━━━━━━━━━━━━━━\u001b[0m\u001b[37m\u001b[0m \u001b[1m9s\u001b[0m 88ms/step - accuracy: 0.3015 - loss: 1.7475 - val_accuracy: 0.3028 - val_loss: 1.7592\n",
      "Epoch 21/50\n",
      "\u001b[1m96/96\u001b[0m \u001b[32m━━━━━━━━━━━━━━━━━━━━\u001b[0m\u001b[37m\u001b[0m \u001b[1m9s\u001b[0m 89ms/step - accuracy: 0.2938 - loss: 1.7536 - val_accuracy: 0.3028 - val_loss: 1.7574\n",
      "Epoch 22/50\n",
      "\u001b[1m96/96\u001b[0m \u001b[32m━━━━━━━━━━━━━━━━━━━━\u001b[0m\u001b[37m\u001b[0m \u001b[1m9s\u001b[0m 90ms/step - accuracy: 0.3008 - loss: 1.7533 - val_accuracy: 0.3028 - val_loss: 1.7567\n",
      "Epoch 23/50\n",
      "\u001b[1m96/96\u001b[0m \u001b[32m━━━━━━━━━━━━━━━━━━━━\u001b[0m\u001b[37m\u001b[0m \u001b[1m6s\u001b[0m 67ms/step - accuracy: 0.3015 - loss: 1.7563 - val_accuracy: 0.3028 - val_loss: 1.7567\n",
      "Epoch 24/50\n",
      "\u001b[1m96/96\u001b[0m \u001b[32m━━━━━━━━━━━━━━━━━━━━\u001b[0m\u001b[37m\u001b[0m \u001b[1m9s\u001b[0m 89ms/step - accuracy: 0.3009 - loss: 1.7540 - val_accuracy: 0.3028 - val_loss: 1.7576\n",
      "Epoch 25/50\n",
      "\u001b[1m96/96\u001b[0m \u001b[32m━━━━━━━━━━━━━━━━━━━━\u001b[0m\u001b[37m\u001b[0m \u001b[1m9s\u001b[0m 90ms/step - accuracy: 0.3043 - loss: 1.7506 - val_accuracy: 0.3028 - val_loss: 1.7569\n",
      "Epoch 26/50\n",
      "\u001b[1m96/96\u001b[0m \u001b[32m━━━━━━━━━━━━━━━━━━━━\u001b[0m\u001b[37m\u001b[0m \u001b[1m9s\u001b[0m 90ms/step - accuracy: 0.2990 - loss: 1.7484 - val_accuracy: 0.3028 - val_loss: 1.7565\n",
      "Epoch 27/50\n",
      "\u001b[1m96/96\u001b[0m \u001b[32m━━━━━━━━━━━━━━━━━━━━\u001b[0m\u001b[37m\u001b[0m \u001b[1m6s\u001b[0m 65ms/step - accuracy: 0.3021 - loss: 1.7556 - val_accuracy: 0.3028 - val_loss: 1.7570\n",
      "Epoch 28/50\n",
      "\u001b[1m96/96\u001b[0m \u001b[32m━━━━━━━━━━━━━━━━━━━━\u001b[0m\u001b[37m\u001b[0m \u001b[1m9s\u001b[0m 90ms/step - accuracy: 0.2993 - loss: 1.7560 - val_accuracy: 0.3028 - val_loss: 1.7570\n",
      "Epoch 29/50\n",
      "\u001b[1m96/96\u001b[0m \u001b[32m━━━━━━━━━━━━━━━━━━━━\u001b[0m\u001b[37m\u001b[0m \u001b[1m9s\u001b[0m 89ms/step - accuracy: 0.3010 - loss: 1.7548 - val_accuracy: 0.3028 - val_loss: 1.7567\n",
      "Epoch 30/50\n",
      "\u001b[1m96/96\u001b[0m \u001b[32m━━━━━━━━━━━━━━━━━━━━\u001b[0m\u001b[37m\u001b[0m \u001b[1m9s\u001b[0m 89ms/step - accuracy: 0.3076 - loss: 1.7478 - val_accuracy: 0.3028 - val_loss: 1.7574\n",
      "Epoch 31/50\n",
      "\u001b[1m96/96\u001b[0m \u001b[32m━━━━━━━━━━━━━━━━━━━━\u001b[0m\u001b[37m\u001b[0m \u001b[1m7s\u001b[0m 67ms/step - accuracy: 0.3036 - loss: 1.7504 - val_accuracy: 0.3028 - val_loss: 1.7564\n",
      "Epoch 32/50\n",
      "\u001b[1m96/96\u001b[0m \u001b[32m━━━━━━━━━━━━━━━━━━━━\u001b[0m\u001b[37m\u001b[0m \u001b[1m9s\u001b[0m 90ms/step - accuracy: 0.2994 - loss: 1.7513 - val_accuracy: 0.3028 - val_loss: 1.7568\n",
      "Epoch 33/50\n",
      "\u001b[1m96/96\u001b[0m \u001b[32m━━━━━━━━━━━━━━━━━━━━\u001b[0m\u001b[37m\u001b[0m \u001b[1m9s\u001b[0m 90ms/step - accuracy: 0.3007 - loss: 1.7514 - val_accuracy: 0.3028 - val_loss: 1.7578\n",
      "Epoch 34/50\n",
      "\u001b[1m96/96\u001b[0m \u001b[32m━━━━━━━━━━━━━━━━━━━━\u001b[0m\u001b[37m\u001b[0m \u001b[1m7s\u001b[0m 67ms/step - accuracy: 0.3041 - loss: 1.7535 - val_accuracy: 0.3028 - val_loss: 1.7574\n",
      "Epoch 35/50\n",
      "\u001b[1m96/96\u001b[0m \u001b[32m━━━━━━━━━━━━━━━━━━━━\u001b[0m\u001b[37m\u001b[0m \u001b[1m9s\u001b[0m 90ms/step - accuracy: 0.3038 - loss: 1.7470 - val_accuracy: 0.3028 - val_loss: 1.7574\n",
      "Epoch 36/50\n",
      "\u001b[1m96/96\u001b[0m \u001b[32m━━━━━━━━━━━━━━━━━━━━\u001b[0m\u001b[37m\u001b[0m \u001b[1m9s\u001b[0m 90ms/step - accuracy: 0.3050 - loss: 1.7550 - val_accuracy: 0.3028 - val_loss: 1.7572\n",
      "Epoch 37/50\n",
      "\u001b[1m96/96\u001b[0m \u001b[32m━━━━━━━━━━━━━━━━━━━━\u001b[0m\u001b[37m\u001b[0m \u001b[1m9s\u001b[0m 90ms/step - accuracy: 0.3052 - loss: 1.7497 - val_accuracy: 0.3028 - val_loss: 1.7564\n",
      "Epoch 38/50\n",
      "\u001b[1m96/96\u001b[0m \u001b[32m━━━━━━━━━━━━━━━━━━━━\u001b[0m\u001b[37m\u001b[0m \u001b[1m6s\u001b[0m 65ms/step - accuracy: 0.3038 - loss: 1.7481 - val_accuracy: 0.3028 - val_loss: 1.7569\n",
      "Epoch 39/50\n",
      "\u001b[1m96/96\u001b[0m \u001b[32m━━━━━━━━━━━━━━━━━━━━\u001b[0m\u001b[37m\u001b[0m \u001b[1m9s\u001b[0m 90ms/step - accuracy: 0.3037 - loss: 1.7492 - val_accuracy: 0.3028 - val_loss: 1.7570\n",
      "Epoch 40/50\n",
      "\u001b[1m96/96\u001b[0m \u001b[32m━━━━━━━━━━━━━━━━━━━━\u001b[0m\u001b[37m\u001b[0m \u001b[1m9s\u001b[0m 91ms/step - accuracy: 0.3022 - loss: 1.7467 - val_accuracy: 0.3028 - val_loss: 1.7573\n",
      "Epoch 41/50\n",
      "\u001b[1m96/96\u001b[0m \u001b[32m━━━━━━━━━━━━━━━━━━━━\u001b[0m\u001b[37m\u001b[0m \u001b[1m9s\u001b[0m 90ms/step - accuracy: 0.3001 - loss: 1.7550 - val_accuracy: 0.3028 - val_loss: 1.7562\n",
      "Epoch 42/50\n",
      "\u001b[1m96/96\u001b[0m \u001b[32m━━━━━━━━━━━━━━━━━━━━\u001b[0m\u001b[37m\u001b[0m \u001b[1m6s\u001b[0m 66ms/step - accuracy: 0.3029 - loss: 1.7525 - val_accuracy: 0.3028 - val_loss: 1.7568\n",
      "Epoch 43/50\n",
      "\u001b[1m96/96\u001b[0m \u001b[32m━━━━━━━━━━━━━━━━━━━━\u001b[0m\u001b[37m\u001b[0m \u001b[1m9s\u001b[0m 89ms/step - accuracy: 0.3050 - loss: 1.7484 - val_accuracy: 0.3028 - val_loss: 1.7577\n",
      "Epoch 44/50\n",
      "\u001b[1m96/96\u001b[0m \u001b[32m━━━━━━━━━━━━━━━━━━━━\u001b[0m\u001b[37m\u001b[0m \u001b[1m9s\u001b[0m 89ms/step - accuracy: 0.3047 - loss: 1.7489 - val_accuracy: 0.3028 - val_loss: 1.7570\n",
      "Epoch 45/50\n",
      "\u001b[1m96/96\u001b[0m \u001b[32m━━━━━━━━━━━━━━━━━━━━\u001b[0m\u001b[37m\u001b[0m \u001b[1m7s\u001b[0m 69ms/step - accuracy: 0.3042 - loss: 1.7474 - val_accuracy: 0.3028 - val_loss: 1.7570\n",
      "Epoch 46/50\n",
      "\u001b[1m96/96\u001b[0m \u001b[32m━━━━━━━━━━━━━━━━━━━━\u001b[0m\u001b[37m\u001b[0m \u001b[1m9s\u001b[0m 89ms/step - accuracy: 0.3030 - loss: 1.7508 - val_accuracy: 0.3028 - val_loss: 1.7572\n",
      "Epoch 47/50\n",
      "\u001b[1m96/96\u001b[0m \u001b[32m━━━━━━━━━━━━━━━━━━━━\u001b[0m\u001b[37m\u001b[0m \u001b[1m9s\u001b[0m 90ms/step - accuracy: 0.3019 - loss: 1.7512 - val_accuracy: 0.3028 - val_loss: 1.7563\n",
      "Epoch 48/50\n",
      "\u001b[1m96/96\u001b[0m \u001b[32m━━━━━━━━━━━━━━━━━━━━\u001b[0m\u001b[37m\u001b[0m \u001b[1m9s\u001b[0m 90ms/step - accuracy: 0.3016 - loss: 1.7523 - val_accuracy: 0.3028 - val_loss: 1.7570\n",
      "Epoch 49/50\n",
      "\u001b[1m96/96\u001b[0m \u001b[32m━━━━━━━━━━━━━━━━━━━━\u001b[0m\u001b[37m\u001b[0m \u001b[1m7s\u001b[0m 67ms/step - accuracy: 0.3003 - loss: 1.7496 - val_accuracy: 0.3028 - val_loss: 1.7574\n",
      "Epoch 50/50\n",
      "\u001b[1m96/96\u001b[0m \u001b[32m━━━━━━━━━━━━━━━━━━━━\u001b[0m\u001b[37m\u001b[0m \u001b[1m9s\u001b[0m 89ms/step - accuracy: 0.3025 - loss: 1.7504 - val_accuracy: 0.3028 - val_loss: 1.7568\n"
     ]
    }
   ],
   "source": [
    "epochs = 50\n",
    "history = model.fit(train_ds,\n",
    "                    validation_data=val_ds,\n",
    "                    batch_size=batch_size_n,\n",
    "                    epochs=epochs)"
   ]
  },
  {
   "cell_type": "markdown",
   "id": "02a69cb1-630f-4112-9a3e-ca7e78052296",
   "metadata": {},
   "source": [
    "# Evaluating"
   ]
  },
  {
   "cell_type": "code",
   "execution_count": 16,
   "id": "a366bbfa-d38f-4eea-bbb5-f8ed3a8007a0",
   "metadata": {
    "scrolled": true
   },
   "outputs": [
    {
     "data": {
      "text/plain": [
       "{'accuracy': [0.2785784602165222,\n",
       "  0.2951195538043976,\n",
       "  0.29446446895599365,\n",
       "  0.2905339002609253,\n",
       "  0.2969210743904114,\n",
       "  0.29724860191345215,\n",
       "  0.29462823271751404,\n",
       "  0.2893874943256378,\n",
       "  0.29986897110939026,\n",
       "  0.2987225651741028,\n",
       "  0.292990505695343,\n",
       "  0.29282674193382263,\n",
       "  0.29544711112976074,\n",
       "  0.29806748032569885,\n",
       "  0.30167049169540405,\n",
       "  0.29561087489128113,\n",
       "  0.2885686159133911,\n",
       "  0.29642975330352783,\n",
       "  0.30167049169540405,\n",
       "  0.2967572808265686,\n",
       "  0.29561087489128113,\n",
       "  0.29806748032569885,\n",
       "  0.30167049169540405,\n",
       "  0.2961021959781647,\n",
       "  0.30167049169540405,\n",
       "  0.2941369116306305,\n",
       "  0.30167049169540405,\n",
       "  0.30167049169540405,\n",
       "  0.30167049169540405,\n",
       "  0.30167049169540405,\n",
       "  0.30167049169540405,\n",
       "  0.29528331756591797,\n",
       "  0.30167049169540405,\n",
       "  0.30167049169540405,\n",
       "  0.30167049169540405,\n",
       "  0.30167049169540405,\n",
       "  0.30167049169540405,\n",
       "  0.30167049169540405,\n",
       "  0.30167049169540405,\n",
       "  0.3005240857601166,\n",
       "  0.30167049169540405,\n",
       "  0.30167049169540405,\n",
       "  0.2997052073478699,\n",
       "  0.30167049169540405,\n",
       "  0.30167049169540405,\n",
       "  0.30167049169540405,\n",
       "  0.30167049169540405,\n",
       "  0.30167049169540405,\n",
       "  0.2987225651741028,\n",
       "  0.29806748032569885],\n",
       " 'loss': [1.8647892475128174,\n",
       "  1.7539646625518799,\n",
       "  1.7550233602523804,\n",
       "  1.7531657218933105,\n",
       "  1.751302719116211,\n",
       "  1.7528636455535889,\n",
       "  1.7512760162353516,\n",
       "  1.7512823343276978,\n",
       "  1.7503834962844849,\n",
       "  1.7501120567321777,\n",
       "  1.7497735023498535,\n",
       "  1.749687910079956,\n",
       "  1.7505981922149658,\n",
       "  1.7530266046524048,\n",
       "  1.7487854957580566,\n",
       "  1.7497271299362183,\n",
       "  1.7493739128112793,\n",
       "  1.7496660947799683,\n",
       "  1.7498047351837158,\n",
       "  1.749771237373352,\n",
       "  1.749948501586914,\n",
       "  1.7492256164550781,\n",
       "  1.7490168809890747,\n",
       "  1.748643398284912,\n",
       "  1.7484776973724365,\n",
       "  1.7488538026809692,\n",
       "  1.7495903968811035,\n",
       "  1.7492587566375732,\n",
       "  1.7488353252410889,\n",
       "  1.7486240863800049,\n",
       "  1.7491270303726196,\n",
       "  1.7490308284759521,\n",
       "  1.7487173080444336,\n",
       "  1.748847246170044,\n",
       "  1.7487504482269287,\n",
       "  1.748502492904663,\n",
       "  1.748815894126892,\n",
       "  1.7485488653182983,\n",
       "  1.7484709024429321,\n",
       "  1.748045802116394,\n",
       "  1.748218297958374,\n",
       "  1.7480146884918213,\n",
       "  1.748645544052124,\n",
       "  1.7481937408447266,\n",
       "  1.7480778694152832,\n",
       "  1.7481344938278198,\n",
       "  1.7483385801315308,\n",
       "  1.7480918169021606,\n",
       "  1.747962236404419,\n",
       "  1.747692584991455],\n",
       " 'val_accuracy': [0.28636959195137024,\n",
       "  0.302752286195755,\n",
       "  0.302752286195755,\n",
       "  0.302752286195755,\n",
       "  0.302752286195755,\n",
       "  0.302752286195755,\n",
       "  0.302752286195755,\n",
       "  0.302752286195755,\n",
       "  0.302752286195755,\n",
       "  0.302752286195755,\n",
       "  0.302752286195755,\n",
       "  0.302752286195755,\n",
       "  0.302752286195755,\n",
       "  0.302752286195755,\n",
       "  0.302752286195755,\n",
       "  0.302752286195755,\n",
       "  0.302752286195755,\n",
       "  0.302752286195755,\n",
       "  0.302752286195755,\n",
       "  0.302752286195755,\n",
       "  0.302752286195755,\n",
       "  0.302752286195755,\n",
       "  0.302752286195755,\n",
       "  0.302752286195755,\n",
       "  0.302752286195755,\n",
       "  0.302752286195755,\n",
       "  0.302752286195755,\n",
       "  0.302752286195755,\n",
       "  0.302752286195755,\n",
       "  0.302752286195755,\n",
       "  0.302752286195755,\n",
       "  0.302752286195755,\n",
       "  0.302752286195755,\n",
       "  0.302752286195755,\n",
       "  0.302752286195755,\n",
       "  0.302752286195755,\n",
       "  0.302752286195755,\n",
       "  0.302752286195755,\n",
       "  0.302752286195755,\n",
       "  0.302752286195755,\n",
       "  0.302752286195755,\n",
       "  0.302752286195755,\n",
       "  0.302752286195755,\n",
       "  0.302752286195755,\n",
       "  0.302752286195755,\n",
       "  0.302752286195755,\n",
       "  0.302752286195755,\n",
       "  0.302752286195755,\n",
       "  0.302752286195755,\n",
       "  0.302752286195755],\n",
       " 'val_loss': [1.7871578931808472,\n",
       "  1.7621902227401733,\n",
       "  1.7577614784240723,\n",
       "  1.7566087245941162,\n",
       "  1.7634968757629395,\n",
       "  1.7602229118347168,\n",
       "  1.7567631006240845,\n",
       "  1.756422519683838,\n",
       "  1.7585433721542358,\n",
       "  1.7594424486160278,\n",
       "  1.7567652463912964,\n",
       "  1.7581944465637207,\n",
       "  1.7622636556625366,\n",
       "  1.7581745386123657,\n",
       "  1.7568395137786865,\n",
       "  1.756770133972168,\n",
       "  1.7572869062423706,\n",
       "  1.7573256492614746,\n",
       "  1.7562998533248901,\n",
       "  1.7591780424118042,\n",
       "  1.7573728561401367,\n",
       "  1.7567424774169922,\n",
       "  1.756706953048706,\n",
       "  1.7576208114624023,\n",
       "  1.7568504810333252,\n",
       "  1.7565131187438965,\n",
       "  1.7569751739501953,\n",
       "  1.7569762468338013,\n",
       "  1.7567334175109863,\n",
       "  1.757357120513916,\n",
       "  1.7563817501068115,\n",
       "  1.756807565689087,\n",
       "  1.757842779159546,\n",
       "  1.757388710975647,\n",
       "  1.7573860883712769,\n",
       "  1.7572436332702637,\n",
       "  1.7563804388046265,\n",
       "  1.75694739818573,\n",
       "  1.7570041418075562,\n",
       "  1.757340908050537,\n",
       "  1.7562453746795654,\n",
       "  1.7568289041519165,\n",
       "  1.7576847076416016,\n",
       "  1.7569693326950073,\n",
       "  1.7570371627807617,\n",
       "  1.7572386264801025,\n",
       "  1.7562943696975708,\n",
       "  1.7570228576660156,\n",
       "  1.7574447393417358,\n",
       "  1.7568424940109253]}"
      ]
     },
     "execution_count": 16,
     "metadata": {},
     "output_type": "execute_result"
    }
   ],
   "source": [
    "history.history"
   ]
  },
  {
   "cell_type": "code",
   "execution_count": 17,
   "id": "2ed596be-2513-4f30-a794-302b4876a83d",
   "metadata": {},
   "outputs": [
    {
     "data": {
      "image/png": "[encoded data removed]",
      "text/plain": [
       "<Figure size 640x480 with 1 Axes>"
      ]
     },
     "metadata": {},
     "output_type": "display_data"
    }
   ],
   "source": [
    "plt.plot(history.history['loss'])\n",
    "plt.plot(history.history['val_loss'])\n",
    "plt.title('Model Loss')\n",
    "plt.ylabel('Loss')\n",
    "plt.xlabel('Epoch')\n",
    "plt.legend(['Train', 'Val'], loc='upper right')\n",
    "plt.show()"
   ]
  },
  {
   "cell_type": "code",
   "execution_count": 18,
   "id": "d6efae5c-ef3c-4a27-ad7d-ded026cc41a6",
   "metadata": {},
   "outputs": [
    {
     "data": {
      "image/png": "[encoded data removed]",
      "text/plain": [
       "<Figure size 640x480 with 1 Axes>"
      ]
     },
     "metadata": {},
     "output_type": "display_data"
    }
   ],
   "source": [
    "plt.plot(history.history['accuracy'])\n",
    "plt.plot(history.history['val_accuracy'])\n",
    "plt.title('Model Accuracy')\n",
    "plt.ylabel('Accuracy')\n",
    "plt.xlabel('Epoch')\n",
    "plt.legend(['Train', 'Val'], loc='lower right')\n",
    "plt.show()"
   ]
  },
  {
   "cell_type": "code",
   "execution_count": 19,
   "id": "da8be383-57fb-4de0-84fd-e760d533e10a",
   "metadata": {},
   "outputs": [
    {
     "name": "stdout",
     "output_type": "stream",
     "text": [
      "24/24 - 1s - 25ms/step - accuracy: 0.3028 - loss: 1.7568\n"
     ]
    }
   ],
   "source": [
    "test_loss, test_acc = model.evaluate(val_ds, verbose=2)"
   ]
  },
  {
   "cell_type": "code",
   "execution_count": 20,
   "id": "c79c8590-6ab6-40a3-859f-0d674ad4607c",
   "metadata": {},
   "outputs": [
    {
     "name": "stdout",
     "output_type": "stream",
     "text": [
      "0.302752286195755\n"
     ]
    }
   ],
   "source": [
    "print(test_acc)"
   ]
  },
  {
   "cell_type": "code",
   "execution_count": 21,
   "id": "0329f18b-5475-4629-92cf-f8609eb69a3c",
   "metadata": {},
   "outputs": [
    {
     "name": "stdout",
     "output_type": "stream",
     "text": [
      "\u001b[1m1/3\u001b[0m \u001b[32m━━━━━━\u001b[0m\u001b[37m━━━━━━━━━━━━━━\u001b[0m \u001b[1m1s\u001b[0m 664ms/step"
     ]
    },
    {
     "name": "stderr",
     "output_type": "stream",
     "text": [
      "2024-11-26 01:54:01.943490: I external/local_xla/xla/stream_executor/cuda/cuda_asm_compiler.cc:397] ptxas warning : Registers are spilled to local memory in function 'gemm_fusion_dot_96_0', 272 bytes spill stores, 272 bytes spill loads\n",
      "\n",
      "2024-11-26 01:54:01.977505: I external/local_xla/xla/stream_executor/cuda/cuda_asm_compiler.cc:397] ptxas warning : Registers are spilled to local memory in function 'gemm_fusion_dot_89', 248 bytes spill stores, 248 bytes spill loads\n",
      "\n",
      "2024-11-26 01:54:03.051312: I external/local_xla/xla/stream_executor/cuda/cuda_asm_compiler.cc:397] ptxas warning : Registers are spilled to local memory in function 'gemm_fusion_dot_89', 244 bytes spill stores, 244 bytes spill loads\n",
      "\n",
      "2024-11-26 01:54:03.107310: I external/local_xla/xla/stream_executor/cuda/cuda_asm_compiler.cc:397] ptxas warning : Registers are spilled to local memory in function 'gemm_fusion_dot_96', 244 bytes spill stores, 244 bytes spill loads\n",
      "\n",
      "2024-11-26 01:54:03.242284: I external/local_xla/xla/stream_executor/cuda/cuda_asm_compiler.cc:397] ptxas warning : Registers are spilled to local memory in function 'gemm_fusion_dot_103', 264 bytes spill stores, 264 bytes spill loads\n",
      "\n",
      "2024-11-26 01:54:05.055386: W external/local_xla/xla/tsl/framework/bfc_allocator.cc:306] Allocator (GPU_0_bfc) ran out of memory trying to allocate 761.88MiB with freed_by_count=0. The caller indicates that this is not a failure, but this may mean that there could be performance gains if more memory were available.\n"
     ]
    },
    {
     "name": "stdout",
     "output_type": "stream",
     "text": [
      "\u001b[1m3/3\u001b[0m \u001b[32m━━━━━━━━━━━━━━━━━━━━\u001b[0m\u001b[37m\u001b[0m \u001b[1m6s\u001b[0m 3s/step  \n"
     ]
    }
   ],
   "source": [
    "predictions = model.predict(train_ds_test)\n",
    "val_pred = np.argmax(predictions, axis=1)"
   ]
  },
  {
   "cell_type": "code",
   "execution_count": 22,
   "id": "c2ac0f40-b5a7-434f-ad26-23199361e775",
   "metadata": {},
   "outputs": [
    {
     "name": "stderr",
     "output_type": "stream",
     "text": [
      "2024-11-26 01:54:07.377964: I external/local_xla/xla/stream_executor/cuda/cuda_asm_compiler.cc:397] ptxas warning : Registers are spilled to local memory in function 'gemm_fusion_dot_94_0', 252 bytes spill stores, 252 bytes spill loads\n",
      "\n",
      "2024-11-26 01:54:07.505812: I external/local_xla/xla/stream_executor/cuda/cuda_asm_compiler.cc:397] ptxas warning : Registers are spilled to local memory in function 'gemm_fusion_dot_87', 196 bytes spill stores, 196 bytes spill loads\n",
      "\n",
      "2024-11-26 01:54:07.932748: I external/local_xla/xla/stream_executor/cuda/cuda_asm_compiler.cc:397] ptxas warning : Registers are spilled to local memory in function 'gemm_fusion_dot_101', 236 bytes spill stores, 236 bytes spill loads\n",
      "\n",
      "2024-11-26 01:54:07.995448: I external/local_xla/xla/stream_executor/cuda/cuda_asm_compiler.cc:397] ptxas warning : Registers are spilled to local memory in function 'gemm_fusion_dot_94', 200 bytes spill stores, 200 bytes spill loads\n",
      "\n",
      "2024-11-26 01:54:08.312159: I external/local_xla/xla/stream_executor/cuda/cuda_asm_compiler.cc:397] ptxas warning : Registers are spilled to local memory in function 'gemm_fusion_dot_87', 236 bytes spill stores, 236 bytes spill loads\n",
      "\n"
     ]
    },
    {
     "name": "stdout",
     "output_type": "stream",
     "text": [
      "\u001b[1m1/2\u001b[0m \u001b[32m━━━━━━━━━━\u001b[0m\u001b[37m━━━━━━━━━━\u001b[0m \u001b[1m4s\u001b[0m 4s/step"
     ]
    },
    {
     "name": "stderr",
     "output_type": "stream",
     "text": [
      "2024-11-26 01:54:11.505749: I external/local_xla/xla/stream_executor/cuda/cuda_asm_compiler.cc:397] ptxas warning : Registers are spilled to local memory in function 'gemm_fusion_dot_87_0', 248 bytes spill stores, 248 bytes spill loads\n",
      "\n",
      "2024-11-26 01:54:11.691630: I external/local_xla/xla/stream_executor/cuda/cuda_asm_compiler.cc:397] ptxas warning : Registers are spilled to local memory in function 'gemm_fusion_dot_94_0', 260 bytes spill stores, 260 bytes spill loads\n",
      "\n",
      "2024-11-26 01:54:12.059908: I external/local_xla/xla/stream_executor/cuda/cuda_asm_compiler.cc:397] ptxas warning : Registers are spilled to local memory in function 'gemm_fusion_dot_101', 24 bytes spill stores, 24 bytes spill loads\n",
      "\n"
     ]
    },
    {
     "name": "stdout",
     "output_type": "stream",
     "text": [
      "\u001b[1m2/2\u001b[0m \u001b[32m━━━━━━━━━━━━━━━━━━━━\u001b[0m\u001b[37m\u001b[0m \u001b[1m7s\u001b[0m 3s/step\n"
     ]
    },
    {
     "name": "stderr",
     "output_type": "stream",
     "text": [
      "2024-11-26 01:54:13.613792: I tensorflow/core/framework/local_rendezvous.cc:405] Local rendezvous is aborting with status: OUT_OF_RANGE: End of sequence\n"
     ]
    }
   ],
   "source": [
    "y_true = []\n",
    "y_pred = []\n",
    "for images, labels in val_ds_test:\n",
    "  # Make predictions on the batch\n",
    "  batch_pred = model.predict(images)\n",
    "  y_pred.extend(list(batch_pred.argmax(axis=1)))  # Predicted labels\n",
    "  y_true.extend(list(labels.numpy()))  # True labels from the batch\n",
    "\n",
    "# Calculate the confusion matrix\n",
    "cm = confusion_matrix(y_true, y_pred)"
   ]
  },
  {
   "cell_type": "code",
   "execution_count": 23,
   "id": "cf35659b-2062-4beb-b87f-74e5394a5fd4",
   "metadata": {},
   "outputs": [
    {
     "data": {
      "text/plain": [
       "<sklearn.metrics._plot.confusion_matrix.ConfusionMatrixDisplay at 0x7f8ce063f140>"
      ]
     },
     "execution_count": 23,
     "metadata": {},
     "output_type": "execute_result"
    },
    {
     "data": {
      "image/png": "[encoded data removed]",
      "text/plain": [
       "<Figure size 640x480 with 2 Axes>"
      ]
     },
     "metadata": {},
     "output_type": "display_data"
    }
   ],
   "source": [
    "disp = ConfusionMatrixDisplay(cm, display_labels=classes_,)\n",
    "disp.plot()"
   ]
  },
  {
   "cell_type": "code",
   "execution_count": 24,
   "id": "89bf33c1-dfd0-4681-8387-66d122abdcb9",
   "metadata": {},
   "outputs": [
    {
     "name": "stdout",
     "output_type": "stream",
     "text": [
      "              precision    recall  f1-score   support\n",
      "\n",
      "           0       0.00      0.00      0.00         2\n",
      "           1       0.00      0.00      0.00        11\n",
      "           2       0.00      0.00      0.00         1\n",
      "           3       0.45      1.00      0.62        19\n",
      "           4       0.00      0.00      0.00         3\n",
      "           5       0.00      0.00      0.00         1\n",
      "           6       0.00      0.00      0.00         4\n",
      "           7       0.00      0.00      0.00         1\n",
      "\n",
      "    accuracy                           0.45        42\n",
      "   macro avg       0.06      0.12      0.08        42\n",
      "weighted avg       0.20      0.45      0.28        42\n",
      "\n"
     ]
    },
    {
     "name": "stderr",
     "output_type": "stream",
     "text": [
      "/home/viviane/apps/anaconda3/envs/pro1-cnn/lib/python3.12/site-packages/sklearn/metrics/_classification.py:1531: UndefinedMetricWarning: Precision is ill-defined and being set to 0.0 in labels with no predicted samples. Use `zero_division` parameter to control this behavior.\n",
      "  _warn_prf(average, modifier, f\"{metric.capitalize()} is\", len(result))\n",
      "/home/viviane/apps/anaconda3/envs/pro1-cnn/lib/python3.12/site-packages/sklearn/metrics/_classification.py:1531: UndefinedMetricWarning: Precision is ill-defined and being set to 0.0 in labels with no predicted samples. Use `zero_division` parameter to control this behavior.\n",
      "  _warn_prf(average, modifier, f\"{metric.capitalize()} is\", len(result))\n",
      "/home/viviane/apps/anaconda3/envs/pro1-cnn/lib/python3.12/site-packages/sklearn/metrics/_classification.py:1531: UndefinedMetricWarning: Precision is ill-defined and being set to 0.0 in labels with no predicted samples. Use `zero_division` parameter to control this behavior.\n",
      "  _warn_prf(average, modifier, f\"{metric.capitalize()} is\", len(result))\n"
     ]
    }
   ],
   "source": [
    "report = classification_report(y_true, y_pred)\n",
    "print(report)"
   ]
  },
  {
   "cell_type": "markdown",
   "id": "accc529b-1afb-4fcd-b620-2d4eaa5dfd4c",
   "metadata": {},
   "source": [
    "# Save"
   ]
  },
  {
   "cell_type": "code",
   "execution_count": 25,
   "id": "e8e6c40a-cef1-4bc6-b0b4-be2098307500",
   "metadata": {},
   "outputs": [],
   "source": [
    "# model.save('models/breast_cancer_classification-alexnet.h5')"
   ]
  },
  {
   "cell_type": "code",
   "execution_count": null,
   "id": "0b17e77e-a0db-4f32-a662-94a4c3c4e3ec",
   "metadata": {},
   "outputs": [],
   "source": []
  }
 ],
 "metadata": {
  "kernelspec": {
   "display_name": "Python 3 (ipykernel)",
   "language": "python",
   "name": "python3"
  },
  "language_info": {
   "codemirror_mode": {
    "name": "ipython",
    "version": 3
   },
   "file_extension": ".py",
   "mimetype": "text/x-python",
   "name": "python",
   "nbconvert_exporter": "python",
   "pygments_lexer": "ipython3",
   "version": "3.12.7"
  }
 },
 "nbformat": 4,
 "nbformat_minor": 5
}
